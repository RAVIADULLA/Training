{
 "cells": [
  {
   "cell_type": "code",
   "execution_count": 8,
   "id": "e38539d7-5043-4132-a517-27de6cb4f851",
   "metadata": {},
   "outputs": [
    {
     "name": "stdout",
     "output_type": "stream",
     "text": [
      "even\n"
     ]
    }
   ],
   "source": [
    "##### simple if condition\n",
    "if 10%2 == 0:\n",
    "    print (\"even\")\n",
    "else:\n",
    "    print(\"odd\")"
   ]
  },
  {
   "cell_type": "code",
   "execution_count": 7,
   "id": "4365354d-4c4d-45bf-bc85-5ced369d7922",
   "metadata": {},
   "outputs": [
    {
     "name": "stdout",
     "output_type": "stream",
     "text": [
      "odd\n"
     ]
    }
   ],
   "source": [
    "###### ternary operator means rearranging the if condition\n",
    "print(\"even\") if 9%2 == 0 else print(\"odd\")"
   ]
  },
  {
   "cell_type": "code",
   "execution_count": 18,
   "id": "db423c91-39b5-49ed-bbbe-d8a5f22283a4",
   "metadata": {},
   "outputs": [
    {
     "name": "stdout",
     "output_type": "stream",
     "text": [
      "True\n",
      "False\n"
     ]
    }
   ],
   "source": [
    "####$ identity operator\n",
    "a=10\n",
    "b=10\n",
    "c=20\n",
    "print(a is b)\n",
    "print(a is c)\n"
   ]
  },
  {
   "cell_type": "code",
   "execution_count": 22,
   "id": "da0e55e4-193e-4818-87dc-02a38cdf55a5",
   "metadata": {},
   "outputs": [
    {
     "name": "stdout",
     "output_type": "stream",
     "text": [
      "True\n",
      "False\n"
     ]
    }
   ],
   "source": [
    "##### Membership operator\n",
    "l=[1,12.24,\"hello\",\"hi\"]\n",
    "print(\"hello\" in l)\n",
    "print(\"how\" in l)\n",
    "\n"
   ]
  },
  {
   "cell_type": "code",
   "execution_count": 3,
   "id": "d6525d52-f472-4309-8129-21cf90b24b9d",
   "metadata": {},
   "outputs": [],
   "source": [
    "import math"
   ]
  },
  {
   "cell_type": "code",
   "execution_count": 4,
   "id": "c8ebb0d7-0eba-4a5f-9fbd-706ed642b670",
   "metadata": {},
   "outputs": [
    {
     "data": {
      "text/plain": [
       "6.0"
      ]
     },
     "execution_count": 4,
     "metadata": {},
     "output_type": "execute_result"
    }
   ],
   "source": [
    "math.sqrt(36)"
   ]
  },
  {
   "cell_type": "code",
   "execution_count": 5,
   "id": "877c18bd-3dea-4f72-8e4f-ff663e8bddbc",
   "metadata": {},
   "outputs": [
    {
     "data": {
      "text/plain": [
       "24"
      ]
     },
     "execution_count": 5,
     "metadata": {},
     "output_type": "execute_result"
    }
   ],
   "source": [
    "math.factorial(4)  ###### 4*3*2*1"
   ]
  },
  {
   "cell_type": "markdown",
   "id": "e383bfa3-f36f-4fea-b467-d7cd7efec7bb",
   "metadata": {},
   "source": [
    "##### input and output statements"
   ]
  },
  {
   "cell_type": "code",
   "execution_count": 10,
   "id": "ff9fdd4b-93c5-4153-bbd3-fd04468df32a",
   "metadata": {},
   "outputs": [
    {
     "name": "stdin",
     "output_type": "stream",
     "text": [
      "enter the employee id :  123\n"
     ]
    },
    {
     "data": {
      "text/plain": [
       "'123'"
      ]
     },
     "execution_count": 10,
     "metadata": {},
     "output_type": "execute_result"
    }
   ],
   "source": [
    "input(\"enter the employee id : \")  ### it returns always string"
   ]
  },
  {
   "cell_type": "code",
   "execution_count": 13,
   "id": "5dfb6104-168f-4c3c-97c3-34e4e0662810",
   "metadata": {},
   "outputs": [
    {
     "name": "stdin",
     "output_type": "stream",
     "text": [
      "enter the employee id :  123\n"
     ]
    }
   ],
   "source": [
    "employee_id=int(input(\"enter the employee id : \") )\n"
   ]
  },
  {
   "cell_type": "code",
   "execution_count": 14,
   "id": "ddc733b3-ba8d-4825-b906-a1da435dcf54",
   "metadata": {},
   "outputs": [
    {
     "name": "stdout",
     "output_type": "stream",
     "text": [
      "123\n"
     ]
    }
   ],
   "source": [
    "print(employee_id)"
   ]
  },
  {
   "cell_type": "code",
   "execution_count": 16,
   "id": "60737ce4-159b-410c-b555-1c6afffceaf9",
   "metadata": {},
   "outputs": [
    {
     "name": "stdin",
     "output_type": "stream",
     "text": [
      "enter num1:  1\n",
      "enter num2:  2\n"
     ]
    },
    {
     "name": "stdout",
     "output_type": "stream",
     "text": [
      "12\n"
     ]
    }
   ],
   "source": [
    "x= input(\"enter num1: \")\n",
    "y= input(\"enter num2: \")\n",
    "print(x+y)\n",
    "         "
   ]
  },
  {
   "cell_type": "code",
   "execution_count": 17,
   "id": "2d59adb9-62b7-4840-b438-736f74972726",
   "metadata": {},
   "outputs": [
    {
     "name": "stdin",
     "output_type": "stream",
     "text": [
      "enter num1:  1\n",
      "enter num2:  2\n"
     ]
    },
    {
     "name": "stdout",
     "output_type": "stream",
     "text": [
      "3\n"
     ]
    }
   ],
   "source": [
    "x= int(input(\"enter num1: \"))\n",
    "y= int(input(\"enter num2: \"))\n",
    "print(x+y)"
   ]
  },
  {
   "cell_type": "code",
   "execution_count": 19,
   "id": "d9dad7fc-b2af-4b12-b1aa-ed24e8b993bd",
   "metadata": {},
   "outputs": [
    {
     "name": "stdin",
     "output_type": "stream",
     "text": [
      "enter the numbers :  1 2\n"
     ]
    },
    {
     "data": {
      "text/plain": [
       "['1', '2']"
      ]
     },
     "execution_count": 19,
     "metadata": {},
     "output_type": "execute_result"
    }
   ],
   "source": [
    "input(\"enter the numbers : \").split() ##### split will convert string datatype to list datatype"
   ]
  },
  {
   "cell_type": "code",
   "execution_count": 24,
   "id": "4d9f7d49-bf5e-4d4b-bc54-3ca46909d1d1",
   "metadata": {},
   "outputs": [
    {
     "data": {
      "text/plain": [
       "['h', 'e', 'l', 'l', 'o']"
      ]
     },
     "execution_count": 24,
     "metadata": {},
     "output_type": "execute_result"
    }
   ],
   "source": [
    "\"h+e+l+l+o\".split('+')"
   ]
  },
  {
   "cell_type": "markdown",
   "id": "97daab05-177e-44fa-bde4-eee424e569c7",
   "metadata": {},
   "source": [
    "##### eval function take a expression (string) and evaluate the results"
   ]
  },
  {
   "cell_type": "code",
   "execution_count": 29,
   "id": "731590b5-eeaa-4b23-bc7e-4eaf7d51bb4f",
   "metadata": {},
   "outputs": [
    {
     "name": "stdout",
     "output_type": "stream",
     "text": [
      "60\n",
      "11.5\n"
     ]
    }
   ],
   "source": [
    "x= eval(\"10+20+30\")\n",
    "y = eval(\"10+2*3/4\")\n",
    "print(x)\n",
    "print(y)"
   ]
  },
  {
   "cell_type": "markdown",
   "id": "9a197379-9dbb-42ff-9c22-3be91db3edf5",
   "metadata": {},
   "source": [
    "##### Command line arguments"
   ]
  },
  {
   "cell_type": "code",
   "execution_count": 30,
   "id": "79554c4e-d1b1-481c-bc08-f132cfd15245",
   "metadata": {},
   "outputs": [],
   "source": [
    "##### passing the arguments at time of execution\n",
    "from sys import argv"
   ]
  },
  {
   "cell_type": "code",
   "execution_count": 31,
   "id": "e14769d9-3e6e-4e96-80d2-8b50c1d5f426",
   "metadata": {},
   "outputs": [
    {
     "data": {
      "text/plain": [
       "1"
      ]
     },
     "execution_count": 31,
     "metadata": {},
     "output_type": "execute_result"
    }
   ],
   "source": [
    "l= [1,2,3,4]\n",
    "l[0]\n"
   ]
  },
  {
   "cell_type": "code",
   "execution_count": 33,
   "id": "a6010890-cf23-4eec-9369-f600849e604b",
   "metadata": {},
   "outputs": [
    {
     "ename": "IndexError",
     "evalue": "list index out of range",
     "output_type": "error",
     "traceback": [
      "\u001b[1;31m---------------------------------------------------------------------------\u001b[0m",
      "\u001b[1;31mIndexError\u001b[0m                                Traceback (most recent call last)",
      "Cell \u001b[1;32mIn[33], line 1\u001b[0m\n\u001b[1;32m----> 1\u001b[0m \u001b[43ml\u001b[49m\u001b[43m[\u001b[49m\u001b[38;5;241;43m5\u001b[39;49m\u001b[43m]\u001b[49m\n",
      "\u001b[1;31mIndexError\u001b[0m: list index out of range"
     ]
    }
   ],
   "source": [
    "l[5]"
   ]
  },
  {
   "cell_type": "code",
   "execution_count": 34,
   "id": "a9e96c31-0769-443c-84f4-b7aaa0a96a38",
   "metadata": {},
   "outputs": [
    {
     "name": "stdout",
     "output_type": "stream",
     "text": [
      "HI\n",
      "Ravi\n",
      "Suvarna\n"
     ]
    }
   ],
   "source": [
    "print (\"HI\\\\nRavi\\\\nSuvarna\")"
   ]
  },
  {
   "cell_type": "code",
   "execution_count": 36,
   "id": "842ba4d6-de2d-44f5-9811-db911d90bbb4",
   "metadata": {},
   "outputs": [
    {
     "name": "stdout",
     "output_type": "stream",
     "text": [
      "the values are:,10,20,30\n",
      "the values are::10:20:30\n"
     ]
    }
   ],
   "source": [
    "a,b,c = 10,20,30\n",
    "print(\"the values are:\",a,b,c,sep=',')\n",
    "print(\"the values are:\",a,b,c,sep=':')"
   ]
  },
  {
   "cell_type": "code",
   "execution_count": 40,
   "id": "f7078699-a996-45bc-b527-7278dcc56557",
   "metadata": {},
   "outputs": [
    {
     "name": "stdout",
     "output_type": "stream",
     "text": [
      "Ravi Suvi "
     ]
    }
   ],
   "source": [
    "print(\"Ravi\",end=' ')\n",
    "print(\"Suvi\",end=' ')"
   ]
  },
  {
   "cell_type": "code",
   "execution_count": 46,
   "id": "5f6452e8-ce7f-42d5-8bbc-683ca59259c6",
   "metadata": {},
   "outputs": [
    {
     "name": "stdout",
     "output_type": "stream",
     "text": [
      "1234 hi i am Ravi my age is 38 i have completed my btech\n",
      "1234 hi i am Ravi my age is 38 i have completed my btech\n",
      "Ravi hi i am 1234 my age is 38 i have completed my btech\n",
      "1234 hi i am Ravi my age is 38 i have completed my btech\n"
     ]
    }
   ],
   "source": [
    "empid = 1234\n",
    "name = \"Ravi\"\n",
    "age=38\n",
    "qual=\"btech\"\n",
    "print(empid,\"hi i am\",name, \"my age is\", age,\"i have completed my\",qual)\n",
    "print(\"{0} hi i am {1} my age is {2} i have completed my {3}\".format(empid,name,age,qual))\n",
    "print(\"{0} hi i am {1} my age is {2} i have completed my {3}\".format(name,empid,age,qual))\n",
    "print(\"{e} hi i am {n} my age is {a} i have completed my {q}\".format(e=empid,n=name,a=age,q=qual))"
   ]
  },
  {
   "cell_type": "code",
   "execution_count": 3,
   "id": "333d7683-0be3-4ba9-a892-1eb334a9b387",
   "metadata": {},
   "outputs": [
    {
     "name": "stdout",
     "output_type": "stream",
     "text": [
      "apples\n",
      "oranges\n",
      "bananaas\n",
      "mangoes\n"
     ]
    }
   ],
   "source": [
    "I = [\"apples\",\"oranges\",\"bananaas\",\"mangoes\"]\n",
    "for i in I:\n",
    "    print(i)"
   ]
  },
  {
   "cell_type": "code",
   "execution_count": 5,
   "id": "0dedb861-594b-4f95-9dbc-3fb604edadb0",
   "metadata": {},
   "outputs": [
    {
     "name": "stdin",
     "output_type": "stream",
     "text": [
      "enter the name :  dhoni\n"
     ]
    },
    {
     "name": "stdout",
     "output_type": "stream",
     "text": [
      "stop\n"
     ]
    }
   ],
   "source": [
    "name = input(\"enter the name : \")\n",
    "if name == \"sachin\":\n",
    "    print(\"welcome\")\n",
    "else:\n",
    "    print(\"stop\")"
   ]
  },
  {
   "cell_type": "code",
   "execution_count": 8,
   "id": "b5551131-d6e5-4955-9c05-889ca390a09f",
   "metadata": {},
   "outputs": [
    {
     "name": "stdin",
     "output_type": "stream",
     "text": [
      "enter the signal color green\n"
     ]
    },
    {
     "name": "stdout",
     "output_type": "stream",
     "text": [
      "move the vehicles\n"
     ]
    }
   ],
   "source": [
    "color = input (\"enter the signal color\")\n",
    "if color == \"red\":\n",
    "    print(\"stop te vehicles\")\n",
    "elif color == \"green\":\n",
    "    print(\"move the vehicles\")\n",
    "else:\n",
    "    print(\"slow down the vehicles\")"
   ]
  },
  {
   "cell_type": "code",
   "execution_count": 12,
   "id": "adf74776-7d40-4ec0-9612-19e3480f8c45",
   "metadata": {},
   "outputs": [
    {
     "name": "stdin",
     "output_type": "stream",
     "text": [
      "enter the 1st num 5\n",
      "enter the 2nd num 4\n"
     ]
    },
    {
     "name": "stdout",
     "output_type": "stream",
     "text": [
      "the biggest num is : 5\n"
     ]
    }
   ],
   "source": [
    "n1 = int(input(\"enter the 1st num\"))\n",
    "n2 = int(input(\"enter the 2nd num\"))\n",
    "if n1 > n2:\n",
    "    print(\"the biggest num is :\",n1)\n",
    "else:\n",
    "    print(\"the biggest num is :\",n2)"
   ]
  },
  {
   "cell_type": "code",
   "execution_count": 15,
   "id": "bfe74595-7dd4-4bdd-9b93-5ea0710a03d7",
   "metadata": {},
   "outputs": [
    {
     "name": "stdin",
     "output_type": "stream",
     "text": [
      "enter the number 11\n"
     ]
    },
    {
     "name": "stdout",
     "output_type": "stream",
     "text": [
      "this given number 11 is odd\n"
     ]
    }
   ],
   "source": [
    "num = int(input(\"enter the number\"))\n",
    "if num % 2 == 0:\n",
    "          print(\"the given number\", num,\"is even\")\n",
    "else:\n",
    "    print(\"this given number\", num, \"is odd\")\n",
    "          \n",
    "          \n",
    "    "
   ]
  },
  {
   "cell_type": "markdown",
   "id": "7b0b734b-d16d-48bb-8c96-03dbf012b5a8",
   "metadata": {},
   "source": [
    "##### Iterative statements"
   ]
  },
  {
   "cell_type": "markdown",
   "id": "acf6ebf7-73ed-42e5-8fcf-d702d259f6a9",
   "metadata": {},
   "source": [
    "##### sequences : string, list, tupple, set, frozenset, dict"
   ]
  },
  {
   "cell_type": "code",
   "execution_count": 23,
   "id": "2eb8f8b0-310d-490b-923e-db3612d2a313",
   "metadata": {},
   "outputs": [
    {
     "name": "stdout",
     "output_type": "stream",
     "text": [
      "v\n",
      "i\n",
      "s\n",
      "u\n",
      "a\n",
      "l\n",
      "p\n",
      "a\n",
      "t\n",
      "h\n"
     ]
    }
   ],
   "source": [
    "s = \"visualpath\"\n",
    "for iterator in s:\n",
    "    \n",
    "    print(iterator)\n",
    "\n"
   ]
  },
  {
   "cell_type": "code",
   "execution_count": 25,
   "id": "80dc3a33-6e71-4d19-9bd2-75ed6c5281db",
   "metadata": {},
   "outputs": [
    {
     "name": "stdout",
     "output_type": "stream",
     "text": [
      "1\n",
      "2\n",
      "3\n",
      "4\n",
      "5\n"
     ]
    }
   ],
   "source": [
    "l =[1,2,3,4,5]  ###### list\n",
    "for i in l:\n",
    "    print(i)"
   ]
  },
  {
   "cell_type": "code",
   "execution_count": 26,
   "id": "77743c87-1d5f-41e9-9fb2-c2a21f456235",
   "metadata": {},
   "outputs": [
    {
     "name": "stdout",
     "output_type": "stream",
     "text": [
      "1\n",
      "2\n",
      "3\n",
      "4\n",
      "5\n"
     ]
    }
   ],
   "source": [
    "l ={1,2,3,4,5}  ##### set\n",
    "for i in l:\n",
    "    print(i)"
   ]
  },
  {
   "cell_type": "code",
   "execution_count": 27,
   "id": "86c1359e-8cb1-407f-90f0-b73f8e1fbbff",
   "metadata": {},
   "outputs": [
    {
     "name": "stdout",
     "output_type": "stream",
     "text": [
      "1\n",
      "2\n",
      "3\n",
      "4\n",
      "5\n"
     ]
    }
   ],
   "source": [
    "l =(1,2,3,4,5) ##### tupple\n",
    "for i in l:\n",
    "    print(i)"
   ]
  },
  {
   "cell_type": "code",
   "execution_count": 40,
   "id": "1e2b308d-3428-4569-8c15-8fad81e83b10",
   "metadata": {},
   "outputs": [
    {
     "name": "stdout",
     "output_type": "stream",
     "text": [
      "(1, 'apple')\n",
      "(2, 'ball')\n",
      "(3, 'cat')\n"
     ]
    }
   ],
   "source": [
    "d = {1:\"apple\",2:\"ball\",3:\"cat\"}\n",
    "for j in d.items():\n",
    "    print(j)"
   ]
  },
  {
   "cell_type": "code",
   "execution_count": 41,
   "id": "8234f6d2-dec6-4527-8117-751541ce3f6a",
   "metadata": {},
   "outputs": [
    {
     "name": "stdout",
     "output_type": "stream",
     "text": [
      "apple\n",
      "ball\n",
      "cat\n"
     ]
    }
   ],
   "source": [
    "d = {1:\"apple\",2:\"ball\",3:\"cat\"}\n",
    "for j in d.values():\n",
    "    print(j)"
   ]
  },
  {
   "cell_type": "code",
   "execution_count": 42,
   "id": "f70d4204-4068-46c3-a3b6-bb175629f65b",
   "metadata": {},
   "outputs": [
    {
     "name": "stdout",
     "output_type": "stream",
     "text": [
      "1\n",
      "2\n",
      "3\n"
     ]
    }
   ],
   "source": [
    "d = {1:\"apple\",2:\"ball\",3:\"cat\"}\n",
    "for j in d.keys():\n",
    "    print(j)"
   ]
  },
  {
   "cell_type": "code",
   "execution_count": 43,
   "id": "52ec2e46-2028-4699-ab6e-fe81b56222c1",
   "metadata": {},
   "outputs": [
    {
     "name": "stdout",
     "output_type": "stream",
     "text": [
      "1\n",
      "2\n",
      "3\n"
     ]
    }
   ],
   "source": [
    "d = {1:\"apple\",2:\"ball\",3:\"cat\"}\n",
    "for j in d:\n",
    "    print(j)"
   ]
  },
  {
   "cell_type": "markdown",
   "id": "99d587b5-19df-41df-8939-50cbcfacf350",
   "metadata": {},
   "source": [
    "##### while loop"
   ]
  },
  {
   "cell_type": "code",
   "execution_count": 44,
   "id": "30bd28ca-3ce0-48af-a12a-ca5d9b22b65d",
   "metadata": {},
   "outputs": [
    {
     "name": "stdout",
     "output_type": "stream",
     "text": [
      "0\n",
      "1\n",
      "2\n",
      "3\n",
      "4\n",
      "5\n",
      "6\n",
      "7\n",
      "8\n",
      "9\n"
     ]
    }
   ],
   "source": [
    "for i in range(0,10):\n",
    "    print(i)"
   ]
  },
  {
   "cell_type": "code",
   "execution_count": 45,
   "id": "1862dedb-90e5-476c-8160-796ec7311e5b",
   "metadata": {},
   "outputs": [
    {
     "name": "stdout",
     "output_type": "stream",
     "text": [
      "0\n",
      "1\n",
      "2\n",
      "3\n",
      "4\n",
      "5\n",
      "6\n",
      "7\n",
      "8\n",
      "9\n"
     ]
    }
   ],
   "source": [
    "x = 0\n",
    "while x<10:\n",
    "    print(x)\n",
    "    x=x+1"
   ]
  },
  {
   "cell_type": "markdown",
   "id": "cf39bb66-6ed1-4c4b-8f85-2ca5e20a8572",
   "metadata": {},
   "source": [
    "##### nested loop"
   ]
  },
  {
   "cell_type": "code",
   "execution_count": 49,
   "id": "da5cfe90-66b0-4f2d-8e9e-5cadc840c4fa",
   "metadata": {},
   "outputs": [
    {
     "name": "stdout",
     "output_type": "stream",
     "text": [
      "i= 0\n",
      "i= 1\n",
      "i= 2\n",
      "i= 3\n"
     ]
    }
   ],
   "source": [
    "for i in range(4):\n",
    "    print(\"i=\",i)"
   ]
  },
  {
   "cell_type": "code",
   "execution_count": 52,
   "id": "2419cc53-9479-4adc-a1d2-2018cf7b867c",
   "metadata": {},
   "outputs": [
    {
     "name": "stdout",
     "output_type": "stream",
     "text": [
      "i= 0\n",
      "j= 0\n",
      "j= 0\n",
      "j= 0\n",
      "j= 0\n",
      "i= 1\n",
      "j= 1\n",
      "j= 1\n",
      "j= 1\n",
      "j= 1\n",
      "i= 2\n",
      "j= 2\n",
      "j= 2\n",
      "j= 2\n",
      "j= 2\n",
      "i= 3\n",
      "j= 3\n",
      "j= 3\n",
      "j= 3\n",
      "j= 3\n"
     ]
    }
   ],
   "source": [
    "for i in range(4):\n",
    "    print(\"i=\",i)\n",
    "    for j in range(4):\n",
    "        print(\"j=\",i)"
   ]
  },
  {
   "cell_type": "code",
   "execution_count": 54,
   "id": "4c3827a1-658b-4047-8bf2-c134903c1e1c",
   "metadata": {},
   "outputs": [
    {
     "name": "stdin",
     "output_type": "stream",
     "text": [
      "enter the number of rows:  5\n"
     ]
    },
    {
     "name": "stdout",
     "output_type": "stream",
     "text": [
      "* \n",
      "* * \n",
      "* * * \n",
      "* * * * \n",
      "* * * * * \n"
     ]
    }
   ],
   "source": [
    "n = int(input(\"enter the number of rows: \"))\n",
    "for i in range(1,n+1):\n",
    "    for j in range(1,i+1):\n",
    "        print(\"*\",end=' ')\n",
    "    print()"
   ]
  },
  {
   "cell_type": "code",
   "execution_count": 56,
   "id": "66711cdf-2084-4edb-a63d-e0d813c6606c",
   "metadata": {},
   "outputs": [
    {
     "name": "stdin",
     "output_type": "stream",
     "text": [
      "enter number of rows: 5\n"
     ]
    },
    {
     "name": "stdout",
     "output_type": "stream",
     "text": [
      "* \n",
      "* * \n",
      "* * * \n",
      "* * * * \n",
      "* * * * * \n"
     ]
    }
   ],
   "source": [
    "n = int(input(\"enter number of rows:\"))\n",
    "for i in range(1,n+1):\n",
    "    print(\"* \" * i)"
   ]
  },
  {
   "cell_type": "markdown",
   "id": "aaed2ca0-1605-4be6-91f9-49fa15d088ef",
   "metadata": {},
   "source": [
    "##### break "
   ]
  },
  {
   "cell_type": "code",
   "execution_count": 58,
   "id": "2804e7c7-9e7c-413e-97b6-bed840fe51c5",
   "metadata": {},
   "outputs": [
    {
     "name": "stdout",
     "output_type": "stream",
     "text": [
      "10\n",
      "20\n",
      "costly product\n"
     ]
    }
   ],
   "source": [
    "cart = [10,20,600,60,70]\n",
    "for i in cart:\n",
    "    if i > 500:\n",
    "        print(\"costly product\")\n",
    "        break\n",
    "    print(i)"
   ]
  },
  {
   "cell_type": "markdown",
   "id": "29cf7972-413a-4144-b393-96c31e451a54",
   "metadata": {},
   "source": [
    "##### Continue"
   ]
  },
  {
   "cell_type": "code",
   "execution_count": 60,
   "id": "a0cedfe5-acf3-4dc1-a01f-ce72de66f8ca",
   "metadata": {},
   "outputs": [
    {
     "name": "stdout",
     "output_type": "stream",
     "text": [
      "10\n",
      "20\n",
      "costly product\n",
      "60\n",
      "70\n"
     ]
    }
   ],
   "source": [
    "cart = [10,20,600,60,70]\n",
    "for i in cart:\n",
    "    if i > 500:\n",
    "        print(\"costly product\")\n",
    "        continue\n",
    "    print(i)"
   ]
  },
  {
   "cell_type": "code",
   "execution_count": 62,
   "id": "a4288f9f-9587-4b49-98c9-1eaf8eb8e728",
   "metadata": {},
   "outputs": [
    {
     "ename": "SyntaxError",
     "evalue": "incomplete input (2755229128.py, line 1)",
     "output_type": "error",
     "traceback": [
      "\u001b[1;36m  Cell \u001b[1;32mIn[62], line 1\u001b[1;36m\u001b[0m\n\u001b[1;33m    def myfunc():\u001b[0m\n\u001b[1;37m                 ^\u001b[0m\n\u001b[1;31mSyntaxError\u001b[0m\u001b[1;31m:\u001b[0m incomplete input\n"
     ]
    }
   ],
   "source": [
    "def myfunc():"
   ]
  },
  {
   "cell_type": "code",
   "execution_count": 65,
   "id": "fa1b4eaf-6a3c-4d4d-bc4e-c05461a5fbe6",
   "metadata": {},
   "outputs": [],
   "source": [
    "def myfunc():  # valid, we can test some functionality\n",
    "    pass"
   ]
  },
  {
   "cell_type": "code",
   "execution_count": 4,
   "id": "e2f5a70e-ae33-48dd-b9a4-7d523127ecf7",
   "metadata": {},
   "outputs": [
    {
     "name": "stdout",
     "output_type": "stream",
     "text": [
      "10\n"
     ]
    }
   ],
   "source": [
    "x = 10\n",
    "print(x)\n"
   ]
  },
  {
   "cell_type": "code",
   "execution_count": 5,
   "id": "68a82f85-cbf5-4813-8ac1-7f3b8775552a",
   "metadata": {},
   "outputs": [
    {
     "ename": "NameError",
     "evalue": "name 'x' is not defined",
     "output_type": "error",
     "traceback": [
      "\u001b[1;31m---------------------------------------------------------------------------\u001b[0m",
      "\u001b[1;31mNameError\u001b[0m                                 Traceback (most recent call last)",
      "Cell \u001b[1;32mIn[5], line 2\u001b[0m\n\u001b[0;32m      1\u001b[0m \u001b[38;5;28;01mdel\u001b[39;00m x  \u001b[38;5;66;03m# we are unbinding the value\u001b[39;00m\n\u001b[1;32m----> 2\u001b[0m \u001b[38;5;28mprint\u001b[39m(\u001b[43mx\u001b[49m)  \n",
      "\u001b[1;31mNameError\u001b[0m: name 'x' is not defined"
     ]
    }
   ],
   "source": [
    "del x  # we are unbinding the value\n",
    "print(x)  "
   ]
  },
  {
   "cell_type": "code",
   "execution_count": 1,
   "id": "2be3d47e-8a0e-44b2-99fe-e8417494bbe4",
   "metadata": {},
   "outputs": [
    {
     "name": "stdout",
     "output_type": "stream",
     "text": [
      "10\n"
     ]
    }
   ],
   "source": [
    "x = 10\n",
    "print(x)"
   ]
  },
  {
   "cell_type": "code",
   "execution_count": 2,
   "id": "0722719a-d814-4677-a9e3-b50a121dc110",
   "metadata": {},
   "outputs": [
    {
     "name": "stdout",
     "output_type": "stream",
     "text": [
      "None\n"
     ]
    }
   ],
   "source": [
    "x = None\n",
    "print(x)"
   ]
  },
  {
   "cell_type": "markdown",
   "id": "fd728c0f-9670-41de-a4e8-c5d9b5417636",
   "metadata": {},
   "source": [
    "##### None will not give the error but del gives the always the error"
   ]
  },
  {
   "cell_type": "code",
   "execution_count": 8,
   "id": "a590efa6-d17c-4c4d-b8b2-e15bc749ddfd",
   "metadata": {},
   "outputs": [
    {
     "name": "stdout",
     "output_type": "stream",
     "text": [
      "0\n",
      "1\n",
      "2\n",
      "3\n",
      "4\n",
      "5\n",
      "6\n",
      "7\n",
      "8\n",
      "9\n"
     ]
    }
   ],
   "source": [
    "n = [0,1,2,3,4,5,6,7,8,9]\n",
    "i = 0\n",
    "while i<len(n):\n",
    "    print(n[i])\n",
    "    i = i+1"
   ]
  },
  {
   "cell_type": "code",
   "execution_count": 10,
   "id": "e7bb5d6e-4e12-4eca-9b5b-99d95a92b77e",
   "metadata": {},
   "outputs": [
    {
     "name": "stdout",
     "output_type": "stream",
     "text": [
      "0\n",
      "1\n",
      "2\n",
      "3\n",
      "4\n",
      "5\n",
      "6\n",
      "7\n",
      "8\n",
      "9\n"
     ]
    }
   ],
   "source": [
    "n = [0,1,2,3,4,5,6,7,8,9]\n",
    "for i in n:\n",
    "    print(i)"
   ]
  },
  {
   "cell_type": "code",
   "execution_count": 19,
   "id": "9c457f05-a0a3-44d0-aa32-4fe5e6e1164c",
   "metadata": {},
   "outputs": [
    {
     "name": "stdout",
     "output_type": "stream",
     "text": [
      "[0, 2, 4, 6, 8]\n"
     ]
    }
   ],
   "source": [
    "n = [0,1,2,3,4,5,6,7,8,9]\n",
    "even = []\n",
    "for i in n:\n",
    "    if i%2 == 0:\n",
    "        even.append(i)\n",
    "print(even)"
   ]
  },
  {
   "cell_type": "code",
   "execution_count": 35,
   "id": "74caafd5-7760-41dc-9a4a-6bd9703722d1",
   "metadata": {},
   "outputs": [],
   "source": [
    "l = [10,10,10.20,10+2j,\"ravi\",True,False]"
   ]
  },
  {
   "cell_type": "code",
   "execution_count": 27,
   "id": "5da1db71-18e9-40b8-9c95-eb7bcfa0b7e9",
   "metadata": {},
   "outputs": [
    {
     "data": {
      "text/plain": [
       "7"
      ]
     },
     "execution_count": 27,
     "metadata": {},
     "output_type": "execute_result"
    }
   ],
   "source": [
    "len(l)   ##### LIC"
   ]
  },
  {
   "cell_type": "code",
   "execution_count": 22,
   "id": "4448c2fe-a523-434a-8cbf-ca4ab29e4803",
   "metadata": {},
   "outputs": [
    {
     "data": {
      "text/plain": [
       "3"
      ]
     },
     "execution_count": 22,
     "metadata": {},
     "output_type": "execute_result"
    }
   ],
   "source": [
    "l.index(\"ravi\")"
   ]
  },
  {
   "cell_type": "code",
   "execution_count": 26,
   "id": "aa9bc667-cbfc-4729-8765-6f783cfd7349",
   "metadata": {},
   "outputs": [
    {
     "data": {
      "text/plain": [
       "2"
      ]
     },
     "execution_count": 26,
     "metadata": {},
     "output_type": "execute_result"
    }
   ],
   "source": [
    "l.count(10)"
   ]
  },
  {
   "cell_type": "markdown",
   "id": "3daa8d81-2cc9-4ab7-9cef-0279a63b03e1",
   "metadata": {},
   "source": [
    "##### to manipulate the list we have 3 functions. for increasing append, insert, extend"
   ]
  },
  {
   "cell_type": "code",
   "execution_count": 34,
   "id": "84427f72-2400-46c8-899a-3d498e3fea0f",
   "metadata": {},
   "outputs": [
    {
     "name": "stdout",
     "output_type": "stream",
     "text": [
      "[10, 'suvi', 10, 'suvi', 'suvi', 10.2, (10+2j), 'ravi', True, False, 'kumar', 'kumar', 'teja', 'teja']\n"
     ]
    }
   ],
   "source": [
    "l.append(\"teja\")\n",
    "print(l)"
   ]
  },
  {
   "cell_type": "code",
   "execution_count": 33,
   "id": "ebb44c01-8985-46f4-8e4b-3fa386977a32",
   "metadata": {},
   "outputs": [
    {
     "name": "stdout",
     "output_type": "stream",
     "text": [
      "[10, 'suvi', 10, 'suvi', 'suvi', 10.2, (10+2j), 'ravi', True, False, 'kumar', 'kumar', 'teja']\n"
     ]
    }
   ],
   "source": [
    "l.insert(1,\"suvi\")\n",
    "print(l)"
   ]
  },
  {
   "cell_type": "code",
   "execution_count": 37,
   "id": "73d1c67b-d899-49b9-9e97-883d0a7c0bb7",
   "metadata": {},
   "outputs": [
    {
     "name": "stdout",
     "output_type": "stream",
     "text": [
      "[10, 10, 10.2, (10+2j), 'ravi', True, False, 'h', 'e', 'l', 'l', 'o', 'h', 'e', 'l', 'l', 'o']\n"
     ]
    }
   ],
   "source": [
    "l.extend(\"hello\")\n",
    "print(l)"
   ]
  },
  {
   "cell_type": "code",
   "execution_count": 38,
   "id": "8f7ff9a6-58f4-48d6-9a2e-e4f6a5a8ca20",
   "metadata": {},
   "outputs": [],
   "source": [
    "del l"
   ]
  },
  {
   "cell_type": "code",
   "execution_count": 47,
   "id": "5c6170b8-ec4d-4b81-9d88-e11d48836395",
   "metadata": {},
   "outputs": [
    {
     "name": "stdout",
     "output_type": "stream",
     "text": [
      "[10, 10, 10.2, (10+2j), 'ravi', True, False]\n",
      "[10, 10, 10.2, (10+2j), 'ravi', True, False, 'h', 'e', 'l', 'l', 'o']\n",
      "[10, 10, 10.2, (10+2j), 'ravi', True, False, 'h', 'e', 'l', 'l', 'o', 1, 2, 34]\n"
     ]
    }
   ],
   "source": [
    "l = [10,10,10.20,10+2j,\"ravi\",True,False]\n",
    "print(l)\n",
    "l.extend(\"hello\")\n",
    "print(l)\n",
    "l.extend([1,2,34])\n",
    "print(l)"
   ]
  },
  {
   "cell_type": "markdown",
   "id": "28cabc31-8eed-4902-8543-9920756b026e",
   "metadata": {},
   "source": [
    "##### how to decrease the list values"
   ]
  },
  {
   "cell_type": "code",
   "execution_count": 48,
   "id": "10314f92-c49b-4347-9040-a421830e4fb3",
   "metadata": {},
   "outputs": [
    {
     "name": "stdout",
     "output_type": "stream",
     "text": [
      "[10, 10, 10.2, (10+2j), 'ravi', True, False, 'h', 'e', 'l', 'l', 'o', 1, 2, 34]\n"
     ]
    }
   ],
   "source": [
    "print(l)"
   ]
  },
  {
   "cell_type": "code",
   "execution_count": 50,
   "id": "e7bb7a2e-30d5-4a3b-9a63-c85a48d97556",
   "metadata": {},
   "outputs": [
    {
     "name": "stdout",
     "output_type": "stream",
     "text": [
      "[10.2, (10+2j), 'ravi', True, False, 'h', 'e', 'l', 'l', 'o', 1, 2, 34]\n"
     ]
    }
   ],
   "source": [
    "l.remove(10)  # always removes the first value\n",
    "print(l)"
   ]
  },
  {
   "cell_type": "code",
   "execution_count": 51,
   "id": "c0257b8d-57ff-4955-a233-46853c0474d9",
   "metadata": {},
   "outputs": [
    {
     "ename": "ValueError",
     "evalue": "list.remove(x): x not in list",
     "output_type": "error",
     "traceback": [
      "\u001b[1;31m---------------------------------------------------------------------------\u001b[0m",
      "\u001b[1;31mValueError\u001b[0m                                Traceback (most recent call last)",
      "Cell \u001b[1;32mIn[51], line 1\u001b[0m\n\u001b[1;32m----> 1\u001b[0m \u001b[43ml\u001b[49m\u001b[38;5;241;43m.\u001b[39;49m\u001b[43mremove\u001b[49m\u001b[43m(\u001b[49m\u001b[38;5;241;43m50\u001b[39;49m\u001b[43m)\u001b[49m  \u001b[38;5;66;03m# always removes the first value\u001b[39;00m\n",
      "\u001b[1;31mValueError\u001b[0m: list.remove(x): x not in list"
     ]
    }
   ],
   "source": [
    "l.remove(50)  # always removes the first value"
   ]
  },
  {
   "cell_type": "code",
   "execution_count": 52,
   "id": "9b778f72-d73c-4555-aa24-672669701dee",
   "metadata": {},
   "outputs": [
    {
     "name": "stdout",
     "output_type": "stream",
     "text": [
      "[10.2, (10+2j), 'ravi', True, False, 'h', 'e', 'l', 'l', 'o', 1, 2, 34]\n"
     ]
    }
   ],
   "source": [
    "print(l)"
   ]
  },
  {
   "cell_type": "code",
   "execution_count": 54,
   "id": "96ff1bc9-5b88-415e-ae2c-2e3bbb374542",
   "metadata": {},
   "outputs": [
    {
     "data": {
      "text/plain": [
       "2"
      ]
     },
     "execution_count": 54,
     "metadata": {},
     "output_type": "execute_result"
    }
   ],
   "source": [
    "l.pop()   ## lifo order last in firsrt out"
   ]
  },
  {
   "cell_type": "code",
   "execution_count": 57,
   "id": "c6b60f20-cc51-4138-a4e4-6de4f7d7e12d",
   "metadata": {},
   "outputs": [
    {
     "ename": "IndexError",
     "evalue": "pop from empty list",
     "output_type": "error",
     "traceback": [
      "\u001b[1;31m---------------------------------------------------------------------------\u001b[0m",
      "\u001b[1;31mIndexError\u001b[0m                                Traceback (most recent call last)",
      "Cell \u001b[1;32mIn[57], line 2\u001b[0m\n\u001b[0;32m      1\u001b[0m l \u001b[38;5;241m=\u001b[39m []\n\u001b[1;32m----> 2\u001b[0m \u001b[43ml\u001b[49m\u001b[38;5;241;43m.\u001b[39;49m\u001b[43mpop\u001b[49m\u001b[43m(\u001b[49m\u001b[43m)\u001b[49m\n",
      "\u001b[1;31mIndexError\u001b[0m: pop from empty list"
     ]
    }
   ],
   "source": [
    "l = []\n",
    "l.pop()"
   ]
  },
  {
   "cell_type": "code",
   "execution_count": 58,
   "id": "ea3ecfbd-6a3a-4eaa-ab13-12ae0c00abeb",
   "metadata": {},
   "outputs": [
    {
     "data": {
      "text/plain": [
       "7"
      ]
     },
     "execution_count": 58,
     "metadata": {},
     "output_type": "execute_result"
    }
   ],
   "source": [
    "l = [10,10,10.20,10+2j,\"ravi\",True,False]\n",
    "len(l)"
   ]
  },
  {
   "cell_type": "code",
   "execution_count": 60,
   "id": "5cf5bb16-fe43-4324-a735-12ed9fda1679",
   "metadata": {},
   "outputs": [
    {
     "data": {
      "text/plain": [
       "False"
      ]
     },
     "execution_count": 60,
     "metadata": {},
     "output_type": "execute_result"
    }
   ],
   "source": [
    "l.pop()"
   ]
  },
  {
   "cell_type": "code",
   "execution_count": 61,
   "id": "64eaf5ef-84c5-4da4-8ef0-e9d70c8d95a0",
   "metadata": {},
   "outputs": [
    {
     "name": "stdout",
     "output_type": "stream",
     "text": [
      "[10, 10, 10.2, (10+2j), 'ravi', True]\n"
     ]
    }
   ],
   "source": [
    "print(l)"
   ]
  },
  {
   "cell_type": "code",
   "execution_count": 62,
   "id": "285ef4fa-0849-4ae9-b605-7c9b3b0d7a8d",
   "metadata": {},
   "outputs": [
    {
     "ename": "TypeError",
     "evalue": "len() takes exactly one argument (0 given)",
     "output_type": "error",
     "traceback": [
      "\u001b[1;31m---------------------------------------------------------------------------\u001b[0m",
      "\u001b[1;31mTypeError\u001b[0m                                 Traceback (most recent call last)",
      "Cell \u001b[1;32mIn[62], line 1\u001b[0m\n\u001b[1;32m----> 1\u001b[0m \u001b[38;5;28;43mlen\u001b[39;49m\u001b[43m(\u001b[49m\u001b[43m)\u001b[49m\n\u001b[0;32m      2\u001b[0m index()\n\u001b[0;32m      3\u001b[0m count()\n",
      "\u001b[1;31mTypeError\u001b[0m: len() takes exactly one argument (0 given)"
     ]
    }
   ],
   "source": [
    "len()\n",
    "index()\n",
    "count()\n",
    "append()\n",
    "insert()\n",
    "append()\n",
    "remove()\n",
    "pop()"
   ]
  },
  {
   "cell_type": "markdown",
   "id": "be4b949d-6479-4c8c-a291-2e1e7d47646e",
   "metadata": {},
   "source": [
    "##### string is nothing but group of caracters"
   ]
  },
  {
   "cell_type": "code",
   "execution_count": 63,
   "id": "df32860b-47bc-40ae-b838-29d484bfea96",
   "metadata": {},
   "outputs": [],
   "source": [
    "s = 'visualpath'"
   ]
  },
  {
   "cell_type": "code",
   "execution_count": 66,
   "id": "7ca82c0a-684c-46e4-aa9c-47439bbdab78",
   "metadata": {},
   "outputs": [
    {
     "name": "stdout",
     "output_type": "stream",
     "text": [
      "<class 'str'>\n"
     ]
    }
   ],
   "source": [
    "print(type(s))"
   ]
  },
  {
   "cell_type": "code",
   "execution_count": 67,
   "id": "28cd8a6e-5e3a-44aa-b921-ff5a638cdf57",
   "metadata": {},
   "outputs": [
    {
     "data": {
      "text/plain": [
       "str"
      ]
     },
     "execution_count": 67,
     "metadata": {},
     "output_type": "execute_result"
    }
   ],
   "source": [
    "p = \"python course\"\n",
    "type(p)"
   ]
  },
  {
   "cell_type": "code",
   "execution_count": 73,
   "id": "7f59d9ec-a2e5-442c-b2ca-2a26d1c8033b",
   "metadata": {},
   "outputs": [
    {
     "name": "stdout",
     "output_type": "stream",
     "text": [
      "select * \n",
      "from employee \n",
      "where name = 'JOHN'\n"
     ]
    }
   ],
   "source": [
    "query = \"\"\"select * \n",
    "from employee \n",
    "where name = 'JOHN'\"\"\"\n",
    "print(query)"
   ]
  },
  {
   "cell_type": "code",
   "execution_count": 75,
   "id": "8611303f-ca73-4ddc-b156-d9036768434f",
   "metadata": {},
   "outputs": [
    {
     "name": "stdout",
     "output_type": "stream",
     "text": [
      "how are you\n"
     ]
    }
   ],
   "source": [
    "s1 = 'how are you'\n",
    "print(s1)"
   ]
  },
  {
   "cell_type": "code",
   "execution_count": 76,
   "id": "1c83baf2-ee04-4f39-abb1-6d7c9c549aa8",
   "metadata": {},
   "outputs": [
    {
     "name": "stdout",
     "output_type": "stream",
     "text": [
      "how' are you\n"
     ]
    }
   ],
   "source": [
    "s2 = 'how\\\\' are you'\n",
    "print(s2)"
   ]
  },
  {
   "cell_type": "markdown",
   "id": "764f22d8-f629-4d19-aaac-695605193784",
   "metadata": {},
   "source": [
    "##### sring is immutable"
   ]
  },
  {
   "cell_type": "code",
   "execution_count": 81,
   "id": "24a4942f-b500-4a4a-b633-aa969296dfb5",
   "metadata": {},
   "outputs": [
    {
     "data": {
      "text/plain": [
       "'database'"
      ]
     },
     "execution_count": 81,
     "metadata": {},
     "output_type": "execute_result"
    }
   ],
   "source": [
    "s1=\"data\"\n",
    "s2=\"base\"\n",
    "s1+s2"
   ]
  },
  {
   "cell_type": "code",
   "execution_count": 82,
   "id": "106f60d2-f57d-4bfa-83a2-b9bf01d4199e",
   "metadata": {},
   "outputs": [
    {
     "name": "stdout",
     "output_type": "stream",
     "text": [
      "database\n"
     ]
    }
   ],
   "source": [
    "print(s1+s2)"
   ]
  },
  {
   "cell_type": "markdown",
   "id": "039894ee-73fd-42c5-bba0-d3b93df90922",
   "metadata": {},
   "source": [
    "##### slicing concept"
   ]
  },
  {
   "cell_type": "code",
   "execution_count": 83,
   "id": "5be53f83-05fe-48b1-8aa5-41eb0c57d1b0",
   "metadata": {},
   "outputs": [],
   "source": [
    "s=\"Last Checkpoint\""
   ]
  },
  {
   "cell_type": "code",
   "execution_count": 93,
   "id": "46092379-abf9-49cf-a86f-4580e9195e2a",
   "metadata": {},
   "outputs": [
    {
     "data": {
      "text/plain": [
       "'Checkpoint'"
      ]
     },
     "execution_count": 93,
     "metadata": {},
     "output_type": "execute_result"
    }
   ],
   "source": [
    "s[5:15]"
   ]
  },
  {
   "cell_type": "code",
   "execution_count": 96,
   "id": "098ae66b-874c-4920-9987-57f9c4d38c4f",
   "metadata": {},
   "outputs": [
    {
     "data": {
      "text/plain": [
       "'Cekon'"
      ]
     },
     "execution_count": 96,
     "metadata": {},
     "output_type": "execute_result"
    }
   ],
   "source": [
    "s[5:15:2]"
   ]
  },
  {
   "cell_type": "code",
   "execution_count": 97,
   "id": "c76bb3f5-f42b-4fab-8235-890765597ea1",
   "metadata": {},
   "outputs": [
    {
     "data": {
      "text/plain": [
       "'Ccot'"
      ]
     },
     "execution_count": 97,
     "metadata": {},
     "output_type": "execute_result"
    }
   ],
   "source": [
    "s[5:15:3]"
   ]
  },
  {
   "cell_type": "code",
   "execution_count": 99,
   "id": "a51c7c87-0cf8-492d-bc8f-9376d857f3f7",
   "metadata": {},
   "outputs": [
    {
     "name": "stdout",
     "output_type": "stream",
     "text": [
      "C\n",
      "h\n",
      "e\n",
      "c\n",
      "k\n",
      "p\n",
      "o\n",
      "i\n",
      "n\n",
      "t\n"
     ]
    }
   ],
   "source": [
    "for i in \"Checkpoint\":\n",
    "    print(i)"
   ]
  },
  {
   "cell_type": "code",
   "execution_count": 100,
   "id": "bafe0cfc-1d68-435e-bf90-b271a4efd439",
   "metadata": {},
   "outputs": [
    {
     "data": {
      "text/plain": [
       "'tniopkcehC tsaL'"
      ]
     },
     "execution_count": 100,
     "metadata": {},
     "output_type": "execute_result"
    }
   ],
   "source": [
    "s[::-1]"
   ]
  },
  {
   "cell_type": "code",
   "execution_count": 105,
   "id": "7e8acbf7-fbdf-4755-9b20-8bbf3f246f77",
   "metadata": {},
   "outputs": [
    {
     "data": {
      "text/plain": [
       "'Last Checkpoint'"
      ]
     },
     "execution_count": 105,
     "metadata": {},
     "output_type": "execute_result"
    }
   ],
   "source": [
    "s[:] ##### to copy the object"
   ]
  },
  {
   "cell_type": "code",
   "execution_count": 104,
   "id": "a7cc47c8-0a8c-49a9-9770-b11b0d708725",
   "metadata": {},
   "outputs": [
    {
     "name": "stdout",
     "output_type": "stream",
     "text": [
      "1737083063472\n"
     ]
    }
   ],
   "source": [
    "print(id(s))"
   ]
  },
  {
   "cell_type": "code",
   "execution_count": 106,
   "id": "e76431b7-7fad-4cb2-8199-981ad737b67a",
   "metadata": {},
   "outputs": [
    {
     "data": {
      "text/plain": [
       "15"
      ]
     },
     "execution_count": 106,
     "metadata": {},
     "output_type": "execute_result"
    }
   ],
   "source": [
    "len(s)"
   ]
  },
  {
   "cell_type": "markdown",
   "id": "af6e539d-5273-4e3b-89f5-45d87aa340b8",
   "metadata": {},
   "source": [
    "##### length always start with 1 and index always starts with 0"
   ]
  },
  {
   "cell_type": "code",
   "execution_count": 117,
   "id": "50d5b8cf-5773-4f8a-9b19-b751d7bb0053",
   "metadata": {},
   "outputs": [
    {
     "name": "stdout",
     "output_type": "stream",
     "text": [
      "True\n",
      "False\n"
     ]
    }
   ],
   "source": [
    "a = \"python is easy\"\n",
    "print(\"easy\" in a)\n",
    "print(\"hard\" in a)\n"
   ]
  },
  {
   "cell_type": "code",
   "execution_count": 119,
   "id": "b730154c-c869-4cd5-ae32-36e294a6c153",
   "metadata": {},
   "outputs": [
    {
     "data": {
      "text/plain": [
       "True"
      ]
     },
     "execution_count": 119,
     "metadata": {},
     "output_type": "execute_result"
    }
   ],
   "source": [
    "s1 = \"apple\"\n",
    "s2 = \"banana\"\n",
    "s1 < s2"
   ]
  },
  {
   "cell_type": "code",
   "execution_count": 120,
   "id": "939a0e07-6632-4e05-a791-c281adb25d59",
   "metadata": {},
   "outputs": [],
   "source": [
    "p = \"    pawan    \""
   ]
  },
  {
   "cell_type": "code",
   "execution_count": 125,
   "id": "e9233c1d-7e8d-4550-93b1-f8871e844969",
   "metadata": {},
   "outputs": [
    {
     "name": "stdout",
     "output_type": "stream",
     "text": [
      "    pawan\n"
     ]
    },
    {
     "data": {
      "text/plain": [
       "'    pawan'"
      ]
     },
     "execution_count": 125,
     "metadata": {},
     "output_type": "execute_result"
    }
   ],
   "source": [
    "print(p)\n",
    "p.lstrip()\n",
    "p.rstrip()"
   ]
  },
  {
   "cell_type": "code",
   "execution_count": 126,
   "id": "4216c231-0b04-43f0-b854-5988d72dbde8",
   "metadata": {},
   "outputs": [
    {
     "data": {
      "text/plain": [
       "'pawan'"
      ]
     },
     "execution_count": 126,
     "metadata": {},
     "output_type": "execute_result"
    }
   ],
   "source": [
    "p.strip()"
   ]
  },
  {
   "cell_type": "code",
   "execution_count": 137,
   "id": "df5673bd-6e9a-4ab2-a497-1fe579f9b9a2",
   "metadata": {},
   "outputs": [
    {
     "data": {
      "text/plain": [
       "0"
      ]
     },
     "execution_count": 137,
     "metadata": {},
     "output_type": "execute_result"
    }
   ],
   "source": [
    "s=\"Last Cheackpaointa\"\n",
    "s.find(\"Last\")\n"
   ]
  },
  {
   "cell_type": "code",
   "execution_count": 136,
   "id": "280ba34d-0e4c-400f-b7a5-05673c341dd0",
   "metadata": {},
   "outputs": [
    {
     "data": {
      "text/plain": [
       "0"
      ]
     },
     "execution_count": 136,
     "metadata": {},
     "output_type": "execute_result"
    }
   ],
   "source": [
    "s.find(\"L\")  ### first value index\n"
   ]
  },
  {
   "cell_type": "code",
   "execution_count": 132,
   "id": "4da38390-8cb5-44b8-8ffe-6d6abd8286ef",
   "metadata": {},
   "outputs": [
    {
     "data": {
      "text/plain": [
       "0"
      ]
     },
     "execution_count": 132,
     "metadata": {},
     "output_type": "execute_result"
    }
   ],
   "source": [
    "s.index(\"Last\")"
   ]
  },
  {
   "cell_type": "code",
   "execution_count": 134,
   "id": "7e0f5fb7-2d3d-4b81-aefc-10b71c311aac",
   "metadata": {},
   "outputs": [
    {
     "data": {
      "text/plain": [
       "-1"
      ]
     },
     "execution_count": 134,
     "metadata": {},
     "output_type": "execute_result"
    }
   ],
   "source": [
    "s.find(\"z\")"
   ]
  },
  {
   "cell_type": "code",
   "execution_count": 135,
   "id": "dc24d9c8-e6e2-485c-8824-2cb5103f3ca2",
   "metadata": {},
   "outputs": [
    {
     "ename": "ValueError",
     "evalue": "substring not found",
     "output_type": "error",
     "traceback": [
      "\u001b[1;31m---------------------------------------------------------------------------\u001b[0m",
      "\u001b[1;31mValueError\u001b[0m                                Traceback (most recent call last)",
      "Cell \u001b[1;32mIn[135], line 1\u001b[0m\n\u001b[1;32m----> 1\u001b[0m \u001b[43ms\u001b[49m\u001b[38;5;241;43m.\u001b[39;49m\u001b[43mindex\u001b[49m\u001b[43m(\u001b[49m\u001b[38;5;124;43m\"\u001b[39;49m\u001b[38;5;124;43mz\u001b[39;49m\u001b[38;5;124;43m\"\u001b[39;49m\u001b[43m)\u001b[49m\n",
      "\u001b[1;31mValueError\u001b[0m: substring not found"
     ]
    }
   ],
   "source": [
    "s.index(\"z\")"
   ]
  },
  {
   "cell_type": "code",
   "execution_count": 139,
   "id": "5e810c9d-aad1-4e51-81d2-1c1ca03385ce",
   "metadata": {},
   "outputs": [
    {
     "data": {
      "text/plain": [
       "8"
      ]
     },
     "execution_count": 139,
     "metadata": {},
     "output_type": "execute_result"
    }
   ],
   "source": [
    "s=\"Last Cheackpaointa\"\n",
    "s.find('a',5,15)"
   ]
  },
  {
   "cell_type": "code",
   "execution_count": 141,
   "id": "c6915009-b08c-4fcb-9fa3-ebeba72c8bad",
   "metadata": {},
   "outputs": [
    {
     "data": {
      "text/plain": [
       "17"
      ]
     },
     "execution_count": 141,
     "metadata": {},
     "output_type": "execute_result"
    }
   ],
   "source": [
    "s.rfind(\"a\")"
   ]
  },
  {
   "cell_type": "code",
   "execution_count": 142,
   "id": "4b26658a-673b-41bf-bc7c-cab8446f81f0",
   "metadata": {},
   "outputs": [
    {
     "data": {
      "text/plain": [
       "17"
      ]
     },
     "execution_count": 142,
     "metadata": {},
     "output_type": "execute_result"
    }
   ],
   "source": [
    "s.rindex(\"a\")"
   ]
  },
  {
   "cell_type": "code",
   "execution_count": 143,
   "id": "a8bffc2f-8d30-4e63-a787-97de9519f797",
   "metadata": {},
   "outputs": [
    {
     "data": {
      "text/plain": [
       "-1"
      ]
     },
     "execution_count": 143,
     "metadata": {},
     "output_type": "execute_result"
    }
   ],
   "source": [
    "s.rfind(\"z\")"
   ]
  },
  {
   "cell_type": "code",
   "execution_count": 145,
   "id": "81282aa5-afaa-4295-b840-185948eeb126",
   "metadata": {},
   "outputs": [
    {
     "ename": "ValueError",
     "evalue": "substring not found",
     "output_type": "error",
     "traceback": [
      "\u001b[1;31m---------------------------------------------------------------------------\u001b[0m",
      "\u001b[1;31mValueError\u001b[0m                                Traceback (most recent call last)",
      "Cell \u001b[1;32mIn[145], line 1\u001b[0m\n\u001b[1;32m----> 1\u001b[0m \u001b[43ms\u001b[49m\u001b[38;5;241;43m.\u001b[39;49m\u001b[43mrindex\u001b[49m\u001b[43m(\u001b[49m\u001b[38;5;124;43m\"\u001b[39;49m\u001b[38;5;124;43mz\u001b[39;49m\u001b[38;5;124;43m\"\u001b[39;49m\u001b[43m)\u001b[49m\n",
      "\u001b[1;31mValueError\u001b[0m: substring not found"
     ]
    }
   ],
   "source": [
    "s.rindex(\"z\")"
   ]
  },
  {
   "cell_type": "code",
   "execution_count": 146,
   "id": "a69fb7b8-7bc8-4830-a12b-e21817732a6c",
   "metadata": {},
   "outputs": [
    {
     "data": {
      "text/plain": [
       "3"
      ]
     },
     "execution_count": 146,
     "metadata": {},
     "output_type": "execute_result"
    }
   ],
   "source": [
    "k = \"kakatiya\"\n",
    "k.count('a')"
   ]
  },
  {
   "cell_type": "code",
   "execution_count": 147,
   "id": "61f64f6e-07db-4ff7-8306-f41e52ea1013",
   "metadata": {},
   "outputs": [
    {
     "data": {
      "text/plain": [
       "2"
      ]
     },
     "execution_count": 147,
     "metadata": {},
     "output_type": "execute_result"
    }
   ],
   "source": [
    "k.count('a',2,10)"
   ]
  },
  {
   "cell_type": "code",
   "execution_count": 148,
   "id": "5a321ed2-8dcb-41d7-83b4-e73646c0dfda",
   "metadata": {},
   "outputs": [],
   "source": [
    "s = \"python is very hard to learn\""
   ]
  },
  {
   "cell_type": "code",
   "execution_count": 150,
   "id": "5575578d-b6df-4712-a728-ff42e5a925a2",
   "metadata": {},
   "outputs": [
    {
     "data": {
      "text/plain": [
       "'python is very easy to learn'"
      ]
     },
     "execution_count": 150,
     "metadata": {},
     "output_type": "execute_result"
    }
   ],
   "source": [
    "s.replace(\"hard\",\"easy\")"
   ]
  },
  {
   "cell_type": "code",
   "execution_count": 151,
   "id": "63cfd0a5-a12c-4048-8419-67fd5681bff4",
   "metadata": {},
   "outputs": [
    {
     "data": {
      "text/plain": [
       "['apple', 'banana', 'mango']"
      ]
     },
     "execution_count": 151,
     "metadata": {},
     "output_type": "execute_result"
    }
   ],
   "source": [
    "s = \"apple-banana-mango\"\n",
    "s.split(\"-\")"
   ]
  },
  {
   "cell_type": "code",
   "execution_count": 152,
   "id": "c02c7654-7e23-4691-aaab-6c43a5dde187",
   "metadata": {},
   "outputs": [],
   "source": [
    "s1 = ['apple', 'banana', 'mango']"
   ]
  },
  {
   "cell_type": "code",
   "execution_count": 154,
   "id": "ebef1022-6f98-43f6-b43f-65db88e43853",
   "metadata": {},
   "outputs": [
    {
     "data": {
      "text/plain": [
       "'apple-banana-mango'"
      ]
     },
     "execution_count": 154,
     "metadata": {},
     "output_type": "execute_result"
    }
   ],
   "source": [
    "'-'.join(s1)"
   ]
  },
  {
   "cell_type": "code",
   "execution_count": 157,
   "id": "0f02044b-a3c1-485c-8d41-ae105a7be70f",
   "metadata": {},
   "outputs": [
    {
     "data": {
      "text/plain": [
       "'APPLE'"
      ]
     },
     "execution_count": 157,
     "metadata": {},
     "output_type": "execute_result"
    }
   ],
   "source": [
    "s1 = 'apple'\n",
    "s1.upper()"
   ]
  },
  {
   "cell_type": "code",
   "execution_count": 158,
   "id": "185cbb3d-b6dc-4e19-ada6-b22e2a4d87fd",
   "metadata": {},
   "outputs": [
    {
     "data": {
      "text/plain": [
       "'Apple'"
      ]
     },
     "execution_count": 158,
     "metadata": {},
     "output_type": "execute_result"
    }
   ],
   "source": [
    "s1.title()"
   ]
  },
  {
   "cell_type": "code",
   "execution_count": 162,
   "id": "46fefe73-9716-4998-aa50-5602e75b4767",
   "metadata": {},
   "outputs": [
    {
     "name": "stdout",
     "output_type": "stream",
     "text": [
      "apple\n"
     ]
    }
   ],
   "source": [
    "print(s1)"
   ]
  },
  {
   "cell_type": "code",
   "execution_count": 166,
   "id": "aa5aecd6-4d28-4472-ace9-dda1aaf34f25",
   "metadata": {},
   "outputs": [
    {
     "data": {
      "text/plain": [
       "True"
      ]
     },
     "execution_count": 166,
     "metadata": {},
     "output_type": "execute_result"
    }
   ],
   "source": [
    "s1.startswith('a')"
   ]
  },
  {
   "cell_type": "code",
   "execution_count": 167,
   "id": "9e3a5b5e-802a-4aa9-ab6b-61a8d4afc453",
   "metadata": {},
   "outputs": [
    {
     "data": {
      "text/plain": [
       "False"
      ]
     },
     "execution_count": 167,
     "metadata": {},
     "output_type": "execute_result"
    }
   ],
   "source": [
    "s1.endswith('a')"
   ]
  },
  {
   "cell_type": "code",
   "execution_count": 172,
   "id": "fdf5af5e-2c8f-4985-a43a-7fb15ba347c9",
   "metadata": {},
   "outputs": [],
   "source": [
    "password = '123'"
   ]
  },
  {
   "cell_type": "code",
   "execution_count": 171,
   "id": "a24a7f4f-fbdd-4207-8290-67b1bc69472a",
   "metadata": {},
   "outputs": [
    {
     "data": {
      "text/plain": [
       "True"
      ]
     },
     "execution_count": 171,
     "metadata": {},
     "output_type": "execute_result"
    }
   ],
   "source": [
    "password.isalnum()"
   ]
  },
  {
   "cell_type": "code",
   "execution_count": 173,
   "id": "6f1f7a9b-2e19-4439-9c4d-2029f05f5747",
   "metadata": {},
   "outputs": [
    {
     "data": {
      "text/plain": [
       "False"
      ]
     },
     "execution_count": 173,
     "metadata": {},
     "output_type": "execute_result"
    }
   ],
   "source": [
    "password.isalpha()"
   ]
  },
  {
   "cell_type": "code",
   "execution_count": 174,
   "id": "68e74c8e-2d0a-45dc-9d57-a118551c1c38",
   "metadata": {},
   "outputs": [
    {
     "data": {
      "text/plain": [
       "True"
      ]
     },
     "execution_count": 174,
     "metadata": {},
     "output_type": "execute_result"
    }
   ],
   "source": [
    "password.isdigit()"
   ]
  },
  {
   "cell_type": "code",
   "execution_count": 175,
   "id": "6349d24b-180c-40f3-be18-00e39ee148ec",
   "metadata": {},
   "outputs": [],
   "source": [
    "U = \"asdf\""
   ]
  },
  {
   "cell_type": "code",
   "execution_count": 176,
   "id": "62d7ce54-9427-4d40-a672-9f6cd5b4b348",
   "metadata": {},
   "outputs": [
    {
     "data": {
      "text/plain": [
       "True"
      ]
     },
     "execution_count": 176,
     "metadata": {},
     "output_type": "execute_result"
    }
   ],
   "source": [
    "U.islower()"
   ]
  },
  {
   "cell_type": "code",
   "execution_count": 177,
   "id": "85278802-7043-495e-a6d0-61ef7d8bb3d7",
   "metadata": {},
   "outputs": [
    {
     "data": {
      "text/plain": [
       "False"
      ]
     },
     "execution_count": 177,
     "metadata": {},
     "output_type": "execute_result"
    }
   ],
   "source": [
    "U.istitle()"
   ]
  },
  {
   "cell_type": "code",
   "execution_count": null,
   "id": "fa1fd1df-92dc-4a0e-9845-462b33250f60",
   "metadata": {},
   "outputs": [],
   "source": [
    "s = \"  \""
   ]
  },
  {
   "cell_type": "markdown",
   "id": "c9f69d16-21d1-4b12-be8c-af8601a02342",
   "metadata": {},
   "source": [
    "##### orderring elements of list"
   ]
  },
  {
   "cell_type": "code",
   "execution_count": 15,
   "id": "8032ae20-41b8-42ae-9726-aa6d6457a1d1",
   "metadata": {},
   "outputs": [],
   "source": [
    "k = [10,20,30,\"ravi\",True]"
   ]
  },
  {
   "cell_type": "code",
   "execution_count": 19,
   "id": "059690eb-91c2-441e-b030-1809d5657d45",
   "metadata": {},
   "outputs": [],
   "source": [
    "k.reverse()"
   ]
  },
  {
   "cell_type": "code",
   "execution_count": 20,
   "id": "cb05a219-937b-4efc-9d29-63598797ce73",
   "metadata": {},
   "outputs": [
    {
     "name": "stdout",
     "output_type": "stream",
     "text": [
      "[True, 'ravi', 30, 20, 10]\n"
     ]
    }
   ],
   "source": [
    "print(k)"
   ]
  },
  {
   "cell_type": "code",
   "execution_count": 24,
   "id": "fdffe5b0-bc44-4e0a-8a6a-d0bc6957b839",
   "metadata": {},
   "outputs": [],
   "source": [
    "k = [20,10,30]\n"
   ]
  },
  {
   "cell_type": "code",
   "execution_count": 28,
   "id": "f14cffb3-bba5-4301-8cc6-5b0775fc9370",
   "metadata": {},
   "outputs": [],
   "source": [
    "k.sort()"
   ]
  },
  {
   "cell_type": "code",
   "execution_count": 29,
   "id": "805e4d6d-a4b7-4443-880f-8d003eff9d56",
   "metadata": {},
   "outputs": [
    {
     "name": "stdout",
     "output_type": "stream",
     "text": [
      "[10, 20, 30]\n"
     ]
    }
   ],
   "source": [
    "print(k)"
   ]
  },
  {
   "cell_type": "code",
   "execution_count": 30,
   "id": "53553425-e260-42f8-bc65-77c36dec30da",
   "metadata": {},
   "outputs": [],
   "source": [
    "k.sort(reverse=True)"
   ]
  },
  {
   "cell_type": "code",
   "execution_count": 32,
   "id": "3e8ce16e-b534-41a1-8003-060332809de5",
   "metadata": {},
   "outputs": [
    {
     "name": "stdout",
     "output_type": "stream",
     "text": [
      "[30, 20, 10]\n"
     ]
    }
   ],
   "source": [
    "print(k)"
   ]
  },
  {
   "cell_type": "code",
   "execution_count": 36,
   "id": "5dabb8b8-e87b-419b-b301-8211b3453a5a",
   "metadata": {},
   "outputs": [],
   "source": [
    "k = [\"apple\",\"mango\",\"banana\"]  ### list should contain same datatype of values\n",
    "k.sort()"
   ]
  },
  {
   "cell_type": "code",
   "execution_count": 35,
   "id": "7681c406-2846-478c-800a-0ab26afc77f3",
   "metadata": {},
   "outputs": [
    {
     "name": "stdout",
     "output_type": "stream",
     "text": [
      "['apple', 'banana', 'mango']\n"
     ]
    }
   ],
   "source": [
    "print(k)"
   ]
  },
  {
   "cell_type": "markdown",
   "id": "08bfb115-b2c0-4743-a70f-c4fcdee4a731",
   "metadata": {},
   "source": [
    "##### Mathematical operations for list"
   ]
  },
  {
   "cell_type": "code",
   "execution_count": 37,
   "id": "8b074d1c-c541-4762-9237-9dea388e8484",
   "metadata": {},
   "outputs": [
    {
     "data": {
      "text/plain": [
       "[1, 2, 3, 4, 5, 6]"
      ]
     },
     "execution_count": 37,
     "metadata": {},
     "output_type": "execute_result"
    }
   ],
   "source": [
    "l1=[1,2,3]\n",
    "l2=[4,5,6]\n",
    "l1+l2"
   ]
  },
  {
   "cell_type": "code",
   "execution_count": 39,
   "id": "b0b75e09-477a-4c75-b4e3-a19868d455de",
   "metadata": {},
   "outputs": [
    {
     "name": "stdout",
     "output_type": "stream",
     "text": [
      "2272079980224\n"
     ]
    }
   ],
   "source": [
    "print(id(l1))"
   ]
  },
  {
   "cell_type": "code",
   "execution_count": 40,
   "id": "7e693850-14ed-494a-bec6-863dfe963394",
   "metadata": {},
   "outputs": [
    {
     "name": "stdout",
     "output_type": "stream",
     "text": [
      "2272079318208\n"
     ]
    }
   ],
   "source": [
    "print(id(l2))"
   ]
  },
  {
   "cell_type": "code",
   "execution_count": 43,
   "id": "d5f9a824-1493-4cac-8f04-4dbdb089695d",
   "metadata": {},
   "outputs": [
    {
     "name": "stdout",
     "output_type": "stream",
     "text": [
      "2272079328000\n"
     ]
    }
   ],
   "source": [
    "print(id(l1+l2))  #### by defaul PVM creates default reference variable"
   ]
  },
  {
   "cell_type": "code",
   "execution_count": 44,
   "id": "2dbf86b8-4751-4f95-80cc-2826bc1c97a4",
   "metadata": {},
   "outputs": [],
   "source": [
    "l3=l1+l2"
   ]
  },
  {
   "cell_type": "code",
   "execution_count": 45,
   "id": "70e36c0a-f5c0-403b-a214-71dc04029ae5",
   "metadata": {},
   "outputs": [
    {
     "name": "stdout",
     "output_type": "stream",
     "text": [
      "2272079973376\n"
     ]
    }
   ],
   "source": [
    "print(id(l3))"
   ]
  },
  {
   "cell_type": "code",
   "execution_count": 46,
   "id": "cc73c596-3676-47fc-bb4f-ebbcda1a63db",
   "metadata": {},
   "outputs": [
    {
     "data": {
      "text/plain": [
       "False"
      ]
     },
     "execution_count": 46,
     "metadata": {},
     "output_type": "execute_result"
    }
   ],
   "source": [
    "l1 == l2"
   ]
  },
  {
   "cell_type": "code",
   "execution_count": 47,
   "id": "f939c9c9-c4df-4f48-848a-d69396bfc49b",
   "metadata": {},
   "outputs": [
    {
     "data": {
      "text/plain": [
       "True"
      ]
     },
     "execution_count": 47,
     "metadata": {},
     "output_type": "execute_result"
    }
   ],
   "source": [
    "l1 < l2"
   ]
  },
  {
   "cell_type": "code",
   "execution_count": 55,
   "id": "b29d514d-cda6-4cdf-9931-1821c40e4101",
   "metadata": {},
   "outputs": [],
   "source": [
    "x=[\"Dog\",\"Cat\",\"Rat\"]\n",
    "y=[\"Dog\",\"Rat,\"\"Cat\"]\n",
    "z=[\"Dog\",\"Cat\",\"Rat\"]"
   ]
  },
  {
   "cell_type": "code",
   "execution_count": 58,
   "id": "ee4e6b54-0863-4425-820a-b9bcb7cfabc1",
   "metadata": {},
   "outputs": [
    {
     "name": "stdout",
     "output_type": "stream",
     "text": [
      "False\n",
      "True\n",
      "False\n"
     ]
    }
   ],
   "source": [
    "print(x==y)\n",
    "print(x==z)\n",
    "print(y==z)"
   ]
  },
  {
   "cell_type": "code",
   "execution_count": 59,
   "id": "42b6894e-db66-44df-9089-ad735cfd3b28",
   "metadata": {},
   "outputs": [
    {
     "name": "stdout",
     "output_type": "stream",
     "text": [
      "['Dog', 'Cat', 'Rat']\n"
     ]
    }
   ],
   "source": [
    "print(x)"
   ]
  },
  {
   "cell_type": "code",
   "execution_count": 61,
   "id": "d22a54fe-f7b8-4fbe-b7d3-ac7d1e5f8778",
   "metadata": {},
   "outputs": [],
   "source": [
    "x.clear()"
   ]
  },
  {
   "cell_type": "code",
   "execution_count": 62,
   "id": "65141149-930d-4633-b775-daadfdb5da91",
   "metadata": {},
   "outputs": [
    {
     "name": "stdout",
     "output_type": "stream",
     "text": [
      "[]\n"
     ]
    }
   ],
   "source": [
    "print(x)"
   ]
  },
  {
   "cell_type": "markdown",
   "id": "a5a883ae-3659-4996-88c3-1666246faa44",
   "metadata": {},
   "source": [
    "##### nested list"
   ]
  },
  {
   "cell_type": "code",
   "execution_count": 69,
   "id": "d9e25794-27ce-4049-a8c1-979a99137430",
   "metadata": {},
   "outputs": [],
   "source": [
    "f=[10,20,[30,40]]"
   ]
  },
  {
   "cell_type": "code",
   "execution_count": 65,
   "id": "efd7ef99-6d3c-4f6a-85ab-291fca2f1778",
   "metadata": {},
   "outputs": [
    {
     "data": {
      "text/plain": [
       "10"
      ]
     },
     "execution_count": 65,
     "metadata": {},
     "output_type": "execute_result"
    }
   ],
   "source": [
    "f[0]"
   ]
  },
  {
   "cell_type": "code",
   "execution_count": 70,
   "id": "c7ad1ff5-93fa-440f-a74f-f6d3d484b272",
   "metadata": {},
   "outputs": [
    {
     "data": {
      "text/plain": [
       "20"
      ]
     },
     "execution_count": 70,
     "metadata": {},
     "output_type": "execute_result"
    }
   ],
   "source": [
    "f[1]"
   ]
  },
  {
   "cell_type": "code",
   "execution_count": 71,
   "id": "2829cf7e-986d-4bca-a88b-6a103955a208",
   "metadata": {},
   "outputs": [
    {
     "data": {
      "text/plain": [
       "[30, 40]"
      ]
     },
     "execution_count": 71,
     "metadata": {},
     "output_type": "execute_result"
    }
   ],
   "source": [
    "f[2]"
   ]
  },
  {
   "cell_type": "code",
   "execution_count": 73,
   "id": "4d89aa1d-f6a2-496b-b0c9-ff140944b582",
   "metadata": {},
   "outputs": [
    {
     "data": {
      "text/plain": [
       "40"
      ]
     },
     "execution_count": 73,
     "metadata": {},
     "output_type": "execute_result"
    }
   ],
   "source": [
    "f[2][1]"
   ]
  },
  {
   "cell_type": "markdown",
   "id": "8f416f64-dcdf-419f-911a-d3eb9a5bab21",
   "metadata": {},
   "source": [
    "##### list comprehensive : compact way of creating list objects."
   ]
  },
  {
   "cell_type": "code",
   "execution_count": 76,
   "id": "b1e46629-d575-4c1a-aade-1012955a3e56",
   "metadata": {},
   "outputs": [],
   "source": [
    "lst=[]\n",
    "for i in range(0,10):\n",
    "    if i%2==0:\n",
    "        lst.append(i)\n",
    "        \n",
    "    "
   ]
  },
  {
   "cell_type": "code",
   "execution_count": 77,
   "id": "b579155d-1e20-4f32-9ce9-d09603dcf97a",
   "metadata": {},
   "outputs": [
    {
     "name": "stdout",
     "output_type": "stream",
     "text": [
      "[0, 2, 4, 6, 8]\n"
     ]
    }
   ],
   "source": [
    "print(lst)"
   ]
  },
  {
   "cell_type": "code",
   "execution_count": 79,
   "id": "31458cef-9d90-46f9-baf0-21d56fa409b1",
   "metadata": {},
   "outputs": [
    {
     "data": {
      "text/plain": [
       "[0, 2, 4, 6, 8]"
      ]
     },
     "execution_count": 79,
     "metadata": {},
     "output_type": "execute_result"
    }
   ],
   "source": [
    "[i for i in range(0,10) if i%2 == 0]  ### list"
   ]
  },
  {
   "cell_type": "code",
   "execution_count": 80,
   "id": "0662b433-d547-41f1-b233-40b77a91885f",
   "metadata": {},
   "outputs": [
    {
     "data": {
      "text/plain": [
       "{0, 2, 4, 6, 8}"
      ]
     },
     "execution_count": 80,
     "metadata": {},
     "output_type": "execute_result"
    }
   ],
   "source": [
    "{i for i in range(0,10) if i%2 == 0}  ### set"
   ]
  },
  {
   "cell_type": "code",
   "execution_count": 84,
   "id": "0221716a-5c3c-4b1d-a6d2-085dd410fddc",
   "metadata": {},
   "outputs": [
    {
     "data": {
      "text/plain": [
       "[0, 2, 4, 6, 8]"
      ]
     },
     "execution_count": 84,
     "metadata": {},
     "output_type": "execute_result"
    }
   ],
   "source": [
    "[i for i in (0,1,2,3,4,5,6,7,8,9) if i%2 == 0]  ### tupple also can be used in list"
   ]
  },
  {
   "cell_type": "code",
   "execution_count": 87,
   "id": "e2ae2d16-bc5c-4126-8eb9-63631c77a748",
   "metadata": {},
   "outputs": [
    {
     "name": "stdin",
     "output_type": "stream",
     "text": [
      "enter the course name python\n"
     ]
    },
    {
     "name": "stdout",
     "output_type": "stream",
     "text": [
      "learn python\n"
     ]
    }
   ],
   "source": [
    "name = input(\"enter the course name\")\n",
    "if name == \"python\":\n",
    "    print(\"learn python\")\n",
    "else:\n",
    "    print(\"prefer python\")\n"
   ]
  },
  {
   "cell_type": "code",
   "execution_count": 91,
   "id": "1f25fb8f-8bbb-4932-94f9-6ec03314edea",
   "metadata": {},
   "outputs": [
    {
     "name": "stdin",
     "output_type": "stream",
     "text": [
      "enter the course name python\n"
     ]
    },
    {
     "name": "stdout",
     "output_type": "stream",
     "text": [
      "learn python\n"
     ]
    }
   ],
   "source": [
    "name = input(\"enter the course name\")\n",
    "print(\"learn python\") if name == \"python\" else print(\"prefer python\")  ### ternary operator"
   ]
  },
  {
   "cell_type": "code",
   "execution_count": 94,
   "id": "618de278-c6c7-413e-90a4-c424e2f6c911",
   "metadata": {},
   "outputs": [
    {
     "data": {
      "text/plain": [
       "[0, 1, 4, 9, 16, 25, 36, 49, 64, 81]"
      ]
     },
     "execution_count": 94,
     "metadata": {},
     "output_type": "execute_result"
    }
   ],
   "source": [
    "[i*i for i in range(0,10)]   "
   ]
  },
  {
   "cell_type": "code",
   "execution_count": 100,
   "id": "c680cb19-cbee-4e60-9cfa-f647c649fd26",
   "metadata": {},
   "outputs": [
    {
     "name": "stdout",
     "output_type": "stream",
     "text": [
      "chiru\n",
      "c\n",
      "bala\n",
      "b\n",
      "nag\n",
      "n\n",
      "venky\n",
      "v\n"
     ]
    }
   ],
   "source": [
    "words=[\"chiru\",\"bala\",\"nag\",\"venky\"]\n",
    "for i in words:\n",
    "    print(i)\n",
    "    print(i[0])\n"
   ]
  },
  {
   "cell_type": "code",
   "execution_count": 99,
   "id": "863284ce-00ec-491e-8a2a-12f485c299d7",
   "metadata": {},
   "outputs": [
    {
     "name": "stdout",
     "output_type": "stream",
     "text": [
      "v\n"
     ]
    }
   ],
   "source": [
    "\"\""
   ]
  },
  {
   "cell_type": "code",
   "execution_count": 101,
   "id": "10361be2-07bf-43a2-b560-84f7ca75ff0b",
   "metadata": {},
   "outputs": [
    {
     "data": {
      "text/plain": [
       "['Last', 'Checkpoint', 'Last', 'Moday']"
      ]
     },
     "execution_count": 101,
     "metadata": {},
     "output_type": "execute_result"
    }
   ],
   "source": [
    "\"Last Checkpoint Last Moday\".split(' ')"
   ]
  },
  {
   "cell_type": "code",
   "execution_count": 102,
   "id": "75c2dfbc-d1c3-4e8c-86c7-de00f563d566",
   "metadata": {},
   "outputs": [],
   "source": [
    "lst=\"Last Checkpoint Last Moday\".split(' ')"
   ]
  },
  {
   "cell_type": "code",
   "execution_count": 104,
   "id": "271b1cd6-7037-4a1a-b212-36f967ead320",
   "metadata": {},
   "outputs": [
    {
     "name": "stdout",
     "output_type": "stream",
     "text": [
      "4\n",
      "10\n",
      "4\n",
      "5\n"
     ]
    }
   ],
   "source": [
    "for i  in lst:\n",
    "    print(len(i))"
   ]
  },
  {
   "cell_type": "code",
   "execution_count": 106,
   "id": "af0dcdf7-401f-4e34-9aec-f50b3e5738bf",
   "metadata": {},
   "outputs": [
    {
     "data": {
      "text/plain": [
       "[['Last', 4], ['Checkpoint', 10], ['Last', 4], ['Moday', 5]]"
      ]
     },
     "execution_count": 106,
     "metadata": {},
     "output_type": "execute_result"
    }
   ],
   "source": [
    "[[i,len(i)] for i  in lst]"
   ]
  },
  {
   "cell_type": "markdown",
   "id": "28a80923-d5d3-4601-b92b-533ed8c4ea1d",
   "metadata": {
    "jp-MarkdownHeadingCollapsed": true
   },
   "source": [
    "##### Cloning concept : creatinh the exact copy 1. deep cloning 2. shallow cloning"
   ]
  },
  {
   "cell_type": "markdown",
   "id": "c22fe471-0adc-47dd-9f83-42eebf7a8374",
   "metadata": {},
   "source": [
    "##### Shallow cloning"
   ]
  },
  {
   "cell_type": "code",
   "execution_count": 109,
   "id": "577c8dde-6e0c-4f43-bc6e-4c7d0052329d",
   "metadata": {},
   "outputs": [],
   "source": [
    "x=[10,20,30]\n",
    "y=x"
   ]
  },
  {
   "cell_type": "code",
   "execution_count": 110,
   "id": "679d38f9-63ce-4429-891f-c3784737918a",
   "metadata": {},
   "outputs": [
    {
     "name": "stdout",
     "output_type": "stream",
     "text": [
      "[10, 20, 30]\n"
     ]
    }
   ],
   "source": [
    "print(x)"
   ]
  },
  {
   "cell_type": "code",
   "execution_count": 111,
   "id": "95b18022-684c-4644-8ecd-ba15a67fac25",
   "metadata": {},
   "outputs": [
    {
     "name": "stdout",
     "output_type": "stream",
     "text": [
      "[10, 20, 30]\n"
     ]
    }
   ],
   "source": [
    "print(y)"
   ]
  },
  {
   "cell_type": "code",
   "execution_count": 114,
   "id": "eb91cbf4-f0f4-4c0e-8848-e757fc9cc4ca",
   "metadata": {},
   "outputs": [],
   "source": [
    "y[1]=222"
   ]
  },
  {
   "cell_type": "code",
   "execution_count": 115,
   "id": "4a73e9dd-8b27-43ae-8d5f-848efef51fc5",
   "metadata": {},
   "outputs": [
    {
     "name": "stdout",
     "output_type": "stream",
     "text": [
      "[10, 222, 30]\n"
     ]
    }
   ],
   "source": [
    "print(y)"
   ]
  },
  {
   "cell_type": "code",
   "execution_count": 116,
   "id": "fdf1ae5e-5f53-4e91-8abc-a54e5aafaef9",
   "metadata": {},
   "outputs": [
    {
     "name": "stdout",
     "output_type": "stream",
     "text": [
      "[10, 222, 30]\n"
     ]
    }
   ],
   "source": [
    "print(x)"
   ]
  },
  {
   "cell_type": "markdown",
   "id": "3b10d6c2-ffbd-41d2-a50c-8fef12c4fa13",
   "metadata": {},
   "source": [
    "##### deep copying , slice, copy()"
   ]
  },
  {
   "cell_type": "code",
   "execution_count": 118,
   "id": "b823643a-ce3b-4a92-b6bc-33c94984d48a",
   "metadata": {},
   "outputs": [],
   "source": [
    "x=[10,20,30]\n",
    "y=x[:]"
   ]
  },
  {
   "cell_type": "code",
   "execution_count": 119,
   "id": "f689ab23-1f7a-4470-ab74-650c24a5c48e",
   "metadata": {},
   "outputs": [
    {
     "name": "stdout",
     "output_type": "stream",
     "text": [
      "[10, 20, 30]\n"
     ]
    }
   ],
   "source": [
    "print(y)"
   ]
  },
  {
   "cell_type": "code",
   "execution_count": 120,
   "id": "d4d5a3e3-6407-4d1b-8afb-680d39c142e9",
   "metadata": {},
   "outputs": [
    {
     "name": "stdout",
     "output_type": "stream",
     "text": [
      "2272079589184\n"
     ]
    }
   ],
   "source": [
    "print(id(y))"
   ]
  },
  {
   "cell_type": "code",
   "execution_count": 121,
   "id": "713da3b2-40b6-40c5-8191-456fe0ad8ed7",
   "metadata": {},
   "outputs": [
    {
     "name": "stdout",
     "output_type": "stream",
     "text": [
      "2272079114944\n"
     ]
    }
   ],
   "source": [
    "print(id(x))"
   ]
  },
  {
   "cell_type": "code",
   "execution_count": 122,
   "id": "f3a0cf49-8fb7-44bc-ae04-5b63a2feed7f",
   "metadata": {},
   "outputs": [],
   "source": [
    "y[2]=333"
   ]
  },
  {
   "cell_type": "code",
   "execution_count": 123,
   "id": "49d15857-8d63-4729-b437-0a1ce0f524b4",
   "metadata": {},
   "outputs": [
    {
     "name": "stdout",
     "output_type": "stream",
     "text": [
      "[10, 20, 333]\n"
     ]
    }
   ],
   "source": [
    "print(y)"
   ]
  },
  {
   "cell_type": "code",
   "execution_count": 124,
   "id": "34cd1e07-91a2-4827-a8d6-522345537c16",
   "metadata": {},
   "outputs": [
    {
     "name": "stdout",
     "output_type": "stream",
     "text": [
      "[10, 20, 30]\n"
     ]
    }
   ],
   "source": [
    "print(x)"
   ]
  },
  {
   "cell_type": "code",
   "execution_count": 125,
   "id": "d789410b-af97-43d1-911d-a2e16d37248b",
   "metadata": {},
   "outputs": [],
   "source": [
    "y=x.copy()"
   ]
  },
  {
   "cell_type": "code",
   "execution_count": 127,
   "id": "7870baaf-f7de-43a0-9a0a-c3c7ebffe703",
   "metadata": {},
   "outputs": [
    {
     "name": "stdout",
     "output_type": "stream",
     "text": [
      "[10, 20, 30]\n"
     ]
    }
   ],
   "source": [
    "print((y))"
   ]
  },
  {
   "cell_type": "markdown",
   "id": "f815130b-f042-4576-aa24-18626cb63f60",
   "metadata": {},
   "source": [
    "- in terms of nested list"
   ]
  },
  {
   "cell_type": "code",
   "execution_count": 128,
   "id": "5c906af2-24f4-4a5d-acf4-ae093879131f",
   "metadata": {},
   "outputs": [],
   "source": [
    "x = [10,20,[30,40]]"
   ]
  },
  {
   "cell_type": "code",
   "execution_count": 129,
   "id": "3b5328b3-fe4c-48a3-a2c6-fdeabd47b77f",
   "metadata": {},
   "outputs": [],
   "source": [
    "y=x"
   ]
  },
  {
   "cell_type": "code",
   "execution_count": 130,
   "id": "14c5b7cc-1096-4456-8b17-7ffaaca0765f",
   "metadata": {},
   "outputs": [
    {
     "name": "stdout",
     "output_type": "stream",
     "text": [
      "[10, 20, [30, 40]]\n"
     ]
    }
   ],
   "source": [
    "print(x)"
   ]
  },
  {
   "cell_type": "code",
   "execution_count": 131,
   "id": "b3d948e2-8142-451e-9bce-c7d93d0ae0b4",
   "metadata": {},
   "outputs": [
    {
     "name": "stdout",
     "output_type": "stream",
     "text": [
      "[10, 20, [30, 40]]\n"
     ]
    }
   ],
   "source": [
    "print(y)"
   ]
  },
  {
   "cell_type": "code",
   "execution_count": 132,
   "id": "a0dce067-d749-4ae5-bf13-d5b3d7188676",
   "metadata": {},
   "outputs": [],
   "source": [
    "y[0]=111"
   ]
  },
  {
   "cell_type": "code",
   "execution_count": 133,
   "id": "f13078ee-2b6a-4a77-a14c-33952da608a1",
   "metadata": {},
   "outputs": [],
   "source": [
    "y[2][0]=333"
   ]
  },
  {
   "cell_type": "code",
   "execution_count": 134,
   "id": "e5778fff-fb2a-43fe-bd24-02484b4aea2b",
   "metadata": {},
   "outputs": [
    {
     "name": "stdout",
     "output_type": "stream",
     "text": [
      "[111, 20, [333, 40]]\n",
      "[111, 20, [333, 40]]\n"
     ]
    }
   ],
   "source": [
    "print(x)\n",
    "print(y)"
   ]
  },
  {
   "cell_type": "code",
   "execution_count": 135,
   "id": "4ed8e56c-c165-4dbd-b289-fc93ca7154fe",
   "metadata": {},
   "outputs": [],
   "source": [
    "from copy import deepcopy"
   ]
  },
  {
   "cell_type": "code",
   "execution_count": 136,
   "id": "a26c0c6e-f0f1-4898-9863-323facfa4eb8",
   "metadata": {},
   "outputs": [],
   "source": [
    "y = deepcopy(x)"
   ]
  },
  {
   "cell_type": "code",
   "execution_count": 138,
   "id": "4e1b1d02-0ce6-4263-b135-5504f30f62ec",
   "metadata": {},
   "outputs": [
    {
     "name": "stdout",
     "output_type": "stream",
     "text": [
      "2272080283456\n",
      "2272080565696\n"
     ]
    }
   ],
   "source": [
    "print(id(x))\n",
    "print(id(y))"
   ]
  },
  {
   "cell_type": "code",
   "execution_count": 140,
   "id": "d040bf6a-adf7-4cb2-9bd8-3b9499ba1825",
   "metadata": {},
   "outputs": [
    {
     "name": "stdout",
     "output_type": "stream",
     "text": [
      "[2272080452928]\n",
      "[2272079581440]\n"
     ]
    }
   ],
   "source": [
    "print([id(y[2])])\n",
    "print([id(x[2])])"
   ]
  },
  {
   "cell_type": "code",
   "execution_count": 142,
   "id": "b0ab7d65-f06c-4943-8a2a-9fc90d399bea",
   "metadata": {},
   "outputs": [],
   "source": [
    "from IPython.display import Image"
   ]
  },
  {
   "cell_type": "code",
   "execution_count": 145,
   "id": "1a58e955-736c-4ce1-99d3-3314fe034581",
   "metadata": {},
   "outputs": [
    {
     "data": {
      "image/png": "[encoded data removed]",
      "text/plain": [
       "<IPython.core.display.Image object>"
      ]
     },
     "execution_count": 145,
     "metadata": {},
     "output_type": "execute_result"
    }
   ],
   "source": [
    "Image(\"C:\\\\Python\\\\cloning.png\")"
   ]
  },
  {
   "cell_type": "code",
   "execution_count": null,
   "id": "c90ae745-06cc-442b-88e9-9abc2e08d2b0",
   "metadata": {},
   "outputs": [],
   "source": []
  },
  {
   "cell_type": "code",
   "execution_count": null,
   "id": "b60477f2-1602-4442-8c04-2a898d618e23",
   "metadata": {},
   "outputs": [],
   "source": []
  },
  {
   "cell_type": "code",
   "execution_count": 146,
   "id": "01b21ec0-01a7-4045-9c5e-d17a4603c3b4",
   "metadata": {},
   "outputs": [
    {
     "name": "stdout",
     "output_type": "stream",
     "text": [
      "C:\\Python\\cloning.png\n"
     ]
    }
   ],
   "source": [
    "print(\"C:\\\\Python\\\\cloning.png\")"
   ]
  },
  {
   "cell_type": "markdown",
   "id": "6a700a11-a836-43fa-ba2e-7b1afd218899",
   "metadata": {},
   "source": [
    "## Tupple"
   ]
  },
  {
   "cell_type": "markdown",
   "id": "83715d8e-8362-4572-8299-2996c17bdc99",
   "metadata": {},
   "source": [
    "- Immutable"
   ]
  },
  {
   "cell_type": "code",
   "execution_count": 149,
   "id": "02b1cccc-5c05-455f-a1b9-ba7c8f31f1ce",
   "metadata": {},
   "outputs": [],
   "source": [
    "t = (10,20,30)"
   ]
  },
  {
   "cell_type": "code",
   "execution_count": 151,
   "id": "e0f0bc1d-909a-4c0b-9edc-3f3bad8738f3",
   "metadata": {},
   "outputs": [
    {
     "name": "stdout",
     "output_type": "stream",
     "text": [
      "<class 'tuple'>\n"
     ]
    }
   ],
   "source": [
    "type(t)"
   ]
  },
  {
   "cell_type": "code",
   "execution_count": 153,
   "id": "357201e9-ab55-4d64-a8a0-7634ef0c4ed2",
   "metadata": {},
   "outputs": [
    {
     "data": {
      "text/plain": [
       "30"
      ]
     },
     "execution_count": 153,
     "metadata": {},
     "output_type": "execute_result"
    }
   ],
   "source": [
    "t[2]"
   ]
  },
  {
   "cell_type": "code",
   "execution_count": 154,
   "id": "c4f3b110-de0d-4d7e-8d87-7da8c1464063",
   "metadata": {},
   "outputs": [
    {
     "data": {
      "text/plain": [
       "20"
      ]
     },
     "execution_count": 154,
     "metadata": {},
     "output_type": "execute_result"
    }
   ],
   "source": [
    "t[1]"
   ]
  },
  {
   "cell_type": "code",
   "execution_count": 155,
   "id": "8320e54a-08a8-425f-aec1-3216a2ab78fc",
   "metadata": {},
   "outputs": [
    {
     "ename": "TypeError",
     "evalue": "'tuple' object does not support item assignment",
     "output_type": "error",
     "traceback": [
      "\u001b[1;31m---------------------------------------------------------------------------\u001b[0m",
      "\u001b[1;31mTypeError\u001b[0m                                 Traceback (most recent call last)",
      "Cell \u001b[1;32mIn[155], line 1\u001b[0m\n\u001b[1;32m----> 1\u001b[0m \u001b[43mt\u001b[49m\u001b[43m[\u001b[49m\u001b[38;5;241;43m1\u001b[39;49m\u001b[43m]\u001b[49m\u001b[38;5;241m=\u001b[39m\u001b[38;5;241m100\u001b[39m\n",
      "\u001b[1;31mTypeError\u001b[0m: 'tuple' object does not support item assignment"
     ]
    }
   ],
   "source": [
    "t[1]=100"
   ]
  },
  {
   "cell_type": "code",
   "execution_count": 159,
   "id": "eee6cb49-a988-48e9-b045-71a98f82c110",
   "metadata": {},
   "outputs": [
    {
     "data": {
      "text/plain": [
       "tuple"
      ]
     },
     "execution_count": 159,
     "metadata": {},
     "output_type": "execute_result"
    }
   ],
   "source": [
    "x=(1,)\n",
    "type(x)"
   ]
  },
  {
   "cell_type": "code",
   "execution_count": 162,
   "id": "d31fbca3-788a-4ced-93b2-02df0e5a9bf1",
   "metadata": {},
   "outputs": [
    {
     "data": {
      "text/plain": [
       "(1, 2, 3)"
      ]
     },
     "execution_count": 162,
     "metadata": {},
     "output_type": "execute_result"
    }
   ],
   "source": [
    "l = [1,2,3]\n",
    "tuple(l)"
   ]
  },
  {
   "cell_type": "code",
   "execution_count": 163,
   "id": "71d907b1-ee66-4038-8d11-44c6c3d22f74",
   "metadata": {},
   "outputs": [],
   "source": [
    "t = (10,10.20,\"ravi\",10+2j,True,10)"
   ]
  },
  {
   "cell_type": "code",
   "execution_count": 164,
   "id": "26277c37-a3b0-40b8-a9a0-6f3fe2f1b913",
   "metadata": {},
   "outputs": [
    {
     "name": "stdout",
     "output_type": "stream",
     "text": [
      "(10, 10.2, 'ravi', (10+2j), True, 10)\n"
     ]
    }
   ],
   "source": [
    "print(t)"
   ]
  },
  {
   "cell_type": "markdown",
   "id": "210bf108-180e-4a21-aae2-cf1e4fad3424",
   "metadata": {},
   "source": [
    "### whenever we apply the sorted function tupple, it will return the list"
   ]
  },
  {
   "cell_type": "code",
   "execution_count": 165,
   "id": "87d7a1ad-e802-47ad-82bc-5f8cfcc181a4",
   "metadata": {},
   "outputs": [
    {
     "data": {
      "text/plain": [
       "[10, 20, 30]"
      ]
     },
     "execution_count": 165,
     "metadata": {},
     "output_type": "execute_result"
    }
   ],
   "source": [
    "t=(10,20,30)\n",
    "sorted(t)"
   ]
  },
  {
   "cell_type": "code",
   "execution_count": 166,
   "id": "a07053b2-4a79-43fa-9cbc-3ab4741cfbfe",
   "metadata": {},
   "outputs": [
    {
     "data": {
      "text/plain": [
       "30"
      ]
     },
     "execution_count": 166,
     "metadata": {},
     "output_type": "execute_result"
    }
   ],
   "source": [
    "max(t)"
   ]
  },
  {
   "cell_type": "code",
   "execution_count": 167,
   "id": "fd72681a-52f2-4999-8dcd-29d80e488ee8",
   "metadata": {},
   "outputs": [
    {
     "data": {
      "text/plain": [
       "10"
      ]
     },
     "execution_count": 167,
     "metadata": {},
     "output_type": "execute_result"
    }
   ],
   "source": [
    "min(t)"
   ]
  },
  {
   "cell_type": "markdown",
   "id": "264700fe-d17b-4f7a-beec-a969cab7f73e",
   "metadata": {},
   "source": [
    "### tuple packing and unpacking"
   ]
  },
  {
   "cell_type": "code",
   "execution_count": 172,
   "id": "65a6e24f-22e0-4b99-8a8e-ba6cbb151ca0",
   "metadata": {},
   "outputs": [],
   "source": [
    "t1 = 10\n",
    "t2 = 20\n",
    "t3 = 30"
   ]
  },
  {
   "cell_type": "code",
   "execution_count": 173,
   "id": "6f81eb20-d638-40d2-8db6-3f422e36f677",
   "metadata": {},
   "outputs": [
    {
     "name": "stdout",
     "output_type": "stream",
     "text": [
      "(10, 20, 30)\n"
     ]
    }
   ],
   "source": [
    "t= t1,t2,t3\n",
    "print(t)"
   ]
  },
  {
   "cell_type": "code",
   "execution_count": 174,
   "id": "7f98ae50-be50-4e49-beaf-0f9a3e5740a4",
   "metadata": {},
   "outputs": [],
   "source": [
    "t1 = (10,20,30,40)\n",
    "a,b,c,d=t1"
   ]
  },
  {
   "cell_type": "code",
   "execution_count": 175,
   "id": "82669366-2251-4441-af64-68a0be0fba0b",
   "metadata": {},
   "outputs": [
    {
     "data": {
      "text/plain": [
       "10"
      ]
     },
     "execution_count": 175,
     "metadata": {},
     "output_type": "execute_result"
    }
   ],
   "source": [
    "a\n"
   ]
  },
  {
   "cell_type": "code",
   "execution_count": 176,
   "id": "0d5ff2ea-4e4e-4928-a709-8724f5acab0b",
   "metadata": {},
   "outputs": [
    {
     "data": {
      "text/plain": [
       "20"
      ]
     },
     "execution_count": 176,
     "metadata": {},
     "output_type": "execute_result"
    }
   ],
   "source": [
    "b"
   ]
  },
  {
   "cell_type": "code",
   "execution_count": 177,
   "id": "cf62a0d3-df3a-4342-a27d-f25fc1d7aa6e",
   "metadata": {},
   "outputs": [
    {
     "data": {
      "text/plain": [
       "30"
      ]
     },
     "execution_count": 177,
     "metadata": {},
     "output_type": "execute_result"
    }
   ],
   "source": [
    "c"
   ]
  },
  {
   "cell_type": "code",
   "execution_count": 178,
   "id": "19c72907-3121-4849-b6a4-a5082b47c0cb",
   "metadata": {},
   "outputs": [
    {
     "data": {
      "text/plain": [
       "40"
      ]
     },
     "execution_count": 178,
     "metadata": {},
     "output_type": "execute_result"
    }
   ],
   "source": [
    "d"
   ]
  },
  {
   "cell_type": "markdown",
   "id": "e10c22ec-f7f8-4b18-a15d-3fe37bc266e3",
   "metadata": {},
   "source": [
    "- tuple comprehension is supported by python, it is a generator"
   ]
  },
  {
   "cell_type": "code",
   "execution_count": 182,
   "id": "64c8237a-f258-42dc-928c-47d0f9902d04",
   "metadata": {},
   "outputs": [
    {
     "data": {
      "text/plain": [
       "<generator object <genexpr> at 0x0000021102961080>"
      ]
     },
     "execution_count": 182,
     "metadata": {},
     "output_type": "execute_result"
    }
   ],
   "source": [
    "(i for i in range(0,10) )"
   ]
  },
  {
   "cell_type": "markdown",
   "id": "3e90af7a-94b2-43f1-a6aa-d3cbe3b44b43",
   "metadata": {},
   "source": [
    "##### Dictonary"
   ]
  },
  {
   "cell_type": "markdown",
   "id": "b5be8de4-65c6-4ad7-966a-74882da53565",
   "metadata": {},
   "source": [
    "- dictionary is defined using key value pair, seperated by commna and enclosed with curly braces."
   ]
  },
  {
   "cell_type": "markdown",
   "id": "0f32e3bd-885a-425d-ae00-c4353259e8a9",
   "metadata": {},
   "source": [
    "- syntax Dictonary name = {key1:value1,key2:value2....}"
   ]
  },
  {
   "cell_type": "markdown",
   "id": "d9844e20-9df0-4c6d-95ef-3a7bae80c55c",
   "metadata": {},
   "source": [
    "- keys must be immutble objects and values can be mutable or immutable"
   ]
  },
  {
   "cell_type": "code",
   "execution_count": 2,
   "id": "eab9ac84-165f-418e-9145-f775196c0c36",
   "metadata": {},
   "outputs": [],
   "source": [
    "d = {}"
   ]
  },
  {
   "cell_type": "code",
   "execution_count": 3,
   "id": "27fd069e-cc66-446b-aa52-54cf10f1006a",
   "metadata": {},
   "outputs": [
    {
     "data": {
      "text/plain": [
       "{}"
      ]
     },
     "execution_count": 3,
     "metadata": {},
     "output_type": "execute_result"
    }
   ],
   "source": [
    "d"
   ]
  },
  {
   "cell_type": "code",
   "execution_count": 6,
   "id": "4b5899d3-8ea5-41b6-a7f8-5f3c9eae6457",
   "metadata": {},
   "outputs": [],
   "source": [
    "d = {\"email\":\"raviadulla@gmail.com\",\"name\":\"raviadulla\"}"
   ]
  },
  {
   "cell_type": "code",
   "execution_count": 7,
   "id": "79da7007-42b6-4316-8eea-08e035f4d026",
   "metadata": {},
   "outputs": [
    {
     "data": {
      "text/plain": [
       "{'email': 'raviadulla@gmail.com', 'name': 'raviadulla'}"
      ]
     },
     "execution_count": 7,
     "metadata": {},
     "output_type": "execute_result"
    }
   ],
   "source": [
    "d"
   ]
  },
  {
   "cell_type": "code",
   "execution_count": 8,
   "id": "98d7593e-305c-4e65-a833-8c8c932a0a90",
   "metadata": {},
   "outputs": [],
   "source": [
    "d = dict()"
   ]
  },
  {
   "cell_type": "code",
   "execution_count": 9,
   "id": "cc7af96b-0fe0-4f96-91d3-1fe6f2ab5734",
   "metadata": {},
   "outputs": [
    {
     "data": {
      "text/plain": [
       "{}"
      ]
     },
     "execution_count": 9,
     "metadata": {},
     "output_type": "execute_result"
    }
   ],
   "source": [
    "d"
   ]
  },
  {
   "cell_type": "markdown",
   "id": "a340e738-584c-4072-b04d-b643aff7fef2",
   "metadata": {},
   "source": [
    "* keys are unique and we can not have duplicate keys"
   ]
  },
  {
   "cell_type": "code",
   "execution_count": 10,
   "id": "fe8a4064-1082-4560-a266-0c843ceb2b37",
   "metadata": {},
   "outputs": [],
   "source": [
    "d = {\"a\":1,\"b\":2,\"a\":3}"
   ]
  },
  {
   "cell_type": "code",
   "execution_count": 11,
   "id": "9e4445ce-ae85-4db7-b615-c447e48bb223",
   "metadata": {},
   "outputs": [
    {
     "data": {
      "text/plain": [
       "{'a': 3, 'b': 2}"
      ]
     },
     "execution_count": 11,
     "metadata": {},
     "output_type": "execute_result"
    }
   ],
   "source": [
    "d"
   ]
  },
  {
   "cell_type": "markdown",
   "id": "553b1449-9262-4e0e-87ae-b08af14f0c4d",
   "metadata": {},
   "source": [
    "* dictionaries are unordered and you can not access the dictinary by using index"
   ]
  },
  {
   "cell_type": "code",
   "execution_count": 14,
   "id": "12940180-016b-4d01-b0de-8ba29312cc44",
   "metadata": {},
   "outputs": [
    {
     "data": {
      "text/plain": [
       "3"
      ]
     },
     "execution_count": 14,
     "metadata": {},
     "output_type": "execute_result"
    }
   ],
   "source": [
    "d[\"a\"]"
   ]
  },
  {
   "cell_type": "code",
   "execution_count": 15,
   "id": "ae9e225f-196f-44a7-881e-7d5c87dd3afa",
   "metadata": {},
   "outputs": [],
   "source": [
    "del d[\"a\"]"
   ]
  },
  {
   "cell_type": "code",
   "execution_count": 16,
   "id": "b3d367ce-bb48-41cc-b90c-d081bcc14b5d",
   "metadata": {},
   "outputs": [
    {
     "data": {
      "text/plain": [
       "{'b': 2}"
      ]
     },
     "execution_count": 16,
     "metadata": {},
     "output_type": "execute_result"
    }
   ],
   "source": [
    "d"
   ]
  },
  {
   "cell_type": "code",
   "execution_count": 17,
   "id": "bdad53a0-27b0-41bb-8e98-079113d68d27",
   "metadata": {},
   "outputs": [],
   "source": [
    "d = {}"
   ]
  },
  {
   "cell_type": "code",
   "execution_count": 18,
   "id": "c4439dad-2e44-4d1d-b2b9-bb2dbfba4ab7",
   "metadata": {},
   "outputs": [],
   "source": [
    "d[\"1\"]=1"
   ]
  },
  {
   "cell_type": "code",
   "execution_count": 19,
   "id": "8cc85ec9-b85c-49c2-8f79-c1e1d322623b",
   "metadata": {},
   "outputs": [
    {
     "data": {
      "text/plain": [
       "{'1': 1}"
      ]
     },
     "execution_count": 19,
     "metadata": {},
     "output_type": "execute_result"
    }
   ],
   "source": [
    "d"
   ]
  },
  {
   "cell_type": "markdown",
   "id": "86891c47-934a-4bfd-85c4-d54dfa0d4729",
   "metadata": {},
   "source": [
    "* dictinary are immutable and can be nested with another dictinary"
   ]
  },
  {
   "cell_type": "code",
   "execution_count": 21,
   "id": "f215484c-091c-4bb6-adba-ce5ad287c4aa",
   "metadata": {},
   "outputs": [],
   "source": [
    "d = {\"1\":{1:2}}"
   ]
  },
  {
   "cell_type": "code",
   "execution_count": 22,
   "id": "6a062f3c-da0a-42ee-a12f-5d610a9a91d6",
   "metadata": {},
   "outputs": [
    {
     "data": {
      "text/plain": [
       "{'1': {1: 2}}"
      ]
     },
     "execution_count": 22,
     "metadata": {},
     "output_type": "execute_result"
    }
   ],
   "source": [
    "d"
   ]
  },
  {
   "cell_type": "markdown",
   "id": "54cd4f85-7274-4ab6-bee8-f5836dd39bca",
   "metadata": {},
   "source": [
    "# sets"
   ]
  },
  {
   "cell_type": "code",
   "execution_count": 29,
   "id": "7a850b6d-5003-43cb-88df-4fae2d1ad70f",
   "metadata": {},
   "outputs": [],
   "source": [
    "s = set(\"hellow\")  ### using string  and repeated elements are ignroed"
   ]
  },
  {
   "cell_type": "code",
   "execution_count": 30,
   "id": "dd42c3fa-f88d-461c-9fc2-ada30ce1e87b",
   "metadata": {},
   "outputs": [
    {
     "data": {
      "text/plain": [
       "{'e', 'h', 'l', 'o', 'w'}"
      ]
     },
     "execution_count": 30,
     "metadata": {},
     "output_type": "execute_result"
    }
   ],
   "source": [
    "s"
   ]
  },
  {
   "cell_type": "code",
   "execution_count": 25,
   "id": "0c4956ce-4766-4425-977c-a77b95ce6bdf",
   "metadata": {},
   "outputs": [],
   "source": [
    "s = set()  ### empty string"
   ]
  },
  {
   "cell_type": "code",
   "execution_count": 26,
   "id": "dcc59fe2-cc5b-4c3f-b027-7ea82219dbdd",
   "metadata": {},
   "outputs": [
    {
     "data": {
      "text/plain": [
       "set()"
      ]
     },
     "execution_count": 26,
     "metadata": {},
     "output_type": "execute_result"
    }
   ],
   "source": [
    "s"
   ]
  },
  {
   "cell_type": "code",
   "execution_count": 27,
   "id": "ce56c448-846f-466a-a0ae-6d7678800674",
   "metadata": {},
   "outputs": [],
   "source": [
    "s=set([1,2,3,4,5])  ### using list "
   ]
  },
  {
   "cell_type": "code",
   "execution_count": 28,
   "id": "981282e7-cb92-4ebd-9354-4777633ee05b",
   "metadata": {},
   "outputs": [
    {
     "data": {
      "text/plain": [
       "{1, 2, 3, 4, 5}"
      ]
     },
     "execution_count": 28,
     "metadata": {},
     "output_type": "execute_result"
    }
   ],
   "source": [
    "s"
   ]
  },
  {
   "cell_type": "code",
   "execution_count": 31,
   "id": "1bbd5a5d-34f8-4ddc-82b6-52b326d2e26e",
   "metadata": {},
   "outputs": [],
   "source": [
    "s2 = {1,2,3,4,5}"
   ]
  },
  {
   "cell_type": "code",
   "execution_count": 32,
   "id": "2c013682-cba8-45db-9db3-57784973e8fc",
   "metadata": {},
   "outputs": [
    {
     "data": {
      "text/plain": [
       "{1, 2, 3, 4, 5}"
      ]
     },
     "execution_count": 32,
     "metadata": {},
     "output_type": "execute_result"
    }
   ],
   "source": [
    "s2"
   ]
  },
  {
   "cell_type": "code",
   "execution_count": 33,
   "id": "d1923301-5cc7-4a4e-a81d-3b8f581241fa",
   "metadata": {},
   "outputs": [
    {
     "data": {
      "text/plain": [
       "set"
      ]
     },
     "execution_count": 33,
     "metadata": {},
     "output_type": "execute_result"
    }
   ],
   "source": [
    "type(s2)"
   ]
  },
  {
   "cell_type": "markdown",
   "id": "46ba8373-e4a7-4877-830b-554e9f0e6974",
   "metadata": {},
   "source": [
    "* inside curly brackets if you aretake key vales pairs then it called dictionary and if you take only elments then it is called set"
   ]
  },
  {
   "cell_type": "markdown",
   "id": "7c233954-64ed-4043-b133-8058395c60df",
   "metadata": {},
   "source": [
    "set is collection uniq elements and it does not contain any duplicate values"
   ]
  },
  {
   "cell_type": "code",
   "execution_count": 35,
   "id": "1ab65193-cf6c-4af1-bea9-7ae7f486b717",
   "metadata": {},
   "outputs": [],
   "source": [
    "s = {1,2,3,1,2,3}"
   ]
  },
  {
   "cell_type": "code",
   "execution_count": 36,
   "id": "b9c06448-7039-435c-8f63-85b7efde3ec6",
   "metadata": {},
   "outputs": [
    {
     "data": {
      "text/plain": [
       "{1, 2, 3}"
      ]
     },
     "execution_count": 36,
     "metadata": {},
     "output_type": "execute_result"
    }
   ],
   "source": [
    "s"
   ]
  },
  {
   "cell_type": "code",
   "execution_count": 37,
   "id": "84575fd3-7e00-4a96-8bad-6c372e1e7366",
   "metadata": {},
   "outputs": [],
   "source": [
    "s1 = {1,2,3}"
   ]
  },
  {
   "cell_type": "code",
   "execution_count": 38,
   "id": "89de9b7b-6ef9-49d8-ad11-a0bab725a129",
   "metadata": {},
   "outputs": [],
   "source": [
    "s2 = {1,3,2}"
   ]
  },
  {
   "cell_type": "code",
   "execution_count": 41,
   "id": "bdc59c9f-88e7-4c2b-b995-710cc3a8bce6",
   "metadata": {},
   "outputs": [
    {
     "data": {
      "text/plain": [
       "True"
      ]
     },
     "execution_count": 41,
     "metadata": {},
     "output_type": "execute_result"
    }
   ],
   "source": [
    "s1==s2  ## set is unordered and mutable\n"
   ]
  },
  {
   "cell_type": "code",
   "execution_count": 42,
   "id": "65773d54-d634-4614-8cc5-d5d49adfc9a9",
   "metadata": {},
   "outputs": [
    {
     "ename": "TypeError",
     "evalue": "unhashable type: 'list'",
     "output_type": "error",
     "traceback": [
      "\u001b[1;31m---------------------------------------------------------------------------\u001b[0m",
      "\u001b[1;31mTypeError\u001b[0m                                 Traceback (most recent call last)",
      "Cell \u001b[1;32mIn[42], line 1\u001b[0m\n\u001b[1;32m----> 1\u001b[0m s \u001b[38;5;241m=\u001b[39m {\u001b[38;5;241m1\u001b[39m,\u001b[38;5;241m2\u001b[39m,\u001b[38;5;241m3\u001b[39m,[\u001b[38;5;241m1\u001b[39m,\u001b[38;5;241m2\u001b[39m]}\n",
      "\u001b[1;31mTypeError\u001b[0m: unhashable type: 'list'"
     ]
    }
   ],
   "source": [
    "s = {1,2,3,[1,2]}"
   ]
  },
  {
   "cell_type": "code",
   "execution_count": 43,
   "id": "0101e1aa-a824-4ce2-9e29-556e88044ef1",
   "metadata": {},
   "outputs": [
    {
     "ename": "TypeError",
     "evalue": "unhashable type: 'set'",
     "output_type": "error",
     "traceback": [
      "\u001b[1;31m---------------------------------------------------------------------------\u001b[0m",
      "\u001b[1;31mTypeError\u001b[0m                                 Traceback (most recent call last)",
      "Cell \u001b[1;32mIn[43], line 1\u001b[0m\n\u001b[1;32m----> 1\u001b[0m s \u001b[38;5;241m=\u001b[39m {\u001b[38;5;241m1\u001b[39m,\u001b[38;5;241m2\u001b[39m,\u001b[38;5;241m3\u001b[39m,{\u001b[38;5;241m1\u001b[39m,\u001b[38;5;241m2\u001b[39m}}\n",
      "\u001b[1;31mTypeError\u001b[0m: unhashable type: 'set'"
     ]
    }
   ],
   "source": [
    "s = {1,2,3,{1,2}}"
   ]
  },
  {
   "cell_type": "code",
   "execution_count": 44,
   "id": "373f1fe2-d411-4283-b434-3b7d3ed36793",
   "metadata": {},
   "outputs": [
    {
     "data": {
      "text/plain": [
       "{1, 2, 3}"
      ]
     },
     "execution_count": 44,
     "metadata": {},
     "output_type": "execute_result"
    }
   ],
   "source": [
    "s"
   ]
  },
  {
   "cell_type": "code",
   "execution_count": 45,
   "id": "6ef9cf9f-a593-4e62-b7c3-da7a7cd1f63a",
   "metadata": {},
   "outputs": [],
   "source": [
    "s.add(4)"
   ]
  },
  {
   "cell_type": "code",
   "execution_count": 46,
   "id": "46bff910-01c8-4008-b396-a7b80e0a8d07",
   "metadata": {},
   "outputs": [
    {
     "data": {
      "text/plain": [
       "{1, 2, 3, 4}"
      ]
     },
     "execution_count": 46,
     "metadata": {},
     "output_type": "execute_result"
    }
   ],
   "source": [
    "s"
   ]
  },
  {
   "cell_type": "markdown",
   "id": "89db8194-59bd-4ac7-8c08-b6340c230b4f",
   "metadata": {},
   "source": [
    "* if you want to use unique values we can use the set"
   ]
  },
  {
   "cell_type": "markdown",
   "id": "1c864d35-6064-4b93-89c2-554002ac47a7",
   "metadata": {},
   "source": [
    "* unordered and we can not use index"
   ]
  },
  {
   "cell_type": "markdown",
   "id": "a77a1bf0-a8c8-43fe-92e8-3cc19872c886",
   "metadata": {},
   "source": [
    "* we do not have key value pair to fetch values, we can use loops or in memership operator"
   ]
  },
  {
   "cell_type": "code",
   "execution_count": 49,
   "id": "78686e57-8356-49b4-94be-d4254622f232",
   "metadata": {},
   "outputs": [
    {
     "data": {
      "text/plain": [
       "True"
      ]
     },
     "execution_count": 49,
     "metadata": {},
     "output_type": "execute_result"
    }
   ],
   "source": [
    "1 in s"
   ]
  },
  {
   "cell_type": "code",
   "execution_count": 52,
   "id": "8ff09859-42bf-48bb-b4f0-3b44410fbdc3",
   "metadata": {},
   "outputs": [
    {
     "name": "stdout",
     "output_type": "stream",
     "text": [
      "1\n",
      "2\n",
      "3\n",
      "4\n"
     ]
    }
   ],
   "source": [
    "for i in s:\n",
    "    print(i)"
   ]
  },
  {
   "cell_type": "markdown",
   "id": "e0d5cd9b-c8e3-4bd4-903a-4e47267d951d",
   "metadata": {},
   "source": [
    "Functions"
   ]
  },
  {
   "cell_type": "markdown",
   "id": "36951bfc-132a-424f-b04b-6af846461cf1",
   "metadata": {},
   "source": [
    "Functions are two types\n",
    "1. User defined function\n",
    "2. pre defined funciton\n"
   ]
  },
  {
   "cell_type": "code",
   "execution_count": 1,
   "id": "9dab7120-bb17-47f3-9373-0ce183e42046",
   "metadata": {},
   "outputs": [
    {
     "name": "stdout",
     "output_type": "stream",
     "text": [
      "addition of two numbers: 5\n"
     ]
    }
   ],
   "source": [
    "a = 2\n",
    "b = 3\n",
    "c = a+b\n",
    "print (\"addition of two numbers:\",c)"
   ]
  },
  {
   "cell_type": "code",
   "execution_count": 15,
   "id": "14608779-682a-47a0-9c14-47a46fb0d697",
   "metadata": {},
   "outputs": [],
   "source": [
    "def myfunc(a,b):\n",
    "    c = a+b\n",
    "    d = b-a\n",
    "    print (\"addition of two numbers:\",c)\n",
    "    print (\"subtraction of two numbers:\",c)"
   ]
  },
  {
   "cell_type": "code",
   "execution_count": 16,
   "id": "8c9b87a5-1ced-449c-9533-fb6af6aae682",
   "metadata": {},
   "outputs": [
    {
     "name": "stdout",
     "output_type": "stream",
     "text": [
      "addition of two numbers: 6\n",
      "subtraction of two numbers: 6\n"
     ]
    }
   ],
   "source": [
    "myfunc(2,4)"
   ]
  },
  {
   "cell_type": "code",
   "execution_count": 17,
   "id": "e268c470-1607-4b6d-a94b-a629f2036d38",
   "metadata": {},
   "outputs": [
    {
     "name": "stdout",
     "output_type": "stream",
     "text": [
      "addition of two numbers: 30\n",
      "subtraction of two numbers: 30\n"
     ]
    }
   ],
   "source": [
    "myfunc(10,20)"
   ]
  },
  {
   "cell_type": "code",
   "execution_count": 18,
   "id": "7bf04e64-8607-4303-bf31-0428af29f4eb",
   "metadata": {},
   "outputs": [],
   "source": [
    "l=[1,2,3,4,5]"
   ]
  },
  {
   "cell_type": "code",
   "execution_count": 19,
   "id": "60668c56-df41-4063-a0e4-786093ff9b3a",
   "metadata": {},
   "outputs": [
    {
     "data": {
      "text/plain": [
       "2"
      ]
     },
     "execution_count": 19,
     "metadata": {},
     "output_type": "execute_result"
    }
   ],
   "source": [
    "l.pop(1)"
   ]
  },
  {
   "cell_type": "code",
   "execution_count": 20,
   "id": "5f081323-b169-49ec-8665-f82c16d3d0f2",
   "metadata": {},
   "outputs": [],
   "source": [
    "def myfunc(a,b):\n",
    "    c = a+b\n",
    "    d = b-a\n",
    "    print (\"addition of two numbers:\",c)\n",
    "    print (\"subtraction of two numbers:\",c)\n",
    "    return c,d"
   ]
  },
  {
   "cell_type": "code",
   "execution_count": 21,
   "id": "6f97185a-01fd-4e6c-a960-e5153ed93def",
   "metadata": {},
   "outputs": [
    {
     "name": "stdout",
     "output_type": "stream",
     "text": [
      "addition of two numbers: 30\n",
      "subtraction of two numbers: 30\n"
     ]
    },
    {
     "data": {
      "text/plain": [
       "(30, 10)"
      ]
     },
     "execution_count": 21,
     "metadata": {},
     "output_type": "execute_result"
    }
   ],
   "source": [
    "myfunc(10,20)"
   ]
  },
  {
   "cell_type": "code",
   "execution_count": 28,
   "id": "4b50c154-ea39-479a-b9c5-14ab5e26ec62",
   "metadata": {},
   "outputs": [
    {
     "ename": "ModuleNotFoundError",
     "evalue": "No module named 'pyodbc'",
     "output_type": "error",
     "traceback": [
      "\u001b[1;31m---------------------------------------------------------------------------\u001b[0m",
      "\u001b[1;31mModuleNotFoundError\u001b[0m                       Traceback (most recent call last)",
      "Cell \u001b[1;32mIn[28], line 1\u001b[0m\n\u001b[1;32m----> 1\u001b[0m \u001b[38;5;28;01mimport\u001b[39;00m \u001b[38;5;21;01mpyodbc\u001b[39;00m\n\u001b[0;32m      2\u001b[0m \u001b[38;5;28;01mfrom\u001b[39;00m \u001b[38;5;21;01msqlalchemy\u001b[39;00m \u001b[38;5;28;01mimport\u001b[39;00m create_engine\n\u001b[0;32m      4\u001b[0m \u001b[38;5;28;01mtry\u001b[39;00m:\n",
      "\u001b[1;31mModuleNotFoundError\u001b[0m: No module named 'pyodbc'"
     ]
    }
   ],
   "source": [
    "import pyodbc\n",
    "from sqlalchemy import create_engine\n",
    "\n",
    "try:\n",
    "    server = 'PAVAN'\n",
    "    dbname = 'COMPANY'\n",
    "    connectionString = \"mssql+pyodbc://\"+server+\"/\"+dbname+\"?driver=SQL+Server\"\n",
    "    engine = create_engine(connectionString)\n",
    "    con = engine.raw_connection()\n",
    "except pyodbc.DatabaseError as msg:\n",
    "    if con!= None:\n",
    "        con.rollback()\n",
    "        print(\"there is a problen in connection\",msg)\n",
    "\n",
    "return con\n",
    "        \n",
    "    \n",
    "    "
   ]
  },
  {
   "cell_type": "code",
   "execution_count": 29,
   "id": "279b4b2e-7215-424f-a503-8afa492a4f80",
   "metadata": {},
   "outputs": [],
   "source": [
    "def welcome():\n",
    "    print(\"python is a easy program\")"
   ]
  },
  {
   "cell_type": "code",
   "execution_count": 30,
   "id": "1114314f-bb61-4db6-b093-b0be3c467c41",
   "metadata": {},
   "outputs": [
    {
     "name": "stdout",
     "output_type": "stream",
     "text": [
      "python is a easy program\n"
     ]
    }
   ],
   "source": [
    "welcome ()"
   ]
  },
  {
   "cell_type": "code",
   "execution_count": 34,
   "id": "a60f5660-60ff-44d2-89d5-50d65617ed97",
   "metadata": {},
   "outputs": [],
   "source": [
    "def welcome(name):\n",
    "    print(\"Hi\", name, \"welcome to python course\")"
   ]
  },
  {
   "cell_type": "code",
   "execution_count": 35,
   "id": "c239488e-101d-4091-8c97-cfa8849cc06c",
   "metadata": {},
   "outputs": [
    {
     "name": "stdout",
     "output_type": "stream",
     "text": [
      "Hi ravi welcome to python course\n"
     ]
    }
   ],
   "source": [
    "welcome(\"ravi\")"
   ]
  },
  {
   "cell_type": "code",
   "execution_count": 36,
   "id": "53c4c80b-ac17-4487-a4fc-0005eb76e534",
   "metadata": {},
   "outputs": [
    {
     "ename": "TypeError",
     "evalue": "welcome() missing 1 required positional argument: 'name'",
     "output_type": "error",
     "traceback": [
      "\u001b[1;31m---------------------------------------------------------------------------\u001b[0m",
      "\u001b[1;31mTypeError\u001b[0m                                 Traceback (most recent call last)",
      "Cell \u001b[1;32mIn[36], line 1\u001b[0m\n\u001b[1;32m----> 1\u001b[0m \u001b[43mwelcome\u001b[49m\u001b[43m(\u001b[49m\u001b[43m)\u001b[49m\n",
      "\u001b[1;31mTypeError\u001b[0m: welcome() missing 1 required positional argument: 'name'"
     ]
    }
   ],
   "source": [
    "welcome()"
   ]
  },
  {
   "cell_type": "code",
   "execution_count": 40,
   "id": "5402d253-0eee-4d22-8411-22ae049ee199",
   "metadata": {},
   "outputs": [
    {
     "data": {
      "text/plain": [
       "30"
      ]
     },
     "execution_count": 40,
     "metadata": {},
     "output_type": "execute_result"
    }
   ],
   "source": [
    "def add(x,y):\n",
    "    return x+y\n",
    "add(10,20)"
   ]
  },
  {
   "cell_type": "markdown",
   "id": "e43fae06-875d-474d-9bbe-7efb2c9d2d1e",
   "metadata": {},
   "source": [
    "return should be placed at the end all statement, if you write retrun, print is not required"
   ]
  },
  {
   "cell_type": "code",
   "execution_count": 49,
   "id": "833cbf86-7533-459f-983e-fdef3df46871",
   "metadata": {},
   "outputs": [],
   "source": [
    "def fact(num):\n",
    "    result=1\n",
    "    while num >= 1:\n",
    "        result = result*num\n",
    "        num = num-1\n",
    "        return result"
   ]
  },
  {
   "cell_type": "code",
   "execution_count": 50,
   "id": "1efb4007-632f-4655-b110-64374874a26c",
   "metadata": {},
   "outputs": [
    {
     "data": {
      "text/plain": [
       "5"
      ]
     },
     "execution_count": 50,
     "metadata": {},
     "output_type": "execute_result"
    }
   ],
   "source": [
    "fact(5)"
   ]
  },
  {
   "cell_type": "code",
   "execution_count": 47,
   "id": "bf5d3d58-2e11-4508-b8cb-6b6b232bbadb",
   "metadata": {},
   "outputs": [],
   "source": [
    "def sum_sub(x,y):\n",
    "    sum = x+y\n",
    "    sub = x-y\n",
    "    return sum, sub"
   ]
  },
  {
   "cell_type": "code",
   "execution_count": 48,
   "id": "3b2e21ed-6fd4-4763-bd9e-b40f4db4cef4",
   "metadata": {},
   "outputs": [
    {
     "data": {
      "text/plain": [
       "(30, -10)"
      ]
     },
     "execution_count": 48,
     "metadata": {},
     "output_type": "execute_result"
    }
   ],
   "source": [
    "sum_sub(10,20)"
   ]
  },
  {
   "cell_type": "markdown",
   "id": "d1315d8b-fa5e-48e9-bcb3-0eecc0557f15",
   "metadata": {},
   "source": [
    "Type of aruguments"
   ]
  },
  {
   "cell_type": "code",
   "execution_count": 59,
   "id": "dd0afcbc-3ff4-4e01-80a3-69eb2eaa1c32",
   "metadata": {},
   "outputs": [],
   "source": [
    "def welcome(name,age):  # formal values\n",
    "    print(\"Hi\", name, \"welcome to python course\")\n",
    "    print(\"my age is\", age) # actual values"
   ]
  },
  {
   "cell_type": "code",
   "execution_count": 60,
   "id": "7ad2f4a6-41c1-4bf1-af12-ab62169c36f0",
   "metadata": {},
   "outputs": [
    {
     "name": "stdout",
     "output_type": "stream",
     "text": [
      "Hi ravi welcome to python course\n",
      "my age is 30\n"
     ]
    }
   ],
   "source": [
    "welcome(\"ravi\",30)"
   ]
  },
  {
   "cell_type": "code",
   "execution_count": 57,
   "id": "3520dfbc-b4f1-4662-8813-baffdc05f11d",
   "metadata": {},
   "outputs": [
    {
     "name": "stdout",
     "output_type": "stream",
     "text": [
      "Hi 38 welcome to python course\n",
      "my age is ravi\n"
     ]
    }
   ],
   "source": [
    "welcome (38,\"ravi\")"
   ]
  },
  {
   "cell_type": "markdown",
   "id": "e2398719-6a82-40d8-b750-2b67b42f104f",
   "metadata": {},
   "source": [
    "to resolve this we have 4 types of arguments"
   ]
  },
  {
   "cell_type": "markdown",
   "id": "8096cd8b-3cad-4722-baf1-d719f27cecd9",
   "metadata": {},
   "source": [
    "PKDV(Positional parameters, keyword arguments, defaul  arguments, variable length arguments)"
   ]
  },
  {
   "cell_type": "code",
   "execution_count": 61,
   "id": "c645ea56-d679-4ae6-8dcb-e49c98c8a00f",
   "metadata": {},
   "outputs": [
    {
     "ename": "TypeError",
     "evalue": "welcome() missing 1 required positional argument: 'age'",
     "output_type": "error",
     "traceback": [
      "\u001b[1;31m---------------------------------------------------------------------------\u001b[0m",
      "\u001b[1;31mTypeError\u001b[0m                                 Traceback (most recent call last)",
      "Cell \u001b[1;32mIn[61], line 1\u001b[0m\n\u001b[1;32m----> 1\u001b[0m \u001b[43mwelcome\u001b[49m\u001b[43m(\u001b[49m\u001b[38;5;241;43m20\u001b[39;49m\u001b[43m)\u001b[49m\n",
      "\u001b[1;31mTypeError\u001b[0m: welcome() missing 1 required positional argument: 'age'"
     ]
    }
   ],
   "source": [
    "welcome(20)"
   ]
  },
  {
   "cell_type": "markdown",
   "id": "bdbf10a3-ad08-4caa-b407-ce9ac55e1d86",
   "metadata": {},
   "source": [
    "Positional arguments which we should be postioned matched otherwise will not get expected output"
   ]
  },
  {
   "cell_type": "code",
   "execution_count": 62,
   "id": "3d6214d5-03c2-428a-8c2a-40c024408db1",
   "metadata": {},
   "outputs": [
    {
     "ename": "TypeError",
     "evalue": "welcome() takes 2 positional arguments but 3 were given",
     "output_type": "error",
     "traceback": [
      "\u001b[1;31m---------------------------------------------------------------------------\u001b[0m",
      "\u001b[1;31mTypeError\u001b[0m                                 Traceback (most recent call last)",
      "Cell \u001b[1;32mIn[62], line 1\u001b[0m\n\u001b[1;32m----> 1\u001b[0m \u001b[43mwelcome\u001b[49m\u001b[43m(\u001b[49m\u001b[38;5;124;43m\"\u001b[39;49m\u001b[38;5;124;43mravi\u001b[39;49m\u001b[38;5;124;43m\"\u001b[39;49m\u001b[43m,\u001b[49m\u001b[38;5;241;43m20\u001b[39;49m\u001b[43m,\u001b[49m\u001b[38;5;241;43m30\u001b[39;49m\u001b[43m)\u001b[49m\n",
      "\u001b[1;31mTypeError\u001b[0m: welcome() takes 2 positional arguments but 3 were given"
     ]
    }
   ],
   "source": [
    "welcome(\"ravi\",20,30)"
   ]
  },
  {
   "cell_type": "code",
   "execution_count": 63,
   "id": "aca3c1d2-0759-4326-92fe-c8afbe28fcca",
   "metadata": {},
   "outputs": [
    {
     "name": "stdout",
     "output_type": "stream",
     "text": [
      "Hi ravi welcome to python course\n",
      "my age is 23\n"
     ]
    }
   ],
   "source": [
    "welcome(age=23,name=\"ravi\") # keyword arguments "
   ]
  },
  {
   "cell_type": "code",
   "execution_count": 64,
   "id": "440519a0-25f9-480d-82ef-d7ebc92aa3a0",
   "metadata": {},
   "outputs": [
    {
     "name": "stdout",
     "output_type": "stream",
     "text": [
      "Hi ravi welcome to python course\n",
      "my age is 38\n"
     ]
    }
   ],
   "source": [
    "welcome(name=\"ravi\",age=38)"
   ]
  },
  {
   "cell_type": "markdown",
   "id": "f1de83b3-b68d-4a5d-9be0-8025f6cfe610",
   "metadata": {},
   "source": [
    "we can provide one postional arg, one keyword arg"
   ]
  },
  {
   "cell_type": "code",
   "execution_count": 65,
   "id": "653736bc-70db-450e-956f-d3ab9f6ef63e",
   "metadata": {},
   "outputs": [
    {
     "ename": "SyntaxError",
     "evalue": "positional argument follows keyword argument (2877549613.py, line 1)",
     "output_type": "error",
     "traceback": [
      "\u001b[1;36m  Cell \u001b[1;32mIn[65], line 1\u001b[1;36m\u001b[0m\n\u001b[1;33m    welcome(age=38,\"ravi\")\u001b[0m\n\u001b[1;37m                         ^\u001b[0m\n\u001b[1;31mSyntaxError\u001b[0m\u001b[1;31m:\u001b[0m positional argument follows keyword argument\n"
     ]
    }
   ],
   "source": [
    "welcome(age=38,\"ravi\")"
   ]
  },
  {
   "cell_type": "markdown",
   "id": "1781ff18-2910-4179-b996-cb05c9744d4a",
   "metadata": {},
   "source": [
    "first we should pass positional arg the keyword args, otherwise we get above error"
   ]
  },
  {
   "cell_type": "code",
   "execution_count": 66,
   "id": "b0165210-3d05-4f7c-ab00-203ba754594e",
   "metadata": {},
   "outputs": [
    {
     "ename": "TypeError",
     "evalue": "welcome() missing 1 required positional argument: 'name'",
     "output_type": "error",
     "traceback": [
      "\u001b[1;31m---------------------------------------------------------------------------\u001b[0m",
      "\u001b[1;31mTypeError\u001b[0m                                 Traceback (most recent call last)",
      "Cell \u001b[1;32mIn[66], line 1\u001b[0m\n\u001b[1;32m----> 1\u001b[0m \u001b[43mwelcome\u001b[49m\u001b[43m(\u001b[49m\u001b[43mage\u001b[49m\u001b[38;5;241;43m=\u001b[39;49m\u001b[38;5;241;43m32\u001b[39;49m\u001b[43m)\u001b[49m\n",
      "\u001b[1;31mTypeError\u001b[0m: welcome() missing 1 required positional argument: 'name'"
     ]
    }
   ],
   "source": [
    "welcome(age=32)"
   ]
  },
  {
   "cell_type": "markdown",
   "id": "9275098a-560f-44cb-adda-e8d93d82efc5",
   "metadata": {},
   "source": [
    "Default arguments"
   ]
  },
  {
   "cell_type": "code",
   "execution_count": 72,
   "id": "d72d85b7-fae8-45ee-9127-d85fcb6f5430",
   "metadata": {},
   "outputs": [],
   "source": [
    "def wish(name,age,qual=\"btech\",msg=\"good morning\"):\n",
    "    print(\"Hi\",name,\"welcome to python\")\n",
    "    print(\"my age is\", age)\n",
    "    print(\"my qualification is \", qual)\n",
    "    print(\"message\",msg)"
   ]
  },
  {
   "cell_type": "code",
   "execution_count": 73,
   "id": "3f540978-ad53-4c72-a0e3-593ea741dfe5",
   "metadata": {},
   "outputs": [
    {
     "name": "stdout",
     "output_type": "stream",
     "text": [
      "Hi ravi welcome to python\n",
      "my age is 32\n",
      "my qualification is  btech\n",
      "message good morning\n"
     ]
    }
   ],
   "source": [
    "wish(\"ravi\",32)"
   ]
  },
  {
   "cell_type": "code",
   "execution_count": 74,
   "id": "a86f916e-0fe5-4f8b-a666-54570a6f0767",
   "metadata": {},
   "outputs": [
    {
     "name": "stdout",
     "output_type": "stream",
     "text": [
      "Hi ravi welcome to python\n",
      "my age is 32\n",
      "my qualification is  mtech\n",
      "message good morning\n"
     ]
    }
   ],
   "source": [
    "wish(\"ravi\",32,\"mtech\")  # 3rd parameter is overriden"
   ]
  },
  {
   "cell_type": "code",
   "execution_count": 76,
   "id": "fbb8c1ce-c7f9-4bf6-a2f2-e95ebe445675",
   "metadata": {},
   "outputs": [
    {
     "name": "stdout",
     "output_type": "stream",
     "text": [
      "Hi ravi welcome to python\n",
      "my age is 32\n",
      "my qualification is  mtech\n",
      "message good afternoon\n"
     ]
    }
   ],
   "source": [
    "wish(\"ravi\",32,\"mtech\",\"good afternoon\") # 3rd and 4th arguments are overriden"
   ]
  },
  {
   "cell_type": "markdown",
   "id": "31d7b5e5-dfbb-4612-8d0e-67250cc98bcd",
   "metadata": {},
   "source": [
    "variable length arguments : when do not know the number of arguments like calculator example"
   ]
  },
  {
   "cell_type": "code",
   "execution_count": 77,
   "id": "842e9247-2cf3-44cf-977e-8292c20f6f4a",
   "metadata": {},
   "outputs": [],
   "source": [
    "def sum(*n):\n",
    "    total = 0\n",
    "    for i in n:\n",
    "        total = total+i\n",
    "    return total"
   ]
  },
  {
   "cell_type": "code",
   "execution_count": 78,
   "id": "15890923-f561-49f5-96f3-ea097357a370",
   "metadata": {},
   "outputs": [
    {
     "data": {
      "text/plain": [
       "4"
      ]
     },
     "execution_count": 78,
     "metadata": {},
     "output_type": "execute_result"
    }
   ],
   "source": [
    "sum(1,3)"
   ]
  },
  {
   "cell_type": "code",
   "execution_count": 79,
   "id": "67a2eb3c-7dee-473a-bea7-57dc612d4749",
   "metadata": {},
   "outputs": [
    {
     "data": {
      "text/plain": [
       "1"
      ]
     },
     "execution_count": 79,
     "metadata": {},
     "output_type": "execute_result"
    }
   ],
   "source": [
    "sum(1)"
   ]
  },
  {
   "cell_type": "code",
   "execution_count": 80,
   "id": "c0ba1393-8334-467b-a65b-a054bd72640f",
   "metadata": {},
   "outputs": [
    {
     "data": {
      "text/plain": [
       "26"
      ]
     },
     "execution_count": 80,
     "metadata": {},
     "output_type": "execute_result"
    }
   ],
   "source": [
    "sum(12,2,3,4,5)"
   ]
  },
  {
   "cell_type": "markdown",
   "id": "660922fc-b561-4586-9ad2-3c19e578057f",
   "metadata": {},
   "source": [
    "Global variable : we can access it from anywhere\n",
    "Local variable : scope of the value is upto that funtion only."
   ]
  },
  {
   "cell_type": "code",
   "execution_count": 83,
   "id": "f8a07cd8-86b0-4865-a8ea-5399bd5d610a",
   "metadata": {},
   "outputs": [
    {
     "name": "stdout",
     "output_type": "stream",
     "text": [
      "10\n",
      "10\n"
     ]
    }
   ],
   "source": [
    "a = 10 \n",
    "def f1():\n",
    "    print(a)\n",
    "def f2():\n",
    "    print(a)\n",
    "f1()\n",
    "f2()"
   ]
  },
  {
   "cell_type": "code",
   "execution_count": 109,
   "id": "afda2f31-2aca-4feb-9591-bbd459b3e0f2",
   "metadata": {},
   "outputs": [
    {
     "ename": "NameError",
     "evalue": "name 'a' is not defined",
     "output_type": "error",
     "traceback": [
      "\u001b[1;31m---------------------------------------------------------------------------\u001b[0m",
      "\u001b[1;31mNameError\u001b[0m                                 Traceback (most recent call last)",
      "Cell \u001b[1;32mIn[109], line 6\u001b[0m\n\u001b[0;32m      4\u001b[0m         \u001b[38;5;28mprint\u001b[39m(a)\n\u001b[0;32m      5\u001b[0m         \u001b[38;5;28;01mreturn\u001b[39;00m b\n\u001b[1;32m----> 6\u001b[0m \u001b[38;5;28mprint\u001b[39m(\u001b[43ma\u001b[49m)  \u001b[38;5;66;03m# local varialb can not be accessed from out side of the function\u001b[39;00m\n",
      "\u001b[1;31mNameError\u001b[0m: name 'a' is not defined"
     ]
    }
   ],
   "source": [
    "def myfunc():\n",
    "        a = 10\n",
    "        b = 10+a\n",
    "        print(a)\n",
    "        return b\n",
    "print(a)  # local varialb can not be accessed from out side of the function"
   ]
  },
  {
   "cell_type": "code",
   "execution_count": 114,
   "id": "e6eb3e78-f806-40ac-ad33-678096f11140",
   "metadata": {},
   "outputs": [],
   "source": [
    "bank_name =\"SBI\"\n",
    "def myfunc1():\n",
    "    global a  # we can make local variable as global varialb by using global\n",
    "    a = 10\n",
    "def myfunc2():\n",
    "    print(a)"
   ]
  },
  {
   "cell_type": "code",
   "execution_count": 115,
   "id": "332a1116-16ee-434c-9c61-579a2bc725b2",
   "metadata": {},
   "outputs": [
    {
     "name": "stdout",
     "output_type": "stream",
     "text": [
      "10\n"
     ]
    }
   ],
   "source": [
    "myfunc1()\n",
    "myfunc2()"
   ]
  },
  {
   "cell_type": "code",
   "execution_count": 112,
   "id": "f8827176-487a-4133-bf9c-414558c65f2e",
   "metadata": {},
   "outputs": [
    {
     "name": "stdout",
     "output_type": "stream",
     "text": [
      "SBI\n"
     ]
    }
   ],
   "source": [
    "print(bank_name)"
   ]
  },
  {
   "cell_type": "code",
   "execution_count": 116,
   "id": "aeaed662-38ac-4c32-9126-955e74ff85f3",
   "metadata": {},
   "outputs": [
    {
     "name": "stdout",
     "output_type": "stream",
     "text": [
      "10\n"
     ]
    }
   ],
   "source": [
    "print(a)"
   ]
  },
  {
   "cell_type": "code",
   "execution_count": 152,
   "id": "648964d0-db2b-4192-8483-62f7836c99e2",
   "metadata": {},
   "outputs": [],
   "source": [
    "bank = \"SBI\"\n",
    "ifsc = \"SBIN000012345\"\n",
    "place = \"Devarakonda\"\n",
    "pincode = 5340123\n",
    "\n",
    "def customer1(credit):\n",
    "    bal=1000\n",
    "    total = bal + credit\n",
    "    global branch\n",
    "    branch ='ADB'\n",
    "    pincode = 5340321\n",
    "    print(\"total amount in account is:\", total)\n",
    "    print(place)\n",
    "    print(ifsc)\n",
    "    print(\"customer pincode is\", pincode)\n",
    "    print(\"bank pincode : \",globals()['pincode'])\n",
    "\n",
    "def customer2():\n",
    "    print(total)\n",
    "    print(branch)\n"
   ]
  },
  {
   "cell_type": "code",
   "execution_count": 156,
   "id": "5c8ce9c9-60f9-4af7-a7c4-c5a9fd6e496a",
   "metadata": {},
   "outputs": [
    {
     "name": "stdout",
     "output_type": "stream",
     "text": [
      "total amount in account is: 3000\n",
      "Devarakonda\n",
      "SBIN000012345\n",
      "customer pincode is 5340321\n",
      "bank pincode :  5340123\n"
     ]
    }
   ],
   "source": [
    "customer1(2000)"
   ]
  },
  {
   "cell_type": "code",
   "execution_count": 158,
   "id": "517cec67-8cee-4697-87ff-abcc5b9dd232",
   "metadata": {},
   "outputs": [
    {
     "ename": "NameError",
     "evalue": "name 'total' is not defined",
     "output_type": "error",
     "traceback": [
      "\u001b[1;31m---------------------------------------------------------------------------\u001b[0m",
      "\u001b[1;31mNameError\u001b[0m                                 Traceback (most recent call last)",
      "Cell \u001b[1;32mIn[158], line 1\u001b[0m\n\u001b[1;32m----> 1\u001b[0m \u001b[43mcustomer2\u001b[49m\u001b[43m(\u001b[49m\u001b[43m)\u001b[49m  \u001b[38;5;66;03m# local variable can no be access from outside\u001b[39;00m\n",
      "Cell \u001b[1;32mIn[155], line 2\u001b[0m, in \u001b[0;36mcustomer2\u001b[1;34m()\u001b[0m\n\u001b[0;32m      1\u001b[0m \u001b[38;5;28;01mdef\u001b[39;00m \u001b[38;5;21mcustomer2\u001b[39m():\n\u001b[1;32m----> 2\u001b[0m     \u001b[38;5;28mprint\u001b[39m(\u001b[43mtotal\u001b[49m)\n\u001b[0;32m      3\u001b[0m     \u001b[38;5;28mprint\u001b[39m(branch)\n",
      "\u001b[1;31mNameError\u001b[0m: name 'total' is not defined"
     ]
    }
   ],
   "source": [
    "customer2()  # local variable can no be access from outside"
   ]
  },
  {
   "cell_type": "markdown",
   "id": "d24bbab9-e866-4423-89d7-4dadef843bce",
   "metadata": {},
   "source": [
    "Recursive functions"
   ]
  },
  {
   "cell_type": "code",
   "execution_count": 166,
   "id": "7ca28e4f-56ca-4608-8b61-208df21569ac",
   "metadata": {},
   "outputs": [
    {
     "data": {
      "text/plain": [
       "120"
      ]
     },
     "execution_count": 166,
     "metadata": {},
     "output_type": "execute_result"
    }
   ],
   "source": [
    "# without recursive \n",
    "def fact1(n):\n",
    "    result=1\n",
    "    while n>=1:\n",
    "        result = result*n\n",
    "        n=n-1\n",
    "    return result\n",
    "fact1(5)"
   ]
  },
  {
   "cell_type": "code",
   "execution_count": 160,
   "id": "3bf0ccfe-956f-4283-9b46-ef66c517b443",
   "metadata": {},
   "outputs": [
    {
     "data": {
      "text/plain": [
       "120"
      ]
     },
     "execution_count": 160,
     "metadata": {},
     "output_type": "execute_result"
    }
   ],
   "source": [
    "# with recursive\n",
    "def facto(n):\n",
    "    if n==0:\n",
    "        result=1\n",
    "    else:\n",
    "        result = n*facto(n-1)\n",
    "    return result\n",
    "facto(5)"
   ]
  },
  {
   "cell_type": "markdown",
   "id": "c996129b-02d6-48ca-ba28-66814df2cde2",
   "metadata": {},
   "source": [
    "Anonymous Functions"
   ]
  },
  {
   "cell_type": "markdown",
   "id": "fa4d6dcc-7de4-4610-96f7-8f80bf92f314",
   "metadata": {},
   "source": [
    "without name if we create function then is called anonymous function"
   ]
  },
  {
   "cell_type": "code",
   "execution_count": 169,
   "id": "2031aa1d-3c80-4bdc-8680-f7ed79f9d52b",
   "metadata": {},
   "outputs": [],
   "source": [
    "def myfunc():  \n",
    "    pass"
   ]
  },
  {
   "cell_type": "markdown",
   "id": "2075813b-182e-40e0-adb6-ffa02753f8d2",
   "metadata": {},
   "source": [
    "myfunc()  # main perpose of the anonymous function is instance use meaning one time use"
   ]
  },
  {
   "cell_type": "code",
   "execution_count": 172,
   "id": "b8fb0835-ba13-48b9-84c8-894b8a883be8",
   "metadata": {},
   "outputs": [],
   "source": [
    "def squareit(n):\n",
    "    result = n*n\n",
    "    return result"
   ]
  },
  {
   "cell_type": "code",
   "execution_count": 173,
   "id": "961bf249-9e42-45ec-a9b8-d64c31e5b44f",
   "metadata": {},
   "outputs": [
    {
     "data": {
      "text/plain": [
       "9"
      ]
     },
     "execution_count": 173,
     "metadata": {},
     "output_type": "execute_result"
    }
   ],
   "source": [
    "squareit(3)"
   ]
  },
  {
   "cell_type": "markdown",
   "id": "cedcff85-459a-4e19-9451-fa41121b8902",
   "metadata": {},
   "source": [
    "using Lamda function we can create instance function"
   ]
  },
  {
   "cell_type": "code",
   "execution_count": 177,
   "id": "d7841aaa-4df7-498c-9348-56fcb633bea3",
   "metadata": {},
   "outputs": [],
   "source": [
    "s= lambda n : n*n"
   ]
  },
  {
   "cell_type": "code",
   "execution_count": 178,
   "id": "bc875869-6a5c-4ae9-8737-2e84d6ade4aa",
   "metadata": {},
   "outputs": [
    {
     "data": {
      "text/plain": [
       "9"
      ]
     },
     "execution_count": 178,
     "metadata": {},
     "output_type": "execute_result"
    }
   ],
   "source": [
    "s(3)"
   ]
  },
  {
   "cell_type": "code",
   "execution_count": 183,
   "id": "1923e87b-e96f-49cc-8f09-5a8e91ad0563",
   "metadata": {},
   "outputs": [],
   "source": [
    "def isEven(n):\n",
    "    if n%2==0:\n",
    "        print(n, \"is even number\")\n",
    "    else:\n",
    "        print(n, \"is odd number\")"
   ]
  },
  {
   "cell_type": "code",
   "execution_count": 184,
   "id": "84e27040-2322-41a9-a025-ae07652bbc23",
   "metadata": {},
   "outputs": [
    {
     "name": "stdout",
     "output_type": "stream",
     "text": [
      "2 is even number\n"
     ]
    }
   ],
   "source": [
    "isEven(2)"
   ]
  },
  {
   "cell_type": "code",
   "execution_count": 185,
   "id": "ccfc15f0-ba87-412c-9427-2df4450ace53",
   "metadata": {},
   "outputs": [
    {
     "name": "stdout",
     "output_type": "stream",
     "text": [
      "3 is odd number\n"
     ]
    }
   ],
   "source": [
    "isEven(3)"
   ]
  },
  {
   "cell_type": "code",
   "execution_count": 188,
   "id": "ddb11680-f520-4b24-b0ad-13e09c5f90d2",
   "metadata": {},
   "outputs": [],
   "source": [
    "result = lambda n: print(n,\"is even number\") if n%2 == 0 else print(n,\"is odd number\")\n"
   ]
  },
  {
   "cell_type": "code",
   "execution_count": 189,
   "id": "f0fc70c0-40e0-4b8f-a1b3-7b1e228edb64",
   "metadata": {},
   "outputs": [
    {
     "name": "stdout",
     "output_type": "stream",
     "text": [
      "5 is odd number\n"
     ]
    }
   ],
   "source": [
    "result(5)"
   ]
  },
  {
   "cell_type": "code",
   "execution_count": 190,
   "id": "95531ef8-d9c8-477e-ab16-caf38fd65913",
   "metadata": {},
   "outputs": [
    {
     "name": "stdout",
     "output_type": "stream",
     "text": [
      "4 is even number\n"
     ]
    }
   ],
   "source": [
    "result(4)"
   ]
  },
  {
   "cell_type": "code",
   "execution_count": 194,
   "id": "fc52824b-e2be-4bf4-9dc2-c80c886b75fa",
   "metadata": {},
   "outputs": [
    {
     "name": "stdout",
     "output_type": "stream",
     "text": [
      "is odd number\n"
     ]
    }
   ],
   "source": [
    "print(\"is even number\") if 3%2 == 0 else print(\"is odd number\")"
   ]
  },
  {
   "cell_type": "code",
   "execution_count": 196,
   "id": "279d3b46-48c9-432b-9b78-7c18dcd2cbd6",
   "metadata": {},
   "outputs": [
    {
     "data": {
      "text/plain": [
       "30"
      ]
     },
     "execution_count": 196,
     "metadata": {},
     "output_type": "execute_result"
    }
   ],
   "source": [
    "s = lambda a,b:a+b\n",
    "s(10,20)"
   ]
  },
  {
   "cell_type": "code",
   "execution_count": null,
   "id": "9029e3ea-e9d4-4754-8a64-1ee33c2e9a20",
   "metadata": {},
   "outputs": [],
   "source": []
  },
  {
   "cell_type": "code",
   "execution_count": 201,
   "id": "390bbe7d-82fe-45cd-972e-d19c0a9806d5",
   "metadata": {},
   "outputs": [],
   "source": [
    "from IPython.display import Image"
   ]
  },
  {
   "cell_type": "code",
   "execution_count": 210,
   "id": "1663e068-1230-45f3-acdf-60391b189281",
   "metadata": {},
   "outputs": [
    {
     "name": "stdout",
     "output_type": "stream",
     "text": [
      "C:\\Python\\lambda_notes.png\n"
     ]
    }
   ],
   "source": [
    "print(\"C:\\Python\\lambda_notes.png\")"
   ]
  },
  {
   "cell_type": "code",
   "execution_count": 211,
   "id": "7228c5c6-c35c-42e1-8b30-720bead6348e",
   "metadata": {},
   "outputs": [
    {
     "data": {
      "image/png": "[encoded data removed]",
      "text/plain": [
       "<IPython.core.display.Image object>"
      ]
     },
     "execution_count": 211,
     "metadata": {},
     "output_type": "execute_result"
    }
   ],
   "source": [
    "Image(\"C:\\\\Python\\\\lambda_notes.png\")"
   ]
  },
  {
   "cell_type": "code",
   "execution_count": null,
   "id": "22e2fa3f-192b-4fd5-a2fa-a0c932b36b90",
   "metadata": {},
   "outputs": [],
   "source": [
    "def myfunc(anotherfunc):"
   ]
  },
  {
   "cell_type": "code",
   "execution_count": null,
   "id": "06ae3b3a-54ad-41ca-ad57-0ab25889ce27",
   "metadata": {},
   "outputs": [],
   "source": [
    "def antherfunc():"
   ]
  },
  {
   "cell_type": "markdown",
   "id": "296cffec-ae03-416d-b933-3bcb89b1458f",
   "metadata": {},
   "source": [
    "MRF(map,reduce,filter)"
   ]
  },
  {
   "cell_type": "code",
   "execution_count": 214,
   "id": "a9417c17-0242-4f84-9d03-990514aec0fe",
   "metadata": {},
   "outputs": [],
   "source": [
    "l = [1,2,3,4,5,6]"
   ]
  },
  {
   "cell_type": "markdown",
   "id": "e059e11a-8bba-4d59-893b-62bb8a20b1ef",
   "metadata": {},
   "source": [
    "map(function,sequence) # map function takes two parameters"
   ]
  },
  {
   "cell_type": "code",
   "execution_count": 216,
   "id": "871f23d7-86ae-4b35-8901-d026562410f9",
   "metadata": {},
   "outputs": [
    {
     "data": {
      "text/plain": [
       "<map at 0x23110692830>"
      ]
     },
     "execution_count": 216,
     "metadata": {},
     "output_type": "execute_result"
    }
   ],
   "source": [
    "map(lambda n: n*2,l)  # map object created"
   ]
  },
  {
   "cell_type": "code",
   "execution_count": 218,
   "id": "07ddc1dd-2475-4c50-8ea2-5bdc7089bc8d",
   "metadata": {},
   "outputs": [
    {
     "data": {
      "text/plain": [
       "[2, 4, 6, 8, 10, 12]"
      ]
     },
     "execution_count": 218,
     "metadata": {},
     "output_type": "execute_result"
    }
   ],
   "source": [
    "list(map(lambda n: n*2,l)) # map value is reading"
   ]
  },
  {
   "cell_type": "code",
   "execution_count": 219,
   "id": "d57f9d50-77f1-46fb-8917-1e3224988bb5",
   "metadata": {},
   "outputs": [
    {
     "data": {
      "text/plain": [
       "\u001b[1;31mInit signature:\u001b[0m \u001b[0mfilter\u001b[0m\u001b[1;33m(\u001b[0m\u001b[0mself\u001b[0m\u001b[1;33m,\u001b[0m \u001b[1;33m/\u001b[0m\u001b[1;33m,\u001b[0m \u001b[1;33m*\u001b[0m\u001b[0margs\u001b[0m\u001b[1;33m,\u001b[0m \u001b[1;33m**\u001b[0m\u001b[0mkwargs\u001b[0m\u001b[1;33m)\u001b[0m\u001b[1;33m\u001b[0m\u001b[1;33m\u001b[0m\u001b[0m\n",
       "\u001b[1;31mDocstring:\u001b[0m     \n",
       "filter(function or None, iterable) --> filter object\n",
       "\n",
       "Return an iterator yielding those items of iterable for which function(item)\n",
       "is true. If function is None, return the items that are true.\n",
       "\u001b[1;31mType:\u001b[0m           type\n",
       "\u001b[1;31mSubclasses:\u001b[0m     "
      ]
     },
     "metadata": {},
     "output_type": "display_data"
    }
   ],
   "source": [
    "filter?"
   ]
  },
  {
   "cell_type": "code",
   "execution_count": null,
   "id": "80f95218-7c62-444e-be9a-4b44bebaa4b7",
   "metadata": {},
   "outputs": [],
   "source": [
    "filter(function, sequence)\n"
   ]
  },
  {
   "cell_type": "code",
   "execution_count": 223,
   "id": "d0fe5037-7515-4cd1-ac78-f76c90e7b539",
   "metadata": {},
   "outputs": [
    {
     "data": {
      "text/plain": [
       "[2, 4, 6]"
      ]
     },
     "execution_count": 223,
     "metadata": {},
     "output_type": "execute_result"
    }
   ],
   "source": [
    "list(filter(lambda n: n%2==0,l))"
   ]
  },
  {
   "cell_type": "markdown",
   "id": "ad94ad29-05ab-4130-8f63-e6b13ea08fd1",
   "metadata": {},
   "source": [
    "reduce(function,sequence)"
   ]
  },
  {
   "cell_type": "code",
   "execution_count": 225,
   "id": "7c1792f1-8241-407d-97b1-8502e8bc1b3d",
   "metadata": {},
   "outputs": [],
   "source": [
    "from functools import reduce"
   ]
  },
  {
   "cell_type": "code",
   "execution_count": 228,
   "id": "99bd06bd-4489-471f-964a-bae67e2c2e66",
   "metadata": {},
   "outputs": [
    {
     "data": {
      "text/plain": [
       "129"
      ]
     },
     "execution_count": 228,
     "metadata": {},
     "output_type": "execute_result"
    }
   ],
   "source": [
    "l = [1,20,3,40,5,60]\n",
    "\n",
    "reduce(lambda x,y:x+y,l)"
   ]
  },
  {
   "cell_type": "code",
   "execution_count": 229,
   "id": "81e731a9-626e-428e-99ba-42a239647fe7",
   "metadata": {},
   "outputs": [],
   "source": [
    "def fahrenheit(T):\n",
    "    return ((float(9/5)*T)+32)"
   ]
  },
  {
   "cell_type": "code",
   "execution_count": 230,
   "id": "8d961152-c7b8-4e27-a653-e41569214e6a",
   "metadata": {},
   "outputs": [],
   "source": [
    "temp = [0,22.5,40,100]"
   ]
  },
  {
   "cell_type": "code",
   "execution_count": 232,
   "id": "147c4dae-4418-48b1-8ba8-178a83a7707e",
   "metadata": {},
   "outputs": [
    {
     "data": {
      "text/plain": [
       "[32.0, 72.5, 104.0, 212.0]"
      ]
     },
     "execution_count": 232,
     "metadata": {},
     "output_type": "execute_result"
    }
   ],
   "source": [
    "list(map(lambda t: ((float(9/5)*t)+32),temp))"
   ]
  },
  {
   "cell_type": "code",
   "execution_count": 236,
   "id": "6b322b96-abde-4dca-921d-e8692d8ceb0b",
   "metadata": {},
   "outputs": [],
   "source": [
    "t_temp=[32.0, 72.5, 104.0, 212.0]"
   ]
  },
  {
   "cell_type": "markdown",
   "id": "0785aac5-7625-4bc6-8b7a-f6ce8d0f10dd",
   "metadata": {},
   "source": [
    "forehheit to celcious"
   ]
  },
  {
   "cell_type": "code",
   "execution_count": 239,
   "id": "8ac9f45d-3589-4e86-b348-732d8399fc52",
   "metadata": {},
   "outputs": [
    {
     "data": {
      "text/plain": [
       "[0.0, 22.5, 40.0, 100.0]"
      ]
     },
     "execution_count": 239,
     "metadata": {},
     "output_type": "execute_result"
    }
   ],
   "source": [
    "list(map(lambda f : (f-32)*float(5/9),t_temp))"
   ]
  },
  {
   "cell_type": "markdown",
   "id": "6a213f38-c4fc-4911-990d-a4e9f2831234",
   "metadata": {},
   "source": [
    "Function Aliasing"
   ]
  },
  {
   "cell_type": "code",
   "execution_count": 240,
   "id": "a5f25fc6-57cc-404e-b211-520efd3cd123",
   "metadata": {},
   "outputs": [],
   "source": [
    "def f1():\n",
    "    print(\"hello America\")"
   ]
  },
  {
   "cell_type": "code",
   "execution_count": 241,
   "id": "4b117b02-9258-4da7-8916-945fb9215dc5",
   "metadata": {},
   "outputs": [
    {
     "name": "stdout",
     "output_type": "stream",
     "text": [
      "hello America\n"
     ]
    }
   ],
   "source": [
    "f1()"
   ]
  },
  {
   "cell_type": "code",
   "execution_count": 242,
   "id": "21fde75e-67fe-4257-b8c2-a898748a1930",
   "metadata": {},
   "outputs": [
    {
     "name": "stdout",
     "output_type": "stream",
     "text": [
      "2409762766048\n"
     ]
    }
   ],
   "source": [
    "print(id(f1))"
   ]
  },
  {
   "cell_type": "code",
   "execution_count": 243,
   "id": "6f3d2c37-c5a0-4304-bebe-3e923bc72981",
   "metadata": {},
   "outputs": [],
   "source": [
    "f2= f1"
   ]
  },
  {
   "cell_type": "code",
   "execution_count": 244,
   "id": "718eeff5-2660-46de-b576-90942fabcda3",
   "metadata": {},
   "outputs": [
    {
     "name": "stdout",
     "output_type": "stream",
     "text": [
      "hello America\n"
     ]
    }
   ],
   "source": [
    "f2()"
   ]
  },
  {
   "cell_type": "code",
   "execution_count": 245,
   "id": "9f7c00c7-314e-42c6-8947-e014dee982a9",
   "metadata": {},
   "outputs": [
    {
     "name": "stdout",
     "output_type": "stream",
     "text": [
      "2409762766048\n"
     ]
    }
   ],
   "source": [
    "print(id(f2))"
   ]
  },
  {
   "cell_type": "markdown",
   "id": "157a9b52-411a-4c4d-bf86-c91afa5659eb",
   "metadata": {},
   "source": [
    "Ids are same but name are different"
   ]
  },
  {
   "cell_type": "code",
   "execution_count": 246,
   "id": "8ec73f03-50cc-49f0-afb0-01c48851ade3",
   "metadata": {},
   "outputs": [],
   "source": [
    "del f1"
   ]
  },
  {
   "cell_type": "code",
   "execution_count": 247,
   "id": "3bf57574-46c3-4950-8ebf-adb74d1dea93",
   "metadata": {},
   "outputs": [
    {
     "ename": "NameError",
     "evalue": "name 'f1' is not defined",
     "output_type": "error",
     "traceback": [
      "\u001b[1;31m---------------------------------------------------------------------------\u001b[0m",
      "\u001b[1;31mNameError\u001b[0m                                 Traceback (most recent call last)",
      "Cell \u001b[1;32mIn[247], line 1\u001b[0m\n\u001b[1;32m----> 1\u001b[0m \u001b[43mf1\u001b[49m()\n",
      "\u001b[1;31mNameError\u001b[0m: name 'f1' is not defined"
     ]
    }
   ],
   "source": [
    "f1()"
   ]
  },
  {
   "cell_type": "code",
   "execution_count": 248,
   "id": "885fb690-4878-4805-b614-7da499602346",
   "metadata": {},
   "outputs": [
    {
     "name": "stdout",
     "output_type": "stream",
     "text": [
      "hello America\n"
     ]
    }
   ],
   "source": [
    "f2()"
   ]
  },
  {
   "cell_type": "markdown",
   "id": "d1c0abf3-5247-409b-b493-b52c288eb3ea",
   "metadata": {},
   "source": [
    "both alias are pointing to same object"
   ]
  },
  {
   "cell_type": "markdown",
   "id": "4e687993-5211-41ca-8934-480c9e4531d3",
   "metadata": {},
   "source": [
    "Nested functions"
   ]
  },
  {
   "cell_type": "code",
   "execution_count": 255,
   "id": "a404cb4a-d952-4e65-8730-cbf3672c4e3b",
   "metadata": {},
   "outputs": [
    {
     "name": "stdout",
     "output_type": "stream",
     "text": [
      "0 0\n",
      "0 1\n",
      "0 2\n",
      "0 3\n",
      "0 4\n",
      "0 5\n",
      "0 6\n",
      "0 7\n",
      "0 8\n",
      "0 9\n",
      "1 0\n",
      "1 1\n",
      "1 2\n",
      "1 3\n",
      "1 4\n",
      "1 5\n",
      "1 6\n",
      "1 7\n",
      "1 8\n",
      "1 9\n",
      "2 0\n",
      "2 1\n",
      "2 2\n",
      "2 3\n",
      "2 4\n",
      "2 5\n",
      "2 6\n",
      "2 7\n",
      "2 8\n",
      "2 9\n",
      "3 0\n",
      "3 1\n",
      "3 2\n",
      "3 3\n",
      "3 4\n",
      "3 5\n",
      "3 6\n",
      "3 7\n",
      "3 8\n",
      "3 9\n",
      "4 0\n",
      "4 1\n",
      "4 2\n",
      "4 3\n",
      "4 4\n",
      "4 5\n",
      "4 6\n",
      "4 7\n",
      "4 8\n",
      "4 9\n",
      "5 0\n",
      "5 1\n",
      "5 2\n",
      "5 3\n",
      "5 4\n",
      "5 5\n",
      "5 6\n",
      "5 7\n",
      "5 8\n",
      "5 9\n",
      "6 0\n",
      "6 1\n",
      "6 2\n",
      "6 3\n",
      "6 4\n",
      "6 5\n",
      "6 6\n",
      "6 7\n",
      "6 8\n",
      "6 9\n",
      "7 0\n",
      "7 1\n",
      "7 2\n",
      "7 3\n",
      "7 4\n",
      "7 5\n",
      "7 6\n",
      "7 7\n",
      "7 8\n",
      "7 9\n",
      "8 0\n",
      "8 1\n",
      "8 2\n",
      "8 3\n",
      "8 4\n",
      "8 5\n",
      "8 6\n",
      "8 7\n",
      "8 8\n",
      "8 9\n",
      "9 0\n",
      "9 1\n",
      "9 2\n",
      "9 3\n",
      "9 4\n",
      "9 5\n",
      "9 6\n",
      "9 7\n",
      "9 8\n",
      "9 9\n"
     ]
    }
   ],
   "source": [
    "# Nested for loop\n",
    "for i in range(0,10):\n",
    "    for j in range(0,10):\n",
    "        print(i,j)"
   ]
  },
  {
   "cell_type": "code",
   "execution_count": 259,
   "id": "04586daa-12b0-414c-8d1b-72ad758defc8",
   "metadata": {},
   "outputs": [
    {
     "data": {
      "text/plain": [
       "[1, 2, 3, [4, 5]]"
      ]
     },
     "execution_count": 259,
     "metadata": {},
     "output_type": "execute_result"
    }
   ],
   "source": [
    "# Nested list\n",
    "\n",
    "[1,2,3,[4,5]]"
   ]
  },
  {
   "cell_type": "code",
   "execution_count": 269,
   "id": "ab3be655-88eb-43d2-9da6-2a9f19336633",
   "metadata": {},
   "outputs": [],
   "source": [
    "def outer():\n",
    "    print(\"this is outer function\")\n",
    "    def inner():\n",
    "        print(\"this is inner function\")\n",
    "    print(\"outer function ended\")\n",
    "    return inner()\n",
    "    "
   ]
  },
  {
   "cell_type": "code",
   "execution_count": 270,
   "id": "0f7391d4-105d-47df-a689-e7b256dfb33d",
   "metadata": {},
   "outputs": [
    {
     "name": "stdout",
     "output_type": "stream",
     "text": [
      "this is outer function\n",
      "outer function ended\n",
      "this is inner function\n"
     ]
    }
   ],
   "source": [
    "outer()"
   ]
  },
  {
   "cell_type": "code",
   "execution_count": 272,
   "id": "5d2c59b5-f469-4d00-92b2-4c48300d38ca",
   "metadata": {},
   "outputs": [
    {
     "ename": "NameError",
     "evalue": "name 'inner' is not defined",
     "output_type": "error",
     "traceback": [
      "\u001b[1;31m---------------------------------------------------------------------------\u001b[0m",
      "\u001b[1;31mNameError\u001b[0m                                 Traceback (most recent call last)",
      "Cell \u001b[1;32mIn[272], line 1\u001b[0m\n\u001b[1;32m----> 1\u001b[0m \u001b[43minner\u001b[49m()  \u001b[38;5;66;03m# we can not call inner function\u001b[39;00m\n",
      "\u001b[1;31mNameError\u001b[0m: name 'inner' is not defined"
     ]
    }
   ],
   "source": [
    "inner()  # we can not call inner function"
   ]
  },
  {
   "cell_type": "markdown",
   "id": "f0e310aa-4b26-466b-86b9-2c5c12615d74",
   "metadata": {},
   "source": [
    "Note : A function can return another function"
   ]
  },
  {
   "cell_type": "code",
   "execution_count": 276,
   "id": "28a96a59-3b5d-47cc-a3fc-45f38d3010e8",
   "metadata": {},
   "outputs": [],
   "source": [
    "def outer():\n",
    "    print(\"this is outer function\")\n",
    "    def inner():\n",
    "        print(\"this is inner function\")\n",
    "    print(\"outer function ended\")\n",
    "    return inner"
   ]
  },
  {
   "cell_type": "code",
   "execution_count": 280,
   "id": "3d0536a2-86ed-4e46-845f-4845762a8807",
   "metadata": {},
   "outputs": [
    {
     "name": "stdout",
     "output_type": "stream",
     "text": [
      "this is outer function\n",
      "outer function ended\n"
     ]
    }
   ],
   "source": [
    "f1 = outer()"
   ]
  },
  {
   "cell_type": "code",
   "execution_count": 281,
   "id": "4b2072d4-b196-4de3-b913-095017cc3fc6",
   "metadata": {},
   "outputs": [
    {
     "name": "stdout",
     "output_type": "stream",
     "text": [
      "this is inner function\n"
     ]
    }
   ],
   "source": [
    "f1()"
   ]
  },
  {
   "cell_type": "markdown",
   "id": "1ee7d591-8b33-4bd7-bd7a-3ceac8cd22bb",
   "metadata": {},
   "source": [
    "#f1 = outer --> function aliasing \n",
    "\n",
    "\n",
    "#f1 = outer() --> we are calling outer() function which returns inner() function for that inner() we are providig another name f1\n"
   ]
  },
  {
   "cell_type": "markdown",
   "id": "337808dc-7832-4746-b50a-297e4705c472",
   "metadata": {},
   "source": [
    "1. we can write function inside another function\n",
    "2. a function return another function\n",
    "3. we can pass a function as arg to another function"
   ]
  },
  {
   "cell_type": "markdown",
   "id": "bcd8e766-d666-42d9-898c-69980a6cdfa8",
   "metadata": {},
   "source": [
    "### Decorators"
   ]
  },
  {
   "cell_type": "markdown",
   "id": "2956be30-5023-437f-b541-2830d25ba7fd",
   "metadata": {},
   "source": [
    "Decorator concept: it is function which can take a function as arg and extend its functionality and returns modified function with extended functionaliy\n",
    "main objectives of the decorator function is we can extend the functionality of existing function without modifying that function.\n",
    "we use this in athentication of usee"
   ]
  },
  {
   "cell_type": "code",
   "execution_count": 321,
   "id": "de5dd732-3a7c-4e5c-a9c5-52cfaf90869d",
   "metadata": {},
   "outputs": [],
   "source": [
    "def preparation(curry):\n",
    "    def inner(name):\n",
    "        print(\"add some oil\")\n",
    "        print(\"add chopped onions and chillies\")\n",
    "        print(\"after some time add\", name)\n",
    "        print(name,\"curry is prepared\")\n",
    "        curry(name)                      #### we can call old function too\n",
    "    return inner"
   ]
  },
  {
   "cell_type": "code",
   "execution_count": 322,
   "id": "c377501d-1e17-4502-a019-1d1c72419b47",
   "metadata": {},
   "outputs": [],
   "source": [
    "@preparation   # annotation\n",
    "def curry(name):\n",
    "    print(name, \"curry is prepared\")"
   ]
  },
  {
   "cell_type": "code",
   "execution_count": 323,
   "id": "fc2e15dc-14fc-4586-9b70-6e9530e785f1",
   "metadata": {},
   "outputs": [
    {
     "name": "stdout",
     "output_type": "stream",
     "text": [
      "add some oil\n",
      "add chopped onions and chillies\n",
      "after some time add egg\n",
      "egg curry is prepared\n",
      "egg curry is prepared\n"
     ]
    }
   ],
   "source": [
    "curry(\"egg\")"
   ]
  },
  {
   "cell_type": "markdown",
   "id": "2adc71fe-9417-44d0-969e-0fe9e1e32fac",
   "metadata": {},
   "source": [
    "Decorator chaining example"
   ]
  },
  {
   "cell_type": "code",
   "execution_count": 351,
   "id": "b477a28d-50c6-4aac-a262-92180c3d42e8",
   "metadata": {},
   "outputs": [],
   "source": [
    "def decorator2(func):\n",
    "    def inner2():\n",
    "        print(\"this is decorator2\")\n",
    "        func()\n",
    "    return inner2"
   ]
  },
  {
   "cell_type": "code",
   "execution_count": 352,
   "id": "aca74e31-b386-465d-8874-e513211e2bbf",
   "metadata": {},
   "outputs": [],
   "source": [
    "def decorator1(func):\n",
    "    def inner1():\n",
    "        print(\"this is decorator1\")\n",
    "        func()\n",
    "    return inner1"
   ]
  },
  {
   "cell_type": "code",
   "execution_count": 353,
   "id": "981f35c5-8886-4091-8fcb-d35c5da47bc6",
   "metadata": {},
   "outputs": [],
   "source": [
    "@decorator2\n",
    "@decorator1\n",
    "def f1():\n",
    "    print(\"original function\")"
   ]
  },
  {
   "cell_type": "code",
   "execution_count": 354,
   "id": "f7ce1c6f-2191-45b4-985a-65414efd341e",
   "metadata": {},
   "outputs": [
    {
     "name": "stdout",
     "output_type": "stream",
     "text": [
      "this is decorator2\n",
      "this is decorator1\n",
      "original function\n"
     ]
    }
   ],
   "source": [
    "f1()"
   ]
  },
  {
   "cell_type": "markdown",
   "id": "279d14c6-6d5a-48b1-ab8a-d600949279de",
   "metadata": {},
   "source": [
    "### Generator : whenever we use big sequence then we use generator"
   ]
  },
  {
   "cell_type": "markdown",
   "id": "a0043ba7-3653-4970-a77d-2e67cc6ffd3f",
   "metadata": {},
   "source": [
    "general store (for loop) and godows for generator"
   ]
  },
  {
   "cell_type": "code",
   "execution_count": 357,
   "id": "72901d20-6a7c-48cb-8d41-b1151763f904",
   "metadata": {},
   "outputs": [],
   "source": [
    "#for i in range(0,100000):\n",
    "#    print(i)"
   ]
  },
  {
   "cell_type": "code",
   "execution_count": 359,
   "id": "3b39b23f-0213-4c7a-89e0-e454eb1f7ca2",
   "metadata": {},
   "outputs": [],
   "source": [
    "f = (i for i in range(0,100000000))"
   ]
  },
  {
   "cell_type": "code",
   "execution_count": 361,
   "id": "cf968120-ec3a-49c8-a334-a51cdbc4abcc",
   "metadata": {},
   "outputs": [
    {
     "name": "stdout",
     "output_type": "stream",
     "text": [
      "0\n"
     ]
    }
   ],
   "source": [
    "print(next(f))"
   ]
  },
  {
   "cell_type": "code",
   "execution_count": 362,
   "id": "0cca0f4f-8dee-495f-93e6-ca7188110c70",
   "metadata": {},
   "outputs": [
    {
     "name": "stdout",
     "output_type": "stream",
     "text": [
      "1\n"
     ]
    }
   ],
   "source": [
    "print(next(f))\n"
   ]
  },
  {
   "cell_type": "code",
   "execution_count": 363,
   "id": "ec5d510c-4b47-4992-ae0f-7d42e9db9f7b",
   "metadata": {},
   "outputs": [
    {
     "name": "stdout",
     "output_type": "stream",
     "text": [
      "2\n"
     ]
    }
   ],
   "source": [
    "print(next(f))"
   ]
  },
  {
   "cell_type": "code",
   "execution_count": 364,
   "id": "593697fe-547a-4268-95f0-06acbe56aea6",
   "metadata": {},
   "outputs": [
    {
     "name": "stdout",
     "output_type": "stream",
     "text": [
      "3\n"
     ]
    }
   ],
   "source": [
    "print(next(f))"
   ]
  },
  {
   "cell_type": "code",
   "execution_count": 365,
   "id": "5d370087-a951-41e1-abff-947282773be4",
   "metadata": {},
   "outputs": [],
   "source": [
    "def gen():\n",
    "    pass"
   ]
  },
  {
   "cell_type": "code",
   "execution_count": 366,
   "id": "09f27f9d-6cd4-416f-9c75-36ead4d7bb1b",
   "metadata": {},
   "outputs": [
    {
     "data": {
      "text/plain": [
       "function"
      ]
     },
     "execution_count": 366,
     "metadata": {},
     "output_type": "execute_result"
    }
   ],
   "source": [
    "type(gen)"
   ]
  },
  {
   "cell_type": "code",
   "execution_count": 377,
   "id": "7eba0a14-936f-4ac3-8722-0847330408ce",
   "metadata": {},
   "outputs": [],
   "source": [
    "def gen():\n",
    "    yield 'A'  ## when we use yield keyword (expression)then that function is called generator.\n",
    "    yield 'B'\n",
    "    yield 'C'"
   ]
  },
  {
   "cell_type": "code",
   "execution_count": 378,
   "id": "43b45079-7802-4ce4-98e0-afb6a29baddd",
   "metadata": {},
   "outputs": [
    {
     "name": "stdout",
     "output_type": "stream",
     "text": [
      "<class 'generator'>\n"
     ]
    }
   ],
   "source": [
    "g = gen()\n",
    "print(type(g))"
   ]
  },
  {
   "cell_type": "code",
   "execution_count": 379,
   "id": "6a23a263-1a8a-4a15-a7aa-884b6fc4ff3e",
   "metadata": {},
   "outputs": [
    {
     "name": "stdout",
     "output_type": "stream",
     "text": [
      "A\n"
     ]
    }
   ],
   "source": [
    "print(next(g))"
   ]
  },
  {
   "cell_type": "code",
   "execution_count": 380,
   "id": "3f8b987c-2d92-42f8-a4e9-4abea283ec1b",
   "metadata": {},
   "outputs": [
    {
     "name": "stdout",
     "output_type": "stream",
     "text": [
      "B\n"
     ]
    }
   ],
   "source": [
    "print(next(g))"
   ]
  },
  {
   "cell_type": "code",
   "execution_count": 381,
   "id": "a6ea31e6-d558-4e72-8ccd-b6677929f620",
   "metadata": {},
   "outputs": [
    {
     "name": "stdout",
     "output_type": "stream",
     "text": [
      "C\n"
     ]
    }
   ],
   "source": [
    "print(next(g))"
   ]
  },
  {
   "cell_type": "code",
   "execution_count": 382,
   "id": "b272ba87-b05a-44fb-8dc1-dbb5ba0d7317",
   "metadata": {},
   "outputs": [
    {
     "ename": "StopIteration",
     "evalue": "",
     "output_type": "error",
     "traceback": [
      "\u001b[1;31m---------------------------------------------------------------------------\u001b[0m",
      "\u001b[1;31mStopIteration\u001b[0m                             Traceback (most recent call last)",
      "Cell \u001b[1;32mIn[382], line 1\u001b[0m\n\u001b[1;32m----> 1\u001b[0m \u001b[38;5;28mprint\u001b[39m(\u001b[38;5;28;43mnext\u001b[39;49m\u001b[43m(\u001b[49m\u001b[43mg\u001b[49m\u001b[43m)\u001b[49m)\n",
      "\u001b[1;31mStopIteration\u001b[0m: "
     ]
    }
   ],
   "source": [
    "print(next(g))"
   ]
  },
  {
   "cell_type": "markdown",
   "id": "21263db2-141c-4b25-a126-7897a1cc6f0a",
   "metadata": {},
   "source": [
    "### python yield vs return"
   ]
  },
  {
   "cell_type": "markdown",
   "id": "805efb6e-630a-4e01-820a-82655b88f4cf",
   "metadata": {},
   "source": [
    "the return statement returns the value from the function and then the function ternminates. \n",
    "\n",
    "yield expression converts the function into generator to return values one by one"
   ]
  },
  {
   "cell_type": "markdown",
   "id": "a4a8e9f8-cd4e-43f6-8e19-7f2517c437b1",
   "metadata": {},
   "source": [
    "python return statement is not suitable when we want to return a large amount of data.in this case yield expression is useful to return only part of the data and save memory"
   ]
  },
  {
   "cell_type": "code",
   "execution_count": 387,
   "id": "3fdd4b55-69c9-498d-b3c9-2806205e4f3e",
   "metadata": {},
   "outputs": [],
   "source": [
    "from random import *"
   ]
  },
  {
   "cell_type": "code",
   "execution_count": 388,
   "id": "8ffc622b-f386-47fd-97b0-fb3fed7ceab7",
   "metadata": {},
   "outputs": [],
   "source": [
    "from random import choice"
   ]
  },
  {
   "cell_type": "code",
   "execution_count": 389,
   "id": "2bfadac4-5a78-429e-8ec6-28e629843c64",
   "metadata": {},
   "outputs": [],
   "source": [
    "import time"
   ]
  },
  {
   "cell_type": "code",
   "execution_count": 393,
   "id": "643767b0-75ed-4957-8c87-cbea798d8bdc",
   "metadata": {},
   "outputs": [
    {
     "data": {
      "text/plain": [
       "[{'id': 1, 'name': 'moki', 'technology': 'python'}]"
      ]
     },
     "execution_count": 393,
     "metadata": {},
     "output_type": "execute_result"
    }
   ],
   "source": [
    "from random import *\n",
    "from random import choice\n",
    "import time\n",
    "name = [\"ravi\",\"suvi\",\"moki\"]\n",
    "tech = [\"java\",\"python\",\"dotnet\"]\n",
    "def employee_list(num):\n",
    "    results=[]\n",
    "    for i in range(num):\n",
    "        person = {'id':1,\n",
    "                  'name':choice(name),\n",
    "                  'technology':choice(tech)}\n",
    "        results.append(person)\n",
    "        return results\n",
    "employee_list(3)"
   ]
  },
  {
   "cell_type": "code",
   "execution_count": 394,
   "id": "ae76595f-c3eb-4636-8450-2a2b0b2bb2c6",
   "metadata": {},
   "outputs": [],
   "source": [
    "name = [\"ravi\",\"suvi\",\"moki\"]"
   ]
  },
  {
   "cell_type": "code",
   "execution_count": 401,
   "id": "65675b35-df12-44ac-8017-b408288551b9",
   "metadata": {},
   "outputs": [
    {
     "data": {
      "text/plain": [
       "'moki'"
      ]
     },
     "execution_count": 401,
     "metadata": {},
     "output_type": "execute_result"
    }
   ],
   "source": [
    "choice(name)  # it returns random vallue"
   ]
  },
  {
   "cell_type": "code",
   "execution_count": 396,
   "id": "58b9fd90-7ed6-49f6-a270-59c75f8b164d",
   "metadata": {},
   "outputs": [
    {
     "data": {
      "text/plain": [
       "'moki'"
      ]
     },
     "execution_count": 396,
     "metadata": {},
     "output_type": "execute_result"
    }
   ],
   "source": [
    "choice(name)"
   ]
  },
  {
   "cell_type": "code",
   "execution_count": 397,
   "id": "d357df0f-3115-4009-b204-852730f92d23",
   "metadata": {},
   "outputs": [
    {
     "data": {
      "text/plain": [
       "'moki'"
      ]
     },
     "execution_count": 397,
     "metadata": {},
     "output_type": "execute_result"
    }
   ],
   "source": [
    "choice(name)"
   ]
  },
  {
   "cell_type": "code",
   "execution_count": 398,
   "id": "ac7a5dfa-1f49-41b6-bab4-5ae2caf3dc10",
   "metadata": {},
   "outputs": [
    {
     "data": {
      "text/plain": [
       "'moki'"
      ]
     },
     "execution_count": 398,
     "metadata": {},
     "output_type": "execute_result"
    }
   ],
   "source": [
    "choice(name)"
   ]
  },
  {
   "cell_type": "code",
   "execution_count": 399,
   "id": "11a2e178-a3b0-4788-b18e-6893872ce15a",
   "metadata": {},
   "outputs": [
    {
     "data": {
      "text/plain": [
       "'moki'"
      ]
     },
     "execution_count": 399,
     "metadata": {},
     "output_type": "execute_result"
    }
   ],
   "source": [
    "choice(name)\n"
   ]
  },
  {
   "cell_type": "code",
   "execution_count": 402,
   "id": "f4ec1202-c410-4f75-a42f-d54c5b3eccbf",
   "metadata": {},
   "outputs": [
    {
     "name": "stdout",
     "output_type": "stream",
     "text": [
      "{'id': 1, 'name': 'moki', 'technology': 'dotnet'}\n",
      "{'id': 1, 'name': 'suvi', 'technology': 'dotnet'}\n",
      "{'id': 1, 'name': 'ravi', 'technology': 'dotnet'}\n"
     ]
    }
   ],
   "source": [
    "from random import *\n",
    "from random import choice\n",
    "import time\n",
    "name = [\"ravi\",\"suvi\",\"moki\"]\n",
    "tech = [\"java\",\"python\",\"dotnet\"]\n",
    "def employee_generator(num):\n",
    "    results=[]\n",
    "    for i in range(num):\n",
    "        person = {'id':1,'name':choice(name),'technology':choice(tech)}\n",
    "        yield person\n",
    "\n",
    "gen = employee_generator(3)\n",
    "for g in gen:\n",
    "    print(g)"
   ]
  },
  {
   "cell_type": "code",
   "execution_count": 403,
   "id": "481a6fc3-c8bd-4a89-87a3-3ad3625c7107",
   "metadata": {},
   "outputs": [
    {
     "name": "stdout",
     "output_type": "stream",
     "text": [
      "{'id': 1, 'name': 'suvi', 'technology': 'python'}\n",
      "{'id': 1, 'name': 'suvi', 'technology': 'java'}\n",
      "{'id': 1, 'name': 'moki', 'technology': 'python'}\n"
     ]
    }
   ],
   "source": [
    "from random import *\n",
    "from random import choice\n",
    "import time\n",
    "name = [\"ravi\",\"suvi\",\"moki\"]\n",
    "tech = [\"java\",\"python\",\"dotnet\"]\n",
    "def employee_generator(num):\n",
    "    results=[]\n",
    "    for i in range(num):\n",
    "        person = {'id':1,'name':choice(name),'technology':choice(tech)}\n",
    "        yield person\n",
    "\n",
    "gen = employee_generator(3)\n",
    "for g in gen:\n",
    "    print(g)"
   ]
  },
  {
   "cell_type": "code",
   "execution_count": 414,
   "id": "17fd06af-b3e7-4347-bdcd-a17eb587e08f",
   "metadata": {},
   "outputs": [
    {
     "ename": "AttributeError",
     "evalue": "module 'time' has no attribute 'clock'",
     "output_type": "error",
     "traceback": [
      "\u001b[1;31m---------------------------------------------------------------------------\u001b[0m",
      "\u001b[1;31mAttributeError\u001b[0m                            Traceback (most recent call last)",
      "Cell \u001b[1;32mIn[414], line 2\u001b[0m\n\u001b[0;32m      1\u001b[0m \u001b[38;5;28;01mimport\u001b[39;00m \u001b[38;5;21;01mtime\u001b[39;00m\n\u001b[1;32m----> 2\u001b[0m t1 \u001b[38;5;241m=\u001b[39m \u001b[43mtime\u001b[49m\u001b[38;5;241;43m.\u001b[39;49m\u001b[43mclock\u001b[49m()\n\u001b[0;32m      3\u001b[0m employee_list(\u001b[38;5;241m1000\u001b[39m)\n\u001b[0;32m      4\u001b[0m t2 \u001b[38;5;241m=\u001b[39m time\u001b[38;5;241m.\u001b[39mclock()\n",
      "\u001b[1;31mAttributeError\u001b[0m: module 'time' has no attribute 'clock'"
     ]
    }
   ],
   "source": [
    "import time\n",
    "t1 = time.clock()\n",
    "employee_list(1000)\n",
    "t2 = time.clock()\n",
    "print(t2-t1)"
   ]
  },
  {
   "cell_type": "code",
   "execution_count": 415,
   "id": "cac47425-862f-4b97-9902-d90b3963c585",
   "metadata": {},
   "outputs": [
    {
     "ename": "AttributeError",
     "evalue": "module 'time' has no attribute 'clock'",
     "output_type": "error",
     "traceback": [
      "\u001b[1;31m---------------------------------------------------------------------------\u001b[0m",
      "\u001b[1;31mAttributeError\u001b[0m                            Traceback (most recent call last)",
      "Cell \u001b[1;32mIn[415], line 2\u001b[0m\n\u001b[0;32m      1\u001b[0m \u001b[38;5;28;01mimport\u001b[39;00m \u001b[38;5;21;01mtime\u001b[39;00m\n\u001b[1;32m----> 2\u001b[0m t1 \u001b[38;5;241m=\u001b[39m \u001b[43mtime\u001b[49m\u001b[38;5;241;43m.\u001b[39;49m\u001b[43mclock\u001b[49m()\n\u001b[0;32m      3\u001b[0m gen \u001b[38;5;241m=\u001b[39m employee_generator(\u001b[38;5;241m1000\u001b[39m)\n\u001b[0;32m      4\u001b[0m t2 \u001b[38;5;241m=\u001b[39m time\u001b[38;5;241m.\u001b[39mclock()\n",
      "\u001b[1;31mAttributeError\u001b[0m: module 'time' has no attribute 'clock'"
     ]
    }
   ],
   "source": [
    "import time\n",
    "t1 = time.clock()\n",
    "gen = employee_generator(1000)\n",
    "t2 = time.clock()\n",
    "print(t2-t1)"
   ]
  },
  {
   "cell_type": "markdown",
   "id": "a94588fd-c265-48a6-800d-5ff2ea8a3eb6",
   "metadata": {},
   "source": [
    "# Iterator and Iterable"
   ]
  },
  {
   "cell_type": "code",
   "execution_count": 418,
   "id": "4bd244bc-e117-4c39-9a42-e64e651ab9f6",
   "metadata": {},
   "outputs": [
    {
     "name": "stdout",
     "output_type": "stream",
     "text": [
      "0\n",
      "1\n",
      "2\n",
      "3\n",
      "4\n",
      "5\n",
      "6\n",
      "7\n",
      "8\n",
      "9\n"
     ]
    }
   ],
   "source": [
    "for i in range(0,10): # ---> iterable and i is called iterator\n",
    "    print(i)"
   ]
  },
  {
   "cell_type": "code",
   "execution_count": 419,
   "id": "b5095f90-d3ac-41f5-865e-ef711d467495",
   "metadata": {},
   "outputs": [
    {
     "name": "stdout",
     "output_type": "stream",
     "text": [
      "p\n",
      "y\n",
      "t\n",
      "h\n",
      "o\n",
      "n\n"
     ]
    }
   ],
   "source": [
    "for i in \"python\":\n",
    "    print(i)"
   ]
  },
  {
   "cell_type": "markdown",
   "id": "f2b90664-3612-4749-9fc3-ad1edab92a68",
   "metadata": {},
   "source": [
    "all sequences(list, tupple, set, dictionary,string) are called iterable\n",
    "\n",
    "every iterator is  also an iterable but not every iterable is an iterator\n",
    "\n",
    "ex. A list is iterable (iterable object a(set,string etc.)) but a list is not a iterator"
   ]
  },
  {
   "cell_type": "code",
   "execution_count": 421,
   "id": "c807b013-d88e-4fe8-9e42-541397a5fb78",
   "metadata": {},
   "outputs": [
    {
     "name": "stdout",
     "output_type": "stream",
     "text": [
      "1\n",
      "2\n",
      "3\n",
      "4\n",
      "5\n",
      "6\n"
     ]
    }
   ],
   "source": [
    "list = [1,2,3,4,5,6]\n",
    "for i in list:\n",
    "    print(i)"
   ]
  },
  {
   "cell_type": "code",
   "execution_count": 427,
   "id": "f72cc8fc-182b-4d6d-9d13-f4ce49d18da8",
   "metadata": {},
   "outputs": [
    {
     "name": "stdout",
     "output_type": "stream",
     "text": [
      "p\n",
      "y\n",
      "t\n",
      "h\n",
      "o\n",
      "n\n"
     ]
    },
    {
     "ename": "StopIteration",
     "evalue": "",
     "output_type": "error",
     "traceback": [
      "\u001b[1;31m---------------------------------------------------------------------------\u001b[0m",
      "\u001b[1;31mStopIteration\u001b[0m                             Traceback (most recent call last)",
      "Cell \u001b[1;32mIn[427], line 9\u001b[0m\n\u001b[0;32m      7\u001b[0m \u001b[38;5;28mprint\u001b[39m(\u001b[38;5;28mnext\u001b[39m(iter_obj))\n\u001b[0;32m      8\u001b[0m \u001b[38;5;28mprint\u001b[39m(\u001b[38;5;28mnext\u001b[39m(iter_obj))\n\u001b[1;32m----> 9\u001b[0m \u001b[38;5;28mprint\u001b[39m(\u001b[38;5;28;43mnext\u001b[39;49m\u001b[43m(\u001b[49m\u001b[43miter_obj\u001b[49m\u001b[43m)\u001b[49m)\n\u001b[0;32m     10\u001b[0m \u001b[38;5;28mprint\u001b[39m(\u001b[38;5;28mnext\u001b[39m(iter_obj))\n",
      "\u001b[1;31mStopIteration\u001b[0m: "
     ]
    }
   ],
   "source": [
    "s = \"python\"\n",
    "iter_obj = iter(s)\n",
    "print(next(iter_obj))\n",
    "print(next(iter_obj))\n",
    "print(next(iter_obj))\n",
    "print(next(iter_obj))\n",
    "print(next(iter_obj))\n",
    "print(next(iter_obj))\n",
    "print(next(iter_obj))\n",
    "print(next(iter_obj))\n"
   ]
  },
  {
   "cell_type": "markdown",
   "id": "11696683-7b82-47a5-a125-0a4dc00fc585",
   "metadata": {},
   "source": [
    "withoug using the for loop we can iterate one by one values using iter() function"
   ]
  },
  {
   "cell_type": "markdown",
   "id": "bb56edfb-e54e-4a59-9c25-3da1f5e95770",
   "metadata": {},
   "source": [
    "# Modules and Packages Concept"
   ]
  },
  {
   "cell_type": "markdown",
   "id": "e89c39f8-5023-45df-942f-2a58f3de4c63",
   "metadata": {},
   "source": [
    "In a python file if we save group of variables, classes then it is called as module\n",
    "\n",
    "every python file (.py) acts as module"
   ]
  },
  {
   "cell_type": "code",
   "execution_count": 431,
   "id": "573d8237-a0c9-44f0-bca7-6e614561466b",
   "metadata": {},
   "outputs": [
    {
     "data": {
      "image/png": "[encoded data removed]",
      "text/plain": [
       "<IPython.core.display.Image object>"
      ]
     },
     "execution_count": 431,
     "metadata": {},
     "output_type": "execute_result"
    }
   ],
   "source": [
    "Image(\"C:\\\\Python\\\\packes_module_example.png\")"
   ]
  },
  {
   "cell_type": "code",
   "execution_count": 432,
   "id": "a7f1227e-0465-4ff7-b0c1-c18d2a2e806c",
   "metadata": {},
   "outputs": [],
   "source": [
    "import os"
   ]
  },
  {
   "cell_type": "code",
   "execution_count": 433,
   "id": "1dcc372a-d760-4278-9a05-daf8b8f3071b",
   "metadata": {},
   "outputs": [
    {
     "data": {
      "text/plain": [
       "'C:\\\\Python'"
      ]
     },
     "execution_count": 433,
     "metadata": {},
     "output_type": "execute_result"
    }
   ],
   "source": [
    "os.getcwd()"
   ]
  },
  {
   "cell_type": "code",
   "execution_count": 434,
   "id": "8b338be6-4f9e-45fb-9778-c4ca655bcd4d",
   "metadata": {},
   "outputs": [],
   "source": [
    "from datetime import datetime"
   ]
  },
  {
   "cell_type": "code",
   "execution_count": 436,
   "id": "39c58c2f-2128-4071-bee1-272044f4c8f1",
   "metadata": {},
   "outputs": [
    {
     "data": {
      "text/plain": [
       "datetime.datetime(2024, 8, 25, 1, 16, 10, 410797)"
      ]
     },
     "execution_count": 436,
     "metadata": {},
     "output_type": "execute_result"
    }
   ],
   "source": [
    "datetime.now()"
   ]
  },
  {
   "cell_type": "markdown",
   "id": "918acd11-fe1f-48d6-926c-4833deba7d6f",
   "metadata": {},
   "source": [
    "# packages --> modules --> functions/classes/variables\n",
    "\n",
    "# Library -- > racks ---> books"
   ]
  },
  {
   "cell_type": "code",
   "execution_count": 439,
   "id": "5efb4cad-4f58-4dd2-b586-1d1a90373da4",
   "metadata": {},
   "outputs": [],
   "source": [
    "from copy import deepcopy "
   ]
  },
  {
   "cell_type": "code",
   "execution_count": 448,
   "id": "f8dbe357-a114-481d-9976-39ad52ad9f18",
   "metadata": {},
   "outputs": [],
   "source": [
    "from pandas import read_csv,read_excel,read_hdf"
   ]
  },
  {
   "cell_type": "code",
   "execution_count": 446,
   "id": "f4d43524-7846-4c74-90c3-bac462d9d615",
   "metadata": {},
   "outputs": [],
   "source": [
    "import pandas as pd"
   ]
  },
  {
   "cell_type": "code",
   "execution_count": 447,
   "id": "7545b588-595c-40e0-99e3-a56fc386810b",
   "metadata": {},
   "outputs": [
    {
     "ename": "TypeError",
     "evalue": "read_csv() missing 1 required positional argument: 'filepath_or_buffer'",
     "output_type": "error",
     "traceback": [
      "\u001b[1;31m---------------------------------------------------------------------------\u001b[0m",
      "\u001b[1;31mTypeError\u001b[0m                                 Traceback (most recent call last)",
      "Cell \u001b[1;32mIn[447], line 1\u001b[0m\n\u001b[1;32m----> 1\u001b[0m \u001b[43mpd\u001b[49m\u001b[38;5;241;43m.\u001b[39;49m\u001b[43mread_csv\u001b[49m\u001b[43m(\u001b[49m\u001b[43m)\u001b[49m\n",
      "\u001b[1;31mTypeError\u001b[0m: read_csv() missing 1 required positional argument: 'filepath_or_buffer'"
     ]
    }
   ],
   "source": [
    "pd.read_csv()"
   ]
  },
  {
   "cell_type": "code",
   "execution_count": 450,
   "id": "3201df7a-9a1a-4fa8-9290-ed4c638fc0ae",
   "metadata": {},
   "outputs": [],
   "source": [
    "x = 10\n",
    "y = 20\n",
    "def f1():\n",
    "    print(\"Hello\")"
   ]
  },
  {
   "cell_type": "code",
   "execution_count": 451,
   "id": "5dbdf81f-8e49-47a2-8a75-015025394a62",
   "metadata": {},
   "outputs": [
    {
     "name": "stdout",
     "output_type": "stream",
     "text": [
      "['Image', 'In', 'Out', 'Random', 'SystemRandom', '_', '_102', '_159', '_160', '_161', '_162', '_163', '_164', '_165', '_166', '_173', '_174', '_176', '_178', '_187', '_19', '_195', '_196', '_199', '_200', '_202', '_206', '_207', '_208', '_209', '_21', '_211', '_216', '_217', '_218', '_222', '_223', '_227', '_228', '_232', '_237', '_239', '_259', '_277', '_366', '_368', '_370', '_391', '_392', '_393', '_395', '_396', '_397', '_398', '_399', '_40', '_400', '_401', '_42', '_43', '_430', '_431', '_433', '_436', '_44', '_45', '_46', '_48', '_50', '_78', '_79', '_80', '_85', '_92', '_94', '__', '___', '__builtin__', '__builtins__', '__doc__', '__loader__', '__name__', '__package__', '__session__', '__spec__', '_dh', '_i', '_i1', '_i10', '_i100', '_i101', '_i102', '_i103', '_i104', '_i105', '_i106', '_i107', '_i108', '_i109', '_i11', '_i110', '_i111', '_i112', '_i113', '_i114', '_i115', '_i116', '_i117', '_i118', '_i119', '_i12', '_i120', '_i121', '_i122', '_i123', '_i124', '_i125', '_i126', '_i127', '_i128', '_i129', '_i13', '_i130', '_i131', '_i132', '_i133', '_i134', '_i135', '_i136', '_i137', '_i138', '_i139', '_i14', '_i140', '_i141', '_i142', '_i143', '_i144', '_i145', '_i146', '_i147', '_i148', '_i149', '_i15', '_i150', '_i151', '_i152', '_i153', '_i154', '_i155', '_i156', '_i157', '_i158', '_i159', '_i16', '_i160', '_i161', '_i162', '_i163', '_i164', '_i165', '_i166', '_i167', '_i168', '_i169', '_i17', '_i170', '_i171', '_i172', '_i173', '_i174', '_i175', '_i176', '_i177', '_i178', '_i179', '_i18', '_i180', '_i181', '_i182', '_i183', '_i184', '_i185', '_i186', '_i187', '_i188', '_i189', '_i19', '_i190', '_i191', '_i192', '_i193', '_i194', '_i195', '_i196', '_i197', '_i198', '_i199', '_i2', '_i20', '_i200', '_i201', '_i202', '_i203', '_i204', '_i205', '_i206', '_i207', '_i208', '_i209', '_i21', '_i210', '_i211', '_i212', '_i213', '_i214', '_i215', '_i216', '_i217', '_i218', '_i219', '_i22', '_i220', '_i221', '_i222', '_i223', '_i224', '_i225', '_i226', '_i227', '_i228', '_i229', '_i23', '_i230', '_i231', '_i232', '_i233', '_i234', '_i235', '_i236', '_i237', '_i238', '_i239', '_i24', '_i240', '_i241', '_i242', '_i243', '_i244', '_i245', '_i246', '_i247', '_i248', '_i249', '_i25', '_i250', '_i251', '_i252', '_i253', '_i254', '_i255', '_i256', '_i257', '_i258', '_i259', '_i26', '_i260', '_i261', '_i262', '_i263', '_i264', '_i265', '_i266', '_i267', '_i268', '_i269', '_i27', '_i270', '_i271', '_i272', '_i273', '_i274', '_i275', '_i276', '_i277', '_i278', '_i279', '_i28', '_i280', '_i281', '_i282', '_i283', '_i284', '_i285', '_i286', '_i287', '_i288', '_i289', '_i29', '_i290', '_i291', '_i292', '_i293', '_i294', '_i295', '_i296', '_i297', '_i298', '_i299', '_i3', '_i30', '_i300', '_i301', '_i302', '_i303', '_i304', '_i305', '_i306', '_i307', '_i308', '_i309', '_i31', '_i310', '_i311', '_i312', '_i313', '_i314', '_i315', '_i316', '_i317', '_i318', '_i319', '_i32', '_i320', '_i321', '_i322', '_i323', '_i324', '_i325', '_i326', '_i327', '_i328', '_i329', '_i33', '_i330', '_i331', '_i332', '_i333', '_i334', '_i335', '_i336', '_i337', '_i338', '_i339', '_i34', '_i340', '_i341', '_i342', '_i343', '_i344', '_i345', '_i346', '_i347', '_i348', '_i349', '_i35', '_i350', '_i351', '_i352', '_i353', '_i354', '_i355', '_i356', '_i357', '_i358', '_i359', '_i36', '_i360', '_i361', '_i362', '_i363', '_i364', '_i365', '_i366', '_i367', '_i368', '_i369', '_i37', '_i370', '_i371', '_i372', '_i373', '_i374', '_i375', '_i376', '_i377', '_i378', '_i379', '_i38', '_i380', '_i381', '_i382', '_i383', '_i384', '_i385', '_i386', '_i387', '_i388', '_i389', '_i39', '_i390', '_i391', '_i392', '_i393', '_i394', '_i395', '_i396', '_i397', '_i398', '_i399', '_i4', '_i40', '_i400', '_i401', '_i402', '_i403', '_i404', '_i405', '_i406', '_i407', '_i408', '_i409', '_i41', '_i410', '_i411', '_i412', '_i413', '_i414', '_i415', '_i416', '_i417', '_i418', '_i419', '_i42', '_i420', '_i421', '_i422', '_i423', '_i424', '_i425', '_i426', '_i427', '_i428', '_i429', '_i43', '_i430', '_i431', '_i432', '_i433', '_i434', '_i435', '_i436', '_i437', '_i438', '_i439', '_i44', '_i440', '_i441', '_i442', '_i443', '_i444', '_i445', '_i446', '_i447', '_i448', '_i449', '_i45', '_i450', '_i451', '_i46', '_i47', '_i48', '_i49', '_i5', '_i50', '_i51', '_i52', '_i53', '_i54', '_i55', '_i56', '_i57', '_i58', '_i59', '_i6', '_i60', '_i61', '_i62', '_i63', '_i64', '_i65', '_i66', '_i67', '_i68', '_i69', '_i7', '_i70', '_i71', '_i72', '_i73', '_i74', '_i75', '_i76', '_i77', '_i78', '_i79', '_i8', '_i80', '_i81', '_i82', '_i83', '_i84', '_i85', '_i86', '_i87', '_i88', '_i89', '_i9', '_i90', '_i91', '_i92', '_i93', '_i94', '_i95', '_i96', '_i97', '_i98', '_i99', '_ih', '_ii', '_iii', '_oh', 'a', 'add', 'b', 'bank', 'bank_name', 'betavariate', 'branch', 'c', 'choice', 'choices', 'curry', 'customer1', 'customer2', 'datetime', 'decorator1', 'decorator2', 'deepcopy', 'employee_generator', 'employee_list', 'exit', 'expovariate', 'f', 'f1', 'f2', 'fact', 'fact1', 'facto', 'fahrenheit', 'g', 'gammavariate', 'gauss', 'gen', 'get_ipython', 'getrandbits', 'getstate', 'i', 'ifsc', 'isEven', 'iter_obj', 'j', 'l', 'list', 'lognormvariate', 'myFunction', 'myfunc', 'myfunc1', 'myfunc2', 'name', 'normalvariate', 'open', 'os', 'outer', 'paretovariate', 'pd', 'pincode', 'place', 'preparation', 'q', 'quit', 'randbytes', 'randint', 'random', 'randrange', 'read_csv', 'read_excel', 'read_hdf', 'reduce', 'result', 's', 'sample', 'seed', 'setstate', 'shuffle', 'squareit', 'sum', 'sum_sub', 't_temp', 'tech', 'temp', 'time', 'triangular', 'uniform', 'vonmisesvariate', 'weibullvariate', 'welcome', 'wish', 'x', 'y']\n"
     ]
    }
   ],
   "source": [
    "print(dir())"
   ]
  },
  {
   "cell_type": "code",
   "execution_count": 453,
   "id": "e5bf1154-9e68-49c3-ab5c-7ef96b4c1cf9",
   "metadata": {},
   "outputs": [],
   "source": [
    "from math import *"
   ]
  },
  {
   "cell_type": "code",
   "execution_count": 463,
   "id": "ee698d01-150d-4e1a-bc6e-92a13b8396df",
   "metadata": {},
   "outputs": [
    {
     "name": "stdout",
     "output_type": "stream",
     "text": [
      "2.0\n"
     ]
    }
   ],
   "source": [
    "print(sqrt(4))"
   ]
  },
  {
   "cell_type": "code",
   "execution_count": 465,
   "id": "042835c7-ee1d-4c7e-b6a4-a910dee54be4",
   "metadata": {},
   "outputs": [
    {
     "name": "stdout",
     "output_type": "stream",
     "text": [
      "11\n"
     ]
    }
   ],
   "source": [
    "print(ceil(10.1))"
   ]
  },
  {
   "cell_type": "code",
   "execution_count": 466,
   "id": "3937a9e2-7fa7-4d6d-acae-1c801b387e1e",
   "metadata": {},
   "outputs": [],
   "source": [
    "from random import randint"
   ]
  },
  {
   "cell_type": "code",
   "execution_count": 468,
   "id": "8175cde5-de78-4028-96b7-228925fdf2d3",
   "metadata": {},
   "outputs": [
    {
     "name": "stdout",
     "output_type": "stream",
     "text": [
      "48\n",
      "24\n",
      "75\n",
      "25\n",
      "72\n",
      "91\n",
      "46\n",
      "3\n",
      "89\n",
      "4\n"
     ]
    }
   ],
   "source": [
    "for i in range(0,10):\n",
    "    print(randint(1,100))"
   ]
  },
  {
   "cell_type": "code",
   "execution_count": 469,
   "id": "6a6b0880-7f06-4ea5-bf91-606874ff8b5e",
   "metadata": {},
   "outputs": [],
   "source": [
    "import numpy as np"
   ]
  },
  {
   "cell_type": "code",
   "execution_count": 473,
   "id": "28ee92a8-378c-40ec-86b7-93d67c61ab4e",
   "metadata": {},
   "outputs": [],
   "source": [
    "from pandas import read_csv"
   ]
  },
  {
   "cell_type": "code",
   "execution_count": 474,
   "id": "57b6f731-5b20-4e4d-a7d2-477cc6cbefad",
   "metadata": {},
   "outputs": [],
   "source": [
    "import pandas"
   ]
  },
  {
   "cell_type": "code",
   "execution_count": 475,
   "id": "1644d231-ea7d-452e-ab8e-0e00a55f8b00",
   "metadata": {},
   "outputs": [
    {
     "ename": "TypeError",
     "evalue": "read_csv() missing 1 required positional argument: 'filepath_or_buffer'",
     "output_type": "error",
     "traceback": [
      "\u001b[1;31m---------------------------------------------------------------------------\u001b[0m",
      "\u001b[1;31mTypeError\u001b[0m                                 Traceback (most recent call last)",
      "Cell \u001b[1;32mIn[475], line 1\u001b[0m\n\u001b[1;32m----> 1\u001b[0m \u001b[43mpandas\u001b[49m\u001b[38;5;241;43m.\u001b[39;49m\u001b[43mread_csv\u001b[49m\u001b[43m(\u001b[49m\u001b[43m)\u001b[49m\n",
      "\u001b[1;31mTypeError\u001b[0m: read_csv() missing 1 required positional argument: 'filepath_or_buffer'"
     ]
    }
   ],
   "source": [
    "pandas.read_csv()"
   ]
  },
  {
   "cell_type": "code",
   "execution_count": 478,
   "id": "73e93685-1258-4d5e-afbb-a72e1ceca9f4",
   "metadata": {},
   "outputs": [
    {
     "name": "stderr",
     "output_type": "stream",
     "text": [
      "IOPub data rate exceeded.\n",
      "The Jupyter server will temporarily stop sending output\n",
      "to the client in order to avoid crashing it.\n",
      "To change this limit, set the config variable\n",
      "`--ServerApp.iopub_data_rate_limit`.\n",
      "\n",
      "Current values:\n",
      "ServerApp.iopub_data_rate_limit=1000000.0 (bytes/sec)\n",
      "ServerApp.rate_limit_window=3.0 (secs)\n",
      "\n"
     ]
    }
   ],
   "source": [
    "help(pandas)"
   ]
  },
  {
   "cell_type": "code",
   "execution_count": 479,
   "id": "faffde4f-91e7-4531-b685-76399a137808",
   "metadata": {},
   "outputs": [],
   "source": [
    "from random import random\n"
   ]
  },
  {
   "cell_type": "code",
   "execution_count": 480,
   "id": "d074cf3b-735f-4cec-82d4-56575e2d433e",
   "metadata": {},
   "outputs": [],
   "source": [
    "from functools import reduce"
   ]
  },
  {
   "cell_type": "code",
   "execution_count": 481,
   "id": "7b09136c-eaec-4324-a31e-fcdf4b2db920",
   "metadata": {},
   "outputs": [
    {
     "data": {
      "text/plain": [
       "\u001b[1;31mSignature:\u001b[0m \u001b[0mrandom\u001b[0m\u001b[1;33m(\u001b[0m\u001b[1;33m)\u001b[0m\u001b[1;33m\u001b[0m\u001b[1;33m\u001b[0m\u001b[0m\n",
       "\u001b[1;31mDocstring:\u001b[0m random() -> x in the interval [0, 1).\n",
       "\u001b[1;31mType:\u001b[0m      builtin_function_or_method"
      ]
     },
     "metadata": {},
     "output_type": "display_data"
    }
   ],
   "source": [
    "random?\n"
   ]
  },
  {
   "cell_type": "code",
   "execution_count": 482,
   "id": "5b121ed9-0ab8-43d3-9bff-63c7f762ab85",
   "metadata": {},
   "outputs": [
    {
     "data": {
      "text/plain": [
       "0.013731568221285295"
      ]
     },
     "execution_count": 482,
     "metadata": {},
     "output_type": "execute_result"
    }
   ],
   "source": [
    "random()"
   ]
  },
  {
   "cell_type": "code",
   "execution_count": 483,
   "id": "b250a5d2-b65e-46da-abb4-6ad936e43260",
   "metadata": {},
   "outputs": [
    {
     "data": {
      "text/plain": [
       "0.5966466453698032"
      ]
     },
     "execution_count": 483,
     "metadata": {},
     "output_type": "execute_result"
    }
   ],
   "source": [
    "random()"
   ]
  },
  {
   "cell_type": "code",
   "execution_count": 484,
   "id": "a2d190ef-17ce-4051-a26a-41d2c2c2f1d4",
   "metadata": {},
   "outputs": [],
   "source": [
    "from random import randint"
   ]
  },
  {
   "cell_type": "code",
   "execution_count": 485,
   "id": "0ee891c3-061c-4210-8344-9424e9c08527",
   "metadata": {},
   "outputs": [
    {
     "data": {
      "text/plain": [
       "9"
      ]
     },
     "execution_count": 485,
     "metadata": {},
     "output_type": "execute_result"
    }
   ],
   "source": [
    "randint(1,10)"
   ]
  },
  {
   "cell_type": "code",
   "execution_count": 486,
   "id": "b059ee5a-4a23-4de6-a0a5-2775dfe9bdc1",
   "metadata": {},
   "outputs": [
    {
     "data": {
      "text/plain": [
       "4"
      ]
     },
     "execution_count": 486,
     "metadata": {},
     "output_type": "execute_result"
    }
   ],
   "source": [
    "randint(1,10)"
   ]
  },
  {
   "cell_type": "code",
   "execution_count": 489,
   "id": "af0de867-1186-4c50-a0e7-5f86c4501d5f",
   "metadata": {},
   "outputs": [],
   "source": [
    "from random import uniform,randint"
   ]
  },
  {
   "cell_type": "code",
   "execution_count": 488,
   "id": "bfa85d3e-8a93-4abf-9584-aac9eddf59ab",
   "metadata": {},
   "outputs": [
    {
     "name": "stdout",
     "output_type": "stream",
     "text": [
      "4.607594127840342\n",
      "4.643031715086469\n",
      "1.6551107250981256\n",
      "9.079817108276245\n",
      "5.013376660403672\n",
      "8.747311464231682\n",
      "6.9876860976617\n",
      "7.805741231683115\n",
      "4.10996737460421\n",
      "3.6102979766564367\n"
     ]
    }
   ],
   "source": [
    "for i in range(10):\n",
    "    print(uniform(1,10))"
   ]
  },
  {
   "cell_type": "code",
   "execution_count": 490,
   "id": "cfd72330-fa5a-4bb1-92f3-542280cbb8c9",
   "metadata": {},
   "outputs": [
    {
     "data": {
      "text/plain": [
       "3.5726557301367983"
      ]
     },
     "execution_count": 490,
     "metadata": {},
     "output_type": "execute_result"
    }
   ],
   "source": [
    "uniform(1,5)"
   ]
  },
  {
   "cell_type": "code",
   "execution_count": 491,
   "id": "03e89d8d-67a1-4e61-be50-70708d2016e9",
   "metadata": {},
   "outputs": [
    {
     "name": "stdout",
     "output_type": "stream",
     "text": [
      "8\n",
      "6\n",
      "0\n",
      "9\n",
      "8\n",
      "0\n",
      "9\n",
      "7\n",
      "7\n",
      "9\n"
     ]
    }
   ],
   "source": [
    "for i in range(10):\n",
    "    print(randrange(10))"
   ]
  },
  {
   "cell_type": "markdown",
   "id": "c3092775-e61c-4b25-b19f-55412885a547",
   "metadata": {},
   "source": [
    "#### WAP to generate OTP"
   ]
  },
  {
   "cell_type": "code",
   "execution_count": 493,
   "id": "31cb35f4-cdc5-44a8-ab92-28883019bb65",
   "metadata": {},
   "outputs": [],
   "source": [
    "from random import randint"
   ]
  },
  {
   "cell_type": "code",
   "execution_count": 497,
   "id": "4d06406c-85fe-4bdc-9678-53191c4a9826",
   "metadata": {},
   "outputs": [
    {
     "name": "stdout",
     "output_type": "stream",
     "text": [
      "865197\n"
     ]
    }
   ],
   "source": [
    "for i in range(1):\n",
    "    print(randint(0,9),randint(0,9),randint(0,9),randint(0,9),randint(0,9),randint(0,9),sep='')"
   ]
  },
  {
   "cell_type": "code",
   "execution_count": 498,
   "id": "fd16a6bf-e813-4511-b535-b6d90bc26241",
   "metadata": {},
   "outputs": [
    {
     "name": "stdout",
     "output_type": "stream",
     "text": [
      "474530\n",
      "090891\n",
      "068605\n",
      "248321\n",
      "760394\n",
      "364984\n",
      "260821\n",
      "839856\n",
      "957109\n",
      "361572\n"
     ]
    }
   ],
   "source": [
    "for i in range(10):\n",
    "    print(randint(0,9),randint(0,9),randint(0,9),randint(0,9),randint(0,9),randint(0,9),sep='')"
   ]
  },
  {
   "cell_type": "code",
   "execution_count": 500,
   "id": "5ef78e97-6902-4f40-963f-c955d912f3f8",
   "metadata": {},
   "outputs": [
    {
     "name": "stdout",
     "output_type": "stream",
     "text": [
      "232866\n"
     ]
    }
   ],
   "source": [
    "for i in range(1):\n",
    "    print(randint(100000,999999))"
   ]
  },
  {
   "cell_type": "code",
   "execution_count": 501,
   "id": "8850e5ee-a765-4538-8adf-60c0b63a0c83",
   "metadata": {},
   "outputs": [
    {
     "name": "stdout",
     "output_type": "stream",
     "text": [
      "204810\n",
      "498536\n",
      "557079\n",
      "330145\n",
      "470615\n",
      "342738\n",
      "441584\n",
      "825732\n",
      "443305\n",
      "453518\n"
     ]
    }
   ],
   "source": [
    "for i in range(10):\n",
    "    print(randint(100000,999999))"
   ]
  },
  {
   "cell_type": "markdown",
   "id": "83a03f6a-352c-4cdf-8185-b648fcee9009",
   "metadata": {},
   "source": [
    "wap to get random captcha"
   ]
  },
  {
   "cell_type": "code",
   "execution_count": 504,
   "id": "43aa2f43-8b95-4d5f-a006-b068190bc1c6",
   "metadata": {},
   "outputs": [
    {
     "name": "stdout",
     "output_type": "stream",
     "text": [
      "B 9 H 5 X\n"
     ]
    }
   ],
   "source": [
    "for i in range(1):\n",
    "    print(chr(randint(65,65+25)),randint(0,9),chr(randint(65,65+25)),randint(0,9),chr(randint(65,65+25)))"
   ]
  },
  {
   "cell_type": "code",
   "execution_count": 506,
   "id": "361b19e2-a555-4d4c-b5ac-1b86a4568de4",
   "metadata": {},
   "outputs": [
    {
     "ename": "ModuleNotFoundError",
     "evalue": "No module named 'sklearn'",
     "output_type": "error",
     "traceback": [
      "\u001b[1;31m---------------------------------------------------------------------------\u001b[0m",
      "\u001b[1;31mModuleNotFoundError\u001b[0m                       Traceback (most recent call last)",
      "Cell \u001b[1;32mIn[506], line 1\u001b[0m\n\u001b[1;32m----> 1\u001b[0m \u001b[38;5;28;01mfrom\u001b[39;00m \u001b[38;5;21;01msklearn\u001b[39;00m\u001b[38;5;21;01m.\u001b[39;00m\u001b[38;5;21;01mneighnbors\u001b[39;00m \u001b[38;5;28;01mimport\u001b[39;00m KNN\n",
      "\u001b[1;31mModuleNotFoundError\u001b[0m: No module named 'sklearn'"
     ]
    }
   ],
   "source": [
    "from sklearn.neighnbors import KNN"
   ]
  },
  {
   "cell_type": "markdown",
   "id": "19c2d918-7d2a-4aae-9d88-cd182d2d87c5",
   "metadata": {},
   "source": [
    "exception handling : graceful termination of a program "
   ]
  },
  {
   "cell_type": "markdown",
   "id": "f382ff26-512c-4db9-83fd-38785b436565",
   "metadata": {},
   "source": [
    "exception is an unwanted and unexpected event that disturbs normal flow of execution"
   ]
  },
  {
   "cell_type": "code",
   "execution_count": 509,
   "id": "23b24240-68bf-4042-98ed-250379cc540b",
   "metadata": {},
   "outputs": [
    {
     "ename": "IndentationError",
     "evalue": "expected an indented block after 'try' statement on line 1 (3163979408.py, line 2)",
     "output_type": "error",
     "traceback": [
      "\u001b[1;36m  Cell \u001b[1;32mIn[509], line 2\u001b[1;36m\u001b[0m\n\u001b[1;33m    except:\u001b[0m\n\u001b[1;37m    ^\u001b[0m\n\u001b[1;31mIndentationError\u001b[0m\u001b[1;31m:\u001b[0m expected an indented block after 'try' statement on line 1\n"
     ]
    }
   ],
   "source": [
    "try:\n",
    "except:\n"
   ]
  },
  {
   "cell_type": "code",
   "execution_count": 510,
   "id": "776d2360-fcbe-41fe-9129-3aafff2a7b08",
   "metadata": {},
   "outputs": [
    {
     "ename": "SyntaxError",
     "evalue": "unexpected character after line continuation character (1520009998.py, line 1)",
     "output_type": "error",
     "traceback": [
      "\u001b[1;36m  Cell \u001b[1;32mIn[510], line 1\u001b[1;36m\u001b[0m\n\u001b[1;33m    C:\\Python\\Data\\sample.txt\u001b[0m\n\u001b[1;37m       ^\u001b[0m\n\u001b[1;31mSyntaxError\u001b[0m\u001b[1;31m:\u001b[0m unexpected character after line continuation character\n"
     ]
    }
   ],
   "source": [
    "C:\\Python\\Data\\sample.txt"
   ]
  },
  {
   "cell_type": "code",
   "execution_count": 511,
   "id": "a667f672-8286-4187-8080-55d422e85a59",
   "metadata": {},
   "outputs": [
    {
     "ename": "FileNotFoundError",
     "evalue": "[Errno 2] No such file or directory: 'C:\\\\Python\\\\Data\\\\sample.txt'",
     "output_type": "error",
     "traceback": [
      "\u001b[1;31m---------------------------------------------------------------------------\u001b[0m",
      "\u001b[1;31mFileNotFoundError\u001b[0m                         Traceback (most recent call last)",
      "Cell \u001b[1;32mIn[511], line 1\u001b[0m\n\u001b[1;32m----> 1\u001b[0m \u001b[43mpd\u001b[49m\u001b[38;5;241;43m.\u001b[39;49m\u001b[43mread_csv\u001b[49m\u001b[43m(\u001b[49m\u001b[38;5;124;43m\"\u001b[39;49m\u001b[38;5;124;43mC:\u001b[39;49m\u001b[38;5;124;43m\\\u001b[39;49m\u001b[38;5;124;43mPython\u001b[39;49m\u001b[38;5;124;43m\\\u001b[39;49m\u001b[38;5;124;43mData\u001b[39;49m\u001b[38;5;124;43m\\\u001b[39;49m\u001b[38;5;124;43msample.txt\u001b[39;49m\u001b[38;5;124;43m\"\u001b[39;49m\u001b[43m)\u001b[49m\n",
      "File \u001b[1;32m~\\AppData\\Local\\Packages\\PythonSoftwareFoundation.Python.3.11_qbz5n2kfra8p0\\LocalCache\\local-packages\\Python311\\site-packages\\pandas\\io\\parsers\\readers.py:1026\u001b[0m, in \u001b[0;36mread_csv\u001b[1;34m(filepath_or_buffer, sep, delimiter, header, names, index_col, usecols, dtype, engine, converters, true_values, false_values, skipinitialspace, skiprows, skipfooter, nrows, na_values, keep_default_na, na_filter, verbose, skip_blank_lines, parse_dates, infer_datetime_format, keep_date_col, date_parser, date_format, dayfirst, cache_dates, iterator, chunksize, compression, thousands, decimal, lineterminator, quotechar, quoting, doublequote, escapechar, comment, encoding, encoding_errors, dialect, on_bad_lines, delim_whitespace, low_memory, memory_map, float_precision, storage_options, dtype_backend)\u001b[0m\n\u001b[0;32m   1013\u001b[0m kwds_defaults \u001b[38;5;241m=\u001b[39m _refine_defaults_read(\n\u001b[0;32m   1014\u001b[0m     dialect,\n\u001b[0;32m   1015\u001b[0m     delimiter,\n\u001b[1;32m   (...)\u001b[0m\n\u001b[0;32m   1022\u001b[0m     dtype_backend\u001b[38;5;241m=\u001b[39mdtype_backend,\n\u001b[0;32m   1023\u001b[0m )\n\u001b[0;32m   1024\u001b[0m kwds\u001b[38;5;241m.\u001b[39mupdate(kwds_defaults)\n\u001b[1;32m-> 1026\u001b[0m \u001b[38;5;28;01mreturn\u001b[39;00m \u001b[43m_read\u001b[49m\u001b[43m(\u001b[49m\u001b[43mfilepath_or_buffer\u001b[49m\u001b[43m,\u001b[49m\u001b[43m \u001b[49m\u001b[43mkwds\u001b[49m\u001b[43m)\u001b[49m\n",
      "File \u001b[1;32m~\\AppData\\Local\\Packages\\PythonSoftwareFoundation.Python.3.11_qbz5n2kfra8p0\\LocalCache\\local-packages\\Python311\\site-packages\\pandas\\io\\parsers\\readers.py:620\u001b[0m, in \u001b[0;36m_read\u001b[1;34m(filepath_or_buffer, kwds)\u001b[0m\n\u001b[0;32m    617\u001b[0m _validate_names(kwds\u001b[38;5;241m.\u001b[39mget(\u001b[38;5;124m\"\u001b[39m\u001b[38;5;124mnames\u001b[39m\u001b[38;5;124m\"\u001b[39m, \u001b[38;5;28;01mNone\u001b[39;00m))\n\u001b[0;32m    619\u001b[0m \u001b[38;5;66;03m# Create the parser.\u001b[39;00m\n\u001b[1;32m--> 620\u001b[0m parser \u001b[38;5;241m=\u001b[39m \u001b[43mTextFileReader\u001b[49m\u001b[43m(\u001b[49m\u001b[43mfilepath_or_buffer\u001b[49m\u001b[43m,\u001b[49m\u001b[43m \u001b[49m\u001b[38;5;241;43m*\u001b[39;49m\u001b[38;5;241;43m*\u001b[39;49m\u001b[43mkwds\u001b[49m\u001b[43m)\u001b[49m\n\u001b[0;32m    622\u001b[0m \u001b[38;5;28;01mif\u001b[39;00m chunksize \u001b[38;5;129;01mor\u001b[39;00m iterator:\n\u001b[0;32m    623\u001b[0m     \u001b[38;5;28;01mreturn\u001b[39;00m parser\n",
      "File \u001b[1;32m~\\AppData\\Local\\Packages\\PythonSoftwareFoundation.Python.3.11_qbz5n2kfra8p0\\LocalCache\\local-packages\\Python311\\site-packages\\pandas\\io\\parsers\\readers.py:1620\u001b[0m, in \u001b[0;36mTextFileReader.__init__\u001b[1;34m(self, f, engine, **kwds)\u001b[0m\n\u001b[0;32m   1617\u001b[0m     \u001b[38;5;28mself\u001b[39m\u001b[38;5;241m.\u001b[39moptions[\u001b[38;5;124m\"\u001b[39m\u001b[38;5;124mhas_index_names\u001b[39m\u001b[38;5;124m\"\u001b[39m] \u001b[38;5;241m=\u001b[39m kwds[\u001b[38;5;124m\"\u001b[39m\u001b[38;5;124mhas_index_names\u001b[39m\u001b[38;5;124m\"\u001b[39m]\n\u001b[0;32m   1619\u001b[0m \u001b[38;5;28mself\u001b[39m\u001b[38;5;241m.\u001b[39mhandles: IOHandles \u001b[38;5;241m|\u001b[39m \u001b[38;5;28;01mNone\u001b[39;00m \u001b[38;5;241m=\u001b[39m \u001b[38;5;28;01mNone\u001b[39;00m\n\u001b[1;32m-> 1620\u001b[0m \u001b[38;5;28mself\u001b[39m\u001b[38;5;241m.\u001b[39m_engine \u001b[38;5;241m=\u001b[39m \u001b[38;5;28;43mself\u001b[39;49m\u001b[38;5;241;43m.\u001b[39;49m\u001b[43m_make_engine\u001b[49m\u001b[43m(\u001b[49m\u001b[43mf\u001b[49m\u001b[43m,\u001b[49m\u001b[43m \u001b[49m\u001b[38;5;28;43mself\u001b[39;49m\u001b[38;5;241;43m.\u001b[39;49m\u001b[43mengine\u001b[49m\u001b[43m)\u001b[49m\n",
      "File \u001b[1;32m~\\AppData\\Local\\Packages\\PythonSoftwareFoundation.Python.3.11_qbz5n2kfra8p0\\LocalCache\\local-packages\\Python311\\site-packages\\pandas\\io\\parsers\\readers.py:1880\u001b[0m, in \u001b[0;36mTextFileReader._make_engine\u001b[1;34m(self, f, engine)\u001b[0m\n\u001b[0;32m   1878\u001b[0m     \u001b[38;5;28;01mif\u001b[39;00m \u001b[38;5;124m\"\u001b[39m\u001b[38;5;124mb\u001b[39m\u001b[38;5;124m\"\u001b[39m \u001b[38;5;129;01mnot\u001b[39;00m \u001b[38;5;129;01min\u001b[39;00m mode:\n\u001b[0;32m   1879\u001b[0m         mode \u001b[38;5;241m+\u001b[39m\u001b[38;5;241m=\u001b[39m \u001b[38;5;124m\"\u001b[39m\u001b[38;5;124mb\u001b[39m\u001b[38;5;124m\"\u001b[39m\n\u001b[1;32m-> 1880\u001b[0m \u001b[38;5;28mself\u001b[39m\u001b[38;5;241m.\u001b[39mhandles \u001b[38;5;241m=\u001b[39m \u001b[43mget_handle\u001b[49m\u001b[43m(\u001b[49m\n\u001b[0;32m   1881\u001b[0m \u001b[43m    \u001b[49m\u001b[43mf\u001b[49m\u001b[43m,\u001b[49m\n\u001b[0;32m   1882\u001b[0m \u001b[43m    \u001b[49m\u001b[43mmode\u001b[49m\u001b[43m,\u001b[49m\n\u001b[0;32m   1883\u001b[0m \u001b[43m    \u001b[49m\u001b[43mencoding\u001b[49m\u001b[38;5;241;43m=\u001b[39;49m\u001b[38;5;28;43mself\u001b[39;49m\u001b[38;5;241;43m.\u001b[39;49m\u001b[43moptions\u001b[49m\u001b[38;5;241;43m.\u001b[39;49m\u001b[43mget\u001b[49m\u001b[43m(\u001b[49m\u001b[38;5;124;43m\"\u001b[39;49m\u001b[38;5;124;43mencoding\u001b[39;49m\u001b[38;5;124;43m\"\u001b[39;49m\u001b[43m,\u001b[49m\u001b[43m \u001b[49m\u001b[38;5;28;43;01mNone\u001b[39;49;00m\u001b[43m)\u001b[49m\u001b[43m,\u001b[49m\n\u001b[0;32m   1884\u001b[0m \u001b[43m    \u001b[49m\u001b[43mcompression\u001b[49m\u001b[38;5;241;43m=\u001b[39;49m\u001b[38;5;28;43mself\u001b[39;49m\u001b[38;5;241;43m.\u001b[39;49m\u001b[43moptions\u001b[49m\u001b[38;5;241;43m.\u001b[39;49m\u001b[43mget\u001b[49m\u001b[43m(\u001b[49m\u001b[38;5;124;43m\"\u001b[39;49m\u001b[38;5;124;43mcompression\u001b[39;49m\u001b[38;5;124;43m\"\u001b[39;49m\u001b[43m,\u001b[49m\u001b[43m \u001b[49m\u001b[38;5;28;43;01mNone\u001b[39;49;00m\u001b[43m)\u001b[49m\u001b[43m,\u001b[49m\n\u001b[0;32m   1885\u001b[0m \u001b[43m    \u001b[49m\u001b[43mmemory_map\u001b[49m\u001b[38;5;241;43m=\u001b[39;49m\u001b[38;5;28;43mself\u001b[39;49m\u001b[38;5;241;43m.\u001b[39;49m\u001b[43moptions\u001b[49m\u001b[38;5;241;43m.\u001b[39;49m\u001b[43mget\u001b[49m\u001b[43m(\u001b[49m\u001b[38;5;124;43m\"\u001b[39;49m\u001b[38;5;124;43mmemory_map\u001b[39;49m\u001b[38;5;124;43m\"\u001b[39;49m\u001b[43m,\u001b[49m\u001b[43m \u001b[49m\u001b[38;5;28;43;01mFalse\u001b[39;49;00m\u001b[43m)\u001b[49m\u001b[43m,\u001b[49m\n\u001b[0;32m   1886\u001b[0m \u001b[43m    \u001b[49m\u001b[43mis_text\u001b[49m\u001b[38;5;241;43m=\u001b[39;49m\u001b[43mis_text\u001b[49m\u001b[43m,\u001b[49m\n\u001b[0;32m   1887\u001b[0m \u001b[43m    \u001b[49m\u001b[43merrors\u001b[49m\u001b[38;5;241;43m=\u001b[39;49m\u001b[38;5;28;43mself\u001b[39;49m\u001b[38;5;241;43m.\u001b[39;49m\u001b[43moptions\u001b[49m\u001b[38;5;241;43m.\u001b[39;49m\u001b[43mget\u001b[49m\u001b[43m(\u001b[49m\u001b[38;5;124;43m\"\u001b[39;49m\u001b[38;5;124;43mencoding_errors\u001b[39;49m\u001b[38;5;124;43m\"\u001b[39;49m\u001b[43m,\u001b[49m\u001b[43m \u001b[49m\u001b[38;5;124;43m\"\u001b[39;49m\u001b[38;5;124;43mstrict\u001b[39;49m\u001b[38;5;124;43m\"\u001b[39;49m\u001b[43m)\u001b[49m\u001b[43m,\u001b[49m\n\u001b[0;32m   1888\u001b[0m \u001b[43m    \u001b[49m\u001b[43mstorage_options\u001b[49m\u001b[38;5;241;43m=\u001b[39;49m\u001b[38;5;28;43mself\u001b[39;49m\u001b[38;5;241;43m.\u001b[39;49m\u001b[43moptions\u001b[49m\u001b[38;5;241;43m.\u001b[39;49m\u001b[43mget\u001b[49m\u001b[43m(\u001b[49m\u001b[38;5;124;43m\"\u001b[39;49m\u001b[38;5;124;43mstorage_options\u001b[39;49m\u001b[38;5;124;43m\"\u001b[39;49m\u001b[43m,\u001b[49m\u001b[43m \u001b[49m\u001b[38;5;28;43;01mNone\u001b[39;49;00m\u001b[43m)\u001b[49m\u001b[43m,\u001b[49m\n\u001b[0;32m   1889\u001b[0m \u001b[43m\u001b[49m\u001b[43m)\u001b[49m\n\u001b[0;32m   1890\u001b[0m \u001b[38;5;28;01massert\u001b[39;00m \u001b[38;5;28mself\u001b[39m\u001b[38;5;241m.\u001b[39mhandles \u001b[38;5;129;01mis\u001b[39;00m \u001b[38;5;129;01mnot\u001b[39;00m \u001b[38;5;28;01mNone\u001b[39;00m\n\u001b[0;32m   1891\u001b[0m f \u001b[38;5;241m=\u001b[39m \u001b[38;5;28mself\u001b[39m\u001b[38;5;241m.\u001b[39mhandles\u001b[38;5;241m.\u001b[39mhandle\n",
      "File \u001b[1;32m~\\AppData\\Local\\Packages\\PythonSoftwareFoundation.Python.3.11_qbz5n2kfra8p0\\LocalCache\\local-packages\\Python311\\site-packages\\pandas\\io\\common.py:873\u001b[0m, in \u001b[0;36mget_handle\u001b[1;34m(path_or_buf, mode, encoding, compression, memory_map, is_text, errors, storage_options)\u001b[0m\n\u001b[0;32m    868\u001b[0m \u001b[38;5;28;01melif\u001b[39;00m \u001b[38;5;28misinstance\u001b[39m(handle, \u001b[38;5;28mstr\u001b[39m):\n\u001b[0;32m    869\u001b[0m     \u001b[38;5;66;03m# Check whether the filename is to be opened in binary mode.\u001b[39;00m\n\u001b[0;32m    870\u001b[0m     \u001b[38;5;66;03m# Binary mode does not support 'encoding' and 'newline'.\u001b[39;00m\n\u001b[0;32m    871\u001b[0m     \u001b[38;5;28;01mif\u001b[39;00m ioargs\u001b[38;5;241m.\u001b[39mencoding \u001b[38;5;129;01mand\u001b[39;00m \u001b[38;5;124m\"\u001b[39m\u001b[38;5;124mb\u001b[39m\u001b[38;5;124m\"\u001b[39m \u001b[38;5;129;01mnot\u001b[39;00m \u001b[38;5;129;01min\u001b[39;00m ioargs\u001b[38;5;241m.\u001b[39mmode:\n\u001b[0;32m    872\u001b[0m         \u001b[38;5;66;03m# Encoding\u001b[39;00m\n\u001b[1;32m--> 873\u001b[0m         handle \u001b[38;5;241m=\u001b[39m \u001b[38;5;28;43mopen\u001b[39;49m\u001b[43m(\u001b[49m\n\u001b[0;32m    874\u001b[0m \u001b[43m            \u001b[49m\u001b[43mhandle\u001b[49m\u001b[43m,\u001b[49m\n\u001b[0;32m    875\u001b[0m \u001b[43m            \u001b[49m\u001b[43mioargs\u001b[49m\u001b[38;5;241;43m.\u001b[39;49m\u001b[43mmode\u001b[49m\u001b[43m,\u001b[49m\n\u001b[0;32m    876\u001b[0m \u001b[43m            \u001b[49m\u001b[43mencoding\u001b[49m\u001b[38;5;241;43m=\u001b[39;49m\u001b[43mioargs\u001b[49m\u001b[38;5;241;43m.\u001b[39;49m\u001b[43mencoding\u001b[49m\u001b[43m,\u001b[49m\n\u001b[0;32m    877\u001b[0m \u001b[43m            \u001b[49m\u001b[43merrors\u001b[49m\u001b[38;5;241;43m=\u001b[39;49m\u001b[43merrors\u001b[49m\u001b[43m,\u001b[49m\n\u001b[0;32m    878\u001b[0m \u001b[43m            \u001b[49m\u001b[43mnewline\u001b[49m\u001b[38;5;241;43m=\u001b[39;49m\u001b[38;5;124;43m\"\u001b[39;49m\u001b[38;5;124;43m\"\u001b[39;49m\u001b[43m,\u001b[49m\n\u001b[0;32m    879\u001b[0m \u001b[43m        \u001b[49m\u001b[43m)\u001b[49m\n\u001b[0;32m    880\u001b[0m     \u001b[38;5;28;01melse\u001b[39;00m:\n\u001b[0;32m    881\u001b[0m         \u001b[38;5;66;03m# Binary mode\u001b[39;00m\n\u001b[0;32m    882\u001b[0m         handle \u001b[38;5;241m=\u001b[39m \u001b[38;5;28mopen\u001b[39m(handle, ioargs\u001b[38;5;241m.\u001b[39mmode)\n",
      "\u001b[1;31mFileNotFoundError\u001b[0m: [Errno 2] No such file or directory: 'C:\\\\Python\\\\Data\\\\sample.txt'"
     ]
    }
   ],
   "source": [
    "pd.read_csv(\"C:\\Python\\Data\\sample.txt\")"
   ]
  },
  {
   "cell_type": "code",
   "execution_count": 512,
   "id": "195bedb4-56ce-4f62-a3d7-fbae54417a83",
   "metadata": {},
   "outputs": [
    {
     "name": "stdout",
     "output_type": "stream",
     "text": [
      "file is not found in the given location\n",
      "execute remaining 100 lines of code\n"
     ]
    }
   ],
   "source": [
    "try:\n",
    "    pd.read_csv(\"C:\\Python\\Data\\sample.txt\")\n",
    "except Exception as msg:\n",
    "    print(\"file is not found in the given location\")\n",
    "print(\"execute remaining 100 lines of code\")"
   ]
  },
  {
   "cell_type": "code",
   "execution_count": 514,
   "id": "06ca5938-b134-44df-9e21-2e362b7367f2",
   "metadata": {},
   "outputs": [
    {
     "name": "stdout",
     "output_type": "stream",
     "text": [
      "execute remaining 100 lines of code\n"
     ]
    }
   ],
   "source": [
    "try:\n",
    "    pd.read_csv(\"C:\\Python\\Data\\sample1.txt\")\n",
    "except Exception as msg:\n",
    "    print(\"file is not found in the given location\")\n",
    "print(\"execute remaining 100 lines of code\")\n"
   ]
  },
  {
   "cell_type": "markdown",
   "id": "1601d876-4a6a-455b-bc8b-a89d70ce67d3",
   "metadata": {},
   "source": [
    "Errors: \n",
    "1. syntax error\n",
    "2. Runtime error"
   ]
  },
  {
   "cell_type": "markdown",
   "id": "3dcc9fa0-a41f-4b6e-9eb4-71db418e8efb",
   "metadata": {},
   "source": [
    "we should fallow the syntax to avoid syntax errors"
   ]
  },
  {
   "cell_type": "markdown",
   "id": "42806b59-bb7e-4e5c-9b33-eac49f632a69",
   "metadata": {},
   "source": [
    "runtime error sample"
   ]
  },
  {
   "cell_type": "code",
   "execution_count": 517,
   "id": "9b5109b1-cbac-4549-8dab-f75986d8dddd",
   "metadata": {},
   "outputs": [
    {
     "name": "stdin",
     "output_type": "stream",
     "text": [
      "enter the first value:  10\n",
      "enter the secound value:  10\n"
     ]
    },
    {
     "name": "stdout",
     "output_type": "stream",
     "text": [
      "1010\n"
     ]
    }
   ],
   "source": [
    "a = (input(\"enter the first value: \"))\n",
    "b = (input(\"enter the secound value: \"))\n",
    "\n",
    "result = a+b\n",
    "print(result)"
   ]
  },
  {
   "cell_type": "code",
   "execution_count": 520,
   "id": "b081395e-70cf-4d58-b436-9d6656100612",
   "metadata": {},
   "outputs": [
    {
     "name": "stdin",
     "output_type": "stream",
     "text": [
      "enter the first value:  10\n",
      "enter the secound value:  one\n"
     ]
    },
    {
     "ename": "ValueError",
     "evalue": "invalid literal for int() with base 10: 'one'",
     "output_type": "error",
     "traceback": [
      "\u001b[1;31m---------------------------------------------------------------------------\u001b[0m",
      "\u001b[1;31mValueError\u001b[0m                                Traceback (most recent call last)",
      "Cell \u001b[1;32mIn[520], line 2\u001b[0m\n\u001b[0;32m      1\u001b[0m a \u001b[38;5;241m=\u001b[39m \u001b[38;5;28mint\u001b[39m(\u001b[38;5;28minput\u001b[39m(\u001b[38;5;124m\"\u001b[39m\u001b[38;5;124menter the first value: \u001b[39m\u001b[38;5;124m\"\u001b[39m))\n\u001b[1;32m----> 2\u001b[0m b \u001b[38;5;241m=\u001b[39m \u001b[38;5;28;43mint\u001b[39;49m\u001b[43m(\u001b[49m\u001b[38;5;28;43minput\u001b[39;49m\u001b[43m(\u001b[49m\u001b[38;5;124;43m\"\u001b[39;49m\u001b[38;5;124;43menter the secound value: \u001b[39;49m\u001b[38;5;124;43m\"\u001b[39;49m\u001b[43m)\u001b[49m\u001b[43m)\u001b[49m\n\u001b[0;32m      4\u001b[0m result \u001b[38;5;241m=\u001b[39m a\u001b[38;5;241m+\u001b[39mb\n\u001b[0;32m      5\u001b[0m \u001b[38;5;28mprint\u001b[39m(result)\n",
      "\u001b[1;31mValueError\u001b[0m: invalid literal for int() with base 10: 'one'"
     ]
    }
   ],
   "source": [
    "a = int(input(\"enter the first value: \"))\n",
    "b = int(input(\"enter the secound value: \"))\n",
    "\n",
    "result = a+b\n",
    "print(result)\n"
   ]
  },
  {
   "cell_type": "code",
   "execution_count": 526,
   "id": "368dbeb0-213b-49b2-ab49-11f67cbdb450",
   "metadata": {},
   "outputs": [
    {
     "name": "stdin",
     "output_type": "stream",
     "text": [
      "enter the first value:  one\n",
      "enter the secound value:  1\n"
     ]
    },
    {
     "name": "stdout",
     "output_type": "stream",
     "text": [
      "one1\n"
     ]
    }
   ],
   "source": [
    "a = input(\"enter the first value: \")\n",
    "b = input(\"enter the secound value: \")\n",
    "\n",
    "try:\n",
    "    result = a+b\n",
    "    print(result)\n",
    "except Exception as msg:\n",
    "    print(\"enter the numeric number\")"
   ]
  },
  {
   "cell_type": "markdown",
   "id": "18cc3dd7-b9e7-4708-b6ec-c1bf589d8122",
   "metadata": {},
   "source": [
    "Exception hierarchy"
   ]
  },
  {
   "cell_type": "code",
   "execution_count": 529,
   "id": "16654345-f30d-4fca-9776-e7a3b293924e",
   "metadata": {},
   "outputs": [
    {
     "name": "stdout",
     "output_type": "stream",
     "text": [
      "100 lines of code\n"
     ]
    },
    {
     "ename": "ZeroDivisionError",
     "evalue": "division by zero",
     "output_type": "error",
     "traceback": [
      "\u001b[1;31m---------------------------------------------------------------------------\u001b[0m",
      "\u001b[1;31mZeroDivisionError\u001b[0m                         Traceback (most recent call last)",
      "Cell \u001b[1;32mIn[529], line 2\u001b[0m\n\u001b[0;32m      1\u001b[0m \u001b[38;5;28mprint\u001b[39m(\u001b[38;5;124m\"\u001b[39m\u001b[38;5;124m100 lines of code\u001b[39m\u001b[38;5;124m\"\u001b[39m)\n\u001b[1;32m----> 2\u001b[0m \u001b[38;5;28mprint\u001b[39m(\u001b[38;5;241;43m10\u001b[39;49m\u001b[38;5;241;43m/\u001b[39;49m\u001b[38;5;241;43m0\u001b[39;49m)\n\u001b[0;32m      3\u001b[0m \u001b[38;5;28mprint\u001b[39m(\u001b[38;5;124m\"\u001b[39m\u001b[38;5;124m100 lines of code\u001b[39m\u001b[38;5;124m\"\u001b[39m)\n",
      "\u001b[1;31mZeroDivisionError\u001b[0m: division by zero"
     ]
    }
   ],
   "source": [
    "print(\"100 lines of code\")\n",
    "print(10/0)\n",
    "print(\"100 lines of code\") ### abnormal termination"
   ]
  },
  {
   "cell_type": "code",
   "execution_count": 531,
   "id": "30403f5e-121c-49e9-8405-8f3ed55a8bef",
   "metadata": {},
   "outputs": [
    {
     "name": "stdout",
     "output_type": "stream",
     "text": [
      "100 lines of code\n",
      "division by zero\n",
      "100 lines of code\n"
     ]
    }
   ],
   "source": [
    "print(\"100 lines of code\")\n",
    "try:\n",
    "    print(10/0)         ## risky code\n",
    "except ZeroDivisionError as msg:\n",
    "    print(msg)\n",
    "print(\"100 lines of code\")  ### termination"
   ]
  },
  {
   "cell_type": "code",
   "execution_count": 533,
   "id": "02e4ae74-4ef9-4b90-ac32-efa7827490b4",
   "metadata": {},
   "outputs": [
    {
     "name": "stdout",
     "output_type": "stream",
     "text": [
      "stmt-1\n",
      "stmt-4\n",
      "stmt-5\n"
     ]
    }
   ],
   "source": [
    "try:\n",
    "    print(\"stmt-1\")\n",
    "    print(\"stmt-2\",10/0)\n",
    "    print(\"stmt-3\")\n",
    "except (ZeroDivisionError,NameError) as msg:\n",
    "    print(\"stmt-4\")\n",
    "print(\"stmt-5\")"
   ]
  },
  {
   "cell_type": "code",
   "execution_count": 534,
   "id": "47a5a75c-2d6b-4155-9667-ab8422cbbe63",
   "metadata": {},
   "outputs": [
    {
     "name": "stdout",
     "output_type": "stream",
     "text": [
      "stmt-1\n",
      "stmt-2\n",
      "stmt-3\n",
      "stmt-5\n"
     ]
    }
   ],
   "source": [
    "try:\n",
    "    print(\"stmt-1\")\n",
    "    print(\"stmt-2\")\n",
    "    print(\"stmt-3\")\n",
    "except (ZeroDivisionError,NameError) as msg:\n",
    "    print(\"stmt-4\")\n",
    "print(\"stmt-5\")"
   ]
  },
  {
   "cell_type": "code",
   "execution_count": 535,
   "id": "88d90185-549a-41e7-821d-9876eb8aff97",
   "metadata": {},
   "outputs": [
    {
     "ename": "TypeError",
     "evalue": "unsupported operand type(s) for /: 'int' and 'str'",
     "output_type": "error",
     "traceback": [
      "\u001b[1;31m---------------------------------------------------------------------------\u001b[0m",
      "\u001b[1;31mTypeError\u001b[0m                                 Traceback (most recent call last)",
      "Cell \u001b[1;32mIn[535], line 1\u001b[0m\n\u001b[1;32m----> 1\u001b[0m \u001b[38;5;241;43m10\u001b[39;49m\u001b[38;5;241;43m/\u001b[39;49m\u001b[38;5;124;43m\"\u001b[39;49m\u001b[38;5;124;43mzero\u001b[39;49m\u001b[38;5;124;43m\"\u001b[39;49m\n",
      "\u001b[1;31mTypeError\u001b[0m: unsupported operand type(s) for /: 'int' and 'str'"
     ]
    }
   ],
   "source": [
    "10/\"zero\""
   ]
  },
  {
   "cell_type": "code",
   "execution_count": 536,
   "id": "c789449d-4aea-4f1a-bfa1-dfa1cb66cf36",
   "metadata": {},
   "outputs": [
    {
     "name": "stdout",
     "output_type": "stream",
     "text": [
      "stmt-1\n"
     ]
    },
    {
     "ename": "TypeError",
     "evalue": "unsupported operand type(s) for /: 'int' and 'str'",
     "output_type": "error",
     "traceback": [
      "\u001b[1;31m---------------------------------------------------------------------------\u001b[0m",
      "\u001b[1;31mTypeError\u001b[0m                                 Traceback (most recent call last)",
      "Cell \u001b[1;32mIn[536], line 3\u001b[0m\n\u001b[0;32m      1\u001b[0m \u001b[38;5;28;01mtry\u001b[39;00m:\n\u001b[0;32m      2\u001b[0m     \u001b[38;5;28mprint\u001b[39m(\u001b[38;5;124m\"\u001b[39m\u001b[38;5;124mstmt-1\u001b[39m\u001b[38;5;124m\"\u001b[39m)\n\u001b[1;32m----> 3\u001b[0m     \u001b[38;5;28mprint\u001b[39m(\u001b[38;5;124m\"\u001b[39m\u001b[38;5;124mstmt-2\u001b[39m\u001b[38;5;124m\"\u001b[39m,\u001b[38;5;241;43m10\u001b[39;49m\u001b[38;5;241;43m/\u001b[39;49m\u001b[38;5;124;43m\"\u001b[39;49m\u001b[38;5;124;43mzero\u001b[39;49m\u001b[38;5;124;43m\"\u001b[39;49m)\n\u001b[0;32m      4\u001b[0m     \u001b[38;5;28mprint\u001b[39m(\u001b[38;5;124m\"\u001b[39m\u001b[38;5;124mstmt-3\u001b[39m\u001b[38;5;124m\"\u001b[39m)\n\u001b[0;32m      5\u001b[0m \u001b[38;5;28;01mexcept\u001b[39;00m (\u001b[38;5;167;01mZeroDivisionError\u001b[39;00m,\u001b[38;5;167;01mNameError\u001b[39;00m) \u001b[38;5;28;01mas\u001b[39;00m msg:\n",
      "\u001b[1;31mTypeError\u001b[0m: unsupported operand type(s) for /: 'int' and 'str'"
     ]
    }
   ],
   "source": [
    "try:\n",
    "    print(\"stmt-1\")\n",
    "    print(\"stmt-2\",10/\"zero\")\n",
    "    print(\"stmt-3\")\n",
    "except (ZeroDivisionError,NameError) as msg:\n",
    "    print(\"stmt-4\")\n",
    "print(\"stmt-5\")"
   ]
  },
  {
   "cell_type": "code",
   "execution_count": 538,
   "id": "8cd44521-34d7-4c92-b0fa-b7f611cd5563",
   "metadata": {},
   "outputs": [
    {
     "name": "stdout",
     "output_type": "stream",
     "text": [
      "stmt-1\n",
      "stmt-2\n",
      "stmt-4\n",
      "stmt-5\n"
     ]
    }
   ],
   "source": [
    "try:\n",
    "    print(\"stmt-1\")\n",
    "    print(\"stmt-2\")\n",
    "    print(\"stmt-3\",10/\"zero\")\n",
    "except (ZeroDivisionError,NameError,TypeError) as msg:\n",
    "    print(\"stmt-4\")\n",
    "print(\"stmt-5\")"
   ]
  },
  {
   "cell_type": "code",
   "execution_count": 542,
   "id": "b1c8f8a2-4b80-4345-b015-00a1a44d1eb1",
   "metadata": {},
   "outputs": [],
   "source": [
    "import keyword\n"
   ]
  },
  {
   "cell_type": "code",
   "execution_count": 544,
   "id": "9ac59906-a7e8-4b15-9526-9b4d719945e0",
   "metadata": {},
   "outputs": [
    {
     "data": {
      "text/plain": [
       "['False',\n",
       " 'None',\n",
       " 'True',\n",
       " 'and',\n",
       " 'as',\n",
       " 'assert',\n",
       " 'async',\n",
       " 'await',\n",
       " 'break',\n",
       " 'class',\n",
       " 'continue',\n",
       " 'def',\n",
       " 'del',\n",
       " 'elif',\n",
       " 'else',\n",
       " 'except',\n",
       " 'finally',\n",
       " 'for',\n",
       " 'from',\n",
       " 'global',\n",
       " 'if',\n",
       " 'import',\n",
       " 'in',\n",
       " 'is',\n",
       " 'lambda',\n",
       " 'nonlocal',\n",
       " 'not',\n",
       " 'or',\n",
       " 'pass',\n",
       " 'raise',\n",
       " 'return',\n",
       " 'try',\n",
       " 'while',\n",
       " 'with',\n",
       " 'yield']"
      ]
     },
     "execution_count": 544,
     "metadata": {},
     "output_type": "execute_result"
    }
   ],
   "source": [
    "keyword.kwlist"
   ]
  },
  {
   "cell_type": "code",
   "execution_count": null,
   "id": "1c222af8-9aef-40a5-bc21-ed7bab813e32",
   "metadata": {},
   "outputs": [],
   "source": []
  }
 ],
 "metadata": {
  "kernelspec": {
   "display_name": "Python 3 (ipykernel)",
   "language": "python",
   "name": "python3"
  },
  "language_info": {
   "codemirror_mode": {
    "name": "ipython",
    "version": 3
   },
   "file_extension": ".py",
   "mimetype": "text/x-python",
   "name": "python",
   "nbconvert_exporter": "python",
   "pygments_lexer": "ipython3",
   "version": "3.11.9"
  }
 },
 "nbformat": 4,
 "nbformat_minor": 5
}
