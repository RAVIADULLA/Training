{
 "cells": [
  {
   "cell_type": "code",
   "execution_count": 8,
   "id": "e38539d7-5043-4132-a517-27de6cb4f851",
   "metadata": {},
   "outputs": [
    {
     "name": "stdout",
     "output_type": "stream",
     "text": [
      "even\n"
     ]
    }
   ],
   "source": [
    "##### simple if condition\n",
    "if 10%2 == 0:\n",
    "    print (\"even\")\n",
    "else:\n",
    "    print(\"odd\")"
   ]
  },
  {
   "cell_type": "code",
   "execution_count": 7,
   "id": "4365354d-4c4d-45bf-bc85-5ced369d7922",
   "metadata": {},
   "outputs": [
    {
     "name": "stdout",
     "output_type": "stream",
     "text": [
      "odd\n"
     ]
    }
   ],
   "source": [
    "###### ternary operator means rearranging the if condition\n",
    "print(\"even\") if 9%2 == 0 else print(\"odd\")"
   ]
  },
  {
   "cell_type": "code",
   "execution_count": 18,
   "id": "db423c91-39b5-49ed-bbbe-d8a5f22283a4",
   "metadata": {},
   "outputs": [
    {
     "name": "stdout",
     "output_type": "stream",
     "text": [
      "True\n",
      "False\n"
     ]
    }
   ],
   "source": [
    "####$ identity operator\n",
    "a=10\n",
    "b=10\n",
    "c=20\n",
    "print(a is b)\n",
    "print(a is c)\n"
   ]
  },
  {
   "cell_type": "code",
   "execution_count": 22,
   "id": "da0e55e4-193e-4818-87dc-02a38cdf55a5",
   "metadata": {},
   "outputs": [
    {
     "name": "stdout",
     "output_type": "stream",
     "text": [
      "True\n",
      "False\n"
     ]
    }
   ],
   "source": [
    "##### Membership operator\n",
    "l=[1,12.24,\"hello\",\"hi\"]\n",
    "print(\"hello\" in l)\n",
    "print(\"how\" in l)\n",
    "\n"
   ]
  },
  {
   "cell_type": "code",
   "execution_count": 3,
   "id": "d6525d52-f472-4309-8129-21cf90b24b9d",
   "metadata": {},
   "outputs": [],
   "source": [
    "import math"
   ]
  },
  {
   "cell_type": "code",
   "execution_count": 4,
   "id": "c8ebb0d7-0eba-4a5f-9fbd-706ed642b670",
   "metadata": {},
   "outputs": [
    {
     "data": {
      "text/plain": [
       "6.0"
      ]
     },
     "execution_count": 4,
     "metadata": {},
     "output_type": "execute_result"
    }
   ],
   "source": [
    "math.sqrt(36)"
   ]
  },
  {
   "cell_type": "code",
   "execution_count": 5,
   "id": "877c18bd-3dea-4f72-8e4f-ff663e8bddbc",
   "metadata": {},
   "outputs": [
    {
     "data": {
      "text/plain": [
       "24"
      ]
     },
     "execution_count": 5,
     "metadata": {},
     "output_type": "execute_result"
    }
   ],
   "source": [
    "math.factorial(4)  ###### 4*3*2*1"
   ]
  },
  {
   "cell_type": "markdown",
   "id": "e383bfa3-f36f-4fea-b467-d7cd7efec7bb",
   "metadata": {},
   "source": [
    "##### input and output statements"
   ]
  },
  {
   "cell_type": "code",
   "execution_count": 10,
   "id": "ff9fdd4b-93c5-4153-bbd3-fd04468df32a",
   "metadata": {},
   "outputs": [
    {
     "name": "stdin",
     "output_type": "stream",
     "text": [
      "enter the employee id :  123\n"
     ]
    },
    {
     "data": {
      "text/plain": [
       "'123'"
      ]
     },
     "execution_count": 10,
     "metadata": {},
     "output_type": "execute_result"
    }
   ],
   "source": [
    "input(\"enter the employee id : \")  ### it returns always string"
   ]
  },
  {
   "cell_type": "code",
   "execution_count": 13,
   "id": "5dfb6104-168f-4c3c-97c3-34e4e0662810",
   "metadata": {},
   "outputs": [
    {
     "name": "stdin",
     "output_type": "stream",
     "text": [
      "enter the employee id :  123\n"
     ]
    }
   ],
   "source": [
    "employee_id=int(input(\"enter the employee id : \") )\n"
   ]
  },
  {
   "cell_type": "code",
   "execution_count": 14,
   "id": "ddc733b3-ba8d-4825-b906-a1da435dcf54",
   "metadata": {},
   "outputs": [
    {
     "name": "stdout",
     "output_type": "stream",
     "text": [
      "123\n"
     ]
    }
   ],
   "source": [
    "print(employee_id)"
   ]
  },
  {
   "cell_type": "code",
   "execution_count": 16,
   "id": "60737ce4-159b-410c-b555-1c6afffceaf9",
   "metadata": {},
   "outputs": [
    {
     "name": "stdin",
     "output_type": "stream",
     "text": [
      "enter num1:  1\n",
      "enter num2:  2\n"
     ]
    },
    {
     "name": "stdout",
     "output_type": "stream",
     "text": [
      "12\n"
     ]
    }
   ],
   "source": [
    "x= input(\"enter num1: \")\n",
    "y= input(\"enter num2: \")\n",
    "print(x+y)\n",
    "         "
   ]
  },
  {
   "cell_type": "code",
   "execution_count": 17,
   "id": "2d59adb9-62b7-4840-b438-736f74972726",
   "metadata": {},
   "outputs": [
    {
     "name": "stdin",
     "output_type": "stream",
     "text": [
      "enter num1:  1\n",
      "enter num2:  2\n"
     ]
    },
    {
     "name": "stdout",
     "output_type": "stream",
     "text": [
      "3\n"
     ]
    }
   ],
   "source": [
    "x= int(input(\"enter num1: \"))\n",
    "y= int(input(\"enter num2: \"))\n",
    "print(x+y)"
   ]
  },
  {
   "cell_type": "code",
   "execution_count": 19,
   "id": "d9dad7fc-b2af-4b12-b1aa-ed24e8b993bd",
   "metadata": {},
   "outputs": [
    {
     "name": "stdin",
     "output_type": "stream",
     "text": [
      "enter the numbers :  1 2\n"
     ]
    },
    {
     "data": {
      "text/plain": [
       "['1', '2']"
      ]
     },
     "execution_count": 19,
     "metadata": {},
     "output_type": "execute_result"
    }
   ],
   "source": [
    "input(\"enter the numbers : \").split() ##### split will convert string datatype to list datatype"
   ]
  },
  {
   "cell_type": "code",
   "execution_count": 24,
   "id": "4d9f7d49-bf5e-4d4b-bc54-3ca46909d1d1",
   "metadata": {},
   "outputs": [
    {
     "data": {
      "text/plain": [
       "['h', 'e', 'l', 'l', 'o']"
      ]
     },
     "execution_count": 24,
     "metadata": {},
     "output_type": "execute_result"
    }
   ],
   "source": [
    "\"h+e+l+l+o\".split('+')"
   ]
  },
  {
   "cell_type": "markdown",
   "id": "97daab05-177e-44fa-bde4-eee424e569c7",
   "metadata": {},
   "source": [
    "##### eval function take a expression (string) and evaluate the results"
   ]
  },
  {
   "cell_type": "code",
   "execution_count": 29,
   "id": "731590b5-eeaa-4b23-bc7e-4eaf7d51bb4f",
   "metadata": {},
   "outputs": [
    {
     "name": "stdout",
     "output_type": "stream",
     "text": [
      "60\n",
      "11.5\n"
     ]
    }
   ],
   "source": [
    "x= eval(\"10+20+30\")\n",
    "y = eval(\"10+2*3/4\")\n",
    "print(x)\n",
    "print(y)"
   ]
  },
  {
   "cell_type": "markdown",
   "id": "9a197379-9dbb-42ff-9c22-3be91db3edf5",
   "metadata": {},
   "source": [
    "##### Command line arguments"
   ]
  },
  {
   "cell_type": "code",
   "execution_count": 30,
   "id": "79554c4e-d1b1-481c-bc08-f132cfd15245",
   "metadata": {},
   "outputs": [],
   "source": [
    "##### passing the arguments at time of execution\n",
    "from sys import argv"
   ]
  },
  {
   "cell_type": "code",
   "execution_count": 31,
   "id": "e14769d9-3e6e-4e96-80d2-8b50c1d5f426",
   "metadata": {},
   "outputs": [
    {
     "data": {
      "text/plain": [
       "1"
      ]
     },
     "execution_count": 31,
     "metadata": {},
     "output_type": "execute_result"
    }
   ],
   "source": [
    "l= [1,2,3,4]\n",
    "l[0]\n"
   ]
  },
  {
   "cell_type": "code",
   "execution_count": 33,
   "id": "a6010890-cf23-4eec-9369-f600849e604b",
   "metadata": {},
   "outputs": [
    {
     "ename": "IndexError",
     "evalue": "list index out of range",
     "output_type": "error",
     "traceback": [
      "\u001b[1;31m---------------------------------------------------------------------------\u001b[0m",
      "\u001b[1;31mIndexError\u001b[0m                                Traceback (most recent call last)",
      "Cell \u001b[1;32mIn[33], line 1\u001b[0m\n\u001b[1;32m----> 1\u001b[0m \u001b[43ml\u001b[49m\u001b[43m[\u001b[49m\u001b[38;5;241;43m5\u001b[39;49m\u001b[43m]\u001b[49m\n",
      "\u001b[1;31mIndexError\u001b[0m: list index out of range"
     ]
    }
   ],
   "source": [
    "l[5]"
   ]
  },
  {
   "cell_type": "code",
   "execution_count": 34,
   "id": "a9e96c31-0769-443c-84f4-b7aaa0a96a38",
   "metadata": {},
   "outputs": [
    {
     "name": "stdout",
     "output_type": "stream",
     "text": [
      "HI\n",
      "Ravi\n",
      "Suvarna\n"
     ]
    }
   ],
   "source": [
    "print (\"HI\\\\nRavi\\\\nSuvarna\")"
   ]
  },
  {
   "cell_type": "code",
   "execution_count": 36,
   "id": "842ba4d6-de2d-44f5-9811-db911d90bbb4",
   "metadata": {},
   "outputs": [
    {
     "name": "stdout",
     "output_type": "stream",
     "text": [
      "the values are:,10,20,30\n",
      "the values are::10:20:30\n"
     ]
    }
   ],
   "source": [
    "a,b,c = 10,20,30\n",
    "print(\"the values are:\",a,b,c,sep=',')\n",
    "print(\"the values are:\",a,b,c,sep=':')"
   ]
  },
  {
   "cell_type": "code",
   "execution_count": 40,
   "id": "f7078699-a996-45bc-b527-7278dcc56557",
   "metadata": {},
   "outputs": [
    {
     "name": "stdout",
     "output_type": "stream",
     "text": [
      "Ravi Suvi "
     ]
    }
   ],
   "source": [
    "print(\"Ravi\",end=' ')\n",
    "print(\"Suvi\",end=' ')"
   ]
  },
  {
   "cell_type": "code",
   "execution_count": 46,
   "id": "5f6452e8-ce7f-42d5-8bbc-683ca59259c6",
   "metadata": {},
   "outputs": [
    {
     "name": "stdout",
     "output_type": "stream",
     "text": [
      "1234 hi i am Ravi my age is 38 i have completed my btech\n",
      "1234 hi i am Ravi my age is 38 i have completed my btech\n",
      "Ravi hi i am 1234 my age is 38 i have completed my btech\n",
      "1234 hi i am Ravi my age is 38 i have completed my btech\n"
     ]
    }
   ],
   "source": [
    "empid = 1234\n",
    "name = \"Ravi\"\n",
    "age=38\n",
    "qual=\"btech\"\n",
    "print(empid,\"hi i am\",name, \"my age is\", age,\"i have completed my\",qual)\n",
    "print(\"{0} hi i am {1} my age is {2} i have completed my {3}\".format(empid,name,age,qual))\n",
    "print(\"{0} hi i am {1} my age is {2} i have completed my {3}\".format(name,empid,age,qual))\n",
    "print(\"{e} hi i am {n} my age is {a} i have completed my {q}\".format(e=empid,n=name,a=age,q=qual))"
   ]
  },
  {
   "cell_type": "code",
   "execution_count": 3,
   "id": "333d7683-0be3-4ba9-a892-1eb334a9b387",
   "metadata": {},
   "outputs": [
    {
     "name": "stdout",
     "output_type": "stream",
     "text": [
      "apples\n",
      "oranges\n",
      "bananaas\n",
      "mangoes\n"
     ]
    }
   ],
   "source": [
    "I = [\"apples\",\"oranges\",\"bananaas\",\"mangoes\"]\n",
    "for i in I:\n",
    "    print(i)"
   ]
  },
  {
   "cell_type": "code",
   "execution_count": 5,
   "id": "0dedb861-594b-4f95-9dbc-3fb604edadb0",
   "metadata": {},
   "outputs": [
    {
     "name": "stdin",
     "output_type": "stream",
     "text": [
      "enter the name :  dhoni\n"
     ]
    },
    {
     "name": "stdout",
     "output_type": "stream",
     "text": [
      "stop\n"
     ]
    }
   ],
   "source": [
    "name = input(\"enter the name : \")\n",
    "if name == \"sachin\":\n",
    "    print(\"welcome\")\n",
    "else:\n",
    "    print(\"stop\")"
   ]
  },
  {
   "cell_type": "code",
   "execution_count": 8,
   "id": "b5551131-d6e5-4955-9c05-889ca390a09f",
   "metadata": {},
   "outputs": [
    {
     "name": "stdin",
     "output_type": "stream",
     "text": [
      "enter the signal color green\n"
     ]
    },
    {
     "name": "stdout",
     "output_type": "stream",
     "text": [
      "move the vehicles\n"
     ]
    }
   ],
   "source": [
    "color = input (\"enter the signal color\")\n",
    "if color == \"red\":\n",
    "    print(\"stop te vehicles\")\n",
    "elif color == \"green\":\n",
    "    print(\"move the vehicles\")\n",
    "else:\n",
    "    print(\"slow down the vehicles\")"
   ]
  },
  {
   "cell_type": "code",
   "execution_count": 12,
   "id": "adf74776-7d40-4ec0-9612-19e3480f8c45",
   "metadata": {},
   "outputs": [
    {
     "name": "stdin",
     "output_type": "stream",
     "text": [
      "enter the 1st num 5\n",
      "enter the 2nd num 4\n"
     ]
    },
    {
     "name": "stdout",
     "output_type": "stream",
     "text": [
      "the biggest num is : 5\n"
     ]
    }
   ],
   "source": [
    "n1 = int(input(\"enter the 1st num\"))\n",
    "n2 = int(input(\"enter the 2nd num\"))\n",
    "if n1 > n2:\n",
    "    print(\"the biggest num is :\",n1)\n",
    "else:\n",
    "    print(\"the biggest num is :\",n2)"
   ]
  },
  {
   "cell_type": "code",
   "execution_count": 15,
   "id": "bfe74595-7dd4-4bdd-9b93-5ea0710a03d7",
   "metadata": {},
   "outputs": [
    {
     "name": "stdin",
     "output_type": "stream",
     "text": [
      "enter the number 11\n"
     ]
    },
    {
     "name": "stdout",
     "output_type": "stream",
     "text": [
      "this given number 11 is odd\n"
     ]
    }
   ],
   "source": [
    "num = int(input(\"enter the number\"))\n",
    "if num % 2 == 0:\n",
    "          print(\"the given number\", num,\"is even\")\n",
    "else:\n",
    "    print(\"this given number\", num, \"is odd\")\n",
    "          \n",
    "          \n",
    "    "
   ]
  },
  {
   "cell_type": "markdown",
   "id": "7b0b734b-d16d-48bb-8c96-03dbf012b5a8",
   "metadata": {},
   "source": [
    "##### Iterative statements"
   ]
  },
  {
   "cell_type": "markdown",
   "id": "acf6ebf7-73ed-42e5-8fcf-d702d259f6a9",
   "metadata": {},
   "source": [
    "##### sequences : string, list, tupple, set, frozenset, dict"
   ]
  },
  {
   "cell_type": "code",
   "execution_count": 23,
   "id": "2eb8f8b0-310d-490b-923e-db3612d2a313",
   "metadata": {},
   "outputs": [
    {
     "name": "stdout",
     "output_type": "stream",
     "text": [
      "v\n",
      "i\n",
      "s\n",
      "u\n",
      "a\n",
      "l\n",
      "p\n",
      "a\n",
      "t\n",
      "h\n"
     ]
    }
   ],
   "source": [
    "s = \"visualpath\"\n",
    "for iterator in s:\n",
    "    \n",
    "    print(iterator)\n",
    "\n"
   ]
  },
  {
   "cell_type": "code",
   "execution_count": 25,
   "id": "80dc3a33-6e71-4d19-9bd2-75ed6c5281db",
   "metadata": {},
   "outputs": [
    {
     "name": "stdout",
     "output_type": "stream",
     "text": [
      "1\n",
      "2\n",
      "3\n",
      "4\n",
      "5\n"
     ]
    }
   ],
   "source": [
    "l =[1,2,3,4,5]  ###### list\n",
    "for i in l:\n",
    "    print(i)"
   ]
  },
  {
   "cell_type": "code",
   "execution_count": 26,
   "id": "77743c87-1d5f-41e9-9fb2-c2a21f456235",
   "metadata": {},
   "outputs": [
    {
     "name": "stdout",
     "output_type": "stream",
     "text": [
      "1\n",
      "2\n",
      "3\n",
      "4\n",
      "5\n"
     ]
    }
   ],
   "source": [
    "l ={1,2,3,4,5}  ##### set\n",
    "for i in l:\n",
    "    print(i)"
   ]
  },
  {
   "cell_type": "code",
   "execution_count": 27,
   "id": "86c1359e-8cb1-407f-90f0-b73f8e1fbbff",
   "metadata": {},
   "outputs": [
    {
     "name": "stdout",
     "output_type": "stream",
     "text": [
      "1\n",
      "2\n",
      "3\n",
      "4\n",
      "5\n"
     ]
    }
   ],
   "source": [
    "l =(1,2,3,4,5) ##### tupple\n",
    "for i in l:\n",
    "    print(i)"
   ]
  },
  {
   "cell_type": "code",
   "execution_count": 40,
   "id": "1e2b308d-3428-4569-8c15-8fad81e83b10",
   "metadata": {},
   "outputs": [
    {
     "name": "stdout",
     "output_type": "stream",
     "text": [
      "(1, 'apple')\n",
      "(2, 'ball')\n",
      "(3, 'cat')\n"
     ]
    }
   ],
   "source": [
    "d = {1:\"apple\",2:\"ball\",3:\"cat\"}\n",
    "for j in d.items():\n",
    "    print(j)"
   ]
  },
  {
   "cell_type": "code",
   "execution_count": 41,
   "id": "8234f6d2-dec6-4527-8117-751541ce3f6a",
   "metadata": {},
   "outputs": [
    {
     "name": "stdout",
     "output_type": "stream",
     "text": [
      "apple\n",
      "ball\n",
      "cat\n"
     ]
    }
   ],
   "source": [
    "d = {1:\"apple\",2:\"ball\",3:\"cat\"}\n",
    "for j in d.values():\n",
    "    print(j)"
   ]
  },
  {
   "cell_type": "code",
   "execution_count": 42,
   "id": "f70d4204-4068-46c3-a3b6-bb175629f65b",
   "metadata": {},
   "outputs": [
    {
     "name": "stdout",
     "output_type": "stream",
     "text": [
      "1\n",
      "2\n",
      "3\n"
     ]
    }
   ],
   "source": [
    "d = {1:\"apple\",2:\"ball\",3:\"cat\"}\n",
    "for j in d.keys():\n",
    "    print(j)"
   ]
  },
  {
   "cell_type": "code",
   "execution_count": 43,
   "id": "52ec2e46-2028-4699-ab6e-fe81b56222c1",
   "metadata": {},
   "outputs": [
    {
     "name": "stdout",
     "output_type": "stream",
     "text": [
      "1\n",
      "2\n",
      "3\n"
     ]
    }
   ],
   "source": [
    "d = {1:\"apple\",2:\"ball\",3:\"cat\"}\n",
    "for j in d:\n",
    "    print(j)"
   ]
  },
  {
   "cell_type": "markdown",
   "id": "99d587b5-19df-41df-8939-50cbcfacf350",
   "metadata": {},
   "source": [
    "##### while loop"
   ]
  },
  {
   "cell_type": "code",
   "execution_count": 44,
   "id": "30bd28ca-3ce0-48af-a12a-ca5d9b22b65d",
   "metadata": {},
   "outputs": [
    {
     "name": "stdout",
     "output_type": "stream",
     "text": [
      "0\n",
      "1\n",
      "2\n",
      "3\n",
      "4\n",
      "5\n",
      "6\n",
      "7\n",
      "8\n",
      "9\n"
     ]
    }
   ],
   "source": [
    "for i in range(0,10):\n",
    "    print(i)"
   ]
  },
  {
   "cell_type": "code",
   "execution_count": 45,
   "id": "1862dedb-90e5-476c-8160-796ec7311e5b",
   "metadata": {},
   "outputs": [
    {
     "name": "stdout",
     "output_type": "stream",
     "text": [
      "0\n",
      "1\n",
      "2\n",
      "3\n",
      "4\n",
      "5\n",
      "6\n",
      "7\n",
      "8\n",
      "9\n"
     ]
    }
   ],
   "source": [
    "x = 0\n",
    "while x<10:\n",
    "    print(x)\n",
    "    x=x+1"
   ]
  },
  {
   "cell_type": "markdown",
   "id": "cf39bb66-6ed1-4c4b-8f85-2ca5e20a8572",
   "metadata": {},
   "source": [
    "##### nested loop"
   ]
  },
  {
   "cell_type": "code",
   "execution_count": 49,
   "id": "da5cfe90-66b0-4f2d-8e9e-5cadc840c4fa",
   "metadata": {},
   "outputs": [
    {
     "name": "stdout",
     "output_type": "stream",
     "text": [
      "i= 0\n",
      "i= 1\n",
      "i= 2\n",
      "i= 3\n"
     ]
    }
   ],
   "source": [
    "for i in range(4):\n",
    "    print(\"i=\",i)"
   ]
  },
  {
   "cell_type": "code",
   "execution_count": 52,
   "id": "2419cc53-9479-4adc-a1d2-2018cf7b867c",
   "metadata": {},
   "outputs": [
    {
     "name": "stdout",
     "output_type": "stream",
     "text": [
      "i= 0\n",
      "j= 0\n",
      "j= 0\n",
      "j= 0\n",
      "j= 0\n",
      "i= 1\n",
      "j= 1\n",
      "j= 1\n",
      "j= 1\n",
      "j= 1\n",
      "i= 2\n",
      "j= 2\n",
      "j= 2\n",
      "j= 2\n",
      "j= 2\n",
      "i= 3\n",
      "j= 3\n",
      "j= 3\n",
      "j= 3\n",
      "j= 3\n"
     ]
    }
   ],
   "source": [
    "for i in range(4):\n",
    "    print(\"i=\",i)\n",
    "    for j in range(4):\n",
    "        print(\"j=\",i)"
   ]
  },
  {
   "cell_type": "code",
   "execution_count": 54,
   "id": "4c3827a1-658b-4047-8bf2-c134903c1e1c",
   "metadata": {},
   "outputs": [
    {
     "name": "stdin",
     "output_type": "stream",
     "text": [
      "enter the number of rows:  5\n"
     ]
    },
    {
     "name": "stdout",
     "output_type": "stream",
     "text": [
      "* \n",
      "* * \n",
      "* * * \n",
      "* * * * \n",
      "* * * * * \n"
     ]
    }
   ],
   "source": [
    "n = int(input(\"enter the number of rows: \"))\n",
    "for i in range(1,n+1):\n",
    "    for j in range(1,i+1):\n",
    "        print(\"*\",end=' ')\n",
    "    print()"
   ]
  },
  {
   "cell_type": "code",
   "execution_count": 56,
   "id": "66711cdf-2084-4edb-a63d-e0d813c6606c",
   "metadata": {},
   "outputs": [
    {
     "name": "stdin",
     "output_type": "stream",
     "text": [
      "enter number of rows: 5\n"
     ]
    },
    {
     "name": "stdout",
     "output_type": "stream",
     "text": [
      "* \n",
      "* * \n",
      "* * * \n",
      "* * * * \n",
      "* * * * * \n"
     ]
    }
   ],
   "source": [
    "n = int(input(\"enter number of rows:\"))\n",
    "for i in range(1,n+1):\n",
    "    print(\"* \" * i)"
   ]
  },
  {
   "cell_type": "markdown",
   "id": "aaed2ca0-1605-4be6-91f9-49fa15d088ef",
   "metadata": {},
   "source": [
    "##### break "
   ]
  },
  {
   "cell_type": "code",
   "execution_count": 58,
   "id": "2804e7c7-9e7c-413e-97b6-bed840fe51c5",
   "metadata": {},
   "outputs": [
    {
     "name": "stdout",
     "output_type": "stream",
     "text": [
      "10\n",
      "20\n",
      "costly product\n"
     ]
    }
   ],
   "source": [
    "cart = [10,20,600,60,70]\n",
    "for i in cart:\n",
    "    if i > 500:\n",
    "        print(\"costly product\")\n",
    "        break\n",
    "    print(i)"
   ]
  },
  {
   "cell_type": "markdown",
   "id": "29cf7972-413a-4144-b393-96c31e451a54",
   "metadata": {},
   "source": [
    "##### Continue"
   ]
  },
  {
   "cell_type": "code",
   "execution_count": 60,
   "id": "a0cedfe5-acf3-4dc1-a01f-ce72de66f8ca",
   "metadata": {},
   "outputs": [
    {
     "name": "stdout",
     "output_type": "stream",
     "text": [
      "10\n",
      "20\n",
      "costly product\n",
      "60\n",
      "70\n"
     ]
    }
   ],
   "source": [
    "cart = [10,20,600,60,70]\n",
    "for i in cart:\n",
    "    if i > 500:\n",
    "        print(\"costly product\")\n",
    "        continue\n",
    "    print(i)"
   ]
  },
  {
   "cell_type": "code",
   "execution_count": 62,
   "id": "a4288f9f-9587-4b49-98c9-1eaf8eb8e728",
   "metadata": {},
   "outputs": [
    {
     "ename": "SyntaxError",
     "evalue": "incomplete input (2755229128.py, line 1)",
     "output_type": "error",
     "traceback": [
      "\u001b[1;36m  Cell \u001b[1;32mIn[62], line 1\u001b[1;36m\u001b[0m\n\u001b[1;33m    def myfunc():\u001b[0m\n\u001b[1;37m                 ^\u001b[0m\n\u001b[1;31mSyntaxError\u001b[0m\u001b[1;31m:\u001b[0m incomplete input\n"
     ]
    }
   ],
   "source": [
    "def myfunc():"
   ]
  },
  {
   "cell_type": "code",
   "execution_count": 65,
   "id": "fa1b4eaf-6a3c-4d4d-bc4e-c05461a5fbe6",
   "metadata": {},
   "outputs": [],
   "source": [
    "def myfunc():  # valid, we can test some functionality\n",
    "    pass"
   ]
  },
  {
   "cell_type": "code",
   "execution_count": 4,
   "id": "e2f5a70e-ae33-48dd-b9a4-7d523127ecf7",
   "metadata": {},
   "outputs": [
    {
     "name": "stdout",
     "output_type": "stream",
     "text": [
      "10\n"
     ]
    }
   ],
   "source": [
    "x = 10\n",
    "print(x)\n"
   ]
  },
  {
   "cell_type": "code",
   "execution_count": 5,
   "id": "68a82f85-cbf5-4813-8ac1-7f3b8775552a",
   "metadata": {},
   "outputs": [
    {
     "ename": "NameError",
     "evalue": "name 'x' is not defined",
     "output_type": "error",
     "traceback": [
      "\u001b[1;31m---------------------------------------------------------------------------\u001b[0m",
      "\u001b[1;31mNameError\u001b[0m                                 Traceback (most recent call last)",
      "Cell \u001b[1;32mIn[5], line 2\u001b[0m\n\u001b[0;32m      1\u001b[0m \u001b[38;5;28;01mdel\u001b[39;00m x  \u001b[38;5;66;03m# we are unbinding the value\u001b[39;00m\n\u001b[1;32m----> 2\u001b[0m \u001b[38;5;28mprint\u001b[39m(\u001b[43mx\u001b[49m)  \n",
      "\u001b[1;31mNameError\u001b[0m: name 'x' is not defined"
     ]
    }
   ],
   "source": [
    "del x  # we are unbinding the value\n",
    "print(x)  "
   ]
  },
  {
   "cell_type": "code",
   "execution_count": 1,
   "id": "2be3d47e-8a0e-44b2-99fe-e8417494bbe4",
   "metadata": {},
   "outputs": [
    {
     "name": "stdout",
     "output_type": "stream",
     "text": [
      "10\n"
     ]
    }
   ],
   "source": [
    "x = 10\n",
    "print(x)"
   ]
  },
  {
   "cell_type": "code",
   "execution_count": 2,
   "id": "0722719a-d814-4677-a9e3-b50a121dc110",
   "metadata": {},
   "outputs": [
    {
     "name": "stdout",
     "output_type": "stream",
     "text": [
      "None\n"
     ]
    }
   ],
   "source": [
    "x = None\n",
    "print(x)"
   ]
  },
  {
   "cell_type": "markdown",
   "id": "fd728c0f-9670-41de-a4e8-c5d9b5417636",
   "metadata": {},
   "source": [
    "##### None will not give the error but del gives the always the error"
   ]
  },
  {
   "cell_type": "code",
   "execution_count": 8,
   "id": "a590efa6-d17c-4c4d-b8b2-e15bc749ddfd",
   "metadata": {},
   "outputs": [
    {
     "name": "stdout",
     "output_type": "stream",
     "text": [
      "0\n",
      "1\n",
      "2\n",
      "3\n",
      "4\n",
      "5\n",
      "6\n",
      "7\n",
      "8\n",
      "9\n"
     ]
    }
   ],
   "source": [
    "n = [0,1,2,3,4,5,6,7,8,9]\n",
    "i = 0\n",
    "while i<len(n):\n",
    "    print(n[i])\n",
    "    i = i+1"
   ]
  },
  {
   "cell_type": "code",
   "execution_count": 10,
   "id": "e7bb5d6e-4e12-4eca-9b5b-99d95a92b77e",
   "metadata": {},
   "outputs": [
    {
     "name": "stdout",
     "output_type": "stream",
     "text": [
      "0\n",
      "1\n",
      "2\n",
      "3\n",
      "4\n",
      "5\n",
      "6\n",
      "7\n",
      "8\n",
      "9\n"
     ]
    }
   ],
   "source": [
    "n = [0,1,2,3,4,5,6,7,8,9]\n",
    "for i in n:\n",
    "    print(i)"
   ]
  },
  {
   "cell_type": "code",
   "execution_count": 19,
   "id": "9c457f05-a0a3-44d0-aa32-4fe5e6e1164c",
   "metadata": {},
   "outputs": [
    {
     "name": "stdout",
     "output_type": "stream",
     "text": [
      "[0, 2, 4, 6, 8]\n"
     ]
    }
   ],
   "source": [
    "n = [0,1,2,3,4,5,6,7,8,9]\n",
    "even = []\n",
    "for i in n:\n",
    "    if i%2 == 0:\n",
    "        even.append(i)\n",
    "print(even)"
   ]
  },
  {
   "cell_type": "code",
   "execution_count": 35,
   "id": "74caafd5-7760-41dc-9a4a-6bd9703722d1",
   "metadata": {},
   "outputs": [],
   "source": [
    "l = [10,10,10.20,10+2j,\"ravi\",True,False]"
   ]
  },
  {
   "cell_type": "code",
   "execution_count": 27,
   "id": "5da1db71-18e9-40b8-9c95-eb7bcfa0b7e9",
   "metadata": {},
   "outputs": [
    {
     "data": {
      "text/plain": [
       "7"
      ]
     },
     "execution_count": 27,
     "metadata": {},
     "output_type": "execute_result"
    }
   ],
   "source": [
    "len(l)   ##### LIC"
   ]
  },
  {
   "cell_type": "code",
   "execution_count": 22,
   "id": "4448c2fe-a523-434a-8cbf-ca4ab29e4803",
   "metadata": {},
   "outputs": [
    {
     "data": {
      "text/plain": [
       "3"
      ]
     },
     "execution_count": 22,
     "metadata": {},
     "output_type": "execute_result"
    }
   ],
   "source": [
    "l.index(\"ravi\")"
   ]
  },
  {
   "cell_type": "code",
   "execution_count": 26,
   "id": "aa9bc667-cbfc-4729-8765-6f783cfd7349",
   "metadata": {},
   "outputs": [
    {
     "data": {
      "text/plain": [
       "2"
      ]
     },
     "execution_count": 26,
     "metadata": {},
     "output_type": "execute_result"
    }
   ],
   "source": [
    "l.count(10)"
   ]
  },
  {
   "cell_type": "markdown",
   "id": "3daa8d81-2cc9-4ab7-9cef-0279a63b03e1",
   "metadata": {},
   "source": [
    "##### to manipulate the list we have 3 functions. for increasing append, insert, extend"
   ]
  },
  {
   "cell_type": "code",
   "execution_count": 34,
   "id": "84427f72-2400-46c8-899a-3d498e3fea0f",
   "metadata": {},
   "outputs": [
    {
     "name": "stdout",
     "output_type": "stream",
     "text": [
      "[10, 'suvi', 10, 'suvi', 'suvi', 10.2, (10+2j), 'ravi', True, False, 'kumar', 'kumar', 'teja', 'teja']\n"
     ]
    }
   ],
   "source": [
    "l.append(\"teja\")\n",
    "print(l)"
   ]
  },
  {
   "cell_type": "code",
   "execution_count": 33,
   "id": "ebb44c01-8985-46f4-8e4b-3fa386977a32",
   "metadata": {},
   "outputs": [
    {
     "name": "stdout",
     "output_type": "stream",
     "text": [
      "[10, 'suvi', 10, 'suvi', 'suvi', 10.2, (10+2j), 'ravi', True, False, 'kumar', 'kumar', 'teja']\n"
     ]
    }
   ],
   "source": [
    "l.insert(1,\"suvi\")\n",
    "print(l)"
   ]
  },
  {
   "cell_type": "code",
   "execution_count": 37,
   "id": "73d1c67b-d899-49b9-9e97-883d0a7c0bb7",
   "metadata": {},
   "outputs": [
    {
     "name": "stdout",
     "output_type": "stream",
     "text": [
      "[10, 10, 10.2, (10+2j), 'ravi', True, False, 'h', 'e', 'l', 'l', 'o', 'h', 'e', 'l', 'l', 'o']\n"
     ]
    }
   ],
   "source": [
    "l.extend(\"hello\")\n",
    "print(l)"
   ]
  },
  {
   "cell_type": "code",
   "execution_count": 38,
   "id": "8f7ff9a6-58f4-48d6-9a2e-e4f6a5a8ca20",
   "metadata": {},
   "outputs": [],
   "source": [
    "del l"
   ]
  },
  {
   "cell_type": "code",
   "execution_count": 47,
   "id": "5c6170b8-ec4d-4b81-9d88-e11d48836395",
   "metadata": {},
   "outputs": [
    {
     "name": "stdout",
     "output_type": "stream",
     "text": [
      "[10, 10, 10.2, (10+2j), 'ravi', True, False]\n",
      "[10, 10, 10.2, (10+2j), 'ravi', True, False, 'h', 'e', 'l', 'l', 'o']\n",
      "[10, 10, 10.2, (10+2j), 'ravi', True, False, 'h', 'e', 'l', 'l', 'o', 1, 2, 34]\n"
     ]
    }
   ],
   "source": [
    "l = [10,10,10.20,10+2j,\"ravi\",True,False]\n",
    "print(l)\n",
    "l.extend(\"hello\")\n",
    "print(l)\n",
    "l.extend([1,2,34])\n",
    "print(l)"
   ]
  },
  {
   "cell_type": "markdown",
   "id": "28cabc31-8eed-4902-8543-9920756b026e",
   "metadata": {},
   "source": [
    "##### how to decrease the list values"
   ]
  },
  {
   "cell_type": "code",
   "execution_count": 48,
   "id": "10314f92-c49b-4347-9040-a421830e4fb3",
   "metadata": {},
   "outputs": [
    {
     "name": "stdout",
     "output_type": "stream",
     "text": [
      "[10, 10, 10.2, (10+2j), 'ravi', True, False, 'h', 'e', 'l', 'l', 'o', 1, 2, 34]\n"
     ]
    }
   ],
   "source": [
    "print(l)"
   ]
  },
  {
   "cell_type": "code",
   "execution_count": 50,
   "id": "e7bb7a2e-30d5-4a3b-9a63-c85a48d97556",
   "metadata": {},
   "outputs": [
    {
     "name": "stdout",
     "output_type": "stream",
     "text": [
      "[10.2, (10+2j), 'ravi', True, False, 'h', 'e', 'l', 'l', 'o', 1, 2, 34]\n"
     ]
    }
   ],
   "source": [
    "l.remove(10)  # always removes the first value\n",
    "print(l)"
   ]
  },
  {
   "cell_type": "code",
   "execution_count": 51,
   "id": "c0257b8d-57ff-4955-a233-46853c0474d9",
   "metadata": {},
   "outputs": [
    {
     "ename": "ValueError",
     "evalue": "list.remove(x): x not in list",
     "output_type": "error",
     "traceback": [
      "\u001b[1;31m---------------------------------------------------------------------------\u001b[0m",
      "\u001b[1;31mValueError\u001b[0m                                Traceback (most recent call last)",
      "Cell \u001b[1;32mIn[51], line 1\u001b[0m\n\u001b[1;32m----> 1\u001b[0m \u001b[43ml\u001b[49m\u001b[38;5;241;43m.\u001b[39;49m\u001b[43mremove\u001b[49m\u001b[43m(\u001b[49m\u001b[38;5;241;43m50\u001b[39;49m\u001b[43m)\u001b[49m  \u001b[38;5;66;03m# always removes the first value\u001b[39;00m\n",
      "\u001b[1;31mValueError\u001b[0m: list.remove(x): x not in list"
     ]
    }
   ],
   "source": [
    "l.remove(50)  # always removes the first value"
   ]
  },
  {
   "cell_type": "code",
   "execution_count": 52,
   "id": "9b778f72-d73c-4555-aa24-672669701dee",
   "metadata": {},
   "outputs": [
    {
     "name": "stdout",
     "output_type": "stream",
     "text": [
      "[10.2, (10+2j), 'ravi', True, False, 'h', 'e', 'l', 'l', 'o', 1, 2, 34]\n"
     ]
    }
   ],
   "source": [
    "print(l)"
   ]
  },
  {
   "cell_type": "code",
   "execution_count": 54,
   "id": "96ff1bc9-5b88-415e-ae2c-2e3bbb374542",
   "metadata": {},
   "outputs": [
    {
     "data": {
      "text/plain": [
       "2"
      ]
     },
     "execution_count": 54,
     "metadata": {},
     "output_type": "execute_result"
    }
   ],
   "source": [
    "l.pop()   ## lifo order last in firsrt out"
   ]
  },
  {
   "cell_type": "code",
   "execution_count": 57,
   "id": "c6b60f20-cc51-4138-a4e4-6de4f7d7e12d",
   "metadata": {},
   "outputs": [
    {
     "ename": "IndexError",
     "evalue": "pop from empty list",
     "output_type": "error",
     "traceback": [
      "\u001b[1;31m---------------------------------------------------------------------------\u001b[0m",
      "\u001b[1;31mIndexError\u001b[0m                                Traceback (most recent call last)",
      "Cell \u001b[1;32mIn[57], line 2\u001b[0m\n\u001b[0;32m      1\u001b[0m l \u001b[38;5;241m=\u001b[39m []\n\u001b[1;32m----> 2\u001b[0m \u001b[43ml\u001b[49m\u001b[38;5;241;43m.\u001b[39;49m\u001b[43mpop\u001b[49m\u001b[43m(\u001b[49m\u001b[43m)\u001b[49m\n",
      "\u001b[1;31mIndexError\u001b[0m: pop from empty list"
     ]
    }
   ],
   "source": [
    "l = []\n",
    "l.pop()"
   ]
  },
  {
   "cell_type": "code",
   "execution_count": 58,
   "id": "ea3ecfbd-6a3a-4eaa-ab13-12ae0c00abeb",
   "metadata": {},
   "outputs": [
    {
     "data": {
      "text/plain": [
       "7"
      ]
     },
     "execution_count": 58,
     "metadata": {},
     "output_type": "execute_result"
    }
   ],
   "source": [
    "l = [10,10,10.20,10+2j,\"ravi\",True,False]\n",
    "len(l)"
   ]
  },
  {
   "cell_type": "code",
   "execution_count": 60,
   "id": "5cf5bb16-fe43-4324-a735-12ed9fda1679",
   "metadata": {},
   "outputs": [
    {
     "data": {
      "text/plain": [
       "False"
      ]
     },
     "execution_count": 60,
     "metadata": {},
     "output_type": "execute_result"
    }
   ],
   "source": [
    "l.pop()"
   ]
  },
  {
   "cell_type": "code",
   "execution_count": 61,
   "id": "64eaf5ef-84c5-4da4-8ef0-e9d70c8d95a0",
   "metadata": {},
   "outputs": [
    {
     "name": "stdout",
     "output_type": "stream",
     "text": [
      "[10, 10, 10.2, (10+2j), 'ravi', True]\n"
     ]
    }
   ],
   "source": [
    "print(l)"
   ]
  },
  {
   "cell_type": "code",
   "execution_count": 62,
   "id": "285ef4fa-0849-4ae9-b605-7c9b3b0d7a8d",
   "metadata": {},
   "outputs": [
    {
     "ename": "TypeError",
     "evalue": "len() takes exactly one argument (0 given)",
     "output_type": "error",
     "traceback": [
      "\u001b[1;31m---------------------------------------------------------------------------\u001b[0m",
      "\u001b[1;31mTypeError\u001b[0m                                 Traceback (most recent call last)",
      "Cell \u001b[1;32mIn[62], line 1\u001b[0m\n\u001b[1;32m----> 1\u001b[0m \u001b[38;5;28;43mlen\u001b[39;49m\u001b[43m(\u001b[49m\u001b[43m)\u001b[49m\n\u001b[0;32m      2\u001b[0m index()\n\u001b[0;32m      3\u001b[0m count()\n",
      "\u001b[1;31mTypeError\u001b[0m: len() takes exactly one argument (0 given)"
     ]
    }
   ],
   "source": [
    "len()\n",
    "index()\n",
    "count()\n",
    "append()\n",
    "insert()\n",
    "append()\n",
    "remove()\n",
    "pop()"
   ]
  },
  {
   "cell_type": "markdown",
   "id": "be4b949d-6479-4c8c-a291-2e1e7d47646e",
   "metadata": {},
   "source": [
    "##### string is nothing but group of caracters"
   ]
  },
  {
   "cell_type": "code",
   "execution_count": 63,
   "id": "df32860b-47bc-40ae-b838-29d484bfea96",
   "metadata": {},
   "outputs": [],
   "source": [
    "s = 'visualpath'"
   ]
  },
  {
   "cell_type": "code",
   "execution_count": 66,
   "id": "7ca82c0a-684c-46e4-aa9c-47439bbdab78",
   "metadata": {},
   "outputs": [
    {
     "name": "stdout",
     "output_type": "stream",
     "text": [
      "<class 'str'>\n"
     ]
    }
   ],
   "source": [
    "print(type(s))"
   ]
  },
  {
   "cell_type": "code",
   "execution_count": 67,
   "id": "28cd8a6e-5e3a-44aa-b921-ff5a638cdf57",
   "metadata": {},
   "outputs": [
    {
     "data": {
      "text/plain": [
       "str"
      ]
     },
     "execution_count": 67,
     "metadata": {},
     "output_type": "execute_result"
    }
   ],
   "source": [
    "p = \"python course\"\n",
    "type(p)"
   ]
  },
  {
   "cell_type": "code",
   "execution_count": 73,
   "id": "7f59d9ec-a2e5-442c-b2ca-2a26d1c8033b",
   "metadata": {},
   "outputs": [
    {
     "name": "stdout",
     "output_type": "stream",
     "text": [
      "select * \n",
      "from employee \n",
      "where name = 'JOHN'\n"
     ]
    }
   ],
   "source": [
    "query = \"\"\"select * \n",
    "from employee \n",
    "where name = 'JOHN'\"\"\"\n",
    "print(query)"
   ]
  },
  {
   "cell_type": "code",
   "execution_count": 75,
   "id": "8611303f-ca73-4ddc-b156-d9036768434f",
   "metadata": {},
   "outputs": [
    {
     "name": "stdout",
     "output_type": "stream",
     "text": [
      "how are you\n"
     ]
    }
   ],
   "source": [
    "s1 = 'how are you'\n",
    "print(s1)"
   ]
  },
  {
   "cell_type": "code",
   "execution_count": 76,
   "id": "1c83baf2-ee04-4f39-abb1-6d7c9c549aa8",
   "metadata": {},
   "outputs": [
    {
     "name": "stdout",
     "output_type": "stream",
     "text": [
      "how' are you\n"
     ]
    }
   ],
   "source": [
    "s2 = 'how\\\\' are you'\n",
    "print(s2)"
   ]
  },
  {
   "cell_type": "markdown",
   "id": "764f22d8-f629-4d19-aaac-695605193784",
   "metadata": {},
   "source": [
    "##### sring is immutable"
   ]
  },
  {
   "cell_type": "code",
   "execution_count": 81,
   "id": "24a4942f-b500-4a4a-b633-aa969296dfb5",
   "metadata": {},
   "outputs": [
    {
     "data": {
      "text/plain": [
       "'database'"
      ]
     },
     "execution_count": 81,
     "metadata": {},
     "output_type": "execute_result"
    }
   ],
   "source": [
    "s1=\"data\"\n",
    "s2=\"base\"\n",
    "s1+s2"
   ]
  },
  {
   "cell_type": "code",
   "execution_count": 82,
   "id": "106f60d2-f57d-4bfa-83a2-b9bf01d4199e",
   "metadata": {},
   "outputs": [
    {
     "name": "stdout",
     "output_type": "stream",
     "text": [
      "database\n"
     ]
    }
   ],
   "source": [
    "print(s1+s2)"
   ]
  },
  {
   "cell_type": "markdown",
   "id": "039894ee-73fd-42c5-bba0-d3b93df90922",
   "metadata": {},
   "source": [
    "##### slicing concept"
   ]
  },
  {
   "cell_type": "code",
   "execution_count": 83,
   "id": "5be53f83-05fe-48b1-8aa5-41eb0c57d1b0",
   "metadata": {},
   "outputs": [],
   "source": [
    "s=\"Last Checkpoint\""
   ]
  },
  {
   "cell_type": "code",
   "execution_count": 93,
   "id": "46092379-abf9-49cf-a86f-4580e9195e2a",
   "metadata": {},
   "outputs": [
    {
     "data": {
      "text/plain": [
       "'Checkpoint'"
      ]
     },
     "execution_count": 93,
     "metadata": {},
     "output_type": "execute_result"
    }
   ],
   "source": [
    "s[5:15]"
   ]
  },
  {
   "cell_type": "code",
   "execution_count": 96,
   "id": "098ae66b-874c-4920-9987-57f9c4d38c4f",
   "metadata": {},
   "outputs": [
    {
     "data": {
      "text/plain": [
       "'Cekon'"
      ]
     },
     "execution_count": 96,
     "metadata": {},
     "output_type": "execute_result"
    }
   ],
   "source": [
    "s[5:15:2]"
   ]
  },
  {
   "cell_type": "code",
   "execution_count": 97,
   "id": "c76bb3f5-f42b-4fab-8235-890765597ea1",
   "metadata": {},
   "outputs": [
    {
     "data": {
      "text/plain": [
       "'Ccot'"
      ]
     },
     "execution_count": 97,
     "metadata": {},
     "output_type": "execute_result"
    }
   ],
   "source": [
    "s[5:15:3]"
   ]
  },
  {
   "cell_type": "code",
   "execution_count": 99,
   "id": "a51c7c87-0cf8-492d-bc8f-9376d857f3f7",
   "metadata": {},
   "outputs": [
    {
     "name": "stdout",
     "output_type": "stream",
     "text": [
      "C\n",
      "h\n",
      "e\n",
      "c\n",
      "k\n",
      "p\n",
      "o\n",
      "i\n",
      "n\n",
      "t\n"
     ]
    }
   ],
   "source": [
    "for i in \"Checkpoint\":\n",
    "    print(i)"
   ]
  },
  {
   "cell_type": "code",
   "execution_count": 100,
   "id": "bafe0cfc-1d68-435e-bf90-b271a4efd439",
   "metadata": {},
   "outputs": [
    {
     "data": {
      "text/plain": [
       "'tniopkcehC tsaL'"
      ]
     },
     "execution_count": 100,
     "metadata": {},
     "output_type": "execute_result"
    }
   ],
   "source": [
    "s[::-1]"
   ]
  },
  {
   "cell_type": "code",
   "execution_count": 105,
   "id": "7e8acbf7-fbdf-4755-9b20-8bbf3f246f77",
   "metadata": {},
   "outputs": [
    {
     "data": {
      "text/plain": [
       "'Last Checkpoint'"
      ]
     },
     "execution_count": 105,
     "metadata": {},
     "output_type": "execute_result"
    }
   ],
   "source": [
    "s[:] ##### to copy the object"
   ]
  },
  {
   "cell_type": "code",
   "execution_count": 104,
   "id": "a7cc47c8-0a8c-49a9-9770-b11b0d708725",
   "metadata": {},
   "outputs": [
    {
     "name": "stdout",
     "output_type": "stream",
     "text": [
      "1737083063472\n"
     ]
    }
   ],
   "source": [
    "print(id(s))"
   ]
  },
  {
   "cell_type": "code",
   "execution_count": 106,
   "id": "e76431b7-7fad-4cb2-8199-981ad737b67a",
   "metadata": {},
   "outputs": [
    {
     "data": {
      "text/plain": [
       "15"
      ]
     },
     "execution_count": 106,
     "metadata": {},
     "output_type": "execute_result"
    }
   ],
   "source": [
    "len(s)"
   ]
  },
  {
   "cell_type": "markdown",
   "id": "af6e539d-5273-4e3b-89f5-45d87aa340b8",
   "metadata": {},
   "source": [
    "##### length always start with 1 and index always starts with 0"
   ]
  },
  {
   "cell_type": "code",
   "execution_count": 117,
   "id": "50d5b8cf-5773-4f8a-9b19-b751d7bb0053",
   "metadata": {},
   "outputs": [
    {
     "name": "stdout",
     "output_type": "stream",
     "text": [
      "True\n",
      "False\n"
     ]
    }
   ],
   "source": [
    "a = \"python is easy\"\n",
    "print(\"easy\" in a)\n",
    "print(\"hard\" in a)\n"
   ]
  },
  {
   "cell_type": "code",
   "execution_count": 119,
   "id": "b730154c-c869-4cd5-ae32-36e294a6c153",
   "metadata": {},
   "outputs": [
    {
     "data": {
      "text/plain": [
       "True"
      ]
     },
     "execution_count": 119,
     "metadata": {},
     "output_type": "execute_result"
    }
   ],
   "source": [
    "s1 = \"apple\"\n",
    "s2 = \"banana\"\n",
    "s1 < s2"
   ]
  },
  {
   "cell_type": "code",
   "execution_count": 120,
   "id": "939a0e07-6632-4e05-a791-c281adb25d59",
   "metadata": {},
   "outputs": [],
   "source": [
    "p = \"    pawan    \""
   ]
  },
  {
   "cell_type": "code",
   "execution_count": 125,
   "id": "e9233c1d-7e8d-4550-93b1-f8871e844969",
   "metadata": {},
   "outputs": [
    {
     "name": "stdout",
     "output_type": "stream",
     "text": [
      "    pawan\n"
     ]
    },
    {
     "data": {
      "text/plain": [
       "'    pawan'"
      ]
     },
     "execution_count": 125,
     "metadata": {},
     "output_type": "execute_result"
    }
   ],
   "source": [
    "print(p)\n",
    "p.lstrip()\n",
    "p.rstrip()"
   ]
  },
  {
   "cell_type": "code",
   "execution_count": 126,
   "id": "4216c231-0b04-43f0-b854-5988d72dbde8",
   "metadata": {},
   "outputs": [
    {
     "data": {
      "text/plain": [
       "'pawan'"
      ]
     },
     "execution_count": 126,
     "metadata": {},
     "output_type": "execute_result"
    }
   ],
   "source": [
    "p.strip()"
   ]
  },
  {
   "cell_type": "code",
   "execution_count": 137,
   "id": "df5673bd-6e9a-4ab2-a497-1fe579f9b9a2",
   "metadata": {},
   "outputs": [
    {
     "data": {
      "text/plain": [
       "0"
      ]
     },
     "execution_count": 137,
     "metadata": {},
     "output_type": "execute_result"
    }
   ],
   "source": [
    "s=\"Last Cheackpaointa\"\n",
    "s.find(\"Last\")\n"
   ]
  },
  {
   "cell_type": "code",
   "execution_count": 136,
   "id": "280ba34d-0e4c-400f-b7a5-05673c341dd0",
   "metadata": {},
   "outputs": [
    {
     "data": {
      "text/plain": [
       "0"
      ]
     },
     "execution_count": 136,
     "metadata": {},
     "output_type": "execute_result"
    }
   ],
   "source": [
    "s.find(\"L\")  ### first value index\n"
   ]
  },
  {
   "cell_type": "code",
   "execution_count": 132,
   "id": "4da38390-8cb5-44b8-8ffe-6d6abd8286ef",
   "metadata": {},
   "outputs": [
    {
     "data": {
      "text/plain": [
       "0"
      ]
     },
     "execution_count": 132,
     "metadata": {},
     "output_type": "execute_result"
    }
   ],
   "source": [
    "s.index(\"Last\")"
   ]
  },
  {
   "cell_type": "code",
   "execution_count": 134,
   "id": "7e0f5fb7-2d3d-4b81-aefc-10b71c311aac",
   "metadata": {},
   "outputs": [
    {
     "data": {
      "text/plain": [
       "-1"
      ]
     },
     "execution_count": 134,
     "metadata": {},
     "output_type": "execute_result"
    }
   ],
   "source": [
    "s.find(\"z\")"
   ]
  },
  {
   "cell_type": "code",
   "execution_count": 135,
   "id": "dc24d9c8-e6e2-485c-8824-2cb5103f3ca2",
   "metadata": {},
   "outputs": [
    {
     "ename": "ValueError",
     "evalue": "substring not found",
     "output_type": "error",
     "traceback": [
      "\u001b[1;31m---------------------------------------------------------------------------\u001b[0m",
      "\u001b[1;31mValueError\u001b[0m                                Traceback (most recent call last)",
      "Cell \u001b[1;32mIn[135], line 1\u001b[0m\n\u001b[1;32m----> 1\u001b[0m \u001b[43ms\u001b[49m\u001b[38;5;241;43m.\u001b[39;49m\u001b[43mindex\u001b[49m\u001b[43m(\u001b[49m\u001b[38;5;124;43m\"\u001b[39;49m\u001b[38;5;124;43mz\u001b[39;49m\u001b[38;5;124;43m\"\u001b[39;49m\u001b[43m)\u001b[49m\n",
      "\u001b[1;31mValueError\u001b[0m: substring not found"
     ]
    }
   ],
   "source": [
    "s.index(\"z\")"
   ]
  },
  {
   "cell_type": "code",
   "execution_count": 139,
   "id": "5e810c9d-aad1-4e51-81d2-1c1ca03385ce",
   "metadata": {},
   "outputs": [
    {
     "data": {
      "text/plain": [
       "8"
      ]
     },
     "execution_count": 139,
     "metadata": {},
     "output_type": "execute_result"
    }
   ],
   "source": [
    "s=\"Last Cheackpaointa\"\n",
    "s.find('a',5,15)"
   ]
  },
  {
   "cell_type": "code",
   "execution_count": 141,
   "id": "c6915009-b08c-4fcb-9fa3-ebeba72c8bad",
   "metadata": {},
   "outputs": [
    {
     "data": {
      "text/plain": [
       "17"
      ]
     },
     "execution_count": 141,
     "metadata": {},
     "output_type": "execute_result"
    }
   ],
   "source": [
    "s.rfind(\"a\")"
   ]
  },
  {
   "cell_type": "code",
   "execution_count": 142,
   "id": "4b26658a-673b-41bf-bc7c-cab8446f81f0",
   "metadata": {},
   "outputs": [
    {
     "data": {
      "text/plain": [
       "17"
      ]
     },
     "execution_count": 142,
     "metadata": {},
     "output_type": "execute_result"
    }
   ],
   "source": [
    "s.rindex(\"a\")"
   ]
  },
  {
   "cell_type": "code",
   "execution_count": 143,
   "id": "a8bffc2f-8d30-4e63-a787-97de9519f797",
   "metadata": {},
   "outputs": [
    {
     "data": {
      "text/plain": [
       "-1"
      ]
     },
     "execution_count": 143,
     "metadata": {},
     "output_type": "execute_result"
    }
   ],
   "source": [
    "s.rfind(\"z\")"
   ]
  },
  {
   "cell_type": "code",
   "execution_count": 145,
   "id": "81282aa5-afaa-4295-b840-185948eeb126",
   "metadata": {},
   "outputs": [
    {
     "ename": "ValueError",
     "evalue": "substring not found",
     "output_type": "error",
     "traceback": [
      "\u001b[1;31m---------------------------------------------------------------------------\u001b[0m",
      "\u001b[1;31mValueError\u001b[0m                                Traceback (most recent call last)",
      "Cell \u001b[1;32mIn[145], line 1\u001b[0m\n\u001b[1;32m----> 1\u001b[0m \u001b[43ms\u001b[49m\u001b[38;5;241;43m.\u001b[39;49m\u001b[43mrindex\u001b[49m\u001b[43m(\u001b[49m\u001b[38;5;124;43m\"\u001b[39;49m\u001b[38;5;124;43mz\u001b[39;49m\u001b[38;5;124;43m\"\u001b[39;49m\u001b[43m)\u001b[49m\n",
      "\u001b[1;31mValueError\u001b[0m: substring not found"
     ]
    }
   ],
   "source": [
    "s.rindex(\"z\")"
   ]
  },
  {
   "cell_type": "code",
   "execution_count": 146,
   "id": "a69fb7b8-7bc8-4830-a12b-e21817732a6c",
   "metadata": {},
   "outputs": [
    {
     "data": {
      "text/plain": [
       "3"
      ]
     },
     "execution_count": 146,
     "metadata": {},
     "output_type": "execute_result"
    }
   ],
   "source": [
    "k = \"kakatiya\"\n",
    "k.count('a')"
   ]
  },
  {
   "cell_type": "code",
   "execution_count": 147,
   "id": "61f64f6e-07db-4ff7-8306-f41e52ea1013",
   "metadata": {},
   "outputs": [
    {
     "data": {
      "text/plain": [
       "2"
      ]
     },
     "execution_count": 147,
     "metadata": {},
     "output_type": "execute_result"
    }
   ],
   "source": [
    "k.count('a',2,10)"
   ]
  },
  {
   "cell_type": "code",
   "execution_count": 148,
   "id": "5a321ed2-8dcb-41d7-83b4-e73646c0dfda",
   "metadata": {},
   "outputs": [],
   "source": [
    "s = \"python is very hard to learn\""
   ]
  },
  {
   "cell_type": "code",
   "execution_count": 150,
   "id": "5575578d-b6df-4712-a728-ff42e5a925a2",
   "metadata": {},
   "outputs": [
    {
     "data": {
      "text/plain": [
       "'python is very easy to learn'"
      ]
     },
     "execution_count": 150,
     "metadata": {},
     "output_type": "execute_result"
    }
   ],
   "source": [
    "s.replace(\"hard\",\"easy\")"
   ]
  },
  {
   "cell_type": "code",
   "execution_count": 151,
   "id": "63cfd0a5-a12c-4048-8419-67fd5681bff4",
   "metadata": {},
   "outputs": [
    {
     "data": {
      "text/plain": [
       "['apple', 'banana', 'mango']"
      ]
     },
     "execution_count": 151,
     "metadata": {},
     "output_type": "execute_result"
    }
   ],
   "source": [
    "s = \"apple-banana-mango\"\n",
    "s.split(\"-\")"
   ]
  },
  {
   "cell_type": "code",
   "execution_count": 152,
   "id": "c02c7654-7e23-4691-aaab-6c43a5dde187",
   "metadata": {},
   "outputs": [],
   "source": [
    "s1 = ['apple', 'banana', 'mango']"
   ]
  },
  {
   "cell_type": "code",
   "execution_count": 154,
   "id": "ebef1022-6f98-43f6-b43f-65db88e43853",
   "metadata": {},
   "outputs": [
    {
     "data": {
      "text/plain": [
       "'apple-banana-mango'"
      ]
     },
     "execution_count": 154,
     "metadata": {},
     "output_type": "execute_result"
    }
   ],
   "source": [
    "'-'.join(s1)"
   ]
  },
  {
   "cell_type": "code",
   "execution_count": 157,
   "id": "0f02044b-a3c1-485c-8d41-ae105a7be70f",
   "metadata": {},
   "outputs": [
    {
     "data": {
      "text/plain": [
       "'APPLE'"
      ]
     },
     "execution_count": 157,
     "metadata": {},
     "output_type": "execute_result"
    }
   ],
   "source": [
    "s1 = 'apple'\n",
    "s1.upper()"
   ]
  },
  {
   "cell_type": "code",
   "execution_count": 158,
   "id": "185cbb3d-b6dc-4e19-ada6-b22e2a4d87fd",
   "metadata": {},
   "outputs": [
    {
     "data": {
      "text/plain": [
       "'Apple'"
      ]
     },
     "execution_count": 158,
     "metadata": {},
     "output_type": "execute_result"
    }
   ],
   "source": [
    "s1.title()"
   ]
  },
  {
   "cell_type": "code",
   "execution_count": 162,
   "id": "46fefe73-9716-4998-aa50-5602e75b4767",
   "metadata": {},
   "outputs": [
    {
     "name": "stdout",
     "output_type": "stream",
     "text": [
      "apple\n"
     ]
    }
   ],
   "source": [
    "print(s1)"
   ]
  },
  {
   "cell_type": "code",
   "execution_count": 166,
   "id": "aa5aecd6-4d28-4472-ace9-dda1aaf34f25",
   "metadata": {},
   "outputs": [
    {
     "data": {
      "text/plain": [
       "True"
      ]
     },
     "execution_count": 166,
     "metadata": {},
     "output_type": "execute_result"
    }
   ],
   "source": [
    "s1.startswith('a')"
   ]
  },
  {
   "cell_type": "code",
   "execution_count": 167,
   "id": "9e3a5b5e-802a-4aa9-ab6b-61a8d4afc453",
   "metadata": {},
   "outputs": [
    {
     "data": {
      "text/plain": [
       "False"
      ]
     },
     "execution_count": 167,
     "metadata": {},
     "output_type": "execute_result"
    }
   ],
   "source": [
    "s1.endswith('a')"
   ]
  },
  {
   "cell_type": "code",
   "execution_count": 172,
   "id": "fdf5af5e-2c8f-4985-a43a-7fb15ba347c9",
   "metadata": {},
   "outputs": [],
   "source": [
    "password = '123'"
   ]
  },
  {
   "cell_type": "code",
   "execution_count": 171,
   "id": "a24a7f4f-fbdd-4207-8290-67b1bc69472a",
   "metadata": {},
   "outputs": [
    {
     "data": {
      "text/plain": [
       "True"
      ]
     },
     "execution_count": 171,
     "metadata": {},
     "output_type": "execute_result"
    }
   ],
   "source": [
    "password.isalnum()"
   ]
  },
  {
   "cell_type": "code",
   "execution_count": 173,
   "id": "6f1f7a9b-2e19-4439-9c4d-2029f05f5747",
   "metadata": {},
   "outputs": [
    {
     "data": {
      "text/plain": [
       "False"
      ]
     },
     "execution_count": 173,
     "metadata": {},
     "output_type": "execute_result"
    }
   ],
   "source": [
    "password.isalpha()"
   ]
  },
  {
   "cell_type": "code",
   "execution_count": 174,
   "id": "68e74c8e-2d0a-45dc-9d57-a118551c1c38",
   "metadata": {},
   "outputs": [
    {
     "data": {
      "text/plain": [
       "True"
      ]
     },
     "execution_count": 174,
     "metadata": {},
     "output_type": "execute_result"
    }
   ],
   "source": [
    "password.isdigit()"
   ]
  },
  {
   "cell_type": "code",
   "execution_count": 175,
   "id": "6349d24b-180c-40f3-be18-00e39ee148ec",
   "metadata": {},
   "outputs": [],
   "source": [
    "U = \"asdf\""
   ]
  },
  {
   "cell_type": "code",
   "execution_count": 176,
   "id": "62d7ce54-9427-4d40-a672-9f6cd5b4b348",
   "metadata": {},
   "outputs": [
    {
     "data": {
      "text/plain": [
       "True"
      ]
     },
     "execution_count": 176,
     "metadata": {},
     "output_type": "execute_result"
    }
   ],
   "source": [
    "U.islower()"
   ]
  },
  {
   "cell_type": "code",
   "execution_count": 177,
   "id": "85278802-7043-495e-a6d0-61ef7d8bb3d7",
   "metadata": {},
   "outputs": [
    {
     "data": {
      "text/plain": [
       "False"
      ]
     },
     "execution_count": 177,
     "metadata": {},
     "output_type": "execute_result"
    }
   ],
   "source": [
    "U.istitle()"
   ]
  },
  {
   "cell_type": "code",
   "execution_count": null,
   "id": "fa1fd1df-92dc-4a0e-9845-462b33250f60",
   "metadata": {},
   "outputs": [],
   "source": [
    "s = \"  \""
   ]
  },
  {
   "cell_type": "markdown",
   "id": "c9f69d16-21d1-4b12-be8c-af8601a02342",
   "metadata": {},
   "source": [
    "##### orderring elements of list"
   ]
  },
  {
   "cell_type": "code",
   "execution_count": 15,
   "id": "8032ae20-41b8-42ae-9726-aa6d6457a1d1",
   "metadata": {},
   "outputs": [],
   "source": [
    "k = [10,20,30,\"ravi\",True]"
   ]
  },
  {
   "cell_type": "code",
   "execution_count": 19,
   "id": "059690eb-91c2-441e-b030-1809d5657d45",
   "metadata": {},
   "outputs": [],
   "source": [
    "k.reverse()"
   ]
  },
  {
   "cell_type": "code",
   "execution_count": 20,
   "id": "cb05a219-937b-4efc-9d29-63598797ce73",
   "metadata": {},
   "outputs": [
    {
     "name": "stdout",
     "output_type": "stream",
     "text": [
      "[True, 'ravi', 30, 20, 10]\n"
     ]
    }
   ],
   "source": [
    "print(k)"
   ]
  },
  {
   "cell_type": "code",
   "execution_count": 24,
   "id": "fdffe5b0-bc44-4e0a-8a6a-d0bc6957b839",
   "metadata": {},
   "outputs": [],
   "source": [
    "k = [20,10,30]\n"
   ]
  },
  {
   "cell_type": "code",
   "execution_count": 28,
   "id": "f14cffb3-bba5-4301-8cc6-5b0775fc9370",
   "metadata": {},
   "outputs": [],
   "source": [
    "k.sort()"
   ]
  },
  {
   "cell_type": "code",
   "execution_count": 29,
   "id": "805e4d6d-a4b7-4443-880f-8d003eff9d56",
   "metadata": {},
   "outputs": [
    {
     "name": "stdout",
     "output_type": "stream",
     "text": [
      "[10, 20, 30]\n"
     ]
    }
   ],
   "source": [
    "print(k)"
   ]
  },
  {
   "cell_type": "code",
   "execution_count": 30,
   "id": "53553425-e260-42f8-bc65-77c36dec30da",
   "metadata": {},
   "outputs": [],
   "source": [
    "k.sort(reverse=True)"
   ]
  },
  {
   "cell_type": "code",
   "execution_count": 32,
   "id": "3e8ce16e-b534-41a1-8003-060332809de5",
   "metadata": {},
   "outputs": [
    {
     "name": "stdout",
     "output_type": "stream",
     "text": [
      "[30, 20, 10]\n"
     ]
    }
   ],
   "source": [
    "print(k)"
   ]
  },
  {
   "cell_type": "code",
   "execution_count": 36,
   "id": "5dabb8b8-e87b-419b-b301-8211b3453a5a",
   "metadata": {},
   "outputs": [],
   "source": [
    "k = [\"apple\",\"mango\",\"banana\"]  ### list should contain same datatype of values\n",
    "k.sort()"
   ]
  },
  {
   "cell_type": "code",
   "execution_count": 35,
   "id": "7681c406-2846-478c-800a-0ab26afc77f3",
   "metadata": {},
   "outputs": [
    {
     "name": "stdout",
     "output_type": "stream",
     "text": [
      "['apple', 'banana', 'mango']\n"
     ]
    }
   ],
   "source": [
    "print(k)"
   ]
  },
  {
   "cell_type": "markdown",
   "id": "08bfb115-b2c0-4743-a70f-c4fcdee4a731",
   "metadata": {},
   "source": [
    "##### Mathematical operations for list"
   ]
  },
  {
   "cell_type": "code",
   "execution_count": 37,
   "id": "8b074d1c-c541-4762-9237-9dea388e8484",
   "metadata": {},
   "outputs": [
    {
     "data": {
      "text/plain": [
       "[1, 2, 3, 4, 5, 6]"
      ]
     },
     "execution_count": 37,
     "metadata": {},
     "output_type": "execute_result"
    }
   ],
   "source": [
    "l1=[1,2,3]\n",
    "l2=[4,5,6]\n",
    "l1+l2"
   ]
  },
  {
   "cell_type": "code",
   "execution_count": 39,
   "id": "b0b75e09-477a-4c75-b4e3-a19868d455de",
   "metadata": {},
   "outputs": [
    {
     "name": "stdout",
     "output_type": "stream",
     "text": [
      "2272079980224\n"
     ]
    }
   ],
   "source": [
    "print(id(l1))"
   ]
  },
  {
   "cell_type": "code",
   "execution_count": 40,
   "id": "7e693850-14ed-494a-bec6-863dfe963394",
   "metadata": {},
   "outputs": [
    {
     "name": "stdout",
     "output_type": "stream",
     "text": [
      "2272079318208\n"
     ]
    }
   ],
   "source": [
    "print(id(l2))"
   ]
  },
  {
   "cell_type": "code",
   "execution_count": 43,
   "id": "d5f9a824-1493-4cac-8f04-4dbdb089695d",
   "metadata": {},
   "outputs": [
    {
     "name": "stdout",
     "output_type": "stream",
     "text": [
      "2272079328000\n"
     ]
    }
   ],
   "source": [
    "print(id(l1+l2))  #### by defaul PVM creates default reference variable"
   ]
  },
  {
   "cell_type": "code",
   "execution_count": 44,
   "id": "2dbf86b8-4751-4f95-80cc-2826bc1c97a4",
   "metadata": {},
   "outputs": [],
   "source": [
    "l3=l1+l2"
   ]
  },
  {
   "cell_type": "code",
   "execution_count": 45,
   "id": "70e36c0a-f5c0-403b-a214-71dc04029ae5",
   "metadata": {},
   "outputs": [
    {
     "name": "stdout",
     "output_type": "stream",
     "text": [
      "2272079973376\n"
     ]
    }
   ],
   "source": [
    "print(id(l3))"
   ]
  },
  {
   "cell_type": "code",
   "execution_count": 46,
   "id": "cc73c596-3676-47fc-bb4f-ebbcda1a63db",
   "metadata": {},
   "outputs": [
    {
     "data": {
      "text/plain": [
       "False"
      ]
     },
     "execution_count": 46,
     "metadata": {},
     "output_type": "execute_result"
    }
   ],
   "source": [
    "l1 == l2"
   ]
  },
  {
   "cell_type": "code",
   "execution_count": 47,
   "id": "f939c9c9-c4df-4f48-848a-d69396bfc49b",
   "metadata": {},
   "outputs": [
    {
     "data": {
      "text/plain": [
       "True"
      ]
     },
     "execution_count": 47,
     "metadata": {},
     "output_type": "execute_result"
    }
   ],
   "source": [
    "l1 < l2"
   ]
  },
  {
   "cell_type": "code",
   "execution_count": 55,
   "id": "b29d514d-cda6-4cdf-9931-1821c40e4101",
   "metadata": {},
   "outputs": [],
   "source": [
    "x=[\"Dog\",\"Cat\",\"Rat\"]\n",
    "y=[\"Dog\",\"Rat,\"\"Cat\"]\n",
    "z=[\"Dog\",\"Cat\",\"Rat\"]"
   ]
  },
  {
   "cell_type": "code",
   "execution_count": 58,
   "id": "ee4e6b54-0863-4425-820a-b9bcb7cfabc1",
   "metadata": {},
   "outputs": [
    {
     "name": "stdout",
     "output_type": "stream",
     "text": [
      "False\n",
      "True\n",
      "False\n"
     ]
    }
   ],
   "source": [
    "print(x==y)\n",
    "print(x==z)\n",
    "print(y==z)"
   ]
  },
  {
   "cell_type": "code",
   "execution_count": 59,
   "id": "42b6894e-db66-44df-9089-ad735cfd3b28",
   "metadata": {},
   "outputs": [
    {
     "name": "stdout",
     "output_type": "stream",
     "text": [
      "['Dog', 'Cat', 'Rat']\n"
     ]
    }
   ],
   "source": [
    "print(x)"
   ]
  },
  {
   "cell_type": "code",
   "execution_count": 61,
   "id": "d22a54fe-f7b8-4fbe-b7d3-ac7d1e5f8778",
   "metadata": {},
   "outputs": [],
   "source": [
    "x.clear()"
   ]
  },
  {
   "cell_type": "code",
   "execution_count": 62,
   "id": "65141149-930d-4633-b775-daadfdb5da91",
   "metadata": {},
   "outputs": [
    {
     "name": "stdout",
     "output_type": "stream",
     "text": [
      "[]\n"
     ]
    }
   ],
   "source": [
    "print(x)"
   ]
  },
  {
   "cell_type": "markdown",
   "id": "a5a883ae-3659-4996-88c3-1666246faa44",
   "metadata": {},
   "source": [
    "##### nested list"
   ]
  },
  {
   "cell_type": "code",
   "execution_count": 69,
   "id": "d9e25794-27ce-4049-a8c1-979a99137430",
   "metadata": {},
   "outputs": [],
   "source": [
    "f=[10,20,[30,40]]"
   ]
  },
  {
   "cell_type": "code",
   "execution_count": 65,
   "id": "efd7ef99-6d3c-4f6a-85ab-291fca2f1778",
   "metadata": {},
   "outputs": [
    {
     "data": {
      "text/plain": [
       "10"
      ]
     },
     "execution_count": 65,
     "metadata": {},
     "output_type": "execute_result"
    }
   ],
   "source": [
    "f[0]"
   ]
  },
  {
   "cell_type": "code",
   "execution_count": 70,
   "id": "c7ad1ff5-93fa-440f-a74f-f6d3d484b272",
   "metadata": {},
   "outputs": [
    {
     "data": {
      "text/plain": [
       "20"
      ]
     },
     "execution_count": 70,
     "metadata": {},
     "output_type": "execute_result"
    }
   ],
   "source": [
    "f[1]"
   ]
  },
  {
   "cell_type": "code",
   "execution_count": 71,
   "id": "2829cf7e-986d-4bca-a88b-6a103955a208",
   "metadata": {},
   "outputs": [
    {
     "data": {
      "text/plain": [
       "[30, 40]"
      ]
     },
     "execution_count": 71,
     "metadata": {},
     "output_type": "execute_result"
    }
   ],
   "source": [
    "f[2]"
   ]
  },
  {
   "cell_type": "code",
   "execution_count": 73,
   "id": "4d89aa1d-f6a2-496b-b0c9-ff140944b582",
   "metadata": {},
   "outputs": [
    {
     "data": {
      "text/plain": [
       "40"
      ]
     },
     "execution_count": 73,
     "metadata": {},
     "output_type": "execute_result"
    }
   ],
   "source": [
    "f[2][1]"
   ]
  },
  {
   "cell_type": "markdown",
   "id": "8f416f64-dcdf-419f-911a-d3eb9a5bab21",
   "metadata": {},
   "source": [
    "##### list comprehensive : compact way of creating list objects."
   ]
  },
  {
   "cell_type": "code",
   "execution_count": 76,
   "id": "b1e46629-d575-4c1a-aade-1012955a3e56",
   "metadata": {},
   "outputs": [],
   "source": [
    "lst=[]\n",
    "for i in range(0,10):\n",
    "    if i%2==0:\n",
    "        lst.append(i)\n",
    "        \n",
    "    "
   ]
  },
  {
   "cell_type": "code",
   "execution_count": 77,
   "id": "b579155d-1e20-4f32-9ce9-d09603dcf97a",
   "metadata": {},
   "outputs": [
    {
     "name": "stdout",
     "output_type": "stream",
     "text": [
      "[0, 2, 4, 6, 8]\n"
     ]
    }
   ],
   "source": [
    "print(lst)"
   ]
  },
  {
   "cell_type": "code",
   "execution_count": 79,
   "id": "31458cef-9d90-46f9-baf0-21d56fa409b1",
   "metadata": {},
   "outputs": [
    {
     "data": {
      "text/plain": [
       "[0, 2, 4, 6, 8]"
      ]
     },
     "execution_count": 79,
     "metadata": {},
     "output_type": "execute_result"
    }
   ],
   "source": [
    "[i for i in range(0,10) if i%2 == 0]  ### list"
   ]
  },
  {
   "cell_type": "code",
   "execution_count": 80,
   "id": "0662b433-d547-41f1-b233-40b77a91885f",
   "metadata": {},
   "outputs": [
    {
     "data": {
      "text/plain": [
       "{0, 2, 4, 6, 8}"
      ]
     },
     "execution_count": 80,
     "metadata": {},
     "output_type": "execute_result"
    }
   ],
   "source": [
    "{i for i in range(0,10) if i%2 == 0}  ### set"
   ]
  },
  {
   "cell_type": "code",
   "execution_count": 84,
   "id": "0221716a-5c3c-4b1d-a6d2-085dd410fddc",
   "metadata": {},
   "outputs": [
    {
     "data": {
      "text/plain": [
       "[0, 2, 4, 6, 8]"
      ]
     },
     "execution_count": 84,
     "metadata": {},
     "output_type": "execute_result"
    }
   ],
   "source": [
    "[i for i in (0,1,2,3,4,5,6,7,8,9) if i%2 == 0]  ### tupple also can be used in list"
   ]
  },
  {
   "cell_type": "code",
   "execution_count": 87,
   "id": "e2ae2d16-bc5c-4126-8eb9-63631c77a748",
   "metadata": {},
   "outputs": [
    {
     "name": "stdin",
     "output_type": "stream",
     "text": [
      "enter the course name python\n"
     ]
    },
    {
     "name": "stdout",
     "output_type": "stream",
     "text": [
      "learn python\n"
     ]
    }
   ],
   "source": [
    "name = input(\"enter the course name\")\n",
    "if name == \"python\":\n",
    "    print(\"learn python\")\n",
    "else:\n",
    "    print(\"prefer python\")\n"
   ]
  },
  {
   "cell_type": "code",
   "execution_count": 91,
   "id": "1f25fb8f-8bbb-4932-94f9-6ec03314edea",
   "metadata": {},
   "outputs": [
    {
     "name": "stdin",
     "output_type": "stream",
     "text": [
      "enter the course name python\n"
     ]
    },
    {
     "name": "stdout",
     "output_type": "stream",
     "text": [
      "learn python\n"
     ]
    }
   ],
   "source": [
    "name = input(\"enter the course name\")\n",
    "print(\"learn python\") if name == \"python\" else print(\"prefer python\")  ### ternary operator"
   ]
  },
  {
   "cell_type": "code",
   "execution_count": 94,
   "id": "618de278-c6c7-413e-90a4-c424e2f6c911",
   "metadata": {},
   "outputs": [
    {
     "data": {
      "text/plain": [
       "[0, 1, 4, 9, 16, 25, 36, 49, 64, 81]"
      ]
     },
     "execution_count": 94,
     "metadata": {},
     "output_type": "execute_result"
    }
   ],
   "source": [
    "[i*i for i in range(0,10)]   "
   ]
  },
  {
   "cell_type": "code",
   "execution_count": 100,
   "id": "c680cb19-cbee-4e60-9cfa-f647c649fd26",
   "metadata": {},
   "outputs": [
    {
     "name": "stdout",
     "output_type": "stream",
     "text": [
      "chiru\n",
      "c\n",
      "bala\n",
      "b\n",
      "nag\n",
      "n\n",
      "venky\n",
      "v\n"
     ]
    }
   ],
   "source": [
    "words=[\"chiru\",\"bala\",\"nag\",\"venky\"]\n",
    "for i in words:\n",
    "    print(i)\n",
    "    print(i[0])\n"
   ]
  },
  {
   "cell_type": "code",
   "execution_count": 99,
   "id": "863284ce-00ec-491e-8a2a-12f485c299d7",
   "metadata": {},
   "outputs": [
    {
     "name": "stdout",
     "output_type": "stream",
     "text": [
      "v\n"
     ]
    }
   ],
   "source": [
    "\"\""
   ]
  },
  {
   "cell_type": "code",
   "execution_count": 101,
   "id": "10361be2-07bf-43a2-b560-84f7ca75ff0b",
   "metadata": {},
   "outputs": [
    {
     "data": {
      "text/plain": [
       "['Last', 'Checkpoint', 'Last', 'Moday']"
      ]
     },
     "execution_count": 101,
     "metadata": {},
     "output_type": "execute_result"
    }
   ],
   "source": [
    "\"Last Checkpoint Last Moday\".split(' ')"
   ]
  },
  {
   "cell_type": "code",
   "execution_count": 102,
   "id": "75c2dfbc-d1c3-4e8c-86c7-de00f563d566",
   "metadata": {},
   "outputs": [],
   "source": [
    "lst=\"Last Checkpoint Last Moday\".split(' ')"
   ]
  },
  {
   "cell_type": "code",
   "execution_count": 104,
   "id": "271b1cd6-7037-4a1a-b212-36f967ead320",
   "metadata": {},
   "outputs": [
    {
     "name": "stdout",
     "output_type": "stream",
     "text": [
      "4\n",
      "10\n",
      "4\n",
      "5\n"
     ]
    }
   ],
   "source": [
    "for i  in lst:\n",
    "    print(len(i))"
   ]
  },
  {
   "cell_type": "code",
   "execution_count": 106,
   "id": "af0dcdf7-401f-4e34-9aec-f50b3e5738bf",
   "metadata": {},
   "outputs": [
    {
     "data": {
      "text/plain": [
       "[['Last', 4], ['Checkpoint', 10], ['Last', 4], ['Moday', 5]]"
      ]
     },
     "execution_count": 106,
     "metadata": {},
     "output_type": "execute_result"
    }
   ],
   "source": [
    "[[i,len(i)] for i  in lst]"
   ]
  },
  {
   "cell_type": "markdown",
   "id": "28a80923-d5d3-4601-b92b-533ed8c4ea1d",
   "metadata": {
    "jp-MarkdownHeadingCollapsed": true
   },
   "source": [
    "##### Cloning concept : creatinh the exact copy 1. deep cloning 2. shallow cloning"
   ]
  },
  {
   "cell_type": "markdown",
   "id": "c22fe471-0adc-47dd-9f83-42eebf7a8374",
   "metadata": {},
   "source": [
    "##### Shallow cloning"
   ]
  },
  {
   "cell_type": "code",
   "execution_count": 109,
   "id": "577c8dde-6e0c-4f43-bc6e-4c7d0052329d",
   "metadata": {},
   "outputs": [],
   "source": [
    "x=[10,20,30]\n",
    "y=x"
   ]
  },
  {
   "cell_type": "code",
   "execution_count": 110,
   "id": "679d38f9-63ce-4429-891f-c3784737918a",
   "metadata": {},
   "outputs": [
    {
     "name": "stdout",
     "output_type": "stream",
     "text": [
      "[10, 20, 30]\n"
     ]
    }
   ],
   "source": [
    "print(x)"
   ]
  },
  {
   "cell_type": "code",
   "execution_count": 111,
   "id": "95b18022-684c-4644-8ecd-ba15a67fac25",
   "metadata": {},
   "outputs": [
    {
     "name": "stdout",
     "output_type": "stream",
     "text": [
      "[10, 20, 30]\n"
     ]
    }
   ],
   "source": [
    "print(y)"
   ]
  },
  {
   "cell_type": "code",
   "execution_count": 114,
   "id": "eb91cbf4-f0f4-4c0e-8848-e757fc9cc4ca",
   "metadata": {},
   "outputs": [],
   "source": [
    "y[1]=222"
   ]
  },
  {
   "cell_type": "code",
   "execution_count": 115,
   "id": "4a73e9dd-8b27-43ae-8d5f-848efef51fc5",
   "metadata": {},
   "outputs": [
    {
     "name": "stdout",
     "output_type": "stream",
     "text": [
      "[10, 222, 30]\n"
     ]
    }
   ],
   "source": [
    "print(y)"
   ]
  },
  {
   "cell_type": "code",
   "execution_count": 116,
   "id": "fdf1ae5e-5f53-4e91-8abc-a54e5aafaef9",
   "metadata": {},
   "outputs": [
    {
     "name": "stdout",
     "output_type": "stream",
     "text": [
      "[10, 222, 30]\n"
     ]
    }
   ],
   "source": [
    "print(x)"
   ]
  },
  {
   "cell_type": "markdown",
   "id": "3b10d6c2-ffbd-41d2-a50c-8fef12c4fa13",
   "metadata": {},
   "source": [
    "##### deep copying , slice, copy()"
   ]
  },
  {
   "cell_type": "code",
   "execution_count": 118,
   "id": "b823643a-ce3b-4a92-b6bc-33c94984d48a",
   "metadata": {},
   "outputs": [],
   "source": [
    "x=[10,20,30]\n",
    "y=x[:]"
   ]
  },
  {
   "cell_type": "code",
   "execution_count": 119,
   "id": "f689ab23-1f7a-4470-ab74-650c24a5c48e",
   "metadata": {},
   "outputs": [
    {
     "name": "stdout",
     "output_type": "stream",
     "text": [
      "[10, 20, 30]\n"
     ]
    }
   ],
   "source": [
    "print(y)"
   ]
  },
  {
   "cell_type": "code",
   "execution_count": 120,
   "id": "d4d5a3e3-6407-4d1b-8afb-680d39c142e9",
   "metadata": {},
   "outputs": [
    {
     "name": "stdout",
     "output_type": "stream",
     "text": [
      "2272079589184\n"
     ]
    }
   ],
   "source": [
    "print(id(y))"
   ]
  },
  {
   "cell_type": "code",
   "execution_count": 121,
   "id": "713da3b2-40b6-40c5-8191-456fe0ad8ed7",
   "metadata": {},
   "outputs": [
    {
     "name": "stdout",
     "output_type": "stream",
     "text": [
      "2272079114944\n"
     ]
    }
   ],
   "source": [
    "print(id(x))"
   ]
  },
  {
   "cell_type": "code",
   "execution_count": 122,
   "id": "f3a0cf49-8fb7-44bc-ae04-5b63a2feed7f",
   "metadata": {},
   "outputs": [],
   "source": [
    "y[2]=333"
   ]
  },
  {
   "cell_type": "code",
   "execution_count": 123,
   "id": "49d15857-8d63-4729-b437-0a1ce0f524b4",
   "metadata": {},
   "outputs": [
    {
     "name": "stdout",
     "output_type": "stream",
     "text": [
      "[10, 20, 333]\n"
     ]
    }
   ],
   "source": [
    "print(y)"
   ]
  },
  {
   "cell_type": "code",
   "execution_count": 124,
   "id": "34cd1e07-91a2-4827-a8d6-522345537c16",
   "metadata": {},
   "outputs": [
    {
     "name": "stdout",
     "output_type": "stream",
     "text": [
      "[10, 20, 30]\n"
     ]
    }
   ],
   "source": [
    "print(x)"
   ]
  },
  {
   "cell_type": "code",
   "execution_count": 125,
   "id": "d789410b-af97-43d1-911d-a2e16d37248b",
   "metadata": {},
   "outputs": [],
   "source": [
    "y=x.copy()"
   ]
  },
  {
   "cell_type": "code",
   "execution_count": 127,
   "id": "7870baaf-f7de-43a0-9a0a-c3c7ebffe703",
   "metadata": {},
   "outputs": [
    {
     "name": "stdout",
     "output_type": "stream",
     "text": [
      "[10, 20, 30]\n"
     ]
    }
   ],
   "source": [
    "print((y))"
   ]
  },
  {
   "cell_type": "markdown",
   "id": "f815130b-f042-4576-aa24-18626cb63f60",
   "metadata": {},
   "source": [
    "- in terms of nested list"
   ]
  },
  {
   "cell_type": "code",
   "execution_count": 128,
   "id": "5c906af2-24f4-4a5d-acf4-ae093879131f",
   "metadata": {},
   "outputs": [],
   "source": [
    "x = [10,20,[30,40]]"
   ]
  },
  {
   "cell_type": "code",
   "execution_count": 129,
   "id": "3b5328b3-fe4c-48a3-a2c6-fdeabd47b77f",
   "metadata": {},
   "outputs": [],
   "source": [
    "y=x"
   ]
  },
  {
   "cell_type": "code",
   "execution_count": 130,
   "id": "14c5b7cc-1096-4456-8b17-7ffaaca0765f",
   "metadata": {},
   "outputs": [
    {
     "name": "stdout",
     "output_type": "stream",
     "text": [
      "[10, 20, [30, 40]]\n"
     ]
    }
   ],
   "source": [
    "print(x)"
   ]
  },
  {
   "cell_type": "code",
   "execution_count": 131,
   "id": "b3d948e2-8142-451e-9bce-c7d93d0ae0b4",
   "metadata": {},
   "outputs": [
    {
     "name": "stdout",
     "output_type": "stream",
     "text": [
      "[10, 20, [30, 40]]\n"
     ]
    }
   ],
   "source": [
    "print(y)"
   ]
  },
  {
   "cell_type": "code",
   "execution_count": 132,
   "id": "a0dce067-d749-4ae5-bf13-d5b3d7188676",
   "metadata": {},
   "outputs": [],
   "source": [
    "y[0]=111"
   ]
  },
  {
   "cell_type": "code",
   "execution_count": 133,
   "id": "f13078ee-2b6a-4a77-a14c-33952da608a1",
   "metadata": {},
   "outputs": [],
   "source": [
    "y[2][0]=333"
   ]
  },
  {
   "cell_type": "code",
   "execution_count": 134,
   "id": "e5778fff-fb2a-43fe-bd24-02484b4aea2b",
   "metadata": {},
   "outputs": [
    {
     "name": "stdout",
     "output_type": "stream",
     "text": [
      "[111, 20, [333, 40]]\n",
      "[111, 20, [333, 40]]\n"
     ]
    }
   ],
   "source": [
    "print(x)\n",
    "print(y)"
   ]
  },
  {
   "cell_type": "code",
   "execution_count": 135,
   "id": "4ed8e56c-c165-4dbd-b289-fc93ca7154fe",
   "metadata": {},
   "outputs": [],
   "source": [
    "from copy import deepcopy"
   ]
  },
  {
   "cell_type": "code",
   "execution_count": 136,
   "id": "a26c0c6e-f0f1-4898-9863-323facfa4eb8",
   "metadata": {},
   "outputs": [],
   "source": [
    "y = deepcopy(x)"
   ]
  },
  {
   "cell_type": "code",
   "execution_count": 138,
   "id": "4e1b1d02-0ce6-4263-b135-5504f30f62ec",
   "metadata": {},
   "outputs": [
    {
     "name": "stdout",
     "output_type": "stream",
     "text": [
      "2272080283456\n",
      "2272080565696\n"
     ]
    }
   ],
   "source": [
    "print(id(x))\n",
    "print(id(y))"
   ]
  },
  {
   "cell_type": "code",
   "execution_count": 140,
   "id": "d040bf6a-adf7-4cb2-9bd8-3b9499ba1825",
   "metadata": {},
   "outputs": [
    {
     "name": "stdout",
     "output_type": "stream",
     "text": [
      "[2272080452928]\n",
      "[2272079581440]\n"
     ]
    }
   ],
   "source": [
    "print([id(y[2])])\n",
    "print([id(x[2])])"
   ]
  },
  {
   "cell_type": "code",
   "execution_count": 142,
   "id": "b0ab7d65-f06c-4943-8a2a-9fc90d399bea",
   "metadata": {},
   "outputs": [],
   "source": [
    "from IPython.display import Image"
   ]
  },
  {
   "cell_type": "code",
   "execution_count": 145,
   "id": "1a58e955-736c-4ce1-99d3-3314fe034581",
   "metadata": {},
   "outputs": [
    {
     "data": {
      "image/png": "[encoded data removed]",
      "text/plain": [
       "<IPython.core.display.Image object>"
      ]
     },
     "execution_count": 145,
     "metadata": {},
     "output_type": "execute_result"
    }
   ],
   "source": [
    "Image(\"C:\\\\Python\\\\cloning.png\")"
   ]
  },
  {
   "cell_type": "code",
   "execution_count": 146,
   "id": "01b21ec0-01a7-4045-9c5e-d17a4603c3b4",
   "metadata": {},
   "outputs": [
    {
     "name": "stdout",
     "output_type": "stream",
     "text": [
      "C:\\Python\\cloning.png\n"
     ]
    }
   ],
   "source": [
    "print(\"C:\\\\Python\\\\cloning.png\")"
   ]
  },
  {
   "cell_type": "markdown",
   "id": "6a700a11-a836-43fa-ba2e-7b1afd218899",
   "metadata": {},
   "source": [
    "## Tupple"
   ]
  },
  {
   "cell_type": "markdown",
   "id": "83715d8e-8362-4572-8299-2996c17bdc99",
   "metadata": {},
   "source": [
    "- Immutable"
   ]
  },
  {
   "cell_type": "code",
   "execution_count": 149,
   "id": "02b1cccc-5c05-455f-a1b9-ba7c8f31f1ce",
   "metadata": {},
   "outputs": [],
   "source": [
    "t = (10,20,30)"
   ]
  },
  {
   "cell_type": "code",
   "execution_count": 151,
   "id": "e0f0bc1d-909a-4c0b-9edc-3f3bad8738f3",
   "metadata": {},
   "outputs": [
    {
     "name": "stdout",
     "output_type": "stream",
     "text": [
      "<class 'tuple'>\n"
     ]
    }
   ],
   "source": [
    "type(t)"
   ]
  },
  {
   "cell_type": "code",
   "execution_count": 153,
   "id": "357201e9-ab55-4d64-a8a0-7634ef0c4ed2",
   "metadata": {},
   "outputs": [
    {
     "data": {
      "text/plain": [
       "30"
      ]
     },
     "execution_count": 153,
     "metadata": {},
     "output_type": "execute_result"
    }
   ],
   "source": [
    "t[2]"
   ]
  },
  {
   "cell_type": "code",
   "execution_count": 154,
   "id": "c4f3b110-de0d-4d7e-8d87-7da8c1464063",
   "metadata": {},
   "outputs": [
    {
     "data": {
      "text/plain": [
       "20"
      ]
     },
     "execution_count": 154,
     "metadata": {},
     "output_type": "execute_result"
    }
   ],
   "source": [
    "t[1]"
   ]
  },
  {
   "cell_type": "code",
   "execution_count": 155,
   "id": "8320e54a-08a8-425f-aec1-3216a2ab78fc",
   "metadata": {},
   "outputs": [
    {
     "ename": "TypeError",
     "evalue": "'tuple' object does not support item assignment",
     "output_type": "error",
     "traceback": [
      "\u001b[1;31m---------------------------------------------------------------------------\u001b[0m",
      "\u001b[1;31mTypeError\u001b[0m                                 Traceback (most recent call last)",
      "Cell \u001b[1;32mIn[155], line 1\u001b[0m\n\u001b[1;32m----> 1\u001b[0m \u001b[43mt\u001b[49m\u001b[43m[\u001b[49m\u001b[38;5;241;43m1\u001b[39;49m\u001b[43m]\u001b[49m\u001b[38;5;241m=\u001b[39m\u001b[38;5;241m100\u001b[39m\n",
      "\u001b[1;31mTypeError\u001b[0m: 'tuple' object does not support item assignment"
     ]
    }
   ],
   "source": [
    "t[1]=100"
   ]
  },
  {
   "cell_type": "code",
   "execution_count": 159,
   "id": "eee6cb49-a988-48e9-b045-71a98f82c110",
   "metadata": {},
   "outputs": [
    {
     "data": {
      "text/plain": [
       "tuple"
      ]
     },
     "execution_count": 159,
     "metadata": {},
     "output_type": "execute_result"
    }
   ],
   "source": [
    "x=(1,)\n",
    "type(x)"
   ]
  },
  {
   "cell_type": "code",
   "execution_count": 162,
   "id": "d31fbca3-788a-4ced-93b2-02df0e5a9bf1",
   "metadata": {},
   "outputs": [
    {
     "data": {
      "text/plain": [
       "(1, 2, 3)"
      ]
     },
     "execution_count": 162,
     "metadata": {},
     "output_type": "execute_result"
    }
   ],
   "source": [
    "l = [1,2,3]\n",
    "tuple(l)"
   ]
  },
  {
   "cell_type": "code",
   "execution_count": 163,
   "id": "71d907b1-ee66-4038-8d11-44c6c3d22f74",
   "metadata": {},
   "outputs": [],
   "source": [
    "t = (10,10.20,\"ravi\",10+2j,True,10)"
   ]
  },
  {
   "cell_type": "code",
   "execution_count": 164,
   "id": "26277c37-a3b0-40b8-a9a0-6f3fe2f1b913",
   "metadata": {},
   "outputs": [
    {
     "name": "stdout",
     "output_type": "stream",
     "text": [
      "(10, 10.2, 'ravi', (10+2j), True, 10)\n"
     ]
    }
   ],
   "source": [
    "print(t)"
   ]
  },
  {
   "cell_type": "markdown",
   "id": "210bf108-180e-4a21-aae2-cf1e4fad3424",
   "metadata": {},
   "source": [
    "### whenever we apply the sorted function tupple, it will return the list"
   ]
  },
  {
   "cell_type": "code",
   "execution_count": 165,
   "id": "87d7a1ad-e802-47ad-82bc-5f8cfcc181a4",
   "metadata": {},
   "outputs": [
    {
     "data": {
      "text/plain": [
       "[10, 20, 30]"
      ]
     },
     "execution_count": 165,
     "metadata": {},
     "output_type": "execute_result"
    }
   ],
   "source": [
    "t=(10,20,30)\n",
    "sorted(t)"
   ]
  },
  {
   "cell_type": "code",
   "execution_count": 166,
   "id": "a07053b2-4a79-43fa-9cbc-3ab4741cfbfe",
   "metadata": {},
   "outputs": [
    {
     "data": {
      "text/plain": [
       "30"
      ]
     },
     "execution_count": 166,
     "metadata": {},
     "output_type": "execute_result"
    }
   ],
   "source": [
    "max(t)"
   ]
  },
  {
   "cell_type": "code",
   "execution_count": 167,
   "id": "fd72681a-52f2-4999-8dcd-29d80e488ee8",
   "metadata": {},
   "outputs": [
    {
     "data": {
      "text/plain": [
       "10"
      ]
     },
     "execution_count": 167,
     "metadata": {},
     "output_type": "execute_result"
    }
   ],
   "source": [
    "min(t)"
   ]
  },
  {
   "cell_type": "markdown",
   "id": "264700fe-d17b-4f7a-beec-a969cab7f73e",
   "metadata": {},
   "source": [
    "### tuple packing and unpacking"
   ]
  },
  {
   "cell_type": "code",
   "execution_count": 172,
   "id": "65a6e24f-22e0-4b99-8a8e-ba6cbb151ca0",
   "metadata": {},
   "outputs": [],
   "source": [
    "t1 = 10\n",
    "t2 = 20\n",
    "t3 = 30"
   ]
  },
  {
   "cell_type": "code",
   "execution_count": 173,
   "id": "6f81eb20-d638-40d2-8db6-3f422e36f677",
   "metadata": {},
   "outputs": [
    {
     "name": "stdout",
     "output_type": "stream",
     "text": [
      "(10, 20, 30)\n"
     ]
    }
   ],
   "source": [
    "t= t1,t2,t3\n",
    "print(t)"
   ]
  },
  {
   "cell_type": "code",
   "execution_count": 174,
   "id": "7f98ae50-be50-4e49-beaf-0f9a3e5740a4",
   "metadata": {},
   "outputs": [],
   "source": [
    "t1 = (10,20,30,40)\n",
    "a,b,c,d=t1"
   ]
  },
  {
   "cell_type": "code",
   "execution_count": 175,
   "id": "82669366-2251-4441-af64-68a0be0fba0b",
   "metadata": {},
   "outputs": [
    {
     "data": {
      "text/plain": [
       "10"
      ]
     },
     "execution_count": 175,
     "metadata": {},
     "output_type": "execute_result"
    }
   ],
   "source": [
    "a\n"
   ]
  },
  {
   "cell_type": "code",
   "execution_count": 176,
   "id": "0d5ff2ea-4e4e-4928-a709-8724f5acab0b",
   "metadata": {},
   "outputs": [
    {
     "data": {
      "text/plain": [
       "20"
      ]
     },
     "execution_count": 176,
     "metadata": {},
     "output_type": "execute_result"
    }
   ],
   "source": [
    "b"
   ]
  },
  {
   "cell_type": "code",
   "execution_count": 177,
   "id": "cf62a0d3-df3a-4342-a27d-f25fc1d7aa6e",
   "metadata": {},
   "outputs": [
    {
     "data": {
      "text/plain": [
       "30"
      ]
     },
     "execution_count": 177,
     "metadata": {},
     "output_type": "execute_result"
    }
   ],
   "source": [
    "c"
   ]
  },
  {
   "cell_type": "code",
   "execution_count": 178,
   "id": "19c72907-3121-4849-b6a4-a5082b47c0cb",
   "metadata": {},
   "outputs": [
    {
     "data": {
      "text/plain": [
       "40"
      ]
     },
     "execution_count": 178,
     "metadata": {},
     "output_type": "execute_result"
    }
   ],
   "source": [
    "d"
   ]
  },
  {
   "cell_type": "markdown",
   "id": "e10c22ec-f7f8-4b18-a15d-3fe37bc266e3",
   "metadata": {},
   "source": [
    "- tuple comprehension is supported by python, it is a generator"
   ]
  },
  {
   "cell_type": "code",
   "execution_count": 182,
   "id": "64c8237a-f258-42dc-928c-47d0f9902d04",
   "metadata": {},
   "outputs": [
    {
     "data": {
      "text/plain": [
       "<generator object <genexpr> at 0x0000021102961080>"
      ]
     },
     "execution_count": 182,
     "metadata": {},
     "output_type": "execute_result"
    }
   ],
   "source": [
    "(i for i in range(0,10) )"
   ]
  },
  {
   "cell_type": "markdown",
   "id": "3e90af7a-94b2-43f1-a6aa-d3cbe3b44b43",
   "metadata": {},
   "source": [
    "##### Dictonary"
   ]
  },
  {
   "cell_type": "markdown",
   "id": "b5be8de4-65c6-4ad7-966a-74882da53565",
   "metadata": {},
   "source": [
    "- dictionary is defined using key value pair, seperated by commna and enclosed with curly braces."
   ]
  },
  {
   "cell_type": "markdown",
   "id": "0f32e3bd-885a-425d-ae00-c4353259e8a9",
   "metadata": {},
   "source": [
    "- syntax Dictonary name = {key1:value1,key2:value2....}"
   ]
  },
  {
   "cell_type": "markdown",
   "id": "d9844e20-9df0-4c6d-95ef-3a7bae80c55c",
   "metadata": {},
   "source": [
    "- keys must be immutble objects and values can be mutable or immutable"
   ]
  },
  {
   "cell_type": "code",
   "execution_count": 2,
   "id": "eab9ac84-165f-418e-9145-f775196c0c36",
   "metadata": {},
   "outputs": [],
   "source": [
    "d = {}"
   ]
  },
  {
   "cell_type": "code",
   "execution_count": 3,
   "id": "27fd069e-cc66-446b-aa52-54cf10f1006a",
   "metadata": {},
   "outputs": [
    {
     "data": {
      "text/plain": [
       "{}"
      ]
     },
     "execution_count": 3,
     "metadata": {},
     "output_type": "execute_result"
    }
   ],
   "source": [
    "d"
   ]
  },
  {
   "cell_type": "code",
   "execution_count": 6,
   "id": "4b5899d3-8ea5-41b6-a7f8-5f3c9eae6457",
   "metadata": {},
   "outputs": [],
   "source": [
    "d = {\"email\":\"raviadulla@gmail.com\",\"name\":\"raviadulla\"}"
   ]
  },
  {
   "cell_type": "code",
   "execution_count": 7,
   "id": "79da7007-42b6-4316-8eea-08e035f4d026",
   "metadata": {},
   "outputs": [
    {
     "data": {
      "text/plain": [
       "{'email': 'raviadulla@gmail.com', 'name': 'raviadulla'}"
      ]
     },
     "execution_count": 7,
     "metadata": {},
     "output_type": "execute_result"
    }
   ],
   "source": [
    "d"
   ]
  },
  {
   "cell_type": "code",
   "execution_count": 8,
   "id": "98d7593e-305c-4e65-a833-8c8c932a0a90",
   "metadata": {},
   "outputs": [],
   "source": [
    "d = dict()"
   ]
  },
  {
   "cell_type": "code",
   "execution_count": 9,
   "id": "cc7af96b-0fe0-4f96-91d3-1fe6f2ab5734",
   "metadata": {},
   "outputs": [
    {
     "data": {
      "text/plain": [
       "{}"
      ]
     },
     "execution_count": 9,
     "metadata": {},
     "output_type": "execute_result"
    }
   ],
   "source": [
    "d"
   ]
  },
  {
   "cell_type": "markdown",
   "id": "a340e738-584c-4072-b04d-b643aff7fef2",
   "metadata": {},
   "source": [
    "* keys are unique and we can not have duplicate keys"
   ]
  },
  {
   "cell_type": "code",
   "execution_count": 10,
   "id": "fe8a4064-1082-4560-a266-0c843ceb2b37",
   "metadata": {},
   "outputs": [],
   "source": [
    "d = {\"a\":1,\"b\":2,\"a\":3}"
   ]
  },
  {
   "cell_type": "code",
   "execution_count": 11,
   "id": "9e4445ce-ae85-4db7-b615-c447e48bb223",
   "metadata": {},
   "outputs": [
    {
     "data": {
      "text/plain": [
       "{'a': 3, 'b': 2}"
      ]
     },
     "execution_count": 11,
     "metadata": {},
     "output_type": "execute_result"
    }
   ],
   "source": [
    "d"
   ]
  },
  {
   "cell_type": "markdown",
   "id": "553b1449-9262-4e0e-87ae-b08af14f0c4d",
   "metadata": {},
   "source": [
    "* dictionaries are unordered and you can not access the dictinary by using index"
   ]
  },
  {
   "cell_type": "code",
   "execution_count": 14,
   "id": "12940180-016b-4d01-b0de-8ba29312cc44",
   "metadata": {},
   "outputs": [
    {
     "data": {
      "text/plain": [
       "3"
      ]
     },
     "execution_count": 14,
     "metadata": {},
     "output_type": "execute_result"
    }
   ],
   "source": [
    "d[\"a\"]"
   ]
  },
  {
   "cell_type": "code",
   "execution_count": 15,
   "id": "ae9e225f-196f-44a7-881e-7d5c87dd3afa",
   "metadata": {},
   "outputs": [],
   "source": [
    "del d[\"a\"]"
   ]
  },
  {
   "cell_type": "code",
   "execution_count": 16,
   "id": "b3d367ce-bb48-41cc-b90c-d081bcc14b5d",
   "metadata": {},
   "outputs": [
    {
     "data": {
      "text/plain": [
       "{'b': 2}"
      ]
     },
     "execution_count": 16,
     "metadata": {},
     "output_type": "execute_result"
    }
   ],
   "source": [
    "d"
   ]
  },
  {
   "cell_type": "code",
   "execution_count": 17,
   "id": "bdad53a0-27b0-41bb-8e98-079113d68d27",
   "metadata": {},
   "outputs": [],
   "source": [
    "d = {}"
   ]
  },
  {
   "cell_type": "code",
   "execution_count": 18,
   "id": "c4439dad-2e44-4d1d-b2b9-bb2dbfba4ab7",
   "metadata": {},
   "outputs": [],
   "source": [
    "d[\"1\"]=1"
   ]
  },
  {
   "cell_type": "code",
   "execution_count": 19,
   "id": "8cc85ec9-b85c-49c2-8f79-c1e1d322623b",
   "metadata": {},
   "outputs": [
    {
     "data": {
      "text/plain": [
       "{'1': 1}"
      ]
     },
     "execution_count": 19,
     "metadata": {},
     "output_type": "execute_result"
    }
   ],
   "source": [
    "d"
   ]
  },
  {
   "cell_type": "markdown",
   "id": "86891c47-934a-4bfd-85c4-d54dfa0d4729",
   "metadata": {},
   "source": [
    "* dictinary are immutable and can be nested with another dictinary"
   ]
  },
  {
   "cell_type": "code",
   "execution_count": 21,
   "id": "f215484c-091c-4bb6-adba-ce5ad287c4aa",
   "metadata": {},
   "outputs": [],
   "source": [
    "d = {\"1\":{1:2}}"
   ]
  },
  {
   "cell_type": "code",
   "execution_count": 22,
   "id": "6a062f3c-da0a-42ee-a12f-5d610a9a91d6",
   "metadata": {},
   "outputs": [
    {
     "data": {
      "text/plain": [
       "{'1': {1: 2}}"
      ]
     },
     "execution_count": 22,
     "metadata": {},
     "output_type": "execute_result"
    }
   ],
   "source": [
    "d"
   ]
  },
  {
   "cell_type": "markdown",
   "id": "54cd4f85-7274-4ab6-bee8-f5836dd39bca",
   "metadata": {},
   "source": [
    "# sets"
   ]
  },
  {
   "cell_type": "code",
   "execution_count": 29,
   "id": "7a850b6d-5003-43cb-88df-4fae2d1ad70f",
   "metadata": {},
   "outputs": [],
   "source": [
    "s = set(\"hellow\")  ### using string  and repeated elements are ignroed"
   ]
  },
  {
   "cell_type": "code",
   "execution_count": 30,
   "id": "dd42c3fa-f88d-461c-9fc2-ada30ce1e87b",
   "metadata": {},
   "outputs": [
    {
     "data": {
      "text/plain": [
       "{'e', 'h', 'l', 'o', 'w'}"
      ]
     },
     "execution_count": 30,
     "metadata": {},
     "output_type": "execute_result"
    }
   ],
   "source": [
    "s"
   ]
  },
  {
   "cell_type": "code",
   "execution_count": 25,
   "id": "0c4956ce-4766-4425-977c-a77b95ce6bdf",
   "metadata": {},
   "outputs": [],
   "source": [
    "s = set()  ### empty string"
   ]
  },
  {
   "cell_type": "code",
   "execution_count": 26,
   "id": "dcc59fe2-cc5b-4c3f-b027-7ea82219dbdd",
   "metadata": {},
   "outputs": [
    {
     "data": {
      "text/plain": [
       "set()"
      ]
     },
     "execution_count": 26,
     "metadata": {},
     "output_type": "execute_result"
    }
   ],
   "source": [
    "s"
   ]
  },
  {
   "cell_type": "code",
   "execution_count": 27,
   "id": "ce56c448-846f-466a-a0ae-6d7678800674",
   "metadata": {},
   "outputs": [],
   "source": [
    "s=set([1,2,3,4,5])  ### using list "
   ]
  },
  {
   "cell_type": "code",
   "execution_count": 28,
   "id": "981282e7-cb92-4ebd-9354-4777633ee05b",
   "metadata": {},
   "outputs": [
    {
     "data": {
      "text/plain": [
       "{1, 2, 3, 4, 5}"
      ]
     },
     "execution_count": 28,
     "metadata": {},
     "output_type": "execute_result"
    }
   ],
   "source": [
    "s"
   ]
  },
  {
   "cell_type": "code",
   "execution_count": 31,
   "id": "1bbd5a5d-34f8-4ddc-82b6-52b326d2e26e",
   "metadata": {},
   "outputs": [],
   "source": [
    "s2 = {1,2,3,4,5}"
   ]
  },
  {
   "cell_type": "code",
   "execution_count": 32,
   "id": "2c013682-cba8-45db-9db3-57784973e8fc",
   "metadata": {},
   "outputs": [
    {
     "data": {
      "text/plain": [
       "{1, 2, 3, 4, 5}"
      ]
     },
     "execution_count": 32,
     "metadata": {},
     "output_type": "execute_result"
    }
   ],
   "source": [
    "s2"
   ]
  },
  {
   "cell_type": "code",
   "execution_count": 33,
   "id": "d1923301-5cc7-4a4e-a81d-3b8f581241fa",
   "metadata": {},
   "outputs": [
    {
     "data": {
      "text/plain": [
       "set"
      ]
     },
     "execution_count": 33,
     "metadata": {},
     "output_type": "execute_result"
    }
   ],
   "source": [
    "type(s2)"
   ]
  },
  {
   "cell_type": "markdown",
   "id": "46ba8373-e4a7-4877-830b-554e9f0e6974",
   "metadata": {},
   "source": [
    "* inside curly brackets if you aretake key vales pairs then it called dictionary and if you take only elments then it is called set"
   ]
  },
  {
   "cell_type": "markdown",
   "id": "7c233954-64ed-4043-b133-8058395c60df",
   "metadata": {},
   "source": [
    "set is collection uniq elements and it does not contain any duplicate values"
   ]
  },
  {
   "cell_type": "code",
   "execution_count": 35,
   "id": "1ab65193-cf6c-4af1-bea9-7ae7f486b717",
   "metadata": {},
   "outputs": [],
   "source": [
    "s = {1,2,3,1,2,3}"
   ]
  },
  {
   "cell_type": "code",
   "execution_count": 36,
   "id": "b9c06448-7039-435c-8f63-85b7efde3ec6",
   "metadata": {},
   "outputs": [
    {
     "data": {
      "text/plain": [
       "{1, 2, 3}"
      ]
     },
     "execution_count": 36,
     "metadata": {},
     "output_type": "execute_result"
    }
   ],
   "source": [
    "s"
   ]
  },
  {
   "cell_type": "code",
   "execution_count": 37,
   "id": "84575fd3-7e00-4a96-8bad-6c372e1e7366",
   "metadata": {},
   "outputs": [],
   "source": [
    "s1 = {1,2,3}"
   ]
  },
  {
   "cell_type": "code",
   "execution_count": 38,
   "id": "89de9b7b-6ef9-49d8-ad11-a0bab725a129",
   "metadata": {},
   "outputs": [],
   "source": [
    "s2 = {1,3,2}"
   ]
  },
  {
   "cell_type": "code",
   "execution_count": 41,
   "id": "bdc59c9f-88e7-4c2b-b995-710cc3a8bce6",
   "metadata": {},
   "outputs": [
    {
     "data": {
      "text/plain": [
       "True"
      ]
     },
     "execution_count": 41,
     "metadata": {},
     "output_type": "execute_result"
    }
   ],
   "source": [
    "s1==s2  ## set is unordered and mutable\n"
   ]
  },
  {
   "cell_type": "code",
   "execution_count": 42,
   "id": "65773d54-d634-4614-8cc5-d5d49adfc9a9",
   "metadata": {},
   "outputs": [
    {
     "ename": "TypeError",
     "evalue": "unhashable type: 'list'",
     "output_type": "error",
     "traceback": [
      "\u001b[1;31m---------------------------------------------------------------------------\u001b[0m",
      "\u001b[1;31mTypeError\u001b[0m                                 Traceback (most recent call last)",
      "Cell \u001b[1;32mIn[42], line 1\u001b[0m\n\u001b[1;32m----> 1\u001b[0m s \u001b[38;5;241m=\u001b[39m {\u001b[38;5;241m1\u001b[39m,\u001b[38;5;241m2\u001b[39m,\u001b[38;5;241m3\u001b[39m,[\u001b[38;5;241m1\u001b[39m,\u001b[38;5;241m2\u001b[39m]}\n",
      "\u001b[1;31mTypeError\u001b[0m: unhashable type: 'list'"
     ]
    }
   ],
   "source": [
    "s = {1,2,3,[1,2]}"
   ]
  },
  {
   "cell_type": "code",
   "execution_count": 43,
   "id": "0101e1aa-a824-4ce2-9e29-556e88044ef1",
   "metadata": {},
   "outputs": [
    {
     "ename": "TypeError",
     "evalue": "unhashable type: 'set'",
     "output_type": "error",
     "traceback": [
      "\u001b[1;31m---------------------------------------------------------------------------\u001b[0m",
      "\u001b[1;31mTypeError\u001b[0m                                 Traceback (most recent call last)",
      "Cell \u001b[1;32mIn[43], line 1\u001b[0m\n\u001b[1;32m----> 1\u001b[0m s \u001b[38;5;241m=\u001b[39m {\u001b[38;5;241m1\u001b[39m,\u001b[38;5;241m2\u001b[39m,\u001b[38;5;241m3\u001b[39m,{\u001b[38;5;241m1\u001b[39m,\u001b[38;5;241m2\u001b[39m}}\n",
      "\u001b[1;31mTypeError\u001b[0m: unhashable type: 'set'"
     ]
    }
   ],
   "source": [
    "s = {1,2,3,{1,2}}"
   ]
  },
  {
   "cell_type": "code",
   "execution_count": 44,
   "id": "373f1fe2-d411-4283-b434-3b7d3ed36793",
   "metadata": {},
   "outputs": [
    {
     "data": {
      "text/plain": [
       "{1, 2, 3}"
      ]
     },
     "execution_count": 44,
     "metadata": {},
     "output_type": "execute_result"
    }
   ],
   "source": [
    "s"
   ]
  },
  {
   "cell_type": "code",
   "execution_count": 45,
   "id": "6ef9cf9f-a593-4e62-b7c3-da7a7cd1f63a",
   "metadata": {},
   "outputs": [],
   "source": [
    "s.add(4)"
   ]
  },
  {
   "cell_type": "code",
   "execution_count": 46,
   "id": "46bff910-01c8-4008-b396-a7b80e0a8d07",
   "metadata": {},
   "outputs": [
    {
     "data": {
      "text/plain": [
       "{1, 2, 3, 4}"
      ]
     },
     "execution_count": 46,
     "metadata": {},
     "output_type": "execute_result"
    }
   ],
   "source": [
    "s"
   ]
  },
  {
   "cell_type": "markdown",
   "id": "89db8194-59bd-4ac7-8c08-b6340c230b4f",
   "metadata": {},
   "source": [
    "* if you want to use unique values we can use the set"
   ]
  },
  {
   "cell_type": "markdown",
   "id": "1c864d35-6064-4b93-89c2-554002ac47a7",
   "metadata": {},
   "source": [
    "* unordered and we can not use index"
   ]
  },
  {
   "cell_type": "markdown",
   "id": "a77a1bf0-a8c8-43fe-92e8-3cc19872c886",
   "metadata": {},
   "source": [
    "* we do not have key value pair to fetch values, we can use loops or in memership operator"
   ]
  },
  {
   "cell_type": "code",
   "execution_count": 49,
   "id": "78686e57-8356-49b4-94be-d4254622f232",
   "metadata": {},
   "outputs": [
    {
     "data": {
      "text/plain": [
       "True"
      ]
     },
     "execution_count": 49,
     "metadata": {},
     "output_type": "execute_result"
    }
   ],
   "source": [
    "1 in s"
   ]
  },
  {
   "cell_type": "code",
   "execution_count": 52,
   "id": "8ff09859-42bf-48bb-b4f0-3b44410fbdc3",
   "metadata": {},
   "outputs": [
    {
     "name": "stdout",
     "output_type": "stream",
     "text": [
      "1\n",
      "2\n",
      "3\n",
      "4\n"
     ]
    }
   ],
   "source": [
    "for i in s:\n",
    "    print(i)"
   ]
  },
  {
   "cell_type": "code",
   "execution_count": null,
   "id": "9dab7120-bb17-47f3-9373-0ce183e42046",
   "metadata": {},
   "outputs": [],
   "source": []
  }
 ],
 "metadata": {
  "kernelspec": {
   "display_name": "Python 3 (ipykernel)",
   "language": "python",
   "name": "python3"
  },
  "language_info": {
   "codemirror_mode": {
    "name": "ipython",
    "version": 3
   },
   "file_extension": ".py",
   "mimetype": "text/x-python",
   "name": "python",
   "nbconvert_exporter": "python",
   "pygments_lexer": "ipython3",
   "version": "3.11.9"
  }
 },
 "nbformat": 4,
 "nbformat_minor": 5
}
