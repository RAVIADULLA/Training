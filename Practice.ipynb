{
 "cells": [
  {
   "cell_type": "code",
   "execution_count": 8,
   "id": "e38539d7-5043-4132-a517-27de6cb4f851",
   "metadata": {},
   "outputs": [
    {
     "name": "stdout",
     "output_type": "stream",
     "text": [
      "even\n"
     ]
    }
   ],
   "source": [
    "##### simple if condition\n",
    "if 10%2 == 0:\n",
    "    print (\"even\")\n",
    "else:\n",
    "    print(\"odd\")"
   ]
  },
  {
   "cell_type": "code",
   "execution_count": 7,
   "id": "4365354d-4c4d-45bf-bc85-5ced369d7922",
   "metadata": {},
   "outputs": [
    {
     "name": "stdout",
     "output_type": "stream",
     "text": [
      "odd\n"
     ]
    }
   ],
   "source": [
    "###### ternary operator means rearranging the if condition\n",
    "print(\"even\") if 9%2 == 0 else print(\"odd\")"
   ]
  },
  {
   "cell_type": "code",
   "execution_count": 18,
   "id": "db423c91-39b5-49ed-bbbe-d8a5f22283a4",
   "metadata": {},
   "outputs": [
    {
     "name": "stdout",
     "output_type": "stream",
     "text": [
      "True\n",
      "False\n"
     ]
    }
   ],
   "source": [
    "####$ identity operator\n",
    "a=10\n",
    "b=10\n",
    "c=20\n",
    "print(a is b)\n",
    "print(a is c)\n"
   ]
  },
  {
   "cell_type": "code",
   "execution_count": 22,
   "id": "da0e55e4-193e-4818-87dc-02a38cdf55a5",
   "metadata": {},
   "outputs": [
    {
     "name": "stdout",
     "output_type": "stream",
     "text": [
      "True\n",
      "False\n"
     ]
    }
   ],
   "source": [
    "##### Membership operator\n",
    "l=[1,12.24,\"hello\",\"hi\"]\n",
    "print(\"hello\" in l)\n",
    "print(\"how\" in l)\n",
    "\n"
   ]
  },
  {
   "cell_type": "code",
   "execution_count": 3,
   "id": "d6525d52-f472-4309-8129-21cf90b24b9d",
   "metadata": {},
   "outputs": [],
   "source": [
    "import math"
   ]
  },
  {
   "cell_type": "code",
   "execution_count": 4,
   "id": "c8ebb0d7-0eba-4a5f-9fbd-706ed642b670",
   "metadata": {},
   "outputs": [
    {
     "data": {
      "text/plain": [
       "6.0"
      ]
     },
     "execution_count": 4,
     "metadata": {},
     "output_type": "execute_result"
    }
   ],
   "source": [
    "math.sqrt(36)"
   ]
  },
  {
   "cell_type": "code",
   "execution_count": 5,
   "id": "877c18bd-3dea-4f72-8e4f-ff663e8bddbc",
   "metadata": {},
   "outputs": [
    {
     "data": {
      "text/plain": [
       "24"
      ]
     },
     "execution_count": 5,
     "metadata": {},
     "output_type": "execute_result"
    }
   ],
   "source": [
    "math.factorial(4)  ###### 4*3*2*1"
   ]
  },
  {
   "cell_type": "markdown",
   "id": "e383bfa3-f36f-4fea-b467-d7cd7efec7bb",
   "metadata": {},
   "source": [
    "##### input and output statements"
   ]
  },
  {
   "cell_type": "code",
   "execution_count": 10,
   "id": "ff9fdd4b-93c5-4153-bbd3-fd04468df32a",
   "metadata": {},
   "outputs": [
    {
     "name": "stdin",
     "output_type": "stream",
     "text": [
      "enter the employee id :  123\n"
     ]
    },
    {
     "data": {
      "text/plain": [
       "'123'"
      ]
     },
     "execution_count": 10,
     "metadata": {},
     "output_type": "execute_result"
    }
   ],
   "source": [
    "input(\"enter the employee id : \")  ### it returns always string"
   ]
  },
  {
   "cell_type": "code",
   "execution_count": 13,
   "id": "5dfb6104-168f-4c3c-97c3-34e4e0662810",
   "metadata": {},
   "outputs": [
    {
     "name": "stdin",
     "output_type": "stream",
     "text": [
      "enter the employee id :  123\n"
     ]
    }
   ],
   "source": [
    "employee_id=int(input(\"enter the employee id : \") )\n"
   ]
  },
  {
   "cell_type": "code",
   "execution_count": 14,
   "id": "ddc733b3-ba8d-4825-b906-a1da435dcf54",
   "metadata": {},
   "outputs": [
    {
     "name": "stdout",
     "output_type": "stream",
     "text": [
      "123\n"
     ]
    }
   ],
   "source": [
    "print(employee_id)"
   ]
  },
  {
   "cell_type": "code",
   "execution_count": 16,
   "id": "60737ce4-159b-410c-b555-1c6afffceaf9",
   "metadata": {},
   "outputs": [
    {
     "name": "stdin",
     "output_type": "stream",
     "text": [
      "enter num1:  1\n",
      "enter num2:  2\n"
     ]
    },
    {
     "name": "stdout",
     "output_type": "stream",
     "text": [
      "12\n"
     ]
    }
   ],
   "source": [
    "x= input(\"enter num1: \")\n",
    "y= input(\"enter num2: \")\n",
    "print(x+y)\n",
    "         "
   ]
  },
  {
   "cell_type": "code",
   "execution_count": 17,
   "id": "2d59adb9-62b7-4840-b438-736f74972726",
   "metadata": {},
   "outputs": [
    {
     "name": "stdin",
     "output_type": "stream",
     "text": [
      "enter num1:  1\n",
      "enter num2:  2\n"
     ]
    },
    {
     "name": "stdout",
     "output_type": "stream",
     "text": [
      "3\n"
     ]
    }
   ],
   "source": [
    "x= int(input(\"enter num1: \"))\n",
    "y= int(input(\"enter num2: \"))\n",
    "print(x+y)"
   ]
  },
  {
   "cell_type": "code",
   "execution_count": 19,
   "id": "d9dad7fc-b2af-4b12-b1aa-ed24e8b993bd",
   "metadata": {},
   "outputs": [
    {
     "name": "stdin",
     "output_type": "stream",
     "text": [
      "enter the numbers :  1 2\n"
     ]
    },
    {
     "data": {
      "text/plain": [
       "['1', '2']"
      ]
     },
     "execution_count": 19,
     "metadata": {},
     "output_type": "execute_result"
    }
   ],
   "source": [
    "input(\"enter the numbers : \").split() ##### split will convert string datatype to list datatype"
   ]
  },
  {
   "cell_type": "code",
   "execution_count": 24,
   "id": "4d9f7d49-bf5e-4d4b-bc54-3ca46909d1d1",
   "metadata": {},
   "outputs": [
    {
     "data": {
      "text/plain": [
       "['h', 'e', 'l', 'l', 'o']"
      ]
     },
     "execution_count": 24,
     "metadata": {},
     "output_type": "execute_result"
    }
   ],
   "source": [
    "\"h+e+l+l+o\".split('+')"
   ]
  },
  {
   "cell_type": "markdown",
   "id": "97daab05-177e-44fa-bde4-eee424e569c7",
   "metadata": {},
   "source": [
    "##### eval function take a expression (string) and evaluate the results"
   ]
  },
  {
   "cell_type": "code",
   "execution_count": 29,
   "id": "731590b5-eeaa-4b23-bc7e-4eaf7d51bb4f",
   "metadata": {},
   "outputs": [
    {
     "name": "stdout",
     "output_type": "stream",
     "text": [
      "60\n",
      "11.5\n"
     ]
    }
   ],
   "source": [
    "x= eval(\"10+20+30\")\n",
    "y = eval(\"10+2*3/4\")\n",
    "print(x)\n",
    "print(y)"
   ]
  },
  {
   "cell_type": "markdown",
   "id": "9a197379-9dbb-42ff-9c22-3be91db3edf5",
   "metadata": {},
   "source": [
    "##### Command line arguments"
   ]
  },
  {
   "cell_type": "code",
   "execution_count": 30,
   "id": "79554c4e-d1b1-481c-bc08-f132cfd15245",
   "metadata": {},
   "outputs": [],
   "source": [
    "##### passing the arguments at time of execution\n",
    "from sys import argv"
   ]
  },
  {
   "cell_type": "code",
   "execution_count": 31,
   "id": "e14769d9-3e6e-4e96-80d2-8b50c1d5f426",
   "metadata": {},
   "outputs": [
    {
     "data": {
      "text/plain": [
       "1"
      ]
     },
     "execution_count": 31,
     "metadata": {},
     "output_type": "execute_result"
    }
   ],
   "source": [
    "l= [1,2,3,4]\n",
    "l[0]\n"
   ]
  },
  {
   "cell_type": "code",
   "execution_count": 33,
   "id": "a6010890-cf23-4eec-9369-f600849e604b",
   "metadata": {},
   "outputs": [
    {
     "ename": "IndexError",
     "evalue": "list index out of range",
     "output_type": "error",
     "traceback": [
      "\u001b[1;31m---------------------------------------------------------------------------\u001b[0m",
      "\u001b[1;31mIndexError\u001b[0m                                Traceback (most recent call last)",
      "Cell \u001b[1;32mIn[33], line 1\u001b[0m\n\u001b[1;32m----> 1\u001b[0m \u001b[43ml\u001b[49m\u001b[43m[\u001b[49m\u001b[38;5;241;43m5\u001b[39;49m\u001b[43m]\u001b[49m\n",
      "\u001b[1;31mIndexError\u001b[0m: list index out of range"
     ]
    }
   ],
   "source": [
    "l[5]"
   ]
  },
  {
   "cell_type": "code",
   "execution_count": 34,
   "id": "a9e96c31-0769-443c-84f4-b7aaa0a96a38",
   "metadata": {},
   "outputs": [
    {
     "name": "stdout",
     "output_type": "stream",
     "text": [
      "HI\n",
      "Ravi\n",
      "Suvarna\n"
     ]
    }
   ],
   "source": [
    "print (\"HI\\nRavi\\nSuvarna\")"
   ]
  },
  {
   "cell_type": "code",
   "execution_count": 36,
   "id": "842ba4d6-de2d-44f5-9811-db911d90bbb4",
   "metadata": {},
   "outputs": [
    {
     "name": "stdout",
     "output_type": "stream",
     "text": [
      "the values are:,10,20,30\n",
      "the values are::10:20:30\n"
     ]
    }
   ],
   "source": [
    "a,b,c = 10,20,30\n",
    "print(\"the values are:\",a,b,c,sep=',')\n",
    "print(\"the values are:\",a,b,c,sep=':')"
   ]
  },
  {
   "cell_type": "code",
   "execution_count": 40,
   "id": "f7078699-a996-45bc-b527-7278dcc56557",
   "metadata": {},
   "outputs": [
    {
     "name": "stdout",
     "output_type": "stream",
     "text": [
      "Ravi Suvi "
     ]
    }
   ],
   "source": [
    "print(\"Ravi\",end=' ')\n",
    "print(\"Suvi\",end=' ')"
   ]
  },
  {
   "cell_type": "code",
   "execution_count": 46,
   "id": "5f6452e8-ce7f-42d5-8bbc-683ca59259c6",
   "metadata": {},
   "outputs": [
    {
     "name": "stdout",
     "output_type": "stream",
     "text": [
      "1234 hi i am Ravi my age is 38 i have completed my btech\n",
      "1234 hi i am Ravi my age is 38 i have completed my btech\n",
      "Ravi hi i am 1234 my age is 38 i have completed my btech\n",
      "1234 hi i am Ravi my age is 38 i have completed my btech\n"
     ]
    }
   ],
   "source": [
    "empid = 1234\n",
    "name = \"Ravi\"\n",
    "age=38\n",
    "qual=\"btech\"\n",
    "print(empid,\"hi i am\",name, \"my age is\", age,\"i have completed my\",qual)\n",
    "print(\"{0} hi i am {1} my age is {2} i have completed my {3}\".format(empid,name,age,qual))\n",
    "print(\"{0} hi i am {1} my age is {2} i have completed my {3}\".format(name,empid,age,qual))\n",
    "print(\"{e} hi i am {n} my age is {a} i have completed my {q}\".format(e=empid,n=name,a=age,q=qual))"
   ]
  },
  {
   "cell_type": "code",
   "execution_count": 3,
   "id": "333d7683-0be3-4ba9-a892-1eb334a9b387",
   "metadata": {},
   "outputs": [
    {
     "name": "stdout",
     "output_type": "stream",
     "text": [
      "apples\n",
      "oranges\n",
      "bananaas\n",
      "mangoes\n"
     ]
    }
   ],
   "source": [
    "I = [\"apples\",\"oranges\",\"bananaas\",\"mangoes\"]\n",
    "for i in I:\n",
    "    print(i)"
   ]
  },
  {
   "cell_type": "code",
   "execution_count": 5,
   "id": "0dedb861-594b-4f95-9dbc-3fb604edadb0",
   "metadata": {},
   "outputs": [
    {
     "name": "stdin",
     "output_type": "stream",
     "text": [
      "enter the name :  dhoni\n"
     ]
    },
    {
     "name": "stdout",
     "output_type": "stream",
     "text": [
      "stop\n"
     ]
    }
   ],
   "source": [
    "name = input(\"enter the name : \")\n",
    "if name == \"sachin\":\n",
    "    print(\"welcome\")\n",
    "else:\n",
    "    print(\"stop\")"
   ]
  },
  {
   "cell_type": "code",
   "execution_count": 8,
   "id": "b5551131-d6e5-4955-9c05-889ca390a09f",
   "metadata": {},
   "outputs": [
    {
     "name": "stdin",
     "output_type": "stream",
     "text": [
      "enter the signal color green\n"
     ]
    },
    {
     "name": "stdout",
     "output_type": "stream",
     "text": [
      "move the vehicles\n"
     ]
    }
   ],
   "source": [
    "color = input (\"enter the signal color\")\n",
    "if color == \"red\":\n",
    "    print(\"stop te vehicles\")\n",
    "elif color == \"green\":\n",
    "    print(\"move the vehicles\")\n",
    "else:\n",
    "    print(\"slow down the vehicles\")"
   ]
  },
  {
   "cell_type": "code",
   "execution_count": 12,
   "id": "adf74776-7d40-4ec0-9612-19e3480f8c45",
   "metadata": {},
   "outputs": [
    {
     "name": "stdin",
     "output_type": "stream",
     "text": [
      "enter the 1st num 5\n",
      "enter the 2nd num 4\n"
     ]
    },
    {
     "name": "stdout",
     "output_type": "stream",
     "text": [
      "the biggest num is : 5\n"
     ]
    }
   ],
   "source": [
    "n1 = int(input(\"enter the 1st num\"))\n",
    "n2 = int(input(\"enter the 2nd num\"))\n",
    "if n1 > n2:\n",
    "    print(\"the biggest num is :\",n1)\n",
    "else:\n",
    "    print(\"the biggest num is :\",n2)"
   ]
  },
  {
   "cell_type": "code",
   "execution_count": 15,
   "id": "bfe74595-7dd4-4bdd-9b93-5ea0710a03d7",
   "metadata": {},
   "outputs": [
    {
     "name": "stdin",
     "output_type": "stream",
     "text": [
      "enter the number 11\n"
     ]
    },
    {
     "name": "stdout",
     "output_type": "stream",
     "text": [
      "this given number 11 is odd\n"
     ]
    }
   ],
   "source": [
    "num = int(input(\"enter the number\"))\n",
    "if num % 2 == 0:\n",
    "          print(\"the given number\", num,\"is even\")\n",
    "else:\n",
    "    print(\"this given number\", num, \"is odd\")\n",
    "          \n",
    "          \n",
    "    "
   ]
  },
  {
   "cell_type": "markdown",
   "id": "7b0b734b-d16d-48bb-8c96-03dbf012b5a8",
   "metadata": {},
   "source": [
    "##### Iterative statements"
   ]
  },
  {
   "cell_type": "markdown",
   "id": "acf6ebf7-73ed-42e5-8fcf-d702d259f6a9",
   "metadata": {},
   "source": [
    "##### sequences : string, list, tupple, set, frozenset, dict"
   ]
  },
  {
   "cell_type": "code",
   "execution_count": 23,
   "id": "2eb8f8b0-310d-490b-923e-db3612d2a313",
   "metadata": {},
   "outputs": [
    {
     "name": "stdout",
     "output_type": "stream",
     "text": [
      "v\n",
      "i\n",
      "s\n",
      "u\n",
      "a\n",
      "l\n",
      "p\n",
      "a\n",
      "t\n",
      "h\n"
     ]
    }
   ],
   "source": [
    "s = \"visualpath\"\n",
    "for iterator in s:\n",
    "    \n",
    "    print(iterator)\n",
    "\n"
   ]
  },
  {
   "cell_type": "code",
   "execution_count": 25,
   "id": "80dc3a33-6e71-4d19-9bd2-75ed6c5281db",
   "metadata": {},
   "outputs": [
    {
     "name": "stdout",
     "output_type": "stream",
     "text": [
      "1\n",
      "2\n",
      "3\n",
      "4\n",
      "5\n"
     ]
    }
   ],
   "source": [
    "l =[1,2,3,4,5]  ###### list\n",
    "for i in l:\n",
    "    print(i)"
   ]
  },
  {
   "cell_type": "code",
   "execution_count": 26,
   "id": "77743c87-1d5f-41e9-9fb2-c2a21f456235",
   "metadata": {},
   "outputs": [
    {
     "name": "stdout",
     "output_type": "stream",
     "text": [
      "1\n",
      "2\n",
      "3\n",
      "4\n",
      "5\n"
     ]
    }
   ],
   "source": [
    "l ={1,2,3,4,5}  ##### set\n",
    "for i in l:\n",
    "    print(i)"
   ]
  },
  {
   "cell_type": "code",
   "execution_count": 27,
   "id": "86c1359e-8cb1-407f-90f0-b73f8e1fbbff",
   "metadata": {},
   "outputs": [
    {
     "name": "stdout",
     "output_type": "stream",
     "text": [
      "1\n",
      "2\n",
      "3\n",
      "4\n",
      "5\n"
     ]
    }
   ],
   "source": [
    "l =(1,2,3,4,5) ##### tupple\n",
    "for i in l:\n",
    "    print(i)"
   ]
  },
  {
   "cell_type": "code",
   "execution_count": 40,
   "id": "1e2b308d-3428-4569-8c15-8fad81e83b10",
   "metadata": {},
   "outputs": [
    {
     "name": "stdout",
     "output_type": "stream",
     "text": [
      "(1, 'apple')\n",
      "(2, 'ball')\n",
      "(3, 'cat')\n"
     ]
    }
   ],
   "source": [
    "d = {1:\"apple\",2:\"ball\",3:\"cat\"}\n",
    "for j in d.items():\n",
    "    print(j)"
   ]
  },
  {
   "cell_type": "code",
   "execution_count": 41,
   "id": "8234f6d2-dec6-4527-8117-751541ce3f6a",
   "metadata": {},
   "outputs": [
    {
     "name": "stdout",
     "output_type": "stream",
     "text": [
      "apple\n",
      "ball\n",
      "cat\n"
     ]
    }
   ],
   "source": [
    "d = {1:\"apple\",2:\"ball\",3:\"cat\"}\n",
    "for j in d.values():\n",
    "    print(j)"
   ]
  },
  {
   "cell_type": "code",
   "execution_count": 42,
   "id": "f70d4204-4068-46c3-a3b6-bb175629f65b",
   "metadata": {},
   "outputs": [
    {
     "name": "stdout",
     "output_type": "stream",
     "text": [
      "1\n",
      "2\n",
      "3\n"
     ]
    }
   ],
   "source": [
    "d = {1:\"apple\",2:\"ball\",3:\"cat\"}\n",
    "for j in d.keys():\n",
    "    print(j)"
   ]
  },
  {
   "cell_type": "code",
   "execution_count": 43,
   "id": "52ec2e46-2028-4699-ab6e-fe81b56222c1",
   "metadata": {},
   "outputs": [
    {
     "name": "stdout",
     "output_type": "stream",
     "text": [
      "1\n",
      "2\n",
      "3\n"
     ]
    }
   ],
   "source": [
    "d = {1:\"apple\",2:\"ball\",3:\"cat\"}\n",
    "for j in d:\n",
    "    print(j)"
   ]
  },
  {
   "cell_type": "markdown",
   "id": "99d587b5-19df-41df-8939-50cbcfacf350",
   "metadata": {},
   "source": [
    "##### while loop"
   ]
  },
  {
   "cell_type": "code",
   "execution_count": 44,
   "id": "30bd28ca-3ce0-48af-a12a-ca5d9b22b65d",
   "metadata": {},
   "outputs": [
    {
     "name": "stdout",
     "output_type": "stream",
     "text": [
      "0\n",
      "1\n",
      "2\n",
      "3\n",
      "4\n",
      "5\n",
      "6\n",
      "7\n",
      "8\n",
      "9\n"
     ]
    }
   ],
   "source": [
    "for i in range(0,10):\n",
    "    print(i)"
   ]
  },
  {
   "cell_type": "code",
   "execution_count": 45,
   "id": "1862dedb-90e5-476c-8160-796ec7311e5b",
   "metadata": {},
   "outputs": [
    {
     "name": "stdout",
     "output_type": "stream",
     "text": [
      "0\n",
      "1\n",
      "2\n",
      "3\n",
      "4\n",
      "5\n",
      "6\n",
      "7\n",
      "8\n",
      "9\n"
     ]
    }
   ],
   "source": [
    "x = 0\n",
    "while x<10:\n",
    "    print(x)\n",
    "    x=x+1"
   ]
  },
  {
   "cell_type": "markdown",
   "id": "cf39bb66-6ed1-4c4b-8f85-2ca5e20a8572",
   "metadata": {},
   "source": [
    "##### nested loop"
   ]
  },
  {
   "cell_type": "code",
   "execution_count": 49,
   "id": "da5cfe90-66b0-4f2d-8e9e-5cadc840c4fa",
   "metadata": {},
   "outputs": [
    {
     "name": "stdout",
     "output_type": "stream",
     "text": [
      "i= 0\n",
      "i= 1\n",
      "i= 2\n",
      "i= 3\n"
     ]
    }
   ],
   "source": [
    "for i in range(4):\n",
    "    print(\"i=\",i)"
   ]
  },
  {
   "cell_type": "code",
   "execution_count": 52,
   "id": "2419cc53-9479-4adc-a1d2-2018cf7b867c",
   "metadata": {},
   "outputs": [
    {
     "name": "stdout",
     "output_type": "stream",
     "text": [
      "i= 0\n",
      "j= 0\n",
      "j= 0\n",
      "j= 0\n",
      "j= 0\n",
      "i= 1\n",
      "j= 1\n",
      "j= 1\n",
      "j= 1\n",
      "j= 1\n",
      "i= 2\n",
      "j= 2\n",
      "j= 2\n",
      "j= 2\n",
      "j= 2\n",
      "i= 3\n",
      "j= 3\n",
      "j= 3\n",
      "j= 3\n",
      "j= 3\n"
     ]
    }
   ],
   "source": [
    "for i in range(4):\n",
    "    print(\"i=\",i)\n",
    "    for j in range(4):\n",
    "        print(\"j=\",i)"
   ]
  },
  {
   "cell_type": "code",
   "execution_count": 54,
   "id": "4c3827a1-658b-4047-8bf2-c134903c1e1c",
   "metadata": {},
   "outputs": [
    {
     "name": "stdin",
     "output_type": "stream",
     "text": [
      "enter the number of rows:  5\n"
     ]
    },
    {
     "name": "stdout",
     "output_type": "stream",
     "text": [
      "* \n",
      "* * \n",
      "* * * \n",
      "* * * * \n",
      "* * * * * \n"
     ]
    }
   ],
   "source": [
    "n = int(input(\"enter the number of rows: \"))\n",
    "for i in range(1,n+1):\n",
    "    for j in range(1,i+1):\n",
    "        print(\"*\",end=' ')\n",
    "    print()"
   ]
  },
  {
   "cell_type": "code",
   "execution_count": 56,
   "id": "66711cdf-2084-4edb-a63d-e0d813c6606c",
   "metadata": {},
   "outputs": [
    {
     "name": "stdin",
     "output_type": "stream",
     "text": [
      "enter number of rows: 5\n"
     ]
    },
    {
     "name": "stdout",
     "output_type": "stream",
     "text": [
      "* \n",
      "* * \n",
      "* * * \n",
      "* * * * \n",
      "* * * * * \n"
     ]
    }
   ],
   "source": [
    "n = int(input(\"enter number of rows:\"))\n",
    "for i in range(1,n+1):\n",
    "    print(\"* \" * i)"
   ]
  },
  {
   "cell_type": "markdown",
   "id": "aaed2ca0-1605-4be6-91f9-49fa15d088ef",
   "metadata": {},
   "source": [
    "##### break "
   ]
  },
  {
   "cell_type": "code",
   "execution_count": 58,
   "id": "2804e7c7-9e7c-413e-97b6-bed840fe51c5",
   "metadata": {},
   "outputs": [
    {
     "name": "stdout",
     "output_type": "stream",
     "text": [
      "10\n",
      "20\n",
      "costly product\n"
     ]
    }
   ],
   "source": [
    "cart = [10,20,600,60,70]\n",
    "for i in cart:\n",
    "    if i > 500:\n",
    "        print(\"costly product\")\n",
    "        break\n",
    "    print(i)"
   ]
  },
  {
   "cell_type": "markdown",
   "id": "29cf7972-413a-4144-b393-96c31e451a54",
   "metadata": {},
   "source": [
    "##### Continue"
   ]
  },
  {
   "cell_type": "code",
   "execution_count": 60,
   "id": "a0cedfe5-acf3-4dc1-a01f-ce72de66f8ca",
   "metadata": {},
   "outputs": [
    {
     "name": "stdout",
     "output_type": "stream",
     "text": [
      "10\n",
      "20\n",
      "costly product\n",
      "60\n",
      "70\n"
     ]
    }
   ],
   "source": [
    "cart = [10,20,600,60,70]\n",
    "for i in cart:\n",
    "    if i > 500:\n",
    "        print(\"costly product\")\n",
    "        continue\n",
    "    print(i)"
   ]
  },
  {
   "cell_type": "code",
   "execution_count": null,
   "id": "a4288f9f-9587-4b49-98c9-1eaf8eb8e728",
   "metadata": {},
   "outputs": [],
   "source": []
  }
 ],
 "metadata": {
  "kernelspec": {
   "display_name": "Python 3 (ipykernel)",
   "language": "python",
   "name": "python3"
  },
  "language_info": {
   "codemirror_mode": {
    "name": "ipython",
    "version": 3
   },
   "file_extension": ".py",
   "mimetype": "text/x-python",
   "name": "python",
   "nbconvert_exporter": "python",
   "pygments_lexer": "ipython3",
   "version": "3.11.9"
  }
 },
 "nbformat": 4,
 "nbformat_minor": 5
}
